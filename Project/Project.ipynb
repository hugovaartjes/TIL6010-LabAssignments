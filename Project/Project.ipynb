{
 "cells": [
  {
   "cell_type": "code",
   "execution_count": 1,
   "id": "935e78d2",
   "metadata": {},
   "outputs": [],
   "source": [
    "import numpy as np\n",
    "import scipy as sp\n",
    "import matplotlib as mpl\n",
    "import matplotlib.cm as cm\n",
    "import matplotlib.pyplot as plt\n",
    "import pandas as pd"
   ]
  },
  {
   "cell_type": "markdown",
   "id": "e9bfa38f",
   "metadata": {},
   "source": [
    "# 1. Car ownership of residence in NL(Not be used)"
   ]
  },
  {
   "cell_type": "code",
   "execution_count": 2,
   "id": "686ba4ad",
   "metadata": {
    "scrolled": false
   },
   "outputs": [
    {
     "data": {
      "text/html": [
       "<div>\n",
       "<style scoped>\n",
       "    .dataframe tbody tr th:only-of-type {\n",
       "        vertical-align: middle;\n",
       "    }\n",
       "\n",
       "    .dataframe tbody tr th {\n",
       "        vertical-align: top;\n",
       "    }\n",
       "\n",
       "    .dataframe thead th {\n",
       "        text-align: right;\n",
       "    }\n",
       "</style>\n",
       "<table border=\"1\" class=\"dataframe\">\n",
       "  <thead>\n",
       "    <tr style=\"text-align: right;\">\n",
       "      <th></th>\n",
       "      <th>Motorvoertuigenpark</th>\n",
       "      <th>inwoners, type, regio, 1 januari</th>\n",
       "      <th>Unnamed: 2</th>\n",
       "      <th>Unnamed: 3</th>\n",
       "      <th>Unnamed: 4</th>\n",
       "      <th>Unnamed: 5</th>\n",
       "      <th>Unnamed: 6</th>\n",
       "      <th>Unnamed: 7</th>\n",
       "      <th>Unnamed: 8</th>\n",
       "      <th>Unnamed: 9</th>\n",
       "      <th>Unnamed: 10</th>\n",
       "      <th>Unnamed: 11</th>\n",
       "    </tr>\n",
       "  </thead>\n",
       "  <tbody>\n",
       "    <tr>\n",
       "      <th>0</th>\n",
       "      <td>Periods: 2017</td>\n",
       "      <td>NaN</td>\n",
       "      <td>NaN</td>\n",
       "      <td>NaN</td>\n",
       "      <td>NaN</td>\n",
       "      <td>NaN</td>\n",
       "      <td>NaN</td>\n",
       "      <td>NaN</td>\n",
       "      <td>NaN</td>\n",
       "      <td>NaN</td>\n",
       "      <td>NaN</td>\n",
       "      <td>NaN</td>\n",
       "    </tr>\n",
       "    <tr>\n",
       "      <th>1</th>\n",
       "      <td>NaN</td>\n",
       "      <td>Topic</td>\n",
       "      <td>NaN</td>\n",
       "      <td>NaN</td>\n",
       "      <td>NaN</td>\n",
       "      <td>NaN</td>\n",
       "      <td>NaN</td>\n",
       "      <td>NaN</td>\n",
       "      <td>NaN</td>\n",
       "      <td>NaN</td>\n",
       "      <td>NaN</td>\n",
       "      <td>NaN</td>\n",
       "    </tr>\n",
       "    <tr>\n",
       "      <th>2</th>\n",
       "      <td>NaN</td>\n",
       "      <td>Wegvoertuigen|Totaal wegvoertuigen</td>\n",
       "      <td>Wegvoertuigen|Totaal motorvoertuigen</td>\n",
       "      <td>Personenauto's|Totaal personenauto's</td>\n",
       "      <td>Personenauto's|Personenauto's (relatief)</td>\n",
       "      <td>Personenauto's|In bezit natuurlijke personen</td>\n",
       "      <td>Personenauto's|In bezit natuurlijke personen (...</td>\n",
       "      <td>Bedrijfsvoertuigen|Totaal bedrijfsvoertuigen|T...</td>\n",
       "      <td>Bedrijfsvoertuigen|Totaal bedrijfsvoertuigen|T...</td>\n",
       "      <td>Bedrijfsvoertuigen|Totaal bedrijfsvoertuigen|T...</td>\n",
       "      <td>Motorfietsen|Totaal motorfietsen</td>\n",
       "      <td>Motorfietsen|Motorfietsen (relatief)</td>\n",
       "    </tr>\n",
       "    <tr>\n",
       "      <th>3</th>\n",
       "      <td>Regions</td>\n",
       "      <td>number of</td>\n",
       "      <td>number of</td>\n",
       "      <td>number of</td>\n",
       "      <td>per 1000 inhabitants</td>\n",
       "      <td>number of</td>\n",
       "      <td>per 1000 inhabitants</td>\n",
       "      <td>number of</td>\n",
       "      <td>number of</td>\n",
       "      <td>number of</td>\n",
       "      <td>number of</td>\n",
       "      <td>per 1000 inhabitants</td>\n",
       "    </tr>\n",
       "    <tr>\n",
       "      <th>4</th>\n",
       "      <td>The Netherlands</td>\n",
       "      <td>11076215</td>\n",
       "      <td>9937732</td>\n",
       "      <td>8222974</td>\n",
       "      <td>481</td>\n",
       "      <td>7297664</td>\n",
       "      <td>427</td>\n",
       "      <td>2197250</td>\n",
       "      <td>1058767</td>\n",
       "      <td>1138483</td>\n",
       "      <td>655991</td>\n",
       "      <td>38</td>\n",
       "    </tr>\n",
       "    <tr>\n",
       "      <th>5</th>\n",
       "      <td>Groningen (PV)</td>\n",
       "      <td>373359</td>\n",
       "      <td>326953</td>\n",
       "      <td>265895</td>\n",
       "      <td>456</td>\n",
       "      <td>248616</td>\n",
       "      <td>426</td>\n",
       "      <td>81914</td>\n",
       "      <td>35508</td>\n",
       "      <td>46406</td>\n",
       "      <td>25550</td>\n",
       "      <td>44</td>\n",
       "    </tr>\n",
       "    <tr>\n",
       "      <th>6</th>\n",
       "      <td>Friesland (PV)</td>\n",
       "      <td>461927</td>\n",
       "      <td>400073</td>\n",
       "      <td>317330</td>\n",
       "      <td>491</td>\n",
       "      <td>300617</td>\n",
       "      <td>465</td>\n",
       "      <td>114105</td>\n",
       "      <td>52251</td>\n",
       "      <td>61854</td>\n",
       "      <td>30492</td>\n",
       "      <td>47</td>\n",
       "    </tr>\n",
       "    <tr>\n",
       "      <th>7</th>\n",
       "      <td>Drenthe (PV)</td>\n",
       "      <td>369931</td>\n",
       "      <td>317905</td>\n",
       "      <td>256962</td>\n",
       "      <td>523</td>\n",
       "      <td>243972</td>\n",
       "      <td>496</td>\n",
       "      <td>86847</td>\n",
       "      <td>34821</td>\n",
       "      <td>52026</td>\n",
       "      <td>26122</td>\n",
       "      <td>53</td>\n",
       "    </tr>\n",
       "    <tr>\n",
       "      <th>8</th>\n",
       "      <td>Overijssel (PV)</td>\n",
       "      <td>786317</td>\n",
       "      <td>681991</td>\n",
       "      <td>555974</td>\n",
       "      <td>484</td>\n",
       "      <td>513098</td>\n",
       "      <td>447</td>\n",
       "      <td>179910</td>\n",
       "      <td>75584</td>\n",
       "      <td>104326</td>\n",
       "      <td>50433</td>\n",
       "      <td>44</td>\n",
       "    </tr>\n",
       "    <tr>\n",
       "      <th>9</th>\n",
       "      <td>Flevoland (PV)</td>\n",
       "      <td>425744</td>\n",
       "      <td>402211</td>\n",
       "      <td>341011</td>\n",
       "      <td>836</td>\n",
       "      <td>165679</td>\n",
       "      <td>406</td>\n",
       "      <td>69569</td>\n",
       "      <td>46036</td>\n",
       "      <td>23533</td>\n",
       "      <td>15164</td>\n",
       "      <td>37</td>\n",
       "    </tr>\n",
       "    <tr>\n",
       "      <th>10</th>\n",
       "      <td>Gelderland (PV)</td>\n",
       "      <td>1376156</td>\n",
       "      <td>1212090</td>\n",
       "      <td>992120</td>\n",
       "      <td>484</td>\n",
       "      <td>930989</td>\n",
       "      <td>455</td>\n",
       "      <td>298719</td>\n",
       "      <td>134653</td>\n",
       "      <td>164066</td>\n",
       "      <td>85317</td>\n",
       "      <td>42</td>\n",
       "    </tr>\n",
       "    <tr>\n",
       "      <th>11</th>\n",
       "      <td>Utrecht (PV)</td>\n",
       "      <td>841301</td>\n",
       "      <td>774506</td>\n",
       "      <td>650069</td>\n",
       "      <td>506</td>\n",
       "      <td>513813</td>\n",
       "      <td>400</td>\n",
       "      <td>147764</td>\n",
       "      <td>80969</td>\n",
       "      <td>66795</td>\n",
       "      <td>43468</td>\n",
       "      <td>34</td>\n",
       "    </tr>\n",
       "    <tr>\n",
       "      <th>12</th>\n",
       "      <td>North Holland (PV)</td>\n",
       "      <td>1555347</td>\n",
       "      <td>1431039</td>\n",
       "      <td>1181698</td>\n",
       "      <td>421</td>\n",
       "      <td>1052275</td>\n",
       "      <td>375</td>\n",
       "      <td>270465</td>\n",
       "      <td>146157</td>\n",
       "      <td>124308</td>\n",
       "      <td>103184</td>\n",
       "      <td>37</td>\n",
       "    </tr>\n",
       "    <tr>\n",
       "      <th>13</th>\n",
       "      <td>South Holland (PV)</td>\n",
       "      <td>2016638</td>\n",
       "      <td>1835740</td>\n",
       "      <td>1543009</td>\n",
       "      <td>423</td>\n",
       "      <td>1406808</td>\n",
       "      <td>385</td>\n",
       "      <td>362737</td>\n",
       "      <td>181839</td>\n",
       "      <td>180898</td>\n",
       "      <td>110892</td>\n",
       "      <td>30</td>\n",
       "    </tr>\n",
       "    <tr>\n",
       "      <th>14</th>\n",
       "      <td>Zealand (PV)</td>\n",
       "      <td>276549</td>\n",
       "      <td>243283</td>\n",
       "      <td>197551</td>\n",
       "      <td>518</td>\n",
       "      <td>187649</td>\n",
       "      <td>492</td>\n",
       "      <td>61503</td>\n",
       "      <td>28237</td>\n",
       "      <td>33266</td>\n",
       "      <td>17495</td>\n",
       "      <td>46</td>\n",
       "    </tr>\n",
       "    <tr>\n",
       "      <th>15</th>\n",
       "      <td>North Brabant (PV)</td>\n",
       "      <td>1825489</td>\n",
       "      <td>1627786</td>\n",
       "      <td>1348054</td>\n",
       "      <td>537</td>\n",
       "      <td>1186111</td>\n",
       "      <td>472</td>\n",
       "      <td>376399</td>\n",
       "      <td>178696</td>\n",
       "      <td>197703</td>\n",
       "      <td>101036</td>\n",
       "      <td>40</td>\n",
       "    </tr>\n",
       "    <tr>\n",
       "      <th>16</th>\n",
       "      <td>Limburg (PV)</td>\n",
       "      <td>767457</td>\n",
       "      <td>684155</td>\n",
       "      <td>573301</td>\n",
       "      <td>513</td>\n",
       "      <td>548037</td>\n",
       "      <td>490</td>\n",
       "      <td>147318</td>\n",
       "      <td>64016</td>\n",
       "      <td>83302</td>\n",
       "      <td>46838</td>\n",
       "      <td>42</td>\n",
       "    </tr>\n",
       "    <tr>\n",
       "      <th>17</th>\n",
       "      <td>Bron: CBS</td>\n",
       "      <td>NaN</td>\n",
       "      <td>NaN</td>\n",
       "      <td>NaN</td>\n",
       "      <td>NaN</td>\n",
       "      <td>NaN</td>\n",
       "      <td>NaN</td>\n",
       "      <td>NaN</td>\n",
       "      <td>NaN</td>\n",
       "      <td>NaN</td>\n",
       "      <td>NaN</td>\n",
       "      <td>NaN</td>\n",
       "    </tr>\n",
       "  </tbody>\n",
       "</table>\n",
       "</div>"
      ],
      "text/plain": [
       "   Motorvoertuigenpark    inwoners, type, regio, 1 januari  \\\n",
       "0        Periods: 2017                                 NaN   \n",
       "1                  NaN                               Topic   \n",
       "2                  NaN  Wegvoertuigen|Totaal wegvoertuigen   \n",
       "3              Regions                           number of   \n",
       "4      The Netherlands                            11076215   \n",
       "5       Groningen (PV)                              373359   \n",
       "6       Friesland (PV)                              461927   \n",
       "7         Drenthe (PV)                              369931   \n",
       "8      Overijssel (PV)                              786317   \n",
       "9       Flevoland (PV)                              425744   \n",
       "10     Gelderland (PV)                             1376156   \n",
       "11        Utrecht (PV)                              841301   \n",
       "12  North Holland (PV)                             1555347   \n",
       "13  South Holland (PV)                             2016638   \n",
       "14        Zealand (PV)                              276549   \n",
       "15  North Brabant (PV)                             1825489   \n",
       "16        Limburg (PV)                              767457   \n",
       "17           Bron: CBS                                 NaN   \n",
       "\n",
       "                              Unnamed: 2  \\\n",
       "0                                    NaN   \n",
       "1                                    NaN   \n",
       "2   Wegvoertuigen|Totaal motorvoertuigen   \n",
       "3                              number of   \n",
       "4                                9937732   \n",
       "5                                 326953   \n",
       "6                                 400073   \n",
       "7                                 317905   \n",
       "8                                 681991   \n",
       "9                                 402211   \n",
       "10                               1212090   \n",
       "11                                774506   \n",
       "12                               1431039   \n",
       "13                               1835740   \n",
       "14                                243283   \n",
       "15                               1627786   \n",
       "16                                684155   \n",
       "17                                   NaN   \n",
       "\n",
       "                              Unnamed: 3  \\\n",
       "0                                    NaN   \n",
       "1                                    NaN   \n",
       "2   Personenauto's|Totaal personenauto's   \n",
       "3                              number of   \n",
       "4                                8222974   \n",
       "5                                 265895   \n",
       "6                                 317330   \n",
       "7                                 256962   \n",
       "8                                 555974   \n",
       "9                                 341011   \n",
       "10                                992120   \n",
       "11                                650069   \n",
       "12                               1181698   \n",
       "13                               1543009   \n",
       "14                                197551   \n",
       "15                               1348054   \n",
       "16                                573301   \n",
       "17                                   NaN   \n",
       "\n",
       "                                  Unnamed: 4  \\\n",
       "0                                        NaN   \n",
       "1                                        NaN   \n",
       "2   Personenauto's|Personenauto's (relatief)   \n",
       "3                       per 1000 inhabitants   \n",
       "4                                        481   \n",
       "5                                        456   \n",
       "6                                        491   \n",
       "7                                        523   \n",
       "8                                        484   \n",
       "9                                        836   \n",
       "10                                       484   \n",
       "11                                       506   \n",
       "12                                       421   \n",
       "13                                       423   \n",
       "14                                       518   \n",
       "15                                       537   \n",
       "16                                       513   \n",
       "17                                       NaN   \n",
       "\n",
       "                                      Unnamed: 5  \\\n",
       "0                                            NaN   \n",
       "1                                            NaN   \n",
       "2   Personenauto's|In bezit natuurlijke personen   \n",
       "3                                      number of   \n",
       "4                                        7297664   \n",
       "5                                         248616   \n",
       "6                                         300617   \n",
       "7                                         243972   \n",
       "8                                         513098   \n",
       "9                                         165679   \n",
       "10                                        930989   \n",
       "11                                        513813   \n",
       "12                                       1052275   \n",
       "13                                       1406808   \n",
       "14                                        187649   \n",
       "15                                       1186111   \n",
       "16                                        548037   \n",
       "17                                           NaN   \n",
       "\n",
       "                                           Unnamed: 6  \\\n",
       "0                                                 NaN   \n",
       "1                                                 NaN   \n",
       "2   Personenauto's|In bezit natuurlijke personen (...   \n",
       "3                                per 1000 inhabitants   \n",
       "4                                                 427   \n",
       "5                                                 426   \n",
       "6                                                 465   \n",
       "7                                                 496   \n",
       "8                                                 447   \n",
       "9                                                 406   \n",
       "10                                                455   \n",
       "11                                                400   \n",
       "12                                                375   \n",
       "13                                                385   \n",
       "14                                                492   \n",
       "15                                                472   \n",
       "16                                                490   \n",
       "17                                                NaN   \n",
       "\n",
       "                                           Unnamed: 7  \\\n",
       "0                                                 NaN   \n",
       "1                                                 NaN   \n",
       "2   Bedrijfsvoertuigen|Totaal bedrijfsvoertuigen|T...   \n",
       "3                                           number of   \n",
       "4                                             2197250   \n",
       "5                                               81914   \n",
       "6                                              114105   \n",
       "7                                               86847   \n",
       "8                                              179910   \n",
       "9                                               69569   \n",
       "10                                             298719   \n",
       "11                                             147764   \n",
       "12                                             270465   \n",
       "13                                             362737   \n",
       "14                                              61503   \n",
       "15                                             376399   \n",
       "16                                             147318   \n",
       "17                                                NaN   \n",
       "\n",
       "                                           Unnamed: 8  \\\n",
       "0                                                 NaN   \n",
       "1                                                 NaN   \n",
       "2   Bedrijfsvoertuigen|Totaal bedrijfsvoertuigen|T...   \n",
       "3                                           number of   \n",
       "4                                             1058767   \n",
       "5                                               35508   \n",
       "6                                               52251   \n",
       "7                                               34821   \n",
       "8                                               75584   \n",
       "9                                               46036   \n",
       "10                                             134653   \n",
       "11                                              80969   \n",
       "12                                             146157   \n",
       "13                                             181839   \n",
       "14                                              28237   \n",
       "15                                             178696   \n",
       "16                                              64016   \n",
       "17                                                NaN   \n",
       "\n",
       "                                           Unnamed: 9  \\\n",
       "0                                                 NaN   \n",
       "1                                                 NaN   \n",
       "2   Bedrijfsvoertuigen|Totaal bedrijfsvoertuigen|T...   \n",
       "3                                           number of   \n",
       "4                                             1138483   \n",
       "5                                               46406   \n",
       "6                                               61854   \n",
       "7                                               52026   \n",
       "8                                              104326   \n",
       "9                                               23533   \n",
       "10                                             164066   \n",
       "11                                              66795   \n",
       "12                                             124308   \n",
       "13                                             180898   \n",
       "14                                              33266   \n",
       "15                                             197703   \n",
       "16                                              83302   \n",
       "17                                                NaN   \n",
       "\n",
       "                         Unnamed: 10                           Unnamed: 11  \n",
       "0                                NaN                                   NaN  \n",
       "1                                NaN                                   NaN  \n",
       "2   Motorfietsen|Totaal motorfietsen  Motorfietsen|Motorfietsen (relatief)  \n",
       "3                          number of                  per 1000 inhabitants  \n",
       "4                             655991                                    38  \n",
       "5                              25550                                    44  \n",
       "6                              30492                                    47  \n",
       "7                              26122                                    53  \n",
       "8                              50433                                    44  \n",
       "9                              15164                                    37  \n",
       "10                             85317                                    42  \n",
       "11                             43468                                    34  \n",
       "12                            103184                                    37  \n",
       "13                            110892                                    30  \n",
       "14                             17495                                    46  \n",
       "15                            101036                                    40  \n",
       "16                             46838                                    42  \n",
       "17                               NaN                                   NaN  "
      ]
     },
     "execution_count": 2,
     "metadata": {},
     "output_type": "execute_result"
    }
   ],
   "source": [
    "df2017 = pd.read_csv('./2017.csv')\n",
    "df2017"
   ]
  },
  {
   "cell_type": "markdown",
   "id": "fda0aa3b",
   "metadata": {},
   "source": [
    "data from 2017 to 2021 "
   ]
  },
  {
   "cell_type": "code",
   "execution_count": 3,
   "id": "1186ab2b",
   "metadata": {},
   "outputs": [],
   "source": [
    "df2018 = pd.read_csv('./2018.csv')\n",
    "df2019 = pd.read_csv('./2019.csv')\n",
    "df2020 = pd.read_csv('./2020.csv')\n",
    "df2021 = pd.read_csv('./2021.csv')"
   ]
  },
  {
   "cell_type": "code",
   "execution_count": 4,
   "id": "8b69e501",
   "metadata": {},
   "outputs": [
    {
     "data": {
      "text/html": [
       "<div>\n",
       "<style scoped>\n",
       "    .dataframe tbody tr th:only-of-type {\n",
       "        vertical-align: middle;\n",
       "    }\n",
       "\n",
       "    .dataframe tbody tr th {\n",
       "        vertical-align: top;\n",
       "    }\n",
       "\n",
       "    .dataframe thead th {\n",
       "        text-align: right;\n",
       "    }\n",
       "</style>\n",
       "<table border=\"1\" class=\"dataframe\">\n",
       "  <thead>\n",
       "    <tr style=\"text-align: right;\">\n",
       "      <th></th>\n",
       "      <th>Motorvoertuigenpark</th>\n",
       "      <th>inwoners, type, regio, 1 januari</th>\n",
       "      <th>Unnamed: 2</th>\n",
       "      <th>Unnamed: 3</th>\n",
       "      <th>Unnamed: 4</th>\n",
       "      <th>Unnamed: 5</th>\n",
       "      <th>Unnamed: 6</th>\n",
       "      <th>Unnamed: 7</th>\n",
       "      <th>Unnamed: 8</th>\n",
       "      <th>Unnamed: 9</th>\n",
       "      <th>Unnamed: 10</th>\n",
       "      <th>Unnamed: 11</th>\n",
       "    </tr>\n",
       "  </thead>\n",
       "  <tbody>\n",
       "    <tr>\n",
       "      <th>0</th>\n",
       "      <td>Periods: 2018</td>\n",
       "      <td>NaN</td>\n",
       "      <td>NaN</td>\n",
       "      <td>NaN</td>\n",
       "      <td>NaN</td>\n",
       "      <td>NaN</td>\n",
       "      <td>NaN</td>\n",
       "      <td>NaN</td>\n",
       "      <td>NaN</td>\n",
       "      <td>NaN</td>\n",
       "      <td>NaN</td>\n",
       "      <td>NaN</td>\n",
       "    </tr>\n",
       "    <tr>\n",
       "      <th>1</th>\n",
       "      <td>NaN</td>\n",
       "      <td>Topic</td>\n",
       "      <td>NaN</td>\n",
       "      <td>NaN</td>\n",
       "      <td>NaN</td>\n",
       "      <td>NaN</td>\n",
       "      <td>NaN</td>\n",
       "      <td>NaN</td>\n",
       "      <td>NaN</td>\n",
       "      <td>NaN</td>\n",
       "      <td>NaN</td>\n",
       "      <td>NaN</td>\n",
       "    </tr>\n",
       "    <tr>\n",
       "      <th>2</th>\n",
       "      <td>NaN</td>\n",
       "      <td>Wegvoertuigen|Totaal wegvoertuigen</td>\n",
       "      <td>Wegvoertuigen|Totaal motorvoertuigen</td>\n",
       "      <td>Personenauto's|Totaal personenauto's</td>\n",
       "      <td>Personenauto's|Personenauto's (relatief)</td>\n",
       "      <td>Personenauto's|In bezit natuurlijke personen</td>\n",
       "      <td>Personenauto's|In bezit natuurlijke personen (...</td>\n",
       "      <td>Bedrijfsvoertuigen|Totaal bedrijfsvoertuigen|T...</td>\n",
       "      <td>Bedrijfsvoertuigen|Totaal bedrijfsvoertuigen|T...</td>\n",
       "      <td>Bedrijfsvoertuigen|Totaal bedrijfsvoertuigen|T...</td>\n",
       "      <td>Motorfietsen|Totaal motorfietsen</td>\n",
       "      <td>Motorfietsen|Motorfietsen (relatief)</td>\n",
       "    </tr>\n",
       "    <tr>\n",
       "      <th>3</th>\n",
       "      <td>Regions</td>\n",
       "      <td>number of</td>\n",
       "      <td>number of</td>\n",
       "      <td>number of</td>\n",
       "      <td>per 1000 inhabitants</td>\n",
       "      <td>number of</td>\n",
       "      <td>per 1000 inhabitants</td>\n",
       "      <td>number of</td>\n",
       "      <td>number of</td>\n",
       "      <td>number of</td>\n",
       "      <td>number of</td>\n",
       "      <td>per 1000 inhabitants</td>\n",
       "    </tr>\n",
       "    <tr>\n",
       "      <th>4</th>\n",
       "      <td>The Netherlands</td>\n",
       "      <td>11287017</td>\n",
       "      <td>10127174</td>\n",
       "      <td>8373244</td>\n",
       "      <td>487</td>\n",
       "      <td>7420857</td>\n",
       "      <td>432</td>\n",
       "      <td>2252134</td>\n",
       "      <td>1092291</td>\n",
       "      <td>1159843</td>\n",
       "      <td>661639</td>\n",
       "      <td>39</td>\n",
       "    </tr>\n",
       "    <tr>\n",
       "      <th>5</th>\n",
       "      <td>Groningen (PV)</td>\n",
       "      <td>379210</td>\n",
       "      <td>332126</td>\n",
       "      <td>270118</td>\n",
       "      <td>463</td>\n",
       "      <td>252547</td>\n",
       "      <td>433</td>\n",
       "      <td>83475</td>\n",
       "      <td>36391</td>\n",
       "      <td>47084</td>\n",
       "      <td>25617</td>\n",
       "      <td>44</td>\n",
       "    </tr>\n",
       "    <tr>\n",
       "      <th>6</th>\n",
       "      <td>Friesland (PV)</td>\n",
       "      <td>471583</td>\n",
       "      <td>408485</td>\n",
       "      <td>323628</td>\n",
       "      <td>500</td>\n",
       "      <td>306290</td>\n",
       "      <td>473</td>\n",
       "      <td>117189</td>\n",
       "      <td>54091</td>\n",
       "      <td>63098</td>\n",
       "      <td>30766</td>\n",
       "      <td>48</td>\n",
       "    </tr>\n",
       "    <tr>\n",
       "      <th>7</th>\n",
       "      <td>Drenthe (PV)</td>\n",
       "      <td>374906</td>\n",
       "      <td>322307</td>\n",
       "      <td>260367</td>\n",
       "      <td>529</td>\n",
       "      <td>247882</td>\n",
       "      <td>504</td>\n",
       "      <td>88209</td>\n",
       "      <td>35610</td>\n",
       "      <td>52599</td>\n",
       "      <td>26330</td>\n",
       "      <td>54</td>\n",
       "    </tr>\n",
       "    <tr>\n",
       "      <th>8</th>\n",
       "      <td>Overijssel (PV)</td>\n",
       "      <td>803909</td>\n",
       "      <td>697565</td>\n",
       "      <td>568043</td>\n",
       "      <td>493</td>\n",
       "      <td>521956</td>\n",
       "      <td>453</td>\n",
       "      <td>185253</td>\n",
       "      <td>78909</td>\n",
       "      <td>106344</td>\n",
       "      <td>50613</td>\n",
       "      <td>44</td>\n",
       "    </tr>\n",
       "    <tr>\n",
       "      <th>9</th>\n",
       "      <td>Flevoland (PV)</td>\n",
       "      <td>441940</td>\n",
       "      <td>418004</td>\n",
       "      <td>354501</td>\n",
       "      <td>861</td>\n",
       "      <td>170037</td>\n",
       "      <td>413</td>\n",
       "      <td>72150</td>\n",
       "      <td>48214</td>\n",
       "      <td>23936</td>\n",
       "      <td>15289</td>\n",
       "      <td>37</td>\n",
       "    </tr>\n",
       "    <tr>\n",
       "      <th>10</th>\n",
       "      <td>Gelderland (PV)</td>\n",
       "      <td>1404297</td>\n",
       "      <td>1236817</td>\n",
       "      <td>1011151</td>\n",
       "      <td>491</td>\n",
       "      <td>947914</td>\n",
       "      <td>460</td>\n",
       "      <td>307253</td>\n",
       "      <td>139773</td>\n",
       "      <td>167480</td>\n",
       "      <td>85893</td>\n",
       "      <td>42</td>\n",
       "    </tr>\n",
       "    <tr>\n",
       "      <th>11</th>\n",
       "      <td>Utrecht (PV)</td>\n",
       "      <td>860348</td>\n",
       "      <td>792950</td>\n",
       "      <td>664987</td>\n",
       "      <td>513</td>\n",
       "      <td>522298</td>\n",
       "      <td>403</td>\n",
       "      <td>151357</td>\n",
       "      <td>83959</td>\n",
       "      <td>67398</td>\n",
       "      <td>44004</td>\n",
       "      <td>34</td>\n",
       "    </tr>\n",
       "    <tr>\n",
       "      <th>12</th>\n",
       "      <td>North Holland (PV)</td>\n",
       "      <td>1579307</td>\n",
       "      <td>1453515</td>\n",
       "      <td>1199410</td>\n",
       "      <td>424</td>\n",
       "      <td>1067480</td>\n",
       "      <td>377</td>\n",
       "      <td>275676</td>\n",
       "      <td>149884</td>\n",
       "      <td>125792</td>\n",
       "      <td>104221</td>\n",
       "      <td>37</td>\n",
       "    </tr>\n",
       "    <tr>\n",
       "      <th>13</th>\n",
       "      <td>South Holland (PV)</td>\n",
       "      <td>2055039</td>\n",
       "      <td>1870488</td>\n",
       "      <td>1570941</td>\n",
       "      <td>427</td>\n",
       "      <td>1431641</td>\n",
       "      <td>389</td>\n",
       "      <td>371543</td>\n",
       "      <td>186992</td>\n",
       "      <td>184551</td>\n",
       "      <td>112555</td>\n",
       "      <td>31</td>\n",
       "    </tr>\n",
       "    <tr>\n",
       "      <th>14</th>\n",
       "      <td>Zealand (PV)</td>\n",
       "      <td>281722</td>\n",
       "      <td>247440</td>\n",
       "      <td>200792</td>\n",
       "      <td>525</td>\n",
       "      <td>190515</td>\n",
       "      <td>498</td>\n",
       "      <td>63281</td>\n",
       "      <td>28999</td>\n",
       "      <td>34282</td>\n",
       "      <td>17649</td>\n",
       "      <td>46</td>\n",
       "    </tr>\n",
       "    <tr>\n",
       "      <th>15</th>\n",
       "      <td>North Brabant (PV)</td>\n",
       "      <td>1855827</td>\n",
       "      <td>1653716</td>\n",
       "      <td>1367465</td>\n",
       "      <td>541</td>\n",
       "      <td>1206630</td>\n",
       "      <td>477</td>\n",
       "      <td>386722</td>\n",
       "      <td>184611</td>\n",
       "      <td>202111</td>\n",
       "      <td>101640</td>\n",
       "      <td>40</td>\n",
       "    </tr>\n",
       "    <tr>\n",
       "      <th>16</th>\n",
       "      <td>Limburg (PV)</td>\n",
       "      <td>778929</td>\n",
       "      <td>693761</td>\n",
       "      <td>581841</td>\n",
       "      <td>521</td>\n",
       "      <td>555667</td>\n",
       "      <td>497</td>\n",
       "      <td>150026</td>\n",
       "      <td>64858</td>\n",
       "      <td>85168</td>\n",
       "      <td>47062</td>\n",
       "      <td>42</td>\n",
       "    </tr>\n",
       "    <tr>\n",
       "      <th>17</th>\n",
       "      <td>Bron: CBS</td>\n",
       "      <td>NaN</td>\n",
       "      <td>NaN</td>\n",
       "      <td>NaN</td>\n",
       "      <td>NaN</td>\n",
       "      <td>NaN</td>\n",
       "      <td>NaN</td>\n",
       "      <td>NaN</td>\n",
       "      <td>NaN</td>\n",
       "      <td>NaN</td>\n",
       "      <td>NaN</td>\n",
       "      <td>NaN</td>\n",
       "    </tr>\n",
       "  </tbody>\n",
       "</table>\n",
       "</div>"
      ],
      "text/plain": [
       "   Motorvoertuigenpark    inwoners, type, regio, 1 januari  \\\n",
       "0        Periods: 2018                                 NaN   \n",
       "1                  NaN                               Topic   \n",
       "2                  NaN  Wegvoertuigen|Totaal wegvoertuigen   \n",
       "3              Regions                           number of   \n",
       "4      The Netherlands                            11287017   \n",
       "5       Groningen (PV)                              379210   \n",
       "6       Friesland (PV)                              471583   \n",
       "7         Drenthe (PV)                              374906   \n",
       "8      Overijssel (PV)                              803909   \n",
       "9       Flevoland (PV)                              441940   \n",
       "10     Gelderland (PV)                             1404297   \n",
       "11        Utrecht (PV)                              860348   \n",
       "12  North Holland (PV)                             1579307   \n",
       "13  South Holland (PV)                             2055039   \n",
       "14        Zealand (PV)                              281722   \n",
       "15  North Brabant (PV)                             1855827   \n",
       "16        Limburg (PV)                              778929   \n",
       "17           Bron: CBS                                 NaN   \n",
       "\n",
       "                              Unnamed: 2  \\\n",
       "0                                    NaN   \n",
       "1                                    NaN   \n",
       "2   Wegvoertuigen|Totaal motorvoertuigen   \n",
       "3                              number of   \n",
       "4                               10127174   \n",
       "5                                 332126   \n",
       "6                                 408485   \n",
       "7                                 322307   \n",
       "8                                 697565   \n",
       "9                                 418004   \n",
       "10                               1236817   \n",
       "11                                792950   \n",
       "12                               1453515   \n",
       "13                               1870488   \n",
       "14                                247440   \n",
       "15                               1653716   \n",
       "16                                693761   \n",
       "17                                   NaN   \n",
       "\n",
       "                              Unnamed: 3  \\\n",
       "0                                    NaN   \n",
       "1                                    NaN   \n",
       "2   Personenauto's|Totaal personenauto's   \n",
       "3                              number of   \n",
       "4                                8373244   \n",
       "5                                 270118   \n",
       "6                                 323628   \n",
       "7                                 260367   \n",
       "8                                 568043   \n",
       "9                                 354501   \n",
       "10                               1011151   \n",
       "11                                664987   \n",
       "12                               1199410   \n",
       "13                               1570941   \n",
       "14                                200792   \n",
       "15                               1367465   \n",
       "16                                581841   \n",
       "17                                   NaN   \n",
       "\n",
       "                                  Unnamed: 4  \\\n",
       "0                                        NaN   \n",
       "1                                        NaN   \n",
       "2   Personenauto's|Personenauto's (relatief)   \n",
       "3                       per 1000 inhabitants   \n",
       "4                                        487   \n",
       "5                                        463   \n",
       "6                                        500   \n",
       "7                                        529   \n",
       "8                                        493   \n",
       "9                                        861   \n",
       "10                                       491   \n",
       "11                                       513   \n",
       "12                                       424   \n",
       "13                                       427   \n",
       "14                                       525   \n",
       "15                                       541   \n",
       "16                                       521   \n",
       "17                                       NaN   \n",
       "\n",
       "                                      Unnamed: 5  \\\n",
       "0                                            NaN   \n",
       "1                                            NaN   \n",
       "2   Personenauto's|In bezit natuurlijke personen   \n",
       "3                                      number of   \n",
       "4                                        7420857   \n",
       "5                                         252547   \n",
       "6                                         306290   \n",
       "7                                         247882   \n",
       "8                                         521956   \n",
       "9                                         170037   \n",
       "10                                        947914   \n",
       "11                                        522298   \n",
       "12                                       1067480   \n",
       "13                                       1431641   \n",
       "14                                        190515   \n",
       "15                                       1206630   \n",
       "16                                        555667   \n",
       "17                                           NaN   \n",
       "\n",
       "                                           Unnamed: 6  \\\n",
       "0                                                 NaN   \n",
       "1                                                 NaN   \n",
       "2   Personenauto's|In bezit natuurlijke personen (...   \n",
       "3                                per 1000 inhabitants   \n",
       "4                                                 432   \n",
       "5                                                 433   \n",
       "6                                                 473   \n",
       "7                                                 504   \n",
       "8                                                 453   \n",
       "9                                                 413   \n",
       "10                                                460   \n",
       "11                                                403   \n",
       "12                                                377   \n",
       "13                                                389   \n",
       "14                                                498   \n",
       "15                                                477   \n",
       "16                                                497   \n",
       "17                                                NaN   \n",
       "\n",
       "                                           Unnamed: 7  \\\n",
       "0                                                 NaN   \n",
       "1                                                 NaN   \n",
       "2   Bedrijfsvoertuigen|Totaal bedrijfsvoertuigen|T...   \n",
       "3                                           number of   \n",
       "4                                             2252134   \n",
       "5                                               83475   \n",
       "6                                              117189   \n",
       "7                                               88209   \n",
       "8                                              185253   \n",
       "9                                               72150   \n",
       "10                                             307253   \n",
       "11                                             151357   \n",
       "12                                             275676   \n",
       "13                                             371543   \n",
       "14                                              63281   \n",
       "15                                             386722   \n",
       "16                                             150026   \n",
       "17                                                NaN   \n",
       "\n",
       "                                           Unnamed: 8  \\\n",
       "0                                                 NaN   \n",
       "1                                                 NaN   \n",
       "2   Bedrijfsvoertuigen|Totaal bedrijfsvoertuigen|T...   \n",
       "3                                           number of   \n",
       "4                                             1092291   \n",
       "5                                               36391   \n",
       "6                                               54091   \n",
       "7                                               35610   \n",
       "8                                               78909   \n",
       "9                                               48214   \n",
       "10                                             139773   \n",
       "11                                              83959   \n",
       "12                                             149884   \n",
       "13                                             186992   \n",
       "14                                              28999   \n",
       "15                                             184611   \n",
       "16                                              64858   \n",
       "17                                                NaN   \n",
       "\n",
       "                                           Unnamed: 9  \\\n",
       "0                                                 NaN   \n",
       "1                                                 NaN   \n",
       "2   Bedrijfsvoertuigen|Totaal bedrijfsvoertuigen|T...   \n",
       "3                                           number of   \n",
       "4                                             1159843   \n",
       "5                                               47084   \n",
       "6                                               63098   \n",
       "7                                               52599   \n",
       "8                                              106344   \n",
       "9                                               23936   \n",
       "10                                             167480   \n",
       "11                                              67398   \n",
       "12                                             125792   \n",
       "13                                             184551   \n",
       "14                                              34282   \n",
       "15                                             202111   \n",
       "16                                              85168   \n",
       "17                                                NaN   \n",
       "\n",
       "                         Unnamed: 10                           Unnamed: 11  \n",
       "0                                NaN                                   NaN  \n",
       "1                                NaN                                   NaN  \n",
       "2   Motorfietsen|Totaal motorfietsen  Motorfietsen|Motorfietsen (relatief)  \n",
       "3                          number of                  per 1000 inhabitants  \n",
       "4                             661639                                    39  \n",
       "5                              25617                                    44  \n",
       "6                              30766                                    48  \n",
       "7                              26330                                    54  \n",
       "8                              50613                                    44  \n",
       "9                              15289                                    37  \n",
       "10                             85893                                    42  \n",
       "11                             44004                                    34  \n",
       "12                            104221                                    37  \n",
       "13                            112555                                    31  \n",
       "14                             17649                                    46  \n",
       "15                            101640                                    40  \n",
       "16                             47062                                    42  \n",
       "17                               NaN                                   NaN  "
      ]
     },
     "execution_count": 4,
     "metadata": {},
     "output_type": "execute_result"
    }
   ],
   "source": [
    "df2018"
   ]
  },
  {
   "cell_type": "code",
   "execution_count": 5,
   "id": "bd5387bc",
   "metadata": {},
   "outputs": [
    {
     "data": {
      "text/plain": [
       "'11076215'"
      ]
     },
     "execution_count": 5,
     "metadata": {},
     "output_type": "execute_result"
    }
   ],
   "source": [
    "df2017.loc[4, ' inwoners, type, regio, 1 januari']"
   ]
  },
  {
   "cell_type": "code",
   "execution_count": 6,
   "id": "8f171429",
   "metadata": {},
   "outputs": [
    {
     "name": "stdout",
     "output_type": "stream",
     "text": [
      "{'Periods: 2017': 11076215, 'Periods: 2018': 11287017, 'Periods: 2019': 11495837, 'Periods: 2020': 11703420, 'Periods: 2021': 11864930}\n"
     ]
    }
   ],
   "source": [
    "datay=[df2017,df2018,df2019,df2020,df2021]\n",
    "s={}\n",
    "for i in datay:\n",
    "    s[i.loc[0,'Motorvoertuigenpark']]=int(i.loc[4, ' inwoners, type, regio, 1 januari'])\n",
    "print(s)"
   ]
  },
  {
   "cell_type": "code",
   "execution_count": 7,
   "id": "5016bc7e",
   "metadata": {},
   "outputs": [
    {
     "data": {
      "text/html": [
       "<div>\n",
       "<style scoped>\n",
       "    .dataframe tbody tr th:only-of-type {\n",
       "        vertical-align: middle;\n",
       "    }\n",
       "\n",
       "    .dataframe tbody tr th {\n",
       "        vertical-align: top;\n",
       "    }\n",
       "\n",
       "    .dataframe thead th {\n",
       "        text-align: right;\n",
       "    }\n",
       "</style>\n",
       "<table border=\"1\" class=\"dataframe\">\n",
       "  <thead>\n",
       "    <tr style=\"text-align: right;\">\n",
       "      <th></th>\n",
       "      <th>motor fleet</th>\n",
       "    </tr>\n",
       "  </thead>\n",
       "  <tbody>\n",
       "    <tr>\n",
       "      <th>Periods: 2017</th>\n",
       "      <td>11076215</td>\n",
       "    </tr>\n",
       "    <tr>\n",
       "      <th>Periods: 2018</th>\n",
       "      <td>11287017</td>\n",
       "    </tr>\n",
       "    <tr>\n",
       "      <th>Periods: 2019</th>\n",
       "      <td>11495837</td>\n",
       "    </tr>\n",
       "    <tr>\n",
       "      <th>Periods: 2020</th>\n",
       "      <td>11703420</td>\n",
       "    </tr>\n",
       "    <tr>\n",
       "      <th>Periods: 2021</th>\n",
       "      <td>11864930</td>\n",
       "    </tr>\n",
       "  </tbody>\n",
       "</table>\n",
       "</div>"
      ],
      "text/plain": [
       "               motor fleet\n",
       "Periods: 2017     11076215\n",
       "Periods: 2018     11287017\n",
       "Periods: 2019     11495837\n",
       "Periods: 2020     11703420\n",
       "Periods: 2021     11864930"
      ]
     },
     "execution_count": 7,
     "metadata": {},
     "output_type": "execute_result"
    }
   ],
   "source": [
    "d=pd.DataFrame(s,index=['motor fleet']).T\n",
    "d"
   ]
  },
  {
   "cell_type": "code",
   "execution_count": 8,
   "id": "4345cacc",
   "metadata": {},
   "outputs": [
    {
     "data": {
      "image/png": "[encoded data removed]",
      "text/plain": [
       "<Figure size 432x288 with 1 Axes>"
      ]
     },
     "metadata": {
      "needs_background": "light"
     },
     "output_type": "display_data"
    }
   ],
   "source": [
    "plt.plot(d.index,d['motor fleet'],)\n",
    "plt.xlabel('year')\n",
    "plt.ylabel('motor fleet')\n",
    "plt.show()"
   ]
  },
  {
   "cell_type": "markdown",
   "id": "7fbe1625",
   "metadata": {},
   "source": [
    "The first dataset is not suitable cause it means the car ownership of residence."
   ]
  },
  {
   "cell_type": "markdown",
   "id": "947bc7f5",
   "metadata": {},
   "source": [
    "# 2. Number of movements per person(Not be used)"
   ]
  },
  {
   "cell_type": "code",
   "execution_count": 9,
   "id": "97d28e6c",
   "metadata": {},
   "outputs": [
    {
     "data": {
      "text/html": [
       "<div>\n",
       "<style scoped>\n",
       "    .dataframe tbody tr th:only-of-type {\n",
       "        vertical-align: middle;\n",
       "    }\n",
       "\n",
       "    .dataframe tbody tr th {\n",
       "        vertical-align: top;\n",
       "    }\n",
       "\n",
       "    .dataframe thead th {\n",
       "        text-align: right;\n",
       "    }\n",
       "</style>\n",
       "<table border=\"1\" class=\"dataframe\">\n",
       "  <thead>\n",
       "    <tr style=\"text-align: right;\">\n",
       "      <th></th>\n",
       "      <th>Unnamed: 0</th>\n",
       "      <th>Regions</th>\n",
       "      <th>The Netherlands</th>\n",
       "      <th>The Netherlands.1</th>\n",
       "      <th>The Netherlands.2</th>\n",
       "      <th>The Netherlands.3</th>\n",
       "      <th>The Netherlands.4</th>\n",
       "      <th>The Netherlands.5</th>\n",
       "      <th>The Netherlands.6</th>\n",
       "      <th>The Netherlands.7</th>\n",
       "      <th>...</th>\n",
       "      <th>South Holland (PV).2</th>\n",
       "      <th>South Holland (PV).3</th>\n",
       "      <th>South Holland (PV).4</th>\n",
       "      <th>South Holland (PV).5</th>\n",
       "      <th>South Holland (PV).6</th>\n",
       "      <th>South Holland (PV).7</th>\n",
       "      <th>South Holland (PV).8</th>\n",
       "      <th>South Holland (PV).9</th>\n",
       "      <th>South Holland (PV).10</th>\n",
       "      <th>South Holland (PV).11</th>\n",
       "    </tr>\n",
       "  </thead>\n",
       "  <tbody>\n",
       "    <tr>\n",
       "      <th>0</th>\n",
       "      <td>NaN</td>\n",
       "      <td>Topic</td>\n",
       "      <td>Gemiddeld per persoon per dag |Verplaatsingen</td>\n",
       "      <td>Gemiddeld per persoon per dag |Verplaatsingen</td>\n",
       "      <td>Gemiddeld per persoon per dag |Verplaatsingen</td>\n",
       "      <td>Gemiddeld per persoon per dag |Verplaatsingen</td>\n",
       "      <td>Gemiddeld per persoon per dag |Afstand</td>\n",
       "      <td>Gemiddeld per persoon per dag |Afstand</td>\n",
       "      <td>Gemiddeld per persoon per dag |Afstand</td>\n",
       "      <td>Gemiddeld per persoon per dag |Afstand</td>\n",
       "      <td>...</td>\n",
       "      <td>Gemiddeld per persoon per dag |Verplaatsingen</td>\n",
       "      <td>Gemiddeld per persoon per dag |Verplaatsingen</td>\n",
       "      <td>Gemiddeld per persoon per dag |Afstand</td>\n",
       "      <td>Gemiddeld per persoon per dag |Afstand</td>\n",
       "      <td>Gemiddeld per persoon per dag |Afstand</td>\n",
       "      <td>Gemiddeld per persoon per dag |Afstand</td>\n",
       "      <td>Gemiddeld per persoon per dag |Reisduur</td>\n",
       "      <td>Gemiddeld per persoon per dag |Reisduur</td>\n",
       "      <td>Gemiddeld per persoon per dag |Reisduur</td>\n",
       "      <td>Gemiddeld per persoon per dag |Reisduur</td>\n",
       "    </tr>\n",
       "    <tr>\n",
       "      <th>1</th>\n",
       "      <td>NaN</td>\n",
       "      <td>Periods</td>\n",
       "      <td>2018</td>\n",
       "      <td>2019</td>\n",
       "      <td>2020</td>\n",
       "      <td>2021</td>\n",
       "      <td>2018</td>\n",
       "      <td>2019</td>\n",
       "      <td>2020</td>\n",
       "      <td>2021</td>\n",
       "      <td>...</td>\n",
       "      <td>2020</td>\n",
       "      <td>2021</td>\n",
       "      <td>2018</td>\n",
       "      <td>2019</td>\n",
       "      <td>2020</td>\n",
       "      <td>2021</td>\n",
       "      <td>2018</td>\n",
       "      <td>2019</td>\n",
       "      <td>2020</td>\n",
       "      <td>2021</td>\n",
       "    </tr>\n",
       "    <tr>\n",
       "      <th>2</th>\n",
       "      <td>Transport modes</td>\n",
       "      <td>Travel motives</td>\n",
       "      <td>number of</td>\n",
       "      <td>number of</td>\n",
       "      <td>number of</td>\n",
       "      <td>number of</td>\n",
       "      <td>passenger kilometers</td>\n",
       "      <td>passenger kilometers</td>\n",
       "      <td>passenger kilometers</td>\n",
       "      <td>passenger kilometers</td>\n",
       "      <td>...</td>\n",
       "      <td>number of</td>\n",
       "      <td>number of</td>\n",
       "      <td>passenger kilometers</td>\n",
       "      <td>passenger kilometers</td>\n",
       "      <td>passenger kilometers</td>\n",
       "      <td>passenger kilometers</td>\n",
       "      <td>minutes</td>\n",
       "      <td>minutes</td>\n",
       "      <td>minutes</td>\n",
       "      <td>minutes</td>\n",
       "    </tr>\n",
       "    <tr>\n",
       "      <th>3</th>\n",
       "      <td>Total</td>\n",
       "      <td>Total</td>\n",
       "      <td>2.78</td>\n",
       "      <td>2.71</td>\n",
       "      <td>2.35</td>\n",
       "      <td>2.51</td>\n",
       "      <td>36.16</td>\n",
       "      <td>36</td>\n",
       "      <td>24.88</td>\n",
       "      <td>27.24</td>\n",
       "      <td>...</td>\n",
       "      <td>NaN</td>\n",
       "      <td>NaN</td>\n",
       "      <td>NaN</td>\n",
       "      <td>NaN</td>\n",
       "      <td>NaN</td>\n",
       "      <td>NaN</td>\n",
       "      <td>NaN</td>\n",
       "      <td>NaN</td>\n",
       "      <td>NaN</td>\n",
       "      <td>NaN</td>\n",
       "    </tr>\n",
       "    <tr>\n",
       "      <th>4</th>\n",
       "      <td>Total</td>\n",
       "      <td>To and from work</td>\n",
       "      <td>0.55</td>\n",
       "      <td>0.5</td>\n",
       "      <td>0.37</td>\n",
       "      <td>0.37</td>\n",
       "      <td>10.55</td>\n",
       "      <td>9.72</td>\n",
       "      <td>6.16</td>\n",
       "      <td>6.13</td>\n",
       "      <td>...</td>\n",
       "      <td>0.34</td>\n",
       "      <td>0.34</td>\n",
       "      <td>9.92</td>\n",
       "      <td>8.92</td>\n",
       "      <td>5.54</td>\n",
       "      <td>5.08</td>\n",
       "      <td>17.02</td>\n",
       "      <td>16.05</td>\n",
       "      <td>9.62</td>\n",
       "      <td>9.31</td>\n",
       "    </tr>\n",
       "    <tr>\n",
       "      <th>5</th>\n",
       "      <td>Total</td>\n",
       "      <td>Shopping</td>\n",
       "      <td>NaN</td>\n",
       "      <td>NaN</td>\n",
       "      <td>NaN</td>\n",
       "      <td>NaN</td>\n",
       "      <td>NaN</td>\n",
       "      <td>NaN</td>\n",
       "      <td>NaN</td>\n",
       "      <td>NaN</td>\n",
       "      <td>...</td>\n",
       "      <td>NaN</td>\n",
       "      <td>NaN</td>\n",
       "      <td>NaN</td>\n",
       "      <td>NaN</td>\n",
       "      <td>NaN</td>\n",
       "      <td>NaN</td>\n",
       "      <td>NaN</td>\n",
       "      <td>NaN</td>\n",
       "      <td>NaN</td>\n",
       "      <td>NaN</td>\n",
       "    </tr>\n",
       "    <tr>\n",
       "      <th>6</th>\n",
       "      <td>Total</td>\n",
       "      <td>Going out</td>\n",
       "      <td>NaN</td>\n",
       "      <td>NaN</td>\n",
       "      <td>NaN</td>\n",
       "      <td>NaN</td>\n",
       "      <td>NaN</td>\n",
       "      <td>NaN</td>\n",
       "      <td>NaN</td>\n",
       "      <td>NaN</td>\n",
       "      <td>...</td>\n",
       "      <td>NaN</td>\n",
       "      <td>NaN</td>\n",
       "      <td>NaN</td>\n",
       "      <td>NaN</td>\n",
       "      <td>NaN</td>\n",
       "      <td>NaN</td>\n",
       "      <td>NaN</td>\n",
       "      <td>NaN</td>\n",
       "      <td>NaN</td>\n",
       "      <td>NaN</td>\n",
       "    </tr>\n",
       "    <tr>\n",
       "      <th>7</th>\n",
       "      <td>Total</td>\n",
       "      <td>Touring</td>\n",
       "      <td>NaN</td>\n",
       "      <td>NaN</td>\n",
       "      <td>NaN</td>\n",
       "      <td>NaN</td>\n",
       "      <td>NaN</td>\n",
       "      <td>NaN</td>\n",
       "      <td>NaN</td>\n",
       "      <td>NaN</td>\n",
       "      <td>...</td>\n",
       "      <td>NaN</td>\n",
       "      <td>NaN</td>\n",
       "      <td>NaN</td>\n",
       "      <td>NaN</td>\n",
       "      <td>NaN</td>\n",
       "      <td>NaN</td>\n",
       "      <td>NaN</td>\n",
       "      <td>NaN</td>\n",
       "      <td>NaN</td>\n",
       "      <td>NaN</td>\n",
       "    </tr>\n",
       "    <tr>\n",
       "      <th>8</th>\n",
       "      <td>Passenger car (driver)</td>\n",
       "      <td>Total</td>\n",
       "      <td>0.96</td>\n",
       "      <td>0.95</td>\n",
       "      <td>0.81</td>\n",
       "      <td>0.82</td>\n",
       "      <td>18.16</td>\n",
       "      <td>18.02</td>\n",
       "      <td>13.14</td>\n",
       "      <td>14.05</td>\n",
       "      <td>...</td>\n",
       "      <td>0.68</td>\n",
       "      <td>0.72</td>\n",
       "      <td>16.14</td>\n",
       "      <td>15.82</td>\n",
       "      <td>11.71</td>\n",
       "      <td>11.94</td>\n",
       "      <td>23.98</td>\n",
       "      <td>23.5</td>\n",
       "      <td>17.47</td>\n",
       "      <td>18.38</td>\n",
       "    </tr>\n",
       "    <tr>\n",
       "      <th>9</th>\n",
       "      <td>Passenger car (driver)</td>\n",
       "      <td>To and from work</td>\n",
       "      <td>0.27</td>\n",
       "      <td>0.25</td>\n",
       "      <td>0.19</td>\n",
       "      <td>0.19</td>\n",
       "      <td>6.79</td>\n",
       "      <td>6.2</td>\n",
       "      <td>4.37</td>\n",
       "      <td>4.33</td>\n",
       "      <td>...</td>\n",
       "      <td>0.17</td>\n",
       "      <td>0.16</td>\n",
       "      <td>5.96</td>\n",
       "      <td>5.13</td>\n",
       "      <td>3.84</td>\n",
       "      <td>3.36</td>\n",
       "      <td>8.12</td>\n",
       "      <td>7.22</td>\n",
       "      <td>4.97</td>\n",
       "      <td>4.65</td>\n",
       "    </tr>\n",
       "    <tr>\n",
       "      <th>10</th>\n",
       "      <td>Passenger car (driver)</td>\n",
       "      <td>Shopping</td>\n",
       "      <td>NaN</td>\n",
       "      <td>NaN</td>\n",
       "      <td>NaN</td>\n",
       "      <td>NaN</td>\n",
       "      <td>NaN</td>\n",
       "      <td>NaN</td>\n",
       "      <td>NaN</td>\n",
       "      <td>NaN</td>\n",
       "      <td>...</td>\n",
       "      <td>NaN</td>\n",
       "      <td>NaN</td>\n",
       "      <td>NaN</td>\n",
       "      <td>NaN</td>\n",
       "      <td>NaN</td>\n",
       "      <td>NaN</td>\n",
       "      <td>NaN</td>\n",
       "      <td>NaN</td>\n",
       "      <td>NaN</td>\n",
       "      <td>NaN</td>\n",
       "    </tr>\n",
       "    <tr>\n",
       "      <th>11</th>\n",
       "      <td>Passenger car (driver)</td>\n",
       "      <td>Going out</td>\n",
       "      <td>NaN</td>\n",
       "      <td>NaN</td>\n",
       "      <td>NaN</td>\n",
       "      <td>NaN</td>\n",
       "      <td>NaN</td>\n",
       "      <td>NaN</td>\n",
       "      <td>NaN</td>\n",
       "      <td>NaN</td>\n",
       "      <td>...</td>\n",
       "      <td>NaN</td>\n",
       "      <td>NaN</td>\n",
       "      <td>NaN</td>\n",
       "      <td>NaN</td>\n",
       "      <td>NaN</td>\n",
       "      <td>NaN</td>\n",
       "      <td>NaN</td>\n",
       "      <td>NaN</td>\n",
       "      <td>NaN</td>\n",
       "      <td>NaN</td>\n",
       "    </tr>\n",
       "    <tr>\n",
       "      <th>12</th>\n",
       "      <td>Passenger car (driver)</td>\n",
       "      <td>Touring</td>\n",
       "      <td>NaN</td>\n",
       "      <td>NaN</td>\n",
       "      <td>NaN</td>\n",
       "      <td>NaN</td>\n",
       "      <td>NaN</td>\n",
       "      <td>NaN</td>\n",
       "      <td>NaN</td>\n",
       "      <td>NaN</td>\n",
       "      <td>...</td>\n",
       "      <td>NaN</td>\n",
       "      <td>NaN</td>\n",
       "      <td>NaN</td>\n",
       "      <td>NaN</td>\n",
       "      <td>NaN</td>\n",
       "      <td>NaN</td>\n",
       "      <td>NaN</td>\n",
       "      <td>NaN</td>\n",
       "      <td>NaN</td>\n",
       "      <td>NaN</td>\n",
       "    </tr>\n",
       "    <tr>\n",
       "      <th>13</th>\n",
       "      <td>Passenger car (passenger)</td>\n",
       "      <td>Total</td>\n",
       "      <td>0.32</td>\n",
       "      <td>0.31</td>\n",
       "      <td>0.24</td>\n",
       "      <td>0.26</td>\n",
       "      <td>6.66</td>\n",
       "      <td>6.65</td>\n",
       "      <td>4.37</td>\n",
       "      <td>5.1</td>\n",
       "      <td>...</td>\n",
       "      <td>0.22</td>\n",
       "      <td>0.24</td>\n",
       "      <td>5.8</td>\n",
       "      <td>6.02</td>\n",
       "      <td>4.11</td>\n",
       "      <td>4.89</td>\n",
       "      <td>8.54</td>\n",
       "      <td>9.02</td>\n",
       "      <td>6.67</td>\n",
       "      <td>7.59</td>\n",
       "    </tr>\n",
       "    <tr>\n",
       "      <th>14</th>\n",
       "      <td>Passenger car (passenger)</td>\n",
       "      <td>To and from work</td>\n",
       "      <td>0.02</td>\n",
       "      <td>0.01</td>\n",
       "      <td>0.01</td>\n",
       "      <td>0.01</td>\n",
       "      <td>0.41</td>\n",
       "      <td>0.38</td>\n",
       "      <td>0.21</td>\n",
       "      <td>0.23</td>\n",
       "      <td>...</td>\n",
       "      <td>0.01</td>\n",
       "      <td>0.01</td>\n",
       "      <td>0.34</td>\n",
       "      <td>0.34</td>\n",
       "      <td>0.17</td>\n",
       "      <td>0.2</td>\n",
       "      <td>0.55</td>\n",
       "      <td>0.46</td>\n",
       "      <td>0.29</td>\n",
       "      <td>0.36</td>\n",
       "    </tr>\n",
       "    <tr>\n",
       "      <th>15</th>\n",
       "      <td>Passenger car (passenger)</td>\n",
       "      <td>Shopping</td>\n",
       "      <td>NaN</td>\n",
       "      <td>NaN</td>\n",
       "      <td>NaN</td>\n",
       "      <td>NaN</td>\n",
       "      <td>NaN</td>\n",
       "      <td>NaN</td>\n",
       "      <td>NaN</td>\n",
       "      <td>NaN</td>\n",
       "      <td>...</td>\n",
       "      <td>NaN</td>\n",
       "      <td>NaN</td>\n",
       "      <td>NaN</td>\n",
       "      <td>NaN</td>\n",
       "      <td>NaN</td>\n",
       "      <td>NaN</td>\n",
       "      <td>NaN</td>\n",
       "      <td>NaN</td>\n",
       "      <td>NaN</td>\n",
       "      <td>NaN</td>\n",
       "    </tr>\n",
       "    <tr>\n",
       "      <th>16</th>\n",
       "      <td>Passenger car (passenger)</td>\n",
       "      <td>Going out</td>\n",
       "      <td>NaN</td>\n",
       "      <td>NaN</td>\n",
       "      <td>NaN</td>\n",
       "      <td>NaN</td>\n",
       "      <td>NaN</td>\n",
       "      <td>NaN</td>\n",
       "      <td>NaN</td>\n",
       "      <td>NaN</td>\n",
       "      <td>...</td>\n",
       "      <td>NaN</td>\n",
       "      <td>NaN</td>\n",
       "      <td>NaN</td>\n",
       "      <td>NaN</td>\n",
       "      <td>NaN</td>\n",
       "      <td>NaN</td>\n",
       "      <td>NaN</td>\n",
       "      <td>NaN</td>\n",
       "      <td>NaN</td>\n",
       "      <td>NaN</td>\n",
       "    </tr>\n",
       "    <tr>\n",
       "      <th>17</th>\n",
       "      <td>Passenger car (passenger)</td>\n",
       "      <td>Touring</td>\n",
       "      <td>NaN</td>\n",
       "      <td>NaN</td>\n",
       "      <td>NaN</td>\n",
       "      <td>NaN</td>\n",
       "      <td>NaN</td>\n",
       "      <td>NaN</td>\n",
       "      <td>NaN</td>\n",
       "      <td>NaN</td>\n",
       "      <td>...</td>\n",
       "      <td>NaN</td>\n",
       "      <td>NaN</td>\n",
       "      <td>NaN</td>\n",
       "      <td>NaN</td>\n",
       "      <td>NaN</td>\n",
       "      <td>NaN</td>\n",
       "      <td>NaN</td>\n",
       "      <td>NaN</td>\n",
       "      <td>NaN</td>\n",
       "      <td>NaN</td>\n",
       "    </tr>\n",
       "    <tr>\n",
       "      <th>18</th>\n",
       "      <td>Train</td>\n",
       "      <td>Total</td>\n",
       "      <td>0.08</td>\n",
       "      <td>0.08</td>\n",
       "      <td>0.03</td>\n",
       "      <td>0.03</td>\n",
       "      <td>3.88</td>\n",
       "      <td>4.08</td>\n",
       "      <td>1.6</td>\n",
       "      <td>1.67</td>\n",
       "      <td>...</td>\n",
       "      <td>0.03</td>\n",
       "      <td>0.04</td>\n",
       "      <td>3.68</td>\n",
       "      <td>3.88</td>\n",
       "      <td>1.3</td>\n",
       "      <td>1.67</td>\n",
       "      <td>6.21</td>\n",
       "      <td>6.46</td>\n",
       "      <td>2.32</td>\n",
       "      <td>3.05</td>\n",
       "    </tr>\n",
       "    <tr>\n",
       "      <th>19</th>\n",
       "      <td>Train</td>\n",
       "      <td>To and from work</td>\n",
       "      <td>0.03</td>\n",
       "      <td>0.03</td>\n",
       "      <td>0.01</td>\n",
       "      <td>0.01</td>\n",
       "      <td>1.33</td>\n",
       "      <td>1.35</td>\n",
       "      <td>0.5</td>\n",
       "      <td>0.36</td>\n",
       "      <td>...</td>\n",
       "      <td>0.01</td>\n",
       "      <td>0.01</td>\n",
       "      <td>1.46</td>\n",
       "      <td>1.34</td>\n",
       "      <td>0.43</td>\n",
       "      <td>0.37</td>\n",
       "      <td>2.55</td>\n",
       "      <td>2.35</td>\n",
       "      <td>0.79</td>\n",
       "      <td>0.71</td>\n",
       "    </tr>\n",
       "    <tr>\n",
       "      <th>20</th>\n",
       "      <td>Train</td>\n",
       "      <td>Shopping</td>\n",
       "      <td>NaN</td>\n",
       "      <td>NaN</td>\n",
       "      <td>NaN</td>\n",
       "      <td>NaN</td>\n",
       "      <td>NaN</td>\n",
       "      <td>NaN</td>\n",
       "      <td>NaN</td>\n",
       "      <td>NaN</td>\n",
       "      <td>...</td>\n",
       "      <td>NaN</td>\n",
       "      <td>NaN</td>\n",
       "      <td>NaN</td>\n",
       "      <td>NaN</td>\n",
       "      <td>NaN</td>\n",
       "      <td>NaN</td>\n",
       "      <td>NaN</td>\n",
       "      <td>NaN</td>\n",
       "      <td>NaN</td>\n",
       "      <td>NaN</td>\n",
       "    </tr>\n",
       "    <tr>\n",
       "      <th>21</th>\n",
       "      <td>Train</td>\n",
       "      <td>Going out</td>\n",
       "      <td>NaN</td>\n",
       "      <td>NaN</td>\n",
       "      <td>NaN</td>\n",
       "      <td>NaN</td>\n",
       "      <td>NaN</td>\n",
       "      <td>NaN</td>\n",
       "      <td>NaN</td>\n",
       "      <td>NaN</td>\n",
       "      <td>...</td>\n",
       "      <td>NaN</td>\n",
       "      <td>NaN</td>\n",
       "      <td>NaN</td>\n",
       "      <td>NaN</td>\n",
       "      <td>NaN</td>\n",
       "      <td>NaN</td>\n",
       "      <td>NaN</td>\n",
       "      <td>NaN</td>\n",
       "      <td>NaN</td>\n",
       "      <td>NaN</td>\n",
       "    </tr>\n",
       "    <tr>\n",
       "      <th>22</th>\n",
       "      <td>Train</td>\n",
       "      <td>Touring</td>\n",
       "      <td>NaN</td>\n",
       "      <td>NaN</td>\n",
       "      <td>NaN</td>\n",
       "      <td>NaN</td>\n",
       "      <td>NaN</td>\n",
       "      <td>NaN</td>\n",
       "      <td>NaN</td>\n",
       "      <td>NaN</td>\n",
       "      <td>...</td>\n",
       "      <td>NaN</td>\n",
       "      <td>NaN</td>\n",
       "      <td>NaN</td>\n",
       "      <td>NaN</td>\n",
       "      <td>NaN</td>\n",
       "      <td>NaN</td>\n",
       "      <td>NaN</td>\n",
       "      <td>NaN</td>\n",
       "      <td>NaN</td>\n",
       "      <td>NaN</td>\n",
       "    </tr>\n",
       "    <tr>\n",
       "      <th>23</th>\n",
       "      <td>Bus/tram/metro</td>\n",
       "      <td>Total</td>\n",
       "      <td>0.08</td>\n",
       "      <td>0.07</td>\n",
       "      <td>0.04</td>\n",
       "      <td>0.04</td>\n",
       "      <td>1.08</td>\n",
       "      <td>1.06</td>\n",
       "      <td>0.48</td>\n",
       "      <td>0.54</td>\n",
       "      <td>...</td>\n",
       "      <td>NaN</td>\n",
       "      <td>NaN</td>\n",
       "      <td>NaN</td>\n",
       "      <td>NaN</td>\n",
       "      <td>NaN</td>\n",
       "      <td>NaN</td>\n",
       "      <td>NaN</td>\n",
       "      <td>NaN</td>\n",
       "      <td>NaN</td>\n",
       "      <td>NaN</td>\n",
       "    </tr>\n",
       "    <tr>\n",
       "      <th>24</th>\n",
       "      <td>Bus/tram/metro</td>\n",
       "      <td>To and from work</td>\n",
       "      <td>0.02</td>\n",
       "      <td>0.02</td>\n",
       "      <td>0.01</td>\n",
       "      <td>0.01</td>\n",
       "      <td>0.32</td>\n",
       "      <td>0.31</td>\n",
       "      <td>0.14</td>\n",
       "      <td>0.13</td>\n",
       "      <td>...</td>\n",
       "      <td>0.02</td>\n",
       "      <td>0.01</td>\n",
       "      <td>0.5</td>\n",
       "      <td>0.59</td>\n",
       "      <td>0.23</td>\n",
       "      <td>0.19</td>\n",
       "      <td>1.43</td>\n",
       "      <td>1.75</td>\n",
       "      <td>0.73</td>\n",
       "      <td>0.64</td>\n",
       "    </tr>\n",
       "    <tr>\n",
       "      <th>25</th>\n",
       "      <td>Bus/tram/metro</td>\n",
       "      <td>Shopping</td>\n",
       "      <td>NaN</td>\n",
       "      <td>NaN</td>\n",
       "      <td>NaN</td>\n",
       "      <td>NaN</td>\n",
       "      <td>NaN</td>\n",
       "      <td>NaN</td>\n",
       "      <td>NaN</td>\n",
       "      <td>NaN</td>\n",
       "      <td>...</td>\n",
       "      <td>NaN</td>\n",
       "      <td>NaN</td>\n",
       "      <td>NaN</td>\n",
       "      <td>NaN</td>\n",
       "      <td>NaN</td>\n",
       "      <td>NaN</td>\n",
       "      <td>NaN</td>\n",
       "      <td>NaN</td>\n",
       "      <td>NaN</td>\n",
       "      <td>NaN</td>\n",
       "    </tr>\n",
       "    <tr>\n",
       "      <th>26</th>\n",
       "      <td>Bus/tram/metro</td>\n",
       "      <td>Going out</td>\n",
       "      <td>NaN</td>\n",
       "      <td>NaN</td>\n",
       "      <td>NaN</td>\n",
       "      <td>NaN</td>\n",
       "      <td>NaN</td>\n",
       "      <td>NaN</td>\n",
       "      <td>NaN</td>\n",
       "      <td>NaN</td>\n",
       "      <td>...</td>\n",
       "      <td>NaN</td>\n",
       "      <td>NaN</td>\n",
       "      <td>NaN</td>\n",
       "      <td>NaN</td>\n",
       "      <td>NaN</td>\n",
       "      <td>NaN</td>\n",
       "      <td>NaN</td>\n",
       "      <td>NaN</td>\n",
       "      <td>NaN</td>\n",
       "      <td>NaN</td>\n",
       "    </tr>\n",
       "    <tr>\n",
       "      <th>27</th>\n",
       "      <td>Bus/tram/metro</td>\n",
       "      <td>Touring</td>\n",
       "      <td>NaN</td>\n",
       "      <td>NaN</td>\n",
       "      <td>NaN</td>\n",
       "      <td>NaN</td>\n",
       "      <td>NaN</td>\n",
       "      <td>NaN</td>\n",
       "      <td>NaN</td>\n",
       "      <td>NaN</td>\n",
       "      <td>...</td>\n",
       "      <td>NaN</td>\n",
       "      <td>NaN</td>\n",
       "      <td>NaN</td>\n",
       "      <td>NaN</td>\n",
       "      <td>NaN</td>\n",
       "      <td>NaN</td>\n",
       "      <td>NaN</td>\n",
       "      <td>NaN</td>\n",
       "      <td>NaN</td>\n",
       "      <td>NaN</td>\n",
       "    </tr>\n",
       "    <tr>\n",
       "      <th>28</th>\n",
       "      <td>Bicycle</td>\n",
       "      <td>Total</td>\n",
       "      <td>0.79</td>\n",
       "      <td>0.76</td>\n",
       "      <td>0.63</td>\n",
       "      <td>0.64</td>\n",
       "      <td>3.16</td>\n",
       "      <td>3.01</td>\n",
       "      <td>2.61</td>\n",
       "      <td>2.68</td>\n",
       "      <td>...</td>\n",
       "      <td>0.58</td>\n",
       "      <td>0.59</td>\n",
       "      <td>2.82</td>\n",
       "      <td>2.75</td>\n",
       "      <td>2.46</td>\n",
       "      <td>2.46</td>\n",
       "      <td>14.99</td>\n",
       "      <td>15.16</td>\n",
       "      <td>14.44</td>\n",
       "      <td>14.78</td>\n",
       "    </tr>\n",
       "    <tr>\n",
       "      <th>29</th>\n",
       "      <td>Bicycle</td>\n",
       "      <td>To and from work</td>\n",
       "      <td>0.14</td>\n",
       "      <td>0.13</td>\n",
       "      <td>0.1</td>\n",
       "      <td>0.1</td>\n",
       "      <td>0.68</td>\n",
       "      <td>0.65</td>\n",
       "      <td>0.44</td>\n",
       "      <td>0.45</td>\n",
       "      <td>...</td>\n",
       "      <td>0.09</td>\n",
       "      <td>0.09</td>\n",
       "      <td>0.67</td>\n",
       "      <td>0.65</td>\n",
       "      <td>0.43</td>\n",
       "      <td>0.43</td>\n",
       "      <td>2.68</td>\n",
       "      <td>2.61</td>\n",
       "      <td>1</td>\n",
       "      <td>NaN</td>\n",
       "    </tr>\n",
       "    <tr>\n",
       "      <th>30</th>\n",
       "      <td>Bicycle</td>\n",
       "      <td>Shopping</td>\n",
       "      <td>NaN</td>\n",
       "      <td>NaN</td>\n",
       "      <td>NaN</td>\n",
       "      <td>NaN</td>\n",
       "      <td>NaN</td>\n",
       "      <td>NaN</td>\n",
       "      <td>NaN</td>\n",
       "      <td>NaN</td>\n",
       "      <td>...</td>\n",
       "      <td>NaN</td>\n",
       "      <td>NaN</td>\n",
       "      <td>NaN</td>\n",
       "      <td>NaN</td>\n",
       "      <td>NaN</td>\n",
       "      <td>NaN</td>\n",
       "      <td>NaN</td>\n",
       "      <td>NaN</td>\n",
       "      <td>NaN</td>\n",
       "      <td>NaN</td>\n",
       "    </tr>\n",
       "    <tr>\n",
       "      <th>31</th>\n",
       "      <td>Bicycle</td>\n",
       "      <td>Going out</td>\n",
       "      <td>NaN</td>\n",
       "      <td>NaN</td>\n",
       "      <td>NaN</td>\n",
       "      <td>NaN</td>\n",
       "      <td>NaN</td>\n",
       "      <td>NaN</td>\n",
       "      <td>NaN</td>\n",
       "      <td>NaN</td>\n",
       "      <td>...</td>\n",
       "      <td>NaN</td>\n",
       "      <td>NaN</td>\n",
       "      <td>NaN</td>\n",
       "      <td>NaN</td>\n",
       "      <td>NaN</td>\n",
       "      <td>NaN</td>\n",
       "      <td>NaN</td>\n",
       "      <td>NaN</td>\n",
       "      <td>NaN</td>\n",
       "      <td>NaN</td>\n",
       "    </tr>\n",
       "    <tr>\n",
       "      <th>32</th>\n",
       "      <td>Bicycle</td>\n",
       "      <td>Touring</td>\n",
       "      <td>NaN</td>\n",
       "      <td>NaN</td>\n",
       "      <td>NaN</td>\n",
       "      <td>NaN</td>\n",
       "      <td>NaN</td>\n",
       "      <td>NaN</td>\n",
       "      <td>NaN</td>\n",
       "      <td>NaN</td>\n",
       "      <td>...</td>\n",
       "      <td>NaN</td>\n",
       "      <td>NaN</td>\n",
       "      <td>NaN</td>\n",
       "      <td>NaN</td>\n",
       "      <td>NaN</td>\n",
       "      <td>NaN</td>\n",
       "      <td>NaN</td>\n",
       "      <td>NaN</td>\n",
       "      <td>NaN</td>\n",
       "      <td>NaN</td>\n",
       "    </tr>\n",
       "    <tr>\n",
       "      <th>33</th>\n",
       "      <td>To walk</td>\n",
       "      <td>Total</td>\n",
       "      <td>0.44</td>\n",
       "      <td>0.43</td>\n",
       "      <td>0.52</td>\n",
       "      <td>0.61</td>\n",
       "      <td>0.9</td>\n",
       "      <td>0.88</td>\n",
       "      <td>1.12</td>\n",
       "      <td>1.38</td>\n",
       "      <td>...</td>\n",
       "      <td>0.56</td>\n",
       "      <td>0.66</td>\n",
       "      <td>1</td>\n",
       "      <td>0.96</td>\n",
       "      <td>1.13</td>\n",
       "      <td>1.41</td>\n",
       "      <td>12.32</td>\n",
       "      <td>11.67</td>\n",
       "      <td>15.77</td>\n",
       "      <td>19.62</td>\n",
       "    </tr>\n",
       "    <tr>\n",
       "      <th>34</th>\n",
       "      <td>To walk</td>\n",
       "      <td>To and from work</td>\n",
       "      <td>0.02</td>\n",
       "      <td>0.02</td>\n",
       "      <td>0.02</td>\n",
       "      <td>0.02</td>\n",
       "      <td>0.06</td>\n",
       "      <td>0.06</td>\n",
       "      <td>0.03</td>\n",
       "      <td>0.03</td>\n",
       "      <td>...</td>\n",
       "      <td>0.02</td>\n",
       "      <td>0.02</td>\n",
       "      <td>0.08</td>\n",
       "      <td>0.08</td>\n",
       "      <td>0.04</td>\n",
       "      <td>0.04</td>\n",
       "      <td>0.39</td>\n",
       "      <td>.</td>\n",
       "      <td>0.22</td>\n",
       "      <td>0.27</td>\n",
       "    </tr>\n",
       "    <tr>\n",
       "      <th>35</th>\n",
       "      <td>To walk</td>\n",
       "      <td>Shopping</td>\n",
       "      <td>NaN</td>\n",
       "      <td>NaN</td>\n",
       "      <td>NaN</td>\n",
       "      <td>NaN</td>\n",
       "      <td>NaN</td>\n",
       "      <td>NaN</td>\n",
       "      <td>NaN</td>\n",
       "      <td>NaN</td>\n",
       "      <td>...</td>\n",
       "      <td>NaN</td>\n",
       "      <td>NaN</td>\n",
       "      <td>NaN</td>\n",
       "      <td>NaN</td>\n",
       "      <td>NaN</td>\n",
       "      <td>NaN</td>\n",
       "      <td>NaN</td>\n",
       "      <td>NaN</td>\n",
       "      <td>NaN</td>\n",
       "      <td>NaN</td>\n",
       "    </tr>\n",
       "    <tr>\n",
       "      <th>36</th>\n",
       "      <td>To walk</td>\n",
       "      <td>Going out</td>\n",
       "      <td>NaN</td>\n",
       "      <td>NaN</td>\n",
       "      <td>NaN</td>\n",
       "      <td>NaN</td>\n",
       "      <td>NaN</td>\n",
       "      <td>NaN</td>\n",
       "      <td>NaN</td>\n",
       "      <td>NaN</td>\n",
       "      <td>...</td>\n",
       "      <td>NaN</td>\n",
       "      <td>NaN</td>\n",
       "      <td>NaN</td>\n",
       "      <td>NaN</td>\n",
       "      <td>NaN</td>\n",
       "      <td>NaN</td>\n",
       "      <td>NaN</td>\n",
       "      <td>NaN</td>\n",
       "      <td>NaN</td>\n",
       "      <td>NaN</td>\n",
       "    </tr>\n",
       "    <tr>\n",
       "      <th>37</th>\n",
       "      <td>To walk</td>\n",
       "      <td>Touring</td>\n",
       "      <td>NaN</td>\n",
       "      <td>NaN</td>\n",
       "      <td>NaN</td>\n",
       "      <td>NaN</td>\n",
       "      <td>NaN</td>\n",
       "      <td>NaN</td>\n",
       "      <td>NaN</td>\n",
       "      <td>NaN</td>\n",
       "      <td>...</td>\n",
       "      <td>NaN</td>\n",
       "      <td>NaN</td>\n",
       "      <td>NaN</td>\n",
       "      <td>NaN</td>\n",
       "      <td>NaN</td>\n",
       "      <td>NaN</td>\n",
       "      <td>NaN</td>\n",
       "      <td>NaN</td>\n",
       "      <td>NaN</td>\n",
       "      <td>NaN</td>\n",
       "    </tr>\n",
       "    <tr>\n",
       "      <th>38</th>\n",
       "      <td>Other mode of transport</td>\n",
       "      <td>Total</td>\n",
       "      <td>0.11</td>\n",
       "      <td>0.11</td>\n",
       "      <td>0.09</td>\n",
       "      <td>0.1</td>\n",
       "      <td>2.32</td>\n",
       "      <td>2.3</td>\n",
       "      <td>1.55</td>\n",
       "      <td>1.81</td>\n",
       "      <td>...</td>\n",
       "      <td>0.08</td>\n",
       "      <td>0.11</td>\n",
       "      <td>1</td>\n",
       "      <td>NaN</td>\n",
       "      <td>NaN</td>\n",
       "      <td>NaN</td>\n",
       "      <td>NaN</td>\n",
       "      <td>NaN</td>\n",
       "      <td>NaN</td>\n",
       "      <td>NaN</td>\n",
       "    </tr>\n",
       "    <tr>\n",
       "      <th>39</th>\n",
       "      <td>Other mode of transport</td>\n",
       "      <td>To and from work</td>\n",
       "      <td>0.04</td>\n",
       "      <td>0.04</td>\n",
       "      <td>0.03</td>\n",
       "      <td>0.03</td>\n",
       "      <td>0.97</td>\n",
       "      <td>0.78</td>\n",
       "      <td>0.47</td>\n",
       "      <td>0.6</td>\n",
       "      <td>...</td>\n",
       "      <td>0.03</td>\n",
       "      <td>0.03</td>\n",
       "      <td>0.9</td>\n",
       "      <td>0.78</td>\n",
       "      <td>0.39</td>\n",
       "      <td>0.49</td>\n",
       "      <td>1.3</td>\n",
       "      <td>1.29</td>\n",
       "      <td>0.72</td>\n",
       "      <td>0.8</td>\n",
       "    </tr>\n",
       "    <tr>\n",
       "      <th>40</th>\n",
       "      <td>Other mode of transport</td>\n",
       "      <td>Shopping</td>\n",
       "      <td>NaN</td>\n",
       "      <td>NaN</td>\n",
       "      <td>NaN</td>\n",
       "      <td>NaN</td>\n",
       "      <td>NaN</td>\n",
       "      <td>NaN</td>\n",
       "      <td>NaN</td>\n",
       "      <td>NaN</td>\n",
       "      <td>...</td>\n",
       "      <td>NaN</td>\n",
       "      <td>NaN</td>\n",
       "      <td>NaN</td>\n",
       "      <td>NaN</td>\n",
       "      <td>NaN</td>\n",
       "      <td>NaN</td>\n",
       "      <td>NaN</td>\n",
       "      <td>NaN</td>\n",
       "      <td>NaN</td>\n",
       "      <td>NaN</td>\n",
       "    </tr>\n",
       "    <tr>\n",
       "      <th>41</th>\n",
       "      <td>Other mode of transport</td>\n",
       "      <td>Going out</td>\n",
       "      <td>NaN</td>\n",
       "      <td>NaN</td>\n",
       "      <td>NaN</td>\n",
       "      <td>NaN</td>\n",
       "      <td>NaN</td>\n",
       "      <td>NaN</td>\n",
       "      <td>NaN</td>\n",
       "      <td>NaN</td>\n",
       "      <td>...</td>\n",
       "      <td>NaN</td>\n",
       "      <td>NaN</td>\n",
       "      <td>NaN</td>\n",
       "      <td>NaN</td>\n",
       "      <td>NaN</td>\n",
       "      <td>NaN</td>\n",
       "      <td>NaN</td>\n",
       "      <td>NaN</td>\n",
       "      <td>NaN</td>\n",
       "      <td>NaN</td>\n",
       "    </tr>\n",
       "    <tr>\n",
       "      <th>42</th>\n",
       "      <td>Other mode of transport</td>\n",
       "      <td>Touring</td>\n",
       "      <td>NaN</td>\n",
       "      <td>NaN</td>\n",
       "      <td>NaN</td>\n",
       "      <td>NaN</td>\n",
       "      <td>NaN</td>\n",
       "      <td>NaN</td>\n",
       "      <td>NaN</td>\n",
       "      <td>NaN</td>\n",
       "      <td>...</td>\n",
       "      <td>NaN</td>\n",
       "      <td>NaN</td>\n",
       "      <td>NaN</td>\n",
       "      <td>NaN</td>\n",
       "      <td>NaN</td>\n",
       "      <td>NaN</td>\n",
       "      <td>NaN</td>\n",
       "      <td>NaN</td>\n",
       "      <td>NaN</td>\n",
       "      <td>NaN</td>\n",
       "    </tr>\n",
       "    <tr>\n",
       "      <th>43</th>\n",
       "      <td>Bron: CBS</td>\n",
       "      <td>NaN</td>\n",
       "      <td>NaN</td>\n",
       "      <td>NaN</td>\n",
       "      <td>NaN</td>\n",
       "      <td>NaN</td>\n",
       "      <td>NaN</td>\n",
       "      <td>NaN</td>\n",
       "      <td>NaN</td>\n",
       "      <td>NaN</td>\n",
       "      <td>...</td>\n",
       "      <td>NaN</td>\n",
       "      <td>NaN</td>\n",
       "      <td>NaN</td>\n",
       "      <td>NaN</td>\n",
       "      <td>NaN</td>\n",
       "      <td>NaN</td>\n",
       "      <td>NaN</td>\n",
       "      <td>NaN</td>\n",
       "      <td>NaN</td>\n",
       "      <td>NaN</td>\n",
       "    </tr>\n",
       "  </tbody>\n",
       "</table>\n",
       "<p>44 rows × 50 columns</p>\n",
       "</div>"
      ],
      "text/plain": [
       "                   Unnamed: 0           Regions  \\\n",
       "0                         NaN             Topic   \n",
       "1                         NaN           Periods   \n",
       "2             Transport modes    Travel motives   \n",
       "3                       Total             Total   \n",
       "4                       Total  To and from work   \n",
       "5                       Total          Shopping   \n",
       "6                       Total         Going out   \n",
       "7                       Total           Touring   \n",
       "8      Passenger car (driver)             Total   \n",
       "9      Passenger car (driver)  To and from work   \n",
       "10     Passenger car (driver)          Shopping   \n",
       "11     Passenger car (driver)         Going out   \n",
       "12     Passenger car (driver)           Touring   \n",
       "13  Passenger car (passenger)             Total   \n",
       "14  Passenger car (passenger)  To and from work   \n",
       "15  Passenger car (passenger)          Shopping   \n",
       "16  Passenger car (passenger)         Going out   \n",
       "17  Passenger car (passenger)           Touring   \n",
       "18                      Train             Total   \n",
       "19                      Train  To and from work   \n",
       "20                      Train          Shopping   \n",
       "21                      Train         Going out   \n",
       "22                      Train           Touring   \n",
       "23             Bus/tram/metro             Total   \n",
       "24             Bus/tram/metro  To and from work   \n",
       "25             Bus/tram/metro          Shopping   \n",
       "26             Bus/tram/metro         Going out   \n",
       "27             Bus/tram/metro           Touring   \n",
       "28                    Bicycle             Total   \n",
       "29                    Bicycle  To and from work   \n",
       "30                    Bicycle          Shopping   \n",
       "31                    Bicycle         Going out   \n",
       "32                    Bicycle           Touring   \n",
       "33                    To walk             Total   \n",
       "34                    To walk  To and from work   \n",
       "35                    To walk          Shopping   \n",
       "36                    To walk         Going out   \n",
       "37                    To walk           Touring   \n",
       "38    Other mode of transport             Total   \n",
       "39    Other mode of transport  To and from work   \n",
       "40    Other mode of transport          Shopping   \n",
       "41    Other mode of transport         Going out   \n",
       "42    Other mode of transport           Touring   \n",
       "43                  Bron: CBS               NaN   \n",
       "\n",
       "                                   The Netherlands  \\\n",
       "0   Gemiddeld per persoon per dag |Verplaatsingen    \n",
       "1                                             2018   \n",
       "2                                        number of   \n",
       "3                                             2.78   \n",
       "4                                             0.55   \n",
       "5                                              NaN   \n",
       "6                                              NaN   \n",
       "7                                              NaN   \n",
       "8                                             0.96   \n",
       "9                                             0.27   \n",
       "10                                             NaN   \n",
       "11                                             NaN   \n",
       "12                                             NaN   \n",
       "13                                            0.32   \n",
       "14                                            0.02   \n",
       "15                                             NaN   \n",
       "16                                             NaN   \n",
       "17                                             NaN   \n",
       "18                                            0.08   \n",
       "19                                            0.03   \n",
       "20                                             NaN   \n",
       "21                                             NaN   \n",
       "22                                             NaN   \n",
       "23                                            0.08   \n",
       "24                                            0.02   \n",
       "25                                             NaN   \n",
       "26                                             NaN   \n",
       "27                                             NaN   \n",
       "28                                            0.79   \n",
       "29                                            0.14   \n",
       "30                                             NaN   \n",
       "31                                             NaN   \n",
       "32                                             NaN   \n",
       "33                                            0.44   \n",
       "34                                            0.02   \n",
       "35                                             NaN   \n",
       "36                                             NaN   \n",
       "37                                             NaN   \n",
       "38                                            0.11   \n",
       "39                                            0.04   \n",
       "40                                             NaN   \n",
       "41                                             NaN   \n",
       "42                                             NaN   \n",
       "43                                             NaN   \n",
       "\n",
       "                                 The Netherlands.1  \\\n",
       "0   Gemiddeld per persoon per dag |Verplaatsingen    \n",
       "1                                             2019   \n",
       "2                                        number of   \n",
       "3                                             2.71   \n",
       "4                                              0.5   \n",
       "5                                              NaN   \n",
       "6                                              NaN   \n",
       "7                                              NaN   \n",
       "8                                             0.95   \n",
       "9                                             0.25   \n",
       "10                                             NaN   \n",
       "11                                             NaN   \n",
       "12                                             NaN   \n",
       "13                                            0.31   \n",
       "14                                            0.01   \n",
       "15                                             NaN   \n",
       "16                                             NaN   \n",
       "17                                             NaN   \n",
       "18                                            0.08   \n",
       "19                                            0.03   \n",
       "20                                             NaN   \n",
       "21                                             NaN   \n",
       "22                                             NaN   \n",
       "23                                            0.07   \n",
       "24                                            0.02   \n",
       "25                                             NaN   \n",
       "26                                             NaN   \n",
       "27                                             NaN   \n",
       "28                                            0.76   \n",
       "29                                            0.13   \n",
       "30                                             NaN   \n",
       "31                                             NaN   \n",
       "32                                             NaN   \n",
       "33                                            0.43   \n",
       "34                                            0.02   \n",
       "35                                             NaN   \n",
       "36                                             NaN   \n",
       "37                                             NaN   \n",
       "38                                            0.11   \n",
       "39                                            0.04   \n",
       "40                                             NaN   \n",
       "41                                             NaN   \n",
       "42                                             NaN   \n",
       "43                                             NaN   \n",
       "\n",
       "                                 The Netherlands.2  \\\n",
       "0   Gemiddeld per persoon per dag |Verplaatsingen    \n",
       "1                                             2020   \n",
       "2                                        number of   \n",
       "3                                             2.35   \n",
       "4                                             0.37   \n",
       "5                                              NaN   \n",
       "6                                              NaN   \n",
       "7                                              NaN   \n",
       "8                                             0.81   \n",
       "9                                             0.19   \n",
       "10                                             NaN   \n",
       "11                                             NaN   \n",
       "12                                             NaN   \n",
       "13                                            0.24   \n",
       "14                                            0.01   \n",
       "15                                             NaN   \n",
       "16                                             NaN   \n",
       "17                                             NaN   \n",
       "18                                            0.03   \n",
       "19                                            0.01   \n",
       "20                                             NaN   \n",
       "21                                             NaN   \n",
       "22                                             NaN   \n",
       "23                                            0.04   \n",
       "24                                            0.01   \n",
       "25                                             NaN   \n",
       "26                                             NaN   \n",
       "27                                             NaN   \n",
       "28                                            0.63   \n",
       "29                                             0.1   \n",
       "30                                             NaN   \n",
       "31                                             NaN   \n",
       "32                                             NaN   \n",
       "33                                            0.52   \n",
       "34                                            0.02   \n",
       "35                                             NaN   \n",
       "36                                             NaN   \n",
       "37                                             NaN   \n",
       "38                                            0.09   \n",
       "39                                            0.03   \n",
       "40                                             NaN   \n",
       "41                                             NaN   \n",
       "42                                             NaN   \n",
       "43                                             NaN   \n",
       "\n",
       "                                 The Netherlands.3  \\\n",
       "0   Gemiddeld per persoon per dag |Verplaatsingen    \n",
       "1                                             2021   \n",
       "2                                        number of   \n",
       "3                                             2.51   \n",
       "4                                             0.37   \n",
       "5                                              NaN   \n",
       "6                                              NaN   \n",
       "7                                              NaN   \n",
       "8                                             0.82   \n",
       "9                                             0.19   \n",
       "10                                             NaN   \n",
       "11                                             NaN   \n",
       "12                                             NaN   \n",
       "13                                            0.26   \n",
       "14                                            0.01   \n",
       "15                                             NaN   \n",
       "16                                             NaN   \n",
       "17                                             NaN   \n",
       "18                                            0.03   \n",
       "19                                            0.01   \n",
       "20                                             NaN   \n",
       "21                                             NaN   \n",
       "22                                             NaN   \n",
       "23                                            0.04   \n",
       "24                                            0.01   \n",
       "25                                             NaN   \n",
       "26                                             NaN   \n",
       "27                                             NaN   \n",
       "28                                            0.64   \n",
       "29                                             0.1   \n",
       "30                                             NaN   \n",
       "31                                             NaN   \n",
       "32                                             NaN   \n",
       "33                                            0.61   \n",
       "34                                            0.02   \n",
       "35                                             NaN   \n",
       "36                                             NaN   \n",
       "37                                             NaN   \n",
       "38                                             0.1   \n",
       "39                                            0.03   \n",
       "40                                             NaN   \n",
       "41                                             NaN   \n",
       "42                                             NaN   \n",
       "43                                             NaN   \n",
       "\n",
       "                          The Netherlands.4  \\\n",
       "0   Gemiddeld per persoon per dag |Afstand    \n",
       "1                                      2018   \n",
       "2                      passenger kilometers   \n",
       "3                                     36.16   \n",
       "4                                     10.55   \n",
       "5                                       NaN   \n",
       "6                                       NaN   \n",
       "7                                       NaN   \n",
       "8                                     18.16   \n",
       "9                                      6.79   \n",
       "10                                      NaN   \n",
       "11                                      NaN   \n",
       "12                                      NaN   \n",
       "13                                     6.66   \n",
       "14                                     0.41   \n",
       "15                                      NaN   \n",
       "16                                      NaN   \n",
       "17                                      NaN   \n",
       "18                                     3.88   \n",
       "19                                     1.33   \n",
       "20                                      NaN   \n",
       "21                                      NaN   \n",
       "22                                      NaN   \n",
       "23                                     1.08   \n",
       "24                                     0.32   \n",
       "25                                      NaN   \n",
       "26                                      NaN   \n",
       "27                                      NaN   \n",
       "28                                     3.16   \n",
       "29                                     0.68   \n",
       "30                                      NaN   \n",
       "31                                      NaN   \n",
       "32                                      NaN   \n",
       "33                                      0.9   \n",
       "34                                     0.06   \n",
       "35                                      NaN   \n",
       "36                                      NaN   \n",
       "37                                      NaN   \n",
       "38                                     2.32   \n",
       "39                                     0.97   \n",
       "40                                      NaN   \n",
       "41                                      NaN   \n",
       "42                                      NaN   \n",
       "43                                      NaN   \n",
       "\n",
       "                          The Netherlands.5  \\\n",
       "0   Gemiddeld per persoon per dag |Afstand    \n",
       "1                                      2019   \n",
       "2                      passenger kilometers   \n",
       "3                                        36   \n",
       "4                                      9.72   \n",
       "5                                       NaN   \n",
       "6                                       NaN   \n",
       "7                                       NaN   \n",
       "8                                     18.02   \n",
       "9                                       6.2   \n",
       "10                                      NaN   \n",
       "11                                      NaN   \n",
       "12                                      NaN   \n",
       "13                                     6.65   \n",
       "14                                     0.38   \n",
       "15                                      NaN   \n",
       "16                                      NaN   \n",
       "17                                      NaN   \n",
       "18                                     4.08   \n",
       "19                                     1.35   \n",
       "20                                      NaN   \n",
       "21                                      NaN   \n",
       "22                                      NaN   \n",
       "23                                     1.06   \n",
       "24                                     0.31   \n",
       "25                                      NaN   \n",
       "26                                      NaN   \n",
       "27                                      NaN   \n",
       "28                                     3.01   \n",
       "29                                     0.65   \n",
       "30                                      NaN   \n",
       "31                                      NaN   \n",
       "32                                      NaN   \n",
       "33                                     0.88   \n",
       "34                                     0.06   \n",
       "35                                      NaN   \n",
       "36                                      NaN   \n",
       "37                                      NaN   \n",
       "38                                      2.3   \n",
       "39                                     0.78   \n",
       "40                                      NaN   \n",
       "41                                      NaN   \n",
       "42                                      NaN   \n",
       "43                                      NaN   \n",
       "\n",
       "                          The Netherlands.6  \\\n",
       "0   Gemiddeld per persoon per dag |Afstand    \n",
       "1                                      2020   \n",
       "2                      passenger kilometers   \n",
       "3                                     24.88   \n",
       "4                                      6.16   \n",
       "5                                       NaN   \n",
       "6                                       NaN   \n",
       "7                                       NaN   \n",
       "8                                     13.14   \n",
       "9                                      4.37   \n",
       "10                                      NaN   \n",
       "11                                      NaN   \n",
       "12                                      NaN   \n",
       "13                                     4.37   \n",
       "14                                     0.21   \n",
       "15                                      NaN   \n",
       "16                                      NaN   \n",
       "17                                      NaN   \n",
       "18                                      1.6   \n",
       "19                                      0.5   \n",
       "20                                      NaN   \n",
       "21                                      NaN   \n",
       "22                                      NaN   \n",
       "23                                     0.48   \n",
       "24                                     0.14   \n",
       "25                                      NaN   \n",
       "26                                      NaN   \n",
       "27                                      NaN   \n",
       "28                                     2.61   \n",
       "29                                     0.44   \n",
       "30                                      NaN   \n",
       "31                                      NaN   \n",
       "32                                      NaN   \n",
       "33                                     1.12   \n",
       "34                                     0.03   \n",
       "35                                      NaN   \n",
       "36                                      NaN   \n",
       "37                                      NaN   \n",
       "38                                     1.55   \n",
       "39                                     0.47   \n",
       "40                                      NaN   \n",
       "41                                      NaN   \n",
       "42                                      NaN   \n",
       "43                                      NaN   \n",
       "\n",
       "                          The Netherlands.7  ...  \\\n",
       "0   Gemiddeld per persoon per dag |Afstand   ...   \n",
       "1                                      2021  ...   \n",
       "2                      passenger kilometers  ...   \n",
       "3                                     27.24  ...   \n",
       "4                                      6.13  ...   \n",
       "5                                       NaN  ...   \n",
       "6                                       NaN  ...   \n",
       "7                                       NaN  ...   \n",
       "8                                     14.05  ...   \n",
       "9                                      4.33  ...   \n",
       "10                                      NaN  ...   \n",
       "11                                      NaN  ...   \n",
       "12                                      NaN  ...   \n",
       "13                                      5.1  ...   \n",
       "14                                     0.23  ...   \n",
       "15                                      NaN  ...   \n",
       "16                                      NaN  ...   \n",
       "17                                      NaN  ...   \n",
       "18                                     1.67  ...   \n",
       "19                                     0.36  ...   \n",
       "20                                      NaN  ...   \n",
       "21                                      NaN  ...   \n",
       "22                                      NaN  ...   \n",
       "23                                     0.54  ...   \n",
       "24                                     0.13  ...   \n",
       "25                                      NaN  ...   \n",
       "26                                      NaN  ...   \n",
       "27                                      NaN  ...   \n",
       "28                                     2.68  ...   \n",
       "29                                     0.45  ...   \n",
       "30                                      NaN  ...   \n",
       "31                                      NaN  ...   \n",
       "32                                      NaN  ...   \n",
       "33                                     1.38  ...   \n",
       "34                                     0.03  ...   \n",
       "35                                      NaN  ...   \n",
       "36                                      NaN  ...   \n",
       "37                                      NaN  ...   \n",
       "38                                     1.81  ...   \n",
       "39                                      0.6  ...   \n",
       "40                                      NaN  ...   \n",
       "41                                      NaN  ...   \n",
       "42                                      NaN  ...   \n",
       "43                                      NaN  ...   \n",
       "\n",
       "                              South Holland (PV).2  \\\n",
       "0   Gemiddeld per persoon per dag |Verplaatsingen    \n",
       "1                                             2020   \n",
       "2                                        number of   \n",
       "3                                              NaN   \n",
       "4                                             0.34   \n",
       "5                                              NaN   \n",
       "6                                              NaN   \n",
       "7                                              NaN   \n",
       "8                                             0.68   \n",
       "9                                             0.17   \n",
       "10                                             NaN   \n",
       "11                                             NaN   \n",
       "12                                             NaN   \n",
       "13                                            0.22   \n",
       "14                                            0.01   \n",
       "15                                             NaN   \n",
       "16                                             NaN   \n",
       "17                                             NaN   \n",
       "18                                            0.03   \n",
       "19                                            0.01   \n",
       "20                                             NaN   \n",
       "21                                             NaN   \n",
       "22                                             NaN   \n",
       "23                                             NaN   \n",
       "24                                            0.02   \n",
       "25                                             NaN   \n",
       "26                                             NaN   \n",
       "27                                             NaN   \n",
       "28                                            0.58   \n",
       "29                                            0.09   \n",
       "30                                             NaN   \n",
       "31                                             NaN   \n",
       "32                                             NaN   \n",
       "33                                            0.56   \n",
       "34                                            0.02   \n",
       "35                                             NaN   \n",
       "36                                             NaN   \n",
       "37                                             NaN   \n",
       "38                                            0.08   \n",
       "39                                            0.03   \n",
       "40                                             NaN   \n",
       "41                                             NaN   \n",
       "42                                             NaN   \n",
       "43                                             NaN   \n",
       "\n",
       "                              South Holland (PV).3  \\\n",
       "0   Gemiddeld per persoon per dag |Verplaatsingen    \n",
       "1                                             2021   \n",
       "2                                        number of   \n",
       "3                                              NaN   \n",
       "4                                             0.34   \n",
       "5                                              NaN   \n",
       "6                                              NaN   \n",
       "7                                              NaN   \n",
       "8                                             0.72   \n",
       "9                                             0.16   \n",
       "10                                             NaN   \n",
       "11                                             NaN   \n",
       "12                                             NaN   \n",
       "13                                            0.24   \n",
       "14                                            0.01   \n",
       "15                                             NaN   \n",
       "16                                             NaN   \n",
       "17                                             NaN   \n",
       "18                                            0.04   \n",
       "19                                            0.01   \n",
       "20                                             NaN   \n",
       "21                                             NaN   \n",
       "22                                             NaN   \n",
       "23                                             NaN   \n",
       "24                                            0.01   \n",
       "25                                             NaN   \n",
       "26                                             NaN   \n",
       "27                                             NaN   \n",
       "28                                            0.59   \n",
       "29                                            0.09   \n",
       "30                                             NaN   \n",
       "31                                             NaN   \n",
       "32                                             NaN   \n",
       "33                                            0.66   \n",
       "34                                            0.02   \n",
       "35                                             NaN   \n",
       "36                                             NaN   \n",
       "37                                             NaN   \n",
       "38                                            0.11   \n",
       "39                                            0.03   \n",
       "40                                             NaN   \n",
       "41                                             NaN   \n",
       "42                                             NaN   \n",
       "43                                             NaN   \n",
       "\n",
       "                       South Holland (PV).4  \\\n",
       "0   Gemiddeld per persoon per dag |Afstand    \n",
       "1                                      2018   \n",
       "2                      passenger kilometers   \n",
       "3                                       NaN   \n",
       "4                                      9.92   \n",
       "5                                       NaN   \n",
       "6                                       NaN   \n",
       "7                                       NaN   \n",
       "8                                     16.14   \n",
       "9                                      5.96   \n",
       "10                                      NaN   \n",
       "11                                      NaN   \n",
       "12                                      NaN   \n",
       "13                                      5.8   \n",
       "14                                     0.34   \n",
       "15                                      NaN   \n",
       "16                                      NaN   \n",
       "17                                      NaN   \n",
       "18                                     3.68   \n",
       "19                                     1.46   \n",
       "20                                      NaN   \n",
       "21                                      NaN   \n",
       "22                                      NaN   \n",
       "23                                      NaN   \n",
       "24                                      0.5   \n",
       "25                                      NaN   \n",
       "26                                      NaN   \n",
       "27                                      NaN   \n",
       "28                                     2.82   \n",
       "29                                     0.67   \n",
       "30                                      NaN   \n",
       "31                                      NaN   \n",
       "32                                      NaN   \n",
       "33                                        1   \n",
       "34                                     0.08   \n",
       "35                                      NaN   \n",
       "36                                      NaN   \n",
       "37                                      NaN   \n",
       "38                                        1   \n",
       "39                                      0.9   \n",
       "40                                      NaN   \n",
       "41                                      NaN   \n",
       "42                                      NaN   \n",
       "43                                      NaN   \n",
       "\n",
       "                       South Holland (PV).5  \\\n",
       "0   Gemiddeld per persoon per dag |Afstand    \n",
       "1                                      2019   \n",
       "2                      passenger kilometers   \n",
       "3                                       NaN   \n",
       "4                                      8.92   \n",
       "5                                       NaN   \n",
       "6                                       NaN   \n",
       "7                                       NaN   \n",
       "8                                     15.82   \n",
       "9                                      5.13   \n",
       "10                                      NaN   \n",
       "11                                      NaN   \n",
       "12                                      NaN   \n",
       "13                                     6.02   \n",
       "14                                     0.34   \n",
       "15                                      NaN   \n",
       "16                                      NaN   \n",
       "17                                      NaN   \n",
       "18                                     3.88   \n",
       "19                                     1.34   \n",
       "20                                      NaN   \n",
       "21                                      NaN   \n",
       "22                                      NaN   \n",
       "23                                      NaN   \n",
       "24                                     0.59   \n",
       "25                                      NaN   \n",
       "26                                      NaN   \n",
       "27                                      NaN   \n",
       "28                                     2.75   \n",
       "29                                     0.65   \n",
       "30                                      NaN   \n",
       "31                                      NaN   \n",
       "32                                      NaN   \n",
       "33                                     0.96   \n",
       "34                                     0.08   \n",
       "35                                      NaN   \n",
       "36                                      NaN   \n",
       "37                                      NaN   \n",
       "38                                      NaN   \n",
       "39                                     0.78   \n",
       "40                                      NaN   \n",
       "41                                      NaN   \n",
       "42                                      NaN   \n",
       "43                                      NaN   \n",
       "\n",
       "                       South Holland (PV).6  \\\n",
       "0   Gemiddeld per persoon per dag |Afstand    \n",
       "1                                      2020   \n",
       "2                      passenger kilometers   \n",
       "3                                       NaN   \n",
       "4                                      5.54   \n",
       "5                                       NaN   \n",
       "6                                       NaN   \n",
       "7                                       NaN   \n",
       "8                                     11.71   \n",
       "9                                      3.84   \n",
       "10                                      NaN   \n",
       "11                                      NaN   \n",
       "12                                      NaN   \n",
       "13                                     4.11   \n",
       "14                                     0.17   \n",
       "15                                      NaN   \n",
       "16                                      NaN   \n",
       "17                                      NaN   \n",
       "18                                      1.3   \n",
       "19                                     0.43   \n",
       "20                                      NaN   \n",
       "21                                      NaN   \n",
       "22                                      NaN   \n",
       "23                                      NaN   \n",
       "24                                     0.23   \n",
       "25                                      NaN   \n",
       "26                                      NaN   \n",
       "27                                      NaN   \n",
       "28                                     2.46   \n",
       "29                                     0.43   \n",
       "30                                      NaN   \n",
       "31                                      NaN   \n",
       "32                                      NaN   \n",
       "33                                     1.13   \n",
       "34                                     0.04   \n",
       "35                                      NaN   \n",
       "36                                      NaN   \n",
       "37                                      NaN   \n",
       "38                                      NaN   \n",
       "39                                     0.39   \n",
       "40                                      NaN   \n",
       "41                                      NaN   \n",
       "42                                      NaN   \n",
       "43                                      NaN   \n",
       "\n",
       "                       South Holland (PV).7  \\\n",
       "0   Gemiddeld per persoon per dag |Afstand    \n",
       "1                                      2021   \n",
       "2                      passenger kilometers   \n",
       "3                                       NaN   \n",
       "4                                      5.08   \n",
       "5                                       NaN   \n",
       "6                                       NaN   \n",
       "7                                       NaN   \n",
       "8                                     11.94   \n",
       "9                                      3.36   \n",
       "10                                      NaN   \n",
       "11                                      NaN   \n",
       "12                                      NaN   \n",
       "13                                     4.89   \n",
       "14                                      0.2   \n",
       "15                                      NaN   \n",
       "16                                      NaN   \n",
       "17                                      NaN   \n",
       "18                                     1.67   \n",
       "19                                     0.37   \n",
       "20                                      NaN   \n",
       "21                                      NaN   \n",
       "22                                      NaN   \n",
       "23                                      NaN   \n",
       "24                                     0.19   \n",
       "25                                      NaN   \n",
       "26                                      NaN   \n",
       "27                                      NaN   \n",
       "28                                     2.46   \n",
       "29                                     0.43   \n",
       "30                                      NaN   \n",
       "31                                      NaN   \n",
       "32                                      NaN   \n",
       "33                                     1.41   \n",
       "34                                     0.04   \n",
       "35                                      NaN   \n",
       "36                                      NaN   \n",
       "37                                      NaN   \n",
       "38                                      NaN   \n",
       "39                                     0.49   \n",
       "40                                      NaN   \n",
       "41                                      NaN   \n",
       "42                                      NaN   \n",
       "43                                      NaN   \n",
       "\n",
       "                       South Holland (PV).8  \\\n",
       "0   Gemiddeld per persoon per dag |Reisduur   \n",
       "1                                      2018   \n",
       "2                                   minutes   \n",
       "3                                       NaN   \n",
       "4                                     17.02   \n",
       "5                                       NaN   \n",
       "6                                       NaN   \n",
       "7                                       NaN   \n",
       "8                                     23.98   \n",
       "9                                      8.12   \n",
       "10                                      NaN   \n",
       "11                                      NaN   \n",
       "12                                      NaN   \n",
       "13                                     8.54   \n",
       "14                                     0.55   \n",
       "15                                      NaN   \n",
       "16                                      NaN   \n",
       "17                                      NaN   \n",
       "18                                     6.21   \n",
       "19                                     2.55   \n",
       "20                                      NaN   \n",
       "21                                      NaN   \n",
       "22                                      NaN   \n",
       "23                                      NaN   \n",
       "24                                     1.43   \n",
       "25                                      NaN   \n",
       "26                                      NaN   \n",
       "27                                      NaN   \n",
       "28                                    14.99   \n",
       "29                                     2.68   \n",
       "30                                      NaN   \n",
       "31                                      NaN   \n",
       "32                                      NaN   \n",
       "33                                    12.32   \n",
       "34                                     0.39   \n",
       "35                                      NaN   \n",
       "36                                      NaN   \n",
       "37                                      NaN   \n",
       "38                                      NaN   \n",
       "39                                      1.3   \n",
       "40                                      NaN   \n",
       "41                                      NaN   \n",
       "42                                      NaN   \n",
       "43                                      NaN   \n",
       "\n",
       "                       South Holland (PV).9  \\\n",
       "0   Gemiddeld per persoon per dag |Reisduur   \n",
       "1                                      2019   \n",
       "2                                   minutes   \n",
       "3                                       NaN   \n",
       "4                                     16.05   \n",
       "5                                       NaN   \n",
       "6                                       NaN   \n",
       "7                                       NaN   \n",
       "8                                      23.5   \n",
       "9                                      7.22   \n",
       "10                                      NaN   \n",
       "11                                      NaN   \n",
       "12                                      NaN   \n",
       "13                                     9.02   \n",
       "14                                     0.46   \n",
       "15                                      NaN   \n",
       "16                                      NaN   \n",
       "17                                      NaN   \n",
       "18                                     6.46   \n",
       "19                                     2.35   \n",
       "20                                      NaN   \n",
       "21                                      NaN   \n",
       "22                                      NaN   \n",
       "23                                      NaN   \n",
       "24                                     1.75   \n",
       "25                                      NaN   \n",
       "26                                      NaN   \n",
       "27                                      NaN   \n",
       "28                                    15.16   \n",
       "29                                     2.61   \n",
       "30                                      NaN   \n",
       "31                                      NaN   \n",
       "32                                      NaN   \n",
       "33                                    11.67   \n",
       "34                                        .   \n",
       "35                                      NaN   \n",
       "36                                      NaN   \n",
       "37                                      NaN   \n",
       "38                                      NaN   \n",
       "39                                     1.29   \n",
       "40                                      NaN   \n",
       "41                                      NaN   \n",
       "42                                      NaN   \n",
       "43                                      NaN   \n",
       "\n",
       "                      South Holland (PV).10  \\\n",
       "0   Gemiddeld per persoon per dag |Reisduur   \n",
       "1                                      2020   \n",
       "2                                   minutes   \n",
       "3                                       NaN   \n",
       "4                                      9.62   \n",
       "5                                       NaN   \n",
       "6                                       NaN   \n",
       "7                                       NaN   \n",
       "8                                     17.47   \n",
       "9                                      4.97   \n",
       "10                                      NaN   \n",
       "11                                      NaN   \n",
       "12                                      NaN   \n",
       "13                                     6.67   \n",
       "14                                     0.29   \n",
       "15                                      NaN   \n",
       "16                                      NaN   \n",
       "17                                      NaN   \n",
       "18                                     2.32   \n",
       "19                                     0.79   \n",
       "20                                      NaN   \n",
       "21                                      NaN   \n",
       "22                                      NaN   \n",
       "23                                      NaN   \n",
       "24                                     0.73   \n",
       "25                                      NaN   \n",
       "26                                      NaN   \n",
       "27                                      NaN   \n",
       "28                                    14.44   \n",
       "29                                        1   \n",
       "30                                      NaN   \n",
       "31                                      NaN   \n",
       "32                                      NaN   \n",
       "33                                    15.77   \n",
       "34                                     0.22   \n",
       "35                                      NaN   \n",
       "36                                      NaN   \n",
       "37                                      NaN   \n",
       "38                                      NaN   \n",
       "39                                     0.72   \n",
       "40                                      NaN   \n",
       "41                                      NaN   \n",
       "42                                      NaN   \n",
       "43                                      NaN   \n",
       "\n",
       "                      South Holland (PV).11  \n",
       "0   Gemiddeld per persoon per dag |Reisduur  \n",
       "1                                      2021  \n",
       "2                                   minutes  \n",
       "3                                       NaN  \n",
       "4                                      9.31  \n",
       "5                                       NaN  \n",
       "6                                       NaN  \n",
       "7                                       NaN  \n",
       "8                                     18.38  \n",
       "9                                      4.65  \n",
       "10                                      NaN  \n",
       "11                                      NaN  \n",
       "12                                      NaN  \n",
       "13                                     7.59  \n",
       "14                                     0.36  \n",
       "15                                      NaN  \n",
       "16                                      NaN  \n",
       "17                                      NaN  \n",
       "18                                     3.05  \n",
       "19                                     0.71  \n",
       "20                                      NaN  \n",
       "21                                      NaN  \n",
       "22                                      NaN  \n",
       "23                                      NaN  \n",
       "24                                     0.64  \n",
       "25                                      NaN  \n",
       "26                                      NaN  \n",
       "27                                      NaN  \n",
       "28                                    14.78  \n",
       "29                                      NaN  \n",
       "30                                      NaN  \n",
       "31                                      NaN  \n",
       "32                                      NaN  \n",
       "33                                    19.62  \n",
       "34                                     0.27  \n",
       "35                                      NaN  \n",
       "36                                      NaN  \n",
       "37                                      NaN  \n",
       "38                                      NaN  \n",
       "39                                      0.8  \n",
       "40                                      NaN  \n",
       "41                                      NaN  \n",
       "42                                      NaN  \n",
       "43                                      NaN  \n",
       "\n",
       "[44 rows x 50 columns]"
      ]
     },
     "execution_count": 9,
     "metadata": {},
     "output_type": "execute_result"
    }
   ],
   "source": [
    "df=pd.read_csv('movements.csv')\n",
    "df"
   ]
  },
  {
   "cell_type": "code",
   "execution_count": 10,
   "id": "50b58e8e",
   "metadata": {},
   "outputs": [
    {
     "data": {
      "text/html": [
       "<div>\n",
       "<style scoped>\n",
       "    .dataframe tbody tr th:only-of-type {\n",
       "        vertical-align: middle;\n",
       "    }\n",
       "\n",
       "    .dataframe tbody tr th {\n",
       "        vertical-align: top;\n",
       "    }\n",
       "\n",
       "    .dataframe thead th {\n",
       "        text-align: right;\n",
       "    }\n",
       "</style>\n",
       "<table border=\"1\" class=\"dataframe\">\n",
       "  <thead>\n",
       "    <tr style=\"text-align: right;\">\n",
       "      <th></th>\n",
       "      <th>2018</th>\n",
       "      <th>2019</th>\n",
       "      <th>2020</th>\n",
       "      <th>2021</th>\n",
       "    </tr>\n",
       "  </thead>\n",
       "  <tbody>\n",
       "    <tr>\n",
       "      <th>3</th>\n",
       "      <td>2.78</td>\n",
       "      <td>2.71</td>\n",
       "      <td>2.35</td>\n",
       "      <td>2.51</td>\n",
       "    </tr>\n",
       "    <tr>\n",
       "      <th>8</th>\n",
       "      <td>0.96</td>\n",
       "      <td>0.95</td>\n",
       "      <td>0.81</td>\n",
       "      <td>0.82</td>\n",
       "    </tr>\n",
       "    <tr>\n",
       "      <th>13</th>\n",
       "      <td>0.32</td>\n",
       "      <td>0.31</td>\n",
       "      <td>0.24</td>\n",
       "      <td>0.26</td>\n",
       "    </tr>\n",
       "    <tr>\n",
       "      <th>18</th>\n",
       "      <td>0.08</td>\n",
       "      <td>0.08</td>\n",
       "      <td>0.03</td>\n",
       "      <td>0.03</td>\n",
       "    </tr>\n",
       "    <tr>\n",
       "      <th>23</th>\n",
       "      <td>0.08</td>\n",
       "      <td>0.07</td>\n",
       "      <td>0.04</td>\n",
       "      <td>0.04</td>\n",
       "    </tr>\n",
       "    <tr>\n",
       "      <th>28</th>\n",
       "      <td>0.79</td>\n",
       "      <td>0.76</td>\n",
       "      <td>0.63</td>\n",
       "      <td>0.64</td>\n",
       "    </tr>\n",
       "    <tr>\n",
       "      <th>33</th>\n",
       "      <td>0.44</td>\n",
       "      <td>0.43</td>\n",
       "      <td>0.52</td>\n",
       "      <td>0.61</td>\n",
       "    </tr>\n",
       "    <tr>\n",
       "      <th>38</th>\n",
       "      <td>0.11</td>\n",
       "      <td>0.11</td>\n",
       "      <td>0.09</td>\n",
       "      <td>0.1</td>\n",
       "    </tr>\n",
       "  </tbody>\n",
       "</table>\n",
       "</div>"
      ],
      "text/plain": [
       "    2018  2019  2020  2021\n",
       "3   2.78  2.71  2.35  2.51\n",
       "8   0.96  0.95  0.81  0.82\n",
       "13  0.32  0.31  0.24  0.26\n",
       "18  0.08  0.08  0.03  0.03\n",
       "23  0.08  0.07  0.04  0.04\n",
       "28  0.79  0.76  0.63  0.64\n",
       "33  0.44  0.43  0.52  0.61\n",
       "38  0.11  0.11  0.09   0.1"
      ]
     },
     "execution_count": 10,
     "metadata": {},
     "output_type": "execute_result"
    }
   ],
   "source": [
    "df1=df.loc[[3,8,13,18,23,28,33,38],['The Netherlands','The Netherlands.1','The Netherlands.2','The Netherlands.3']]\n",
    "df1=df1.rename(columns={'The Netherlands':2018,'The Netherlands.1':2019,'The Netherlands.2':2020,'The Netherlands.3':2021})\n",
    "df1"
   ]
  },
  {
   "cell_type": "code",
   "execution_count": 11,
   "id": "8b0eeffc",
   "metadata": {},
   "outputs": [
    {
     "data": {
      "text/html": [
       "<div>\n",
       "<style scoped>\n",
       "    .dataframe tbody tr th:only-of-type {\n",
       "        vertical-align: middle;\n",
       "    }\n",
       "\n",
       "    .dataframe tbody tr th {\n",
       "        vertical-align: top;\n",
       "    }\n",
       "\n",
       "    .dataframe thead th {\n",
       "        text-align: right;\n",
       "    }\n",
       "</style>\n",
       "<table border=\"1\" class=\"dataframe\">\n",
       "  <thead>\n",
       "    <tr style=\"text-align: right;\">\n",
       "      <th></th>\n",
       "      <th>2018</th>\n",
       "      <th>2019</th>\n",
       "      <th>2020</th>\n",
       "      <th>2021</th>\n",
       "      <th>modes of transport</th>\n",
       "    </tr>\n",
       "  </thead>\n",
       "  <tbody>\n",
       "    <tr>\n",
       "      <th>3</th>\n",
       "      <td>2.78</td>\n",
       "      <td>2.71</td>\n",
       "      <td>2.35</td>\n",
       "      <td>2.51</td>\n",
       "      <td>Total</td>\n",
       "    </tr>\n",
       "    <tr>\n",
       "      <th>8</th>\n",
       "      <td>0.96</td>\n",
       "      <td>0.95</td>\n",
       "      <td>0.81</td>\n",
       "      <td>0.82</td>\n",
       "      <td>Passenger car (driver)</td>\n",
       "    </tr>\n",
       "    <tr>\n",
       "      <th>13</th>\n",
       "      <td>0.32</td>\n",
       "      <td>0.31</td>\n",
       "      <td>0.24</td>\n",
       "      <td>0.26</td>\n",
       "      <td>Passenger car (passenger)</td>\n",
       "    </tr>\n",
       "    <tr>\n",
       "      <th>18</th>\n",
       "      <td>0.08</td>\n",
       "      <td>0.08</td>\n",
       "      <td>0.03</td>\n",
       "      <td>0.03</td>\n",
       "      <td>train</td>\n",
       "    </tr>\n",
       "    <tr>\n",
       "      <th>23</th>\n",
       "      <td>0.08</td>\n",
       "      <td>0.07</td>\n",
       "      <td>0.04</td>\n",
       "      <td>0.04</td>\n",
       "      <td>tram/metro/bus</td>\n",
       "    </tr>\n",
       "    <tr>\n",
       "      <th>28</th>\n",
       "      <td>0.79</td>\n",
       "      <td>0.76</td>\n",
       "      <td>0.63</td>\n",
       "      <td>0.64</td>\n",
       "      <td>bicycle</td>\n",
       "    </tr>\n",
       "    <tr>\n",
       "      <th>33</th>\n",
       "      <td>0.44</td>\n",
       "      <td>0.43</td>\n",
       "      <td>0.52</td>\n",
       "      <td>0.61</td>\n",
       "      <td>walk</td>\n",
       "    </tr>\n",
       "    <tr>\n",
       "      <th>38</th>\n",
       "      <td>0.11</td>\n",
       "      <td>0.11</td>\n",
       "      <td>0.09</td>\n",
       "      <td>0.1</td>\n",
       "      <td>other modes</td>\n",
       "    </tr>\n",
       "  </tbody>\n",
       "</table>\n",
       "</div>"
      ],
      "text/plain": [
       "    2018  2019  2020  2021         modes of transport\n",
       "3   2.78  2.71  2.35  2.51                      Total\n",
       "8   0.96  0.95  0.81  0.82     Passenger car (driver)\n",
       "13  0.32  0.31  0.24  0.26  Passenger car (passenger)\n",
       "18  0.08  0.08  0.03  0.03                      train\n",
       "23  0.08  0.07  0.04  0.04             tram/metro/bus\n",
       "28  0.79  0.76  0.63  0.64                    bicycle\n",
       "33  0.44  0.43  0.52  0.61                       walk\n",
       "38  0.11  0.11  0.09   0.1                other modes"
      ]
     },
     "execution_count": 11,
     "metadata": {},
     "output_type": "execute_result"
    }
   ],
   "source": [
    "df1['modes of transport']=['Total','Passenger car (driver)','Passenger car (passenger)','train','tram/metro/bus','bicycle','walk','other modes']\n",
    "df1"
   ]
  },
  {
   "cell_type": "code",
   "execution_count": 12,
   "id": "6ef3b97b",
   "metadata": {},
   "outputs": [
    {
     "data": {
      "text/plain": [
       "[<matplotlib.lines.Line2D at 0x1fb38aa4fd0>]"
      ]
     },
     "execution_count": 12,
     "metadata": {},
     "output_type": "execute_result"
    },
    {
     "data": {
      "image/png": "[encoded data removed]",
      "text/plain": [
       "<Figure size 576x576 with 1 Axes>"
      ]
     },
     "metadata": {
      "needs_background": "light"
     },
     "output_type": "display_data"
    }
   ],
   "source": [
    "fig,ax=plt.subplots(1,figsize=(8,8))\n",
    "ax.plot(df1.columns[:4], df1.iloc[0,:4])"
   ]
  },
  {
   "cell_type": "code",
   "execution_count": 25,
   "id": "ee25c2ee",
   "metadata": {},
   "outputs": [],
   "source": [
    "df2=df1.set_index('modes of transport').stack().reset_index()\n",
    "df2=df2.rename(columns={'level_1':'year',0:'number of movements per person per day'})"
   ]
  },
  {
   "cell_type": "code",
   "execution_count": 26,
   "id": "456ab9ad",
   "metadata": {
    "scrolled": false
   },
   "outputs": [
    {
     "data": {
      "text/html": [
       "<div>\n",
       "<style scoped>\n",
       "    .dataframe tbody tr th:only-of-type {\n",
       "        vertical-align: middle;\n",
       "    }\n",
       "\n",
       "    .dataframe tbody tr th {\n",
       "        vertical-align: top;\n",
       "    }\n",
       "\n",
       "    .dataframe thead th {\n",
       "        text-align: right;\n",
       "    }\n",
       "</style>\n",
       "<table border=\"1\" class=\"dataframe\">\n",
       "  <thead>\n",
       "    <tr style=\"text-align: right;\">\n",
       "      <th></th>\n",
       "      <th>modes of transport</th>\n",
       "      <th>year</th>\n",
       "      <th>number of movements per person per day</th>\n",
       "    </tr>\n",
       "  </thead>\n",
       "  <tbody>\n",
       "    <tr>\n",
       "      <th>0</th>\n",
       "      <td>Total</td>\n",
       "      <td>2018</td>\n",
       "      <td>2.78</td>\n",
       "    </tr>\n",
       "    <tr>\n",
       "      <th>1</th>\n",
       "      <td>Total</td>\n",
       "      <td>2019</td>\n",
       "      <td>2.71</td>\n",
       "    </tr>\n",
       "    <tr>\n",
       "      <th>2</th>\n",
       "      <td>Total</td>\n",
       "      <td>2020</td>\n",
       "      <td>2.35</td>\n",
       "    </tr>\n",
       "    <tr>\n",
       "      <th>3</th>\n",
       "      <td>Total</td>\n",
       "      <td>2021</td>\n",
       "      <td>2.51</td>\n",
       "    </tr>\n",
       "    <tr>\n",
       "      <th>4</th>\n",
       "      <td>Passenger car (driver)</td>\n",
       "      <td>2018</td>\n",
       "      <td>0.96</td>\n",
       "    </tr>\n",
       "    <tr>\n",
       "      <th>5</th>\n",
       "      <td>Passenger car (driver)</td>\n",
       "      <td>2019</td>\n",
       "      <td>0.95</td>\n",
       "    </tr>\n",
       "    <tr>\n",
       "      <th>6</th>\n",
       "      <td>Passenger car (driver)</td>\n",
       "      <td>2020</td>\n",
       "      <td>0.81</td>\n",
       "    </tr>\n",
       "    <tr>\n",
       "      <th>7</th>\n",
       "      <td>Passenger car (driver)</td>\n",
       "      <td>2021</td>\n",
       "      <td>0.82</td>\n",
       "    </tr>\n",
       "    <tr>\n",
       "      <th>8</th>\n",
       "      <td>Passenger car (passenger)</td>\n",
       "      <td>2018</td>\n",
       "      <td>0.32</td>\n",
       "    </tr>\n",
       "    <tr>\n",
       "      <th>9</th>\n",
       "      <td>Passenger car (passenger)</td>\n",
       "      <td>2019</td>\n",
       "      <td>0.31</td>\n",
       "    </tr>\n",
       "    <tr>\n",
       "      <th>10</th>\n",
       "      <td>Passenger car (passenger)</td>\n",
       "      <td>2020</td>\n",
       "      <td>0.24</td>\n",
       "    </tr>\n",
       "    <tr>\n",
       "      <th>11</th>\n",
       "      <td>Passenger car (passenger)</td>\n",
       "      <td>2021</td>\n",
       "      <td>0.26</td>\n",
       "    </tr>\n",
       "    <tr>\n",
       "      <th>12</th>\n",
       "      <td>train</td>\n",
       "      <td>2018</td>\n",
       "      <td>0.08</td>\n",
       "    </tr>\n",
       "    <tr>\n",
       "      <th>13</th>\n",
       "      <td>train</td>\n",
       "      <td>2019</td>\n",
       "      <td>0.08</td>\n",
       "    </tr>\n",
       "    <tr>\n",
       "      <th>14</th>\n",
       "      <td>train</td>\n",
       "      <td>2020</td>\n",
       "      <td>0.03</td>\n",
       "    </tr>\n",
       "    <tr>\n",
       "      <th>15</th>\n",
       "      <td>train</td>\n",
       "      <td>2021</td>\n",
       "      <td>0.03</td>\n",
       "    </tr>\n",
       "    <tr>\n",
       "      <th>16</th>\n",
       "      <td>tram/metrp/bus</td>\n",
       "      <td>2018</td>\n",
       "      <td>0.08</td>\n",
       "    </tr>\n",
       "    <tr>\n",
       "      <th>17</th>\n",
       "      <td>tram/metrp/bus</td>\n",
       "      <td>2019</td>\n",
       "      <td>0.07</td>\n",
       "    </tr>\n",
       "    <tr>\n",
       "      <th>18</th>\n",
       "      <td>tram/metrp/bus</td>\n",
       "      <td>2020</td>\n",
       "      <td>0.04</td>\n",
       "    </tr>\n",
       "    <tr>\n",
       "      <th>19</th>\n",
       "      <td>tram/metrp/bus</td>\n",
       "      <td>2021</td>\n",
       "      <td>0.04</td>\n",
       "    </tr>\n",
       "    <tr>\n",
       "      <th>20</th>\n",
       "      <td>bicycle</td>\n",
       "      <td>2018</td>\n",
       "      <td>0.79</td>\n",
       "    </tr>\n",
       "    <tr>\n",
       "      <th>21</th>\n",
       "      <td>bicycle</td>\n",
       "      <td>2019</td>\n",
       "      <td>0.76</td>\n",
       "    </tr>\n",
       "    <tr>\n",
       "      <th>22</th>\n",
       "      <td>bicycle</td>\n",
       "      <td>2020</td>\n",
       "      <td>0.63</td>\n",
       "    </tr>\n",
       "    <tr>\n",
       "      <th>23</th>\n",
       "      <td>bicycle</td>\n",
       "      <td>2021</td>\n",
       "      <td>0.64</td>\n",
       "    </tr>\n",
       "    <tr>\n",
       "      <th>24</th>\n",
       "      <td>walk</td>\n",
       "      <td>2018</td>\n",
       "      <td>0.44</td>\n",
       "    </tr>\n",
       "    <tr>\n",
       "      <th>25</th>\n",
       "      <td>walk</td>\n",
       "      <td>2019</td>\n",
       "      <td>0.43</td>\n",
       "    </tr>\n",
       "    <tr>\n",
       "      <th>26</th>\n",
       "      <td>walk</td>\n",
       "      <td>2020</td>\n",
       "      <td>0.52</td>\n",
       "    </tr>\n",
       "    <tr>\n",
       "      <th>27</th>\n",
       "      <td>walk</td>\n",
       "      <td>2021</td>\n",
       "      <td>0.61</td>\n",
       "    </tr>\n",
       "    <tr>\n",
       "      <th>28</th>\n",
       "      <td>other modes</td>\n",
       "      <td>2018</td>\n",
       "      <td>0.11</td>\n",
       "    </tr>\n",
       "    <tr>\n",
       "      <th>29</th>\n",
       "      <td>other modes</td>\n",
       "      <td>2019</td>\n",
       "      <td>0.11</td>\n",
       "    </tr>\n",
       "    <tr>\n",
       "      <th>30</th>\n",
       "      <td>other modes</td>\n",
       "      <td>2020</td>\n",
       "      <td>0.09</td>\n",
       "    </tr>\n",
       "    <tr>\n",
       "      <th>31</th>\n",
       "      <td>other modes</td>\n",
       "      <td>2021</td>\n",
       "      <td>0.1</td>\n",
       "    </tr>\n",
       "  </tbody>\n",
       "</table>\n",
       "</div>"
      ],
      "text/plain": [
       "           modes of transport  year number of movements per person per day\n",
       "0                       Total  2018                                   2.78\n",
       "1                       Total  2019                                   2.71\n",
       "2                       Total  2020                                   2.35\n",
       "3                       Total  2021                                   2.51\n",
       "4      Passenger car (driver)  2018                                   0.96\n",
       "5      Passenger car (driver)  2019                                   0.95\n",
       "6      Passenger car (driver)  2020                                   0.81\n",
       "7      Passenger car (driver)  2021                                   0.82\n",
       "8   Passenger car (passenger)  2018                                   0.32\n",
       "9   Passenger car (passenger)  2019                                   0.31\n",
       "10  Passenger car (passenger)  2020                                   0.24\n",
       "11  Passenger car (passenger)  2021                                   0.26\n",
       "12                      train  2018                                   0.08\n",
       "13                      train  2019                                   0.08\n",
       "14                      train  2020                                   0.03\n",
       "15                      train  2021                                   0.03\n",
       "16             tram/metrp/bus  2018                                   0.08\n",
       "17             tram/metrp/bus  2019                                   0.07\n",
       "18             tram/metrp/bus  2020                                   0.04\n",
       "19             tram/metrp/bus  2021                                   0.04\n",
       "20                    bicycle  2018                                   0.79\n",
       "21                    bicycle  2019                                   0.76\n",
       "22                    bicycle  2020                                   0.63\n",
       "23                    bicycle  2021                                   0.64\n",
       "24                       walk  2018                                   0.44\n",
       "25                       walk  2019                                   0.43\n",
       "26                       walk  2020                                   0.52\n",
       "27                       walk  2021                                   0.61\n",
       "28                other modes  2018                                   0.11\n",
       "29                other modes  2019                                   0.11\n",
       "30                other modes  2020                                   0.09\n",
       "31                other modes  2021                                    0.1"
      ]
     },
     "execution_count": 26,
     "metadata": {},
     "output_type": "execute_result"
    }
   ],
   "source": [
    "df2"
   ]
  },
  {
   "cell_type": "markdown",
   "id": "4da48de0",
   "metadata": {},
   "source": [
    "## The graph below shows the movements per person per mode of each year"
   ]
  },
  {
   "cell_type": "code",
   "execution_count": 112,
   "id": "256ceb16",
   "metadata": {},
   "outputs": [],
   "source": [
    "import plotly.express as px"
   ]
  },
  {
   "cell_type": "code",
   "execution_count": 35,
   "id": "2cfdefab",
   "metadata": {},
   "outputs": [
    {
     "data": {
      "application/vnd.plotly.v1+json": {
       "config": {
        "plotlyServerURL": "https://plot.ly"
       },
       "data": [
        {
         "hovertemplate": "modes of transport=Total<br>year=%{x}<br>number of movements per person per day=%{y}<extra></extra>",
         "legendgroup": "Total",
         "line": {
          "color": "#636efa",
          "dash": "solid"
         },
         "marker": {
          "symbol": "circle"
         },
         "mode": "lines",
         "name": "Total",
         "orientation": "h",
         "showlegend": true,
         "type": "scatter",
         "x": [
          2018,
          2019,
          2020,
          2021
         ],
         "xaxis": "x",
         "y": [
          "2.78",
          "2.71",
          "2.35",
          "2.51"
         ],
         "yaxis": "y"
        },
        {
         "hovertemplate": "modes of transport=Passenger car (driver)<br>year=%{x}<br>number of movements per person per day=%{y}<extra></extra>",
         "legendgroup": "Passenger car (driver)",
         "line": {
          "color": "#EF553B",
          "dash": "solid"
         },
         "marker": {
          "symbol": "circle"
         },
         "mode": "lines",
         "name": "Passenger car (driver)",
         "orientation": "h",
         "showlegend": true,
         "type": "scatter",
         "x": [
          2018,
          2019,
          2020,
          2021
         ],
         "xaxis": "x",
         "y": [
          "0.96",
          "0.95",
          "0.81",
          "0.82"
         ],
         "yaxis": "y"
        },
        {
         "hovertemplate": "modes of transport=Passenger car (passenger)<br>year=%{x}<br>number of movements per person per day=%{y}<extra></extra>",
         "legendgroup": "Passenger car (passenger)",
         "line": {
          "color": "#00cc96",
          "dash": "solid"
         },
         "marker": {
          "symbol": "circle"
         },
         "mode": "lines",
         "name": "Passenger car (passenger)",
         "orientation": "h",
         "showlegend": true,
         "type": "scatter",
         "x": [
          2018,
          2019,
          2020,
          2021
         ],
         "xaxis": "x",
         "y": [
          "0.32",
          "0.31",
          "0.24",
          "0.26"
         ],
         "yaxis": "y"
        },
        {
         "hovertemplate": "modes of transport=train<br>year=%{x}<br>number of movements per person per day=%{y}<extra></extra>",
         "legendgroup": "train",
         "line": {
          "color": "#ab63fa",
          "dash": "solid"
         },
         "marker": {
          "symbol": "circle"
         },
         "mode": "lines",
         "name": "train",
         "orientation": "h",
         "showlegend": true,
         "type": "scatter",
         "x": [
          2018,
          2019,
          2020,
          2021
         ],
         "xaxis": "x",
         "y": [
          "0.08",
          "0.08",
          "0.03",
          "0.03"
         ],
         "yaxis": "y"
        },
        {
         "hovertemplate": "modes of transport=tram/metrp/bus<br>year=%{x}<br>number of movements per person per day=%{y}<extra></extra>",
         "legendgroup": "tram/metrp/bus",
         "line": {
          "color": "#FFA15A",
          "dash": "solid"
         },
         "marker": {
          "symbol": "circle"
         },
         "mode": "lines",
         "name": "tram/metrp/bus",
         "orientation": "h",
         "showlegend": true,
         "type": "scatter",
         "x": [
          2018,
          2019,
          2020,
          2021
         ],
         "xaxis": "x",
         "y": [
          "0.08",
          "0.07",
          "0.04",
          "0.04"
         ],
         "yaxis": "y"
        },
        {
         "hovertemplate": "modes of transport=bicycle<br>year=%{x}<br>number of movements per person per day=%{y}<extra></extra>",
         "legendgroup": "bicycle",
         "line": {
          "color": "#19d3f3",
          "dash": "solid"
         },
         "marker": {
          "symbol": "circle"
         },
         "mode": "lines",
         "name": "bicycle",
         "orientation": "h",
         "showlegend": true,
         "type": "scatter",
         "x": [
          2018,
          2019,
          2020,
          2021
         ],
         "xaxis": "x",
         "y": [
          "0.79",
          "0.76",
          "0.63",
          "0.64"
         ],
         "yaxis": "y"
        },
        {
         "hovertemplate": "modes of transport=walk<br>year=%{x}<br>number of movements per person per day=%{y}<extra></extra>",
         "legendgroup": "walk",
         "line": {
          "color": "#FF6692",
          "dash": "solid"
         },
         "marker": {
          "symbol": "circle"
         },
         "mode": "lines",
         "name": "walk",
         "orientation": "h",
         "showlegend": true,
         "type": "scatter",
         "x": [
          2018,
          2019,
          2020,
          2021
         ],
         "xaxis": "x",
         "y": [
          "0.44",
          "0.43",
          "0.52",
          "0.61"
         ],
         "yaxis": "y"
        },
        {
         "hovertemplate": "modes of transport=other modes<br>year=%{x}<br>number of movements per person per day=%{y}<extra></extra>",
         "legendgroup": "other modes",
         "line": {
          "color": "#B6E880",
          "dash": "solid"
         },
         "marker": {
          "symbol": "circle"
         },
         "mode": "lines",
         "name": "other modes",
         "orientation": "h",
         "showlegend": true,
         "type": "scatter",
         "x": [
          2018,
          2019,
          2020,
          2021
         ],
         "xaxis": "x",
         "y": [
          "0.11",
          "0.11",
          "0.09",
          "0.1"
         ],
         "yaxis": "y"
        }
       ],
       "layout": {
        "legend": {
         "title": {
          "text": "modes of transport"
         },
         "tracegroupgap": 0
        },
        "margin": {
         "t": 60
        },
        "template": {
         "data": {
          "bar": [
           {
            "error_x": {
             "color": "#2a3f5f"
            },
            "error_y": {
             "color": "#2a3f5f"
            },
            "marker": {
             "line": {
              "color": "#E5ECF6",
              "width": 0.5
             },
             "pattern": {
              "fillmode": "overlay",
              "size": 10,
              "solidity": 0.2
             }
            },
            "type": "bar"
           }
          ],
          "barpolar": [
           {
            "marker": {
             "line": {
              "color": "#E5ECF6",
              "width": 0.5
             },
             "pattern": {
              "fillmode": "overlay",
              "size": 10,
              "solidity": 0.2
             }
            },
            "type": "barpolar"
           }
          ],
          "carpet": [
           {
            "aaxis": {
             "endlinecolor": "#2a3f5f",
             "gridcolor": "white",
             "linecolor": "white",
             "minorgridcolor": "white",
             "startlinecolor": "#2a3f5f"
            },
            "baxis": {
             "endlinecolor": "#2a3f5f",
             "gridcolor": "white",
             "linecolor": "white",
             "minorgridcolor": "white",
             "startlinecolor": "#2a3f5f"
            },
            "type": "carpet"
           }
          ],
          "choropleth": [
           {
            "colorbar": {
             "outlinewidth": 0,
             "ticks": ""
            },
            "type": "choropleth"
           }
          ],
          "contour": [
           {
            "colorbar": {
             "outlinewidth": 0,
             "ticks": ""
            },
            "colorscale": [
             [
              0,
              "#0d0887"
             ],
             [
              0.1111111111111111,
              "#46039f"
             ],
             [
              0.2222222222222222,
              "#7201a8"
             ],
             [
              0.3333333333333333,
              "#9c179e"
             ],
             [
              0.4444444444444444,
              "#bd3786"
             ],
             [
              0.5555555555555556,
              "#d8576b"
             ],
             [
              0.6666666666666666,
              "#ed7953"
             ],
             [
              0.7777777777777778,
              "#fb9f3a"
             ],
             [
              0.8888888888888888,
              "#fdca26"
             ],
             [
              1,
              "#f0f921"
             ]
            ],
            "type": "contour"
           }
          ],
          "contourcarpet": [
           {
            "colorbar": {
             "outlinewidth": 0,
             "ticks": ""
            },
            "type": "contourcarpet"
           }
          ],
          "heatmap": [
           {
            "colorbar": {
             "outlinewidth": 0,
             "ticks": ""
            },
            "colorscale": [
             [
              0,
              "#0d0887"
             ],
             [
              0.1111111111111111,
              "#46039f"
             ],
             [
              0.2222222222222222,
              "#7201a8"
             ],
             [
              0.3333333333333333,
              "#9c179e"
             ],
             [
              0.4444444444444444,
              "#bd3786"
             ],
             [
              0.5555555555555556,
              "#d8576b"
             ],
             [
              0.6666666666666666,
              "#ed7953"
             ],
             [
              0.7777777777777778,
              "#fb9f3a"
             ],
             [
              0.8888888888888888,
              "#fdca26"
             ],
             [
              1,
              "#f0f921"
             ]
            ],
            "type": "heatmap"
           }
          ],
          "heatmapgl": [
           {
            "colorbar": {
             "outlinewidth": 0,
             "ticks": ""
            },
            "colorscale": [
             [
              0,
              "#0d0887"
             ],
             [
              0.1111111111111111,
              "#46039f"
             ],
             [
              0.2222222222222222,
              "#7201a8"
             ],
             [
              0.3333333333333333,
              "#9c179e"
             ],
             [
              0.4444444444444444,
              "#bd3786"
             ],
             [
              0.5555555555555556,
              "#d8576b"
             ],
             [
              0.6666666666666666,
              "#ed7953"
             ],
             [
              0.7777777777777778,
              "#fb9f3a"
             ],
             [
              0.8888888888888888,
              "#fdca26"
             ],
             [
              1,
              "#f0f921"
             ]
            ],
            "type": "heatmapgl"
           }
          ],
          "histogram": [
           {
            "marker": {
             "pattern": {
              "fillmode": "overlay",
              "size": 10,
              "solidity": 0.2
             }
            },
            "type": "histogram"
           }
          ],
          "histogram2d": [
           {
            "colorbar": {
             "outlinewidth": 0,
             "ticks": ""
            },
            "colorscale": [
             [
              0,
              "#0d0887"
             ],
             [
              0.1111111111111111,
              "#46039f"
             ],
             [
              0.2222222222222222,
              "#7201a8"
             ],
             [
              0.3333333333333333,
              "#9c179e"
             ],
             [
              0.4444444444444444,
              "#bd3786"
             ],
             [
              0.5555555555555556,
              "#d8576b"
             ],
             [
              0.6666666666666666,
              "#ed7953"
             ],
             [
              0.7777777777777778,
              "#fb9f3a"
             ],
             [
              0.8888888888888888,
              "#fdca26"
             ],
             [
              1,
              "#f0f921"
             ]
            ],
            "type": "histogram2d"
           }
          ],
          "histogram2dcontour": [
           {
            "colorbar": {
             "outlinewidth": 0,
             "ticks": ""
            },
            "colorscale": [
             [
              0,
              "#0d0887"
             ],
             [
              0.1111111111111111,
              "#46039f"
             ],
             [
              0.2222222222222222,
              "#7201a8"
             ],
             [
              0.3333333333333333,
              "#9c179e"
             ],
             [
              0.4444444444444444,
              "#bd3786"
             ],
             [
              0.5555555555555556,
              "#d8576b"
             ],
             [
              0.6666666666666666,
              "#ed7953"
             ],
             [
              0.7777777777777778,
              "#fb9f3a"
             ],
             [
              0.8888888888888888,
              "#fdca26"
             ],
             [
              1,
              "#f0f921"
             ]
            ],
            "type": "histogram2dcontour"
           }
          ],
          "mesh3d": [
           {
            "colorbar": {
             "outlinewidth": 0,
             "ticks": ""
            },
            "type": "mesh3d"
           }
          ],
          "parcoords": [
           {
            "line": {
             "colorbar": {
              "outlinewidth": 0,
              "ticks": ""
             }
            },
            "type": "parcoords"
           }
          ],
          "pie": [
           {
            "automargin": true,
            "type": "pie"
           }
          ],
          "scatter": [
           {
            "fillpattern": {
             "fillmode": "overlay",
             "size": 10,
             "solidity": 0.2
            },
            "type": "scatter"
           }
          ],
          "scatter3d": [
           {
            "line": {
             "colorbar": {
              "outlinewidth": 0,
              "ticks": ""
             }
            },
            "marker": {
             "colorbar": {
              "outlinewidth": 0,
              "ticks": ""
             }
            },
            "type": "scatter3d"
           }
          ],
          "scattercarpet": [
           {
            "marker": {
             "colorbar": {
              "outlinewidth": 0,
              "ticks": ""
             }
            },
            "type": "scattercarpet"
           }
          ],
          "scattergeo": [
           {
            "marker": {
             "colorbar": {
              "outlinewidth": 0,
              "ticks": ""
             }
            },
            "type": "scattergeo"
           }
          ],
          "scattergl": [
           {
            "marker": {
             "colorbar": {
              "outlinewidth": 0,
              "ticks": ""
             }
            },
            "type": "scattergl"
           }
          ],
          "scattermapbox": [
           {
            "marker": {
             "colorbar": {
              "outlinewidth": 0,
              "ticks": ""
             }
            },
            "type": "scattermapbox"
           }
          ],
          "scatterpolar": [
           {
            "marker": {
             "colorbar": {
              "outlinewidth": 0,
              "ticks": ""
             }
            },
            "type": "scatterpolar"
           }
          ],
          "scatterpolargl": [
           {
            "marker": {
             "colorbar": {
              "outlinewidth": 0,
              "ticks": ""
             }
            },
            "type": "scatterpolargl"
           }
          ],
          "scatterternary": [
           {
            "marker": {
             "colorbar": {
              "outlinewidth": 0,
              "ticks": ""
             }
            },
            "type": "scatterternary"
           }
          ],
          "surface": [
           {
            "colorbar": {
             "outlinewidth": 0,
             "ticks": ""
            },
            "colorscale": [
             [
              0,
              "#0d0887"
             ],
             [
              0.1111111111111111,
              "#46039f"
             ],
             [
              0.2222222222222222,
              "#7201a8"
             ],
             [
              0.3333333333333333,
              "#9c179e"
             ],
             [
              0.4444444444444444,
              "#bd3786"
             ],
             [
              0.5555555555555556,
              "#d8576b"
             ],
             [
              0.6666666666666666,
              "#ed7953"
             ],
             [
              0.7777777777777778,
              "#fb9f3a"
             ],
             [
              0.8888888888888888,
              "#fdca26"
             ],
             [
              1,
              "#f0f921"
             ]
            ],
            "type": "surface"
           }
          ],
          "table": [
           {
            "cells": {
             "fill": {
              "color": "#EBF0F8"
             },
             "line": {
              "color": "white"
             }
            },
            "header": {
             "fill": {
              "color": "#C8D4E3"
             },
             "line": {
              "color": "white"
             }
            },
            "type": "table"
           }
          ]
         },
         "layout": {
          "annotationdefaults": {
           "arrowcolor": "#2a3f5f",
           "arrowhead": 0,
           "arrowwidth": 1
          },
          "autotypenumbers": "strict",
          "coloraxis": {
           "colorbar": {
            "outlinewidth": 0,
            "ticks": ""
           }
          },
          "colorscale": {
           "diverging": [
            [
             0,
             "#8e0152"
            ],
            [
             0.1,
             "#c51b7d"
            ],
            [
             0.2,
             "#de77ae"
            ],
            [
             0.3,
             "#f1b6da"
            ],
            [
             0.4,
             "#fde0ef"
            ],
            [
             0.5,
             "#f7f7f7"
            ],
            [
             0.6,
             "#e6f5d0"
            ],
            [
             0.7,
             "#b8e186"
            ],
            [
             0.8,
             "#7fbc41"
            ],
            [
             0.9,
             "#4d9221"
            ],
            [
             1,
             "#276419"
            ]
           ],
           "sequential": [
            [
             0,
             "#0d0887"
            ],
            [
             0.1111111111111111,
             "#46039f"
            ],
            [
             0.2222222222222222,
             "#7201a8"
            ],
            [
             0.3333333333333333,
             "#9c179e"
            ],
            [
             0.4444444444444444,
             "#bd3786"
            ],
            [
             0.5555555555555556,
             "#d8576b"
            ],
            [
             0.6666666666666666,
             "#ed7953"
            ],
            [
             0.7777777777777778,
             "#fb9f3a"
            ],
            [
             0.8888888888888888,
             "#fdca26"
            ],
            [
             1,
             "#f0f921"
            ]
           ],
           "sequentialminus": [
            [
             0,
             "#0d0887"
            ],
            [
             0.1111111111111111,
             "#46039f"
            ],
            [
             0.2222222222222222,
             "#7201a8"
            ],
            [
             0.3333333333333333,
             "#9c179e"
            ],
            [
             0.4444444444444444,
             "#bd3786"
            ],
            [
             0.5555555555555556,
             "#d8576b"
            ],
            [
             0.6666666666666666,
             "#ed7953"
            ],
            [
             0.7777777777777778,
             "#fb9f3a"
            ],
            [
             0.8888888888888888,
             "#fdca26"
            ],
            [
             1,
             "#f0f921"
            ]
           ]
          },
          "colorway": [
           "#636efa",
           "#EF553B",
           "#00cc96",
           "#ab63fa",
           "#FFA15A",
           "#19d3f3",
           "#FF6692",
           "#B6E880",
           "#FF97FF",
           "#FECB52"
          ],
          "font": {
           "color": "#2a3f5f"
          },
          "geo": {
           "bgcolor": "white",
           "lakecolor": "white",
           "landcolor": "#E5ECF6",
           "showlakes": true,
           "showland": true,
           "subunitcolor": "white"
          },
          "hoverlabel": {
           "align": "left"
          },
          "hovermode": "closest",
          "mapbox": {
           "style": "light"
          },
          "paper_bgcolor": "white",
          "plot_bgcolor": "#E5ECF6",
          "polar": {
           "angularaxis": {
            "gridcolor": "white",
            "linecolor": "white",
            "ticks": ""
           },
           "bgcolor": "#E5ECF6",
           "radialaxis": {
            "gridcolor": "white",
            "linecolor": "white",
            "ticks": ""
           }
          },
          "scene": {
           "xaxis": {
            "backgroundcolor": "#E5ECF6",
            "gridcolor": "white",
            "gridwidth": 2,
            "linecolor": "white",
            "showbackground": true,
            "ticks": "",
            "zerolinecolor": "white"
           },
           "yaxis": {
            "backgroundcolor": "#E5ECF6",
            "gridcolor": "white",
            "gridwidth": 2,
            "linecolor": "white",
            "showbackground": true,
            "ticks": "",
            "zerolinecolor": "white"
           },
           "zaxis": {
            "backgroundcolor": "#E5ECF6",
            "gridcolor": "white",
            "gridwidth": 2,
            "linecolor": "white",
            "showbackground": true,
            "ticks": "",
            "zerolinecolor": "white"
           }
          },
          "shapedefaults": {
           "line": {
            "color": "#2a3f5f"
           }
          },
          "ternary": {
           "aaxis": {
            "gridcolor": "white",
            "linecolor": "white",
            "ticks": ""
           },
           "baxis": {
            "gridcolor": "white",
            "linecolor": "white",
            "ticks": ""
           },
           "bgcolor": "#E5ECF6",
           "caxis": {
            "gridcolor": "white",
            "linecolor": "white",
            "ticks": ""
           }
          },
          "title": {
           "x": 0.05
          },
          "xaxis": {
           "automargin": true,
           "gridcolor": "white",
           "linecolor": "white",
           "ticks": "",
           "title": {
            "standoff": 15
           },
           "zerolinecolor": "white",
           "zerolinewidth": 2
          },
          "yaxis": {
           "automargin": true,
           "gridcolor": "white",
           "linecolor": "white",
           "ticks": "",
           "title": {
            "standoff": 15
           },
           "zerolinecolor": "white",
           "zerolinewidth": 2
          }
         }
        },
        "xaxis": {
         "anchor": "y",
         "domain": [
          0,
          1
         ],
         "title": {
          "text": "year"
         }
        },
        "yaxis": {
         "anchor": "x",
         "domain": [
          0,
          1
         ],
         "title": {
          "text": "number of movements per person per day"
         }
        }
       }
      },
      "text/html": [
       "<div>                            <div id=\"b5e9ce33-786e-4711-b8fd-f3f9fc0cdf91\" class=\"plotly-graph-div\" style=\"height:525px; width:100%;\"></div>            <script type=\"text/javascript\">                require([\"plotly\"], function(Plotly) {                    window.PLOTLYENV=window.PLOTLYENV || {};                                    if (document.getElementById(\"b5e9ce33-786e-4711-b8fd-f3f9fc0cdf91\")) {                    Plotly.newPlot(                        \"b5e9ce33-786e-4711-b8fd-f3f9fc0cdf91\",                        [{\"hovertemplate\":\"modes of transport=Total<br>year=%{x}<br>number of movements per person per day=%{y}<extra></extra>\",\"legendgroup\":\"Total\",\"line\":{\"color\":\"#636efa\",\"dash\":\"solid\"},\"marker\":{\"symbol\":\"circle\"},\"mode\":\"lines\",\"name\":\"Total\",\"orientation\":\"h\",\"showlegend\":true,\"x\":[2018,2019,2020,2021],\"xaxis\":\"x\",\"y\":[\"2.78\",\"2.71\",\"2.35\",\"2.51\"],\"yaxis\":\"y\",\"type\":\"scatter\"},{\"hovertemplate\":\"modes of transport=Passenger car (driver)<br>year=%{x}<br>number of movements per person per day=%{y}<extra></extra>\",\"legendgroup\":\"Passenger car (driver)\",\"line\":{\"color\":\"#EF553B\",\"dash\":\"solid\"},\"marker\":{\"symbol\":\"circle\"},\"mode\":\"lines\",\"name\":\"Passenger car (driver)\",\"orientation\":\"h\",\"showlegend\":true,\"x\":[2018,2019,2020,2021],\"xaxis\":\"x\",\"y\":[\"0.96\",\"0.95\",\"0.81\",\"0.82\"],\"yaxis\":\"y\",\"type\":\"scatter\"},{\"hovertemplate\":\"modes of transport=Passenger car (passenger)<br>year=%{x}<br>number of movements per person per day=%{y}<extra></extra>\",\"legendgroup\":\"Passenger car (passenger)\",\"line\":{\"color\":\"#00cc96\",\"dash\":\"solid\"},\"marker\":{\"symbol\":\"circle\"},\"mode\":\"lines\",\"name\":\"Passenger car (passenger)\",\"orientation\":\"h\",\"showlegend\":true,\"x\":[2018,2019,2020,2021],\"xaxis\":\"x\",\"y\":[\"0.32\",\"0.31\",\"0.24\",\"0.26\"],\"yaxis\":\"y\",\"type\":\"scatter\"},{\"hovertemplate\":\"modes of transport=train<br>year=%{x}<br>number of movements per person per day=%{y}<extra></extra>\",\"legendgroup\":\"train\",\"line\":{\"color\":\"#ab63fa\",\"dash\":\"solid\"},\"marker\":{\"symbol\":\"circle\"},\"mode\":\"lines\",\"name\":\"train\",\"orientation\":\"h\",\"showlegend\":true,\"x\":[2018,2019,2020,2021],\"xaxis\":\"x\",\"y\":[\"0.08\",\"0.08\",\"0.03\",\"0.03\"],\"yaxis\":\"y\",\"type\":\"scatter\"},{\"hovertemplate\":\"modes of transport=tram/metrp/bus<br>year=%{x}<br>number of movements per person per day=%{y}<extra></extra>\",\"legendgroup\":\"tram/metrp/bus\",\"line\":{\"color\":\"#FFA15A\",\"dash\":\"solid\"},\"marker\":{\"symbol\":\"circle\"},\"mode\":\"lines\",\"name\":\"tram/metrp/bus\",\"orientation\":\"h\",\"showlegend\":true,\"x\":[2018,2019,2020,2021],\"xaxis\":\"x\",\"y\":[\"0.08\",\"0.07\",\"0.04\",\"0.04\"],\"yaxis\":\"y\",\"type\":\"scatter\"},{\"hovertemplate\":\"modes of transport=bicycle<br>year=%{x}<br>number of movements per person per day=%{y}<extra></extra>\",\"legendgroup\":\"bicycle\",\"line\":{\"color\":\"#19d3f3\",\"dash\":\"solid\"},\"marker\":{\"symbol\":\"circle\"},\"mode\":\"lines\",\"name\":\"bicycle\",\"orientation\":\"h\",\"showlegend\":true,\"x\":[2018,2019,2020,2021],\"xaxis\":\"x\",\"y\":[\"0.79\",\"0.76\",\"0.63\",\"0.64\"],\"yaxis\":\"y\",\"type\":\"scatter\"},{\"hovertemplate\":\"modes of transport=walk<br>year=%{x}<br>number of movements per person per day=%{y}<extra></extra>\",\"legendgroup\":\"walk\",\"line\":{\"color\":\"#FF6692\",\"dash\":\"solid\"},\"marker\":{\"symbol\":\"circle\"},\"mode\":\"lines\",\"name\":\"walk\",\"orientation\":\"h\",\"showlegend\":true,\"x\":[2018,2019,2020,2021],\"xaxis\":\"x\",\"y\":[\"0.44\",\"0.43\",\"0.52\",\"0.61\"],\"yaxis\":\"y\",\"type\":\"scatter\"},{\"hovertemplate\":\"modes of transport=other modes<br>year=%{x}<br>number of movements per person per day=%{y}<extra></extra>\",\"legendgroup\":\"other modes\",\"line\":{\"color\":\"#B6E880\",\"dash\":\"solid\"},\"marker\":{\"symbol\":\"circle\"},\"mode\":\"lines\",\"name\":\"other modes\",\"orientation\":\"h\",\"showlegend\":true,\"x\":[2018,2019,2020,2021],\"xaxis\":\"x\",\"y\":[\"0.11\",\"0.11\",\"0.09\",\"0.1\"],\"yaxis\":\"y\",\"type\":\"scatter\"}],                        {\"template\":{\"data\":{\"histogram2dcontour\":[{\"type\":\"histogram2dcontour\",\"colorbar\":{\"outlinewidth\":0,\"ticks\":\"\"},\"colorscale\":[[0.0,\"#0d0887\"],[0.1111111111111111,\"#46039f\"],[0.2222222222222222,\"#7201a8\"],[0.3333333333333333,\"#9c179e\"],[0.4444444444444444,\"#bd3786\"],[0.5555555555555556,\"#d8576b\"],[0.6666666666666666,\"#ed7953\"],[0.7777777777777778,\"#fb9f3a\"],[0.8888888888888888,\"#fdca26\"],[1.0,\"#f0f921\"]]}],\"choropleth\":[{\"type\":\"choropleth\",\"colorbar\":{\"outlinewidth\":0,\"ticks\":\"\"}}],\"histogram2d\":[{\"type\":\"histogram2d\",\"colorbar\":{\"outlinewidth\":0,\"ticks\":\"\"},\"colorscale\":[[0.0,\"#0d0887\"],[0.1111111111111111,\"#46039f\"],[0.2222222222222222,\"#7201a8\"],[0.3333333333333333,\"#9c179e\"],[0.4444444444444444,\"#bd3786\"],[0.5555555555555556,\"#d8576b\"],[0.6666666666666666,\"#ed7953\"],[0.7777777777777778,\"#fb9f3a\"],[0.8888888888888888,\"#fdca26\"],[1.0,\"#f0f921\"]]}],\"heatmap\":[{\"type\":\"heatmap\",\"colorbar\":{\"outlinewidth\":0,\"ticks\":\"\"},\"colorscale\":[[0.0,\"#0d0887\"],[0.1111111111111111,\"#46039f\"],[0.2222222222222222,\"#7201a8\"],[0.3333333333333333,\"#9c179e\"],[0.4444444444444444,\"#bd3786\"],[0.5555555555555556,\"#d8576b\"],[0.6666666666666666,\"#ed7953\"],[0.7777777777777778,\"#fb9f3a\"],[0.8888888888888888,\"#fdca26\"],[1.0,\"#f0f921\"]]}],\"heatmapgl\":[{\"type\":\"heatmapgl\",\"colorbar\":{\"outlinewidth\":0,\"ticks\":\"\"},\"colorscale\":[[0.0,\"#0d0887\"],[0.1111111111111111,\"#46039f\"],[0.2222222222222222,\"#7201a8\"],[0.3333333333333333,\"#9c179e\"],[0.4444444444444444,\"#bd3786\"],[0.5555555555555556,\"#d8576b\"],[0.6666666666666666,\"#ed7953\"],[0.7777777777777778,\"#fb9f3a\"],[0.8888888888888888,\"#fdca26\"],[1.0,\"#f0f921\"]]}],\"contourcarpet\":[{\"type\":\"contourcarpet\",\"colorbar\":{\"outlinewidth\":0,\"ticks\":\"\"}}],\"contour\":[{\"type\":\"contour\",\"colorbar\":{\"outlinewidth\":0,\"ticks\":\"\"},\"colorscale\":[[0.0,\"#0d0887\"],[0.1111111111111111,\"#46039f\"],[0.2222222222222222,\"#7201a8\"],[0.3333333333333333,\"#9c179e\"],[0.4444444444444444,\"#bd3786\"],[0.5555555555555556,\"#d8576b\"],[0.6666666666666666,\"#ed7953\"],[0.7777777777777778,\"#fb9f3a\"],[0.8888888888888888,\"#fdca26\"],[1.0,\"#f0f921\"]]}],\"surface\":[{\"type\":\"surface\",\"colorbar\":{\"outlinewidth\":0,\"ticks\":\"\"},\"colorscale\":[[0.0,\"#0d0887\"],[0.1111111111111111,\"#46039f\"],[0.2222222222222222,\"#7201a8\"],[0.3333333333333333,\"#9c179e\"],[0.4444444444444444,\"#bd3786\"],[0.5555555555555556,\"#d8576b\"],[0.6666666666666666,\"#ed7953\"],[0.7777777777777778,\"#fb9f3a\"],[0.8888888888888888,\"#fdca26\"],[1.0,\"#f0f921\"]]}],\"mesh3d\":[{\"type\":\"mesh3d\",\"colorbar\":{\"outlinewidth\":0,\"ticks\":\"\"}}],\"scatter\":[{\"fillpattern\":{\"fillmode\":\"overlay\",\"size\":10,\"solidity\":0.2},\"type\":\"scatter\"}],\"parcoords\":[{\"type\":\"parcoords\",\"line\":{\"colorbar\":{\"outlinewidth\":0,\"ticks\":\"\"}}}],\"scatterpolargl\":[{\"type\":\"scatterpolargl\",\"marker\":{\"colorbar\":{\"outlinewidth\":0,\"ticks\":\"\"}}}],\"bar\":[{\"error_x\":{\"color\":\"#2a3f5f\"},\"error_y\":{\"color\":\"#2a3f5f\"},\"marker\":{\"line\":{\"color\":\"#E5ECF6\",\"width\":0.5},\"pattern\":{\"fillmode\":\"overlay\",\"size\":10,\"solidity\":0.2}},\"type\":\"bar\"}],\"scattergeo\":[{\"type\":\"scattergeo\",\"marker\":{\"colorbar\":{\"outlinewidth\":0,\"ticks\":\"\"}}}],\"scatterpolar\":[{\"type\":\"scatterpolar\",\"marker\":{\"colorbar\":{\"outlinewidth\":0,\"ticks\":\"\"}}}],\"histogram\":[{\"marker\":{\"pattern\":{\"fillmode\":\"overlay\",\"size\":10,\"solidity\":0.2}},\"type\":\"histogram\"}],\"scattergl\":[{\"type\":\"scattergl\",\"marker\":{\"colorbar\":{\"outlinewidth\":0,\"ticks\":\"\"}}}],\"scatter3d\":[{\"type\":\"scatter3d\",\"line\":{\"colorbar\":{\"outlinewidth\":0,\"ticks\":\"\"}},\"marker\":{\"colorbar\":{\"outlinewidth\":0,\"ticks\":\"\"}}}],\"scattermapbox\":[{\"type\":\"scattermapbox\",\"marker\":{\"colorbar\":{\"outlinewidth\":0,\"ticks\":\"\"}}}],\"scatterternary\":[{\"type\":\"scatterternary\",\"marker\":{\"colorbar\":{\"outlinewidth\":0,\"ticks\":\"\"}}}],\"scattercarpet\":[{\"type\":\"scattercarpet\",\"marker\":{\"colorbar\":{\"outlinewidth\":0,\"ticks\":\"\"}}}],\"carpet\":[{\"aaxis\":{\"endlinecolor\":\"#2a3f5f\",\"gridcolor\":\"white\",\"linecolor\":\"white\",\"minorgridcolor\":\"white\",\"startlinecolor\":\"#2a3f5f\"},\"baxis\":{\"endlinecolor\":\"#2a3f5f\",\"gridcolor\":\"white\",\"linecolor\":\"white\",\"minorgridcolor\":\"white\",\"startlinecolor\":\"#2a3f5f\"},\"type\":\"carpet\"}],\"table\":[{\"cells\":{\"fill\":{\"color\":\"#EBF0F8\"},\"line\":{\"color\":\"white\"}},\"header\":{\"fill\":{\"color\":\"#C8D4E3\"},\"line\":{\"color\":\"white\"}},\"type\":\"table\"}],\"barpolar\":[{\"marker\":{\"line\":{\"color\":\"#E5ECF6\",\"width\":0.5},\"pattern\":{\"fillmode\":\"overlay\",\"size\":10,\"solidity\":0.2}},\"type\":\"barpolar\"}],\"pie\":[{\"automargin\":true,\"type\":\"pie\"}]},\"layout\":{\"autotypenumbers\":\"strict\",\"colorway\":[\"#636efa\",\"#EF553B\",\"#00cc96\",\"#ab63fa\",\"#FFA15A\",\"#19d3f3\",\"#FF6692\",\"#B6E880\",\"#FF97FF\",\"#FECB52\"],\"font\":{\"color\":\"#2a3f5f\"},\"hovermode\":\"closest\",\"hoverlabel\":{\"align\":\"left\"},\"paper_bgcolor\":\"white\",\"plot_bgcolor\":\"#E5ECF6\",\"polar\":{\"bgcolor\":\"#E5ECF6\",\"angularaxis\":{\"gridcolor\":\"white\",\"linecolor\":\"white\",\"ticks\":\"\"},\"radialaxis\":{\"gridcolor\":\"white\",\"linecolor\":\"white\",\"ticks\":\"\"}},\"ternary\":{\"bgcolor\":\"#E5ECF6\",\"aaxis\":{\"gridcolor\":\"white\",\"linecolor\":\"white\",\"ticks\":\"\"},\"baxis\":{\"gridcolor\":\"white\",\"linecolor\":\"white\",\"ticks\":\"\"},\"caxis\":{\"gridcolor\":\"white\",\"linecolor\":\"white\",\"ticks\":\"\"}},\"coloraxis\":{\"colorbar\":{\"outlinewidth\":0,\"ticks\":\"\"}},\"colorscale\":{\"sequential\":[[0.0,\"#0d0887\"],[0.1111111111111111,\"#46039f\"],[0.2222222222222222,\"#7201a8\"],[0.3333333333333333,\"#9c179e\"],[0.4444444444444444,\"#bd3786\"],[0.5555555555555556,\"#d8576b\"],[0.6666666666666666,\"#ed7953\"],[0.7777777777777778,\"#fb9f3a\"],[0.8888888888888888,\"#fdca26\"],[1.0,\"#f0f921\"]],\"sequentialminus\":[[0.0,\"#0d0887\"],[0.1111111111111111,\"#46039f\"],[0.2222222222222222,\"#7201a8\"],[0.3333333333333333,\"#9c179e\"],[0.4444444444444444,\"#bd3786\"],[0.5555555555555556,\"#d8576b\"],[0.6666666666666666,\"#ed7953\"],[0.7777777777777778,\"#fb9f3a\"],[0.8888888888888888,\"#fdca26\"],[1.0,\"#f0f921\"]],\"diverging\":[[0,\"#8e0152\"],[0.1,\"#c51b7d\"],[0.2,\"#de77ae\"],[0.3,\"#f1b6da\"],[0.4,\"#fde0ef\"],[0.5,\"#f7f7f7\"],[0.6,\"#e6f5d0\"],[0.7,\"#b8e186\"],[0.8,\"#7fbc41\"],[0.9,\"#4d9221\"],[1,\"#276419\"]]},\"xaxis\":{\"gridcolor\":\"white\",\"linecolor\":\"white\",\"ticks\":\"\",\"title\":{\"standoff\":15},\"zerolinecolor\":\"white\",\"automargin\":true,\"zerolinewidth\":2},\"yaxis\":{\"gridcolor\":\"white\",\"linecolor\":\"white\",\"ticks\":\"\",\"title\":{\"standoff\":15},\"zerolinecolor\":\"white\",\"automargin\":true,\"zerolinewidth\":2},\"scene\":{\"xaxis\":{\"backgroundcolor\":\"#E5ECF6\",\"gridcolor\":\"white\",\"linecolor\":\"white\",\"showbackground\":true,\"ticks\":\"\",\"zerolinecolor\":\"white\",\"gridwidth\":2},\"yaxis\":{\"backgroundcolor\":\"#E5ECF6\",\"gridcolor\":\"white\",\"linecolor\":\"white\",\"showbackground\":true,\"ticks\":\"\",\"zerolinecolor\":\"white\",\"gridwidth\":2},\"zaxis\":{\"backgroundcolor\":\"#E5ECF6\",\"gridcolor\":\"white\",\"linecolor\":\"white\",\"showbackground\":true,\"ticks\":\"\",\"zerolinecolor\":\"white\",\"gridwidth\":2}},\"shapedefaults\":{\"line\":{\"color\":\"#2a3f5f\"}},\"annotationdefaults\":{\"arrowcolor\":\"#2a3f5f\",\"arrowhead\":0,\"arrowwidth\":1},\"geo\":{\"bgcolor\":\"white\",\"landcolor\":\"#E5ECF6\",\"subunitcolor\":\"white\",\"showland\":true,\"showlakes\":true,\"lakecolor\":\"white\"},\"title\":{\"x\":0.05},\"mapbox\":{\"style\":\"light\"}}},\"xaxis\":{\"anchor\":\"y\",\"domain\":[0.0,1.0],\"title\":{\"text\":\"year\"}},\"yaxis\":{\"anchor\":\"x\",\"domain\":[0.0,1.0],\"title\":{\"text\":\"number of movements per person per day\"}},\"legend\":{\"title\":{\"text\":\"modes of transport\"},\"tracegroupgap\":0},\"margin\":{\"t\":60}},                        {\"responsive\": true}                    ).then(function(){\n",
       "                            \n",
       "var gd = document.getElementById('b5e9ce33-786e-4711-b8fd-f3f9fc0cdf91');\n",
       "var x = new MutationObserver(function (mutations, observer) {{\n",
       "        var display = window.getComputedStyle(gd).display;\n",
       "        if (!display || display === 'none') {{\n",
       "            console.log([gd, 'removed!']);\n",
       "            Plotly.purge(gd);\n",
       "            observer.disconnect();\n",
       "        }}\n",
       "}});\n",
       "\n",
       "// Listen for the removal of the full notebook cells\n",
       "var notebookContainer = gd.closest('#notebook-container');\n",
       "if (notebookContainer) {{\n",
       "    x.observe(notebookContainer, {childList: true});\n",
       "}}\n",
       "\n",
       "// Listen for the clearing of the current output cell\n",
       "var outputEl = gd.closest('.output');\n",
       "if (outputEl) {{\n",
       "    x.observe(outputEl, {childList: true});\n",
       "}}\n",
       "\n",
       "                        })                };                });            </script>        </div>"
      ]
     },
     "metadata": {},
     "output_type": "display_data"
    }
   ],
   "source": [
    "px.line(df2,x='year',y='number of movements per person per day',color='modes of transport')"
   ]
  },
  {
   "cell_type": "markdown",
   "id": "681479f1",
   "metadata": {},
   "source": [
    "# 3. This part I use a new dataset to create the geographical figure."
   ]
  },
  {
   "cell_type": "code",
   "execution_count": 1,
   "id": "9b9ad21d",
   "metadata": {},
   "outputs": [],
   "source": [
    "import osmnx as ox, geopandas as gpd\n",
    "import pandas as pd\n",
    "%matplotlib inline\n",
    "ox.settings.log_console=True\n",
    "ox.settings.use_cache=True\n",
    "%matplotlib inline\n",
    "\n",
    "import seaborn as sns\n",
    "import pandas as pd\n",
    "# from libpysal.weights import Queen, Rook, KNN\n",
    "from pysal.lib import weights\n",
    "from libpysal.io import open as psopen\n",
    "import geopandas as gpd\n",
    "import numpy as np\n",
    "import matplotlib.pyplot as plt"
   ]
  },
  {
   "cell_type": "code",
   "execution_count": 15,
   "id": "2f4cc8a1",
   "metadata": {},
   "outputs": [
    {
     "data": {
      "text/html": [
       "<div>\n",
       "<style scoped>\n",
       "    .dataframe tbody tr th:only-of-type {\n",
       "        vertical-align: middle;\n",
       "    }\n",
       "\n",
       "    .dataframe tbody tr th {\n",
       "        vertical-align: top;\n",
       "    }\n",
       "\n",
       "    .dataframe thead th {\n",
       "        text-align: right;\n",
       "    }\n",
       "</style>\n",
       "<table border=\"1\" class=\"dataframe\">\n",
       "  <thead>\n",
       "    <tr style=\"text-align: right;\">\n",
       "      <th></th>\n",
       "      <th>GID_1</th>\n",
       "      <th>GID_0</th>\n",
       "      <th>COUNTRY</th>\n",
       "      <th>NAME_1</th>\n",
       "      <th>VARNAME_1</th>\n",
       "      <th>NL_NAME_1</th>\n",
       "      <th>TYPE_1</th>\n",
       "      <th>ENGTYPE_1</th>\n",
       "      <th>CC_1</th>\n",
       "      <th>HASC_1</th>\n",
       "      <th>ISO_1</th>\n",
       "      <th>geometry</th>\n",
       "    </tr>\n",
       "  </thead>\n",
       "  <tbody>\n",
       "    <tr>\n",
       "      <th>0</th>\n",
       "      <td>NLD.1_1</td>\n",
       "      <td>NLD</td>\n",
       "      <td>Netherlands</td>\n",
       "      <td>Drenthe</td>\n",
       "      <td>NA</td>\n",
       "      <td>NA</td>\n",
       "      <td>Provincie</td>\n",
       "      <td>Province</td>\n",
       "      <td>NA</td>\n",
       "      <td>NL.DR</td>\n",
       "      <td>NL-DR</td>\n",
       "      <td>POLYGON ((6.52366 52.64551, 6.52366 52.64535, ...</td>\n",
       "    </tr>\n",
       "    <tr>\n",
       "      <th>1</th>\n",
       "      <td>NLD.2_1</td>\n",
       "      <td>NLD</td>\n",
       "      <td>Netherlands</td>\n",
       "      <td>Flevoland</td>\n",
       "      <td>NA</td>\n",
       "      <td>NA</td>\n",
       "      <td>Provincie</td>\n",
       "      <td>Province</td>\n",
       "      <td>NA</td>\n",
       "      <td>NL.FL</td>\n",
       "      <td>NL-FL</td>\n",
       "      <td>MULTIPOLYGON (((5.30388 52.31247, 5.28622 52.3...</td>\n",
       "    </tr>\n",
       "    <tr>\n",
       "      <th>2</th>\n",
       "      <td>NLD.3_1</td>\n",
       "      <td>NLD</td>\n",
       "      <td>Netherlands</td>\n",
       "      <td>Fryslân</td>\n",
       "      <td>Friesland</td>\n",
       "      <td>NA</td>\n",
       "      <td>Provincie</td>\n",
       "      <td>Province</td>\n",
       "      <td>NA</td>\n",
       "      <td>NL.FR</td>\n",
       "      <td>NL-FR</td>\n",
       "      <td>MULTIPOLYGON (((6.23919 52.91320, 6.23615 52.9...</td>\n",
       "    </tr>\n",
       "    <tr>\n",
       "      <th>3</th>\n",
       "      <td>NLD.4_1</td>\n",
       "      <td>NLD</td>\n",
       "      <td>Netherlands</td>\n",
       "      <td>Gelderland</td>\n",
       "      <td>Geldern|Gheldria|Guelders|Gueldr</td>\n",
       "      <td>NA</td>\n",
       "      <td>Provincie</td>\n",
       "      <td>Province</td>\n",
       "      <td>NA</td>\n",
       "      <td>NL.GE</td>\n",
       "      <td>NL-GE</td>\n",
       "      <td>POLYGON ((5.13576 51.73854, 5.13544 51.73854, ...</td>\n",
       "    </tr>\n",
       "    <tr>\n",
       "      <th>4</th>\n",
       "      <td>NLD.5_1</td>\n",
       "      <td>NLD</td>\n",
       "      <td>Netherlands</td>\n",
       "      <td>Groningen</td>\n",
       "      <td>Groninga|Groningue</td>\n",
       "      <td>NA</td>\n",
       "      <td>Provincie</td>\n",
       "      <td>Province</td>\n",
       "      <td>NA</td>\n",
       "      <td>NL.GR</td>\n",
       "      <td>NL-GR</td>\n",
       "      <td>MULTIPOLYGON (((6.91710 53.01160, 6.91460 53.0...</td>\n",
       "    </tr>\n",
       "    <tr>\n",
       "      <th>5</th>\n",
       "      <td>NLD.6_1</td>\n",
       "      <td>NLD</td>\n",
       "      <td>Netherlands</td>\n",
       "      <td>IJsselmeer</td>\n",
       "      <td>NA</td>\n",
       "      <td>NA</td>\n",
       "      <td>Water body</td>\n",
       "      <td>Water body</td>\n",
       "      <td>NA</td>\n",
       "      <td>NA</td>\n",
       "      <td>NA</td>\n",
       "      <td>POLYGON ((5.26216 52.43537, 5.23710 52.42545, ...</td>\n",
       "    </tr>\n",
       "    <tr>\n",
       "      <th>6</th>\n",
       "      <td>NLD.7_1</td>\n",
       "      <td>NLD</td>\n",
       "      <td>Netherlands</td>\n",
       "      <td>Limburg</td>\n",
       "      <td>Limbourg|Limburgo</td>\n",
       "      <td>NA</td>\n",
       "      <td>Provincie</td>\n",
       "      <td>Province</td>\n",
       "      <td>NA</td>\n",
       "      <td>NL.LI</td>\n",
       "      <td>NL-LI</td>\n",
       "      <td>POLYGON ((6.01553 50.74829, 6.01326 50.75231, ...</td>\n",
       "    </tr>\n",
       "    <tr>\n",
       "      <th>7</th>\n",
       "      <td>NLD.8_1</td>\n",
       "      <td>NLD</td>\n",
       "      <td>Netherlands</td>\n",
       "      <td>Noord-Brabant</td>\n",
       "      <td>Brabante del Norte|Brabante do N</td>\n",
       "      <td>NA</td>\n",
       "      <td>Provincie</td>\n",
       "      <td>Province</td>\n",
       "      <td>NA</td>\n",
       "      <td>NL.NB</td>\n",
       "      <td>NL-NB</td>\n",
       "      <td>POLYGON ((5.50305 51.29579, 5.49979 51.29670, ...</td>\n",
       "    </tr>\n",
       "    <tr>\n",
       "      <th>8</th>\n",
       "      <td>NLD.9_1</td>\n",
       "      <td>NLD</td>\n",
       "      <td>Netherlands</td>\n",
       "      <td>Noord-Holland</td>\n",
       "      <td>Holanda do Norte|Hollande-septen</td>\n",
       "      <td>NA</td>\n",
       "      <td>Provincie</td>\n",
       "      <td>Province</td>\n",
       "      <td>NA</td>\n",
       "      <td>NL.NH</td>\n",
       "      <td>NL-NH</td>\n",
       "      <td>MULTIPOLYGON (((4.83937 52.23358, 4.83403 52.2...</td>\n",
       "    </tr>\n",
       "    <tr>\n",
       "      <th>9</th>\n",
       "      <td>NLD.10_1</td>\n",
       "      <td>NLD</td>\n",
       "      <td>Netherlands</td>\n",
       "      <td>Overijssel</td>\n",
       "      <td>NA</td>\n",
       "      <td>NA</td>\n",
       "      <td>Provincie</td>\n",
       "      <td>Province</td>\n",
       "      <td>NA</td>\n",
       "      <td>NL.OV</td>\n",
       "      <td>NL-OV</td>\n",
       "      <td>POLYGON ((6.87309 52.13272, 6.87284 52.13215, ...</td>\n",
       "    </tr>\n",
       "    <tr>\n",
       "      <th>10</th>\n",
       "      <td>NLD.11_1</td>\n",
       "      <td>NLD</td>\n",
       "      <td>Netherlands</td>\n",
       "      <td>Utrecht</td>\n",
       "      <td>NA</td>\n",
       "      <td>NA</td>\n",
       "      <td>Provincie</td>\n",
       "      <td>Province</td>\n",
       "      <td>NA</td>\n",
       "      <td>NL.UT</td>\n",
       "      <td>NL-UT</td>\n",
       "      <td>POLYGON ((5.15190 51.93248, 5.15337 51.92979, ...</td>\n",
       "    </tr>\n",
       "    <tr>\n",
       "      <th>11</th>\n",
       "      <td>NLD.12_1</td>\n",
       "      <td>NLD</td>\n",
       "      <td>Netherlands</td>\n",
       "      <td>Zeeland</td>\n",
       "      <td>Zelanda|Zélande|Zelândia</td>\n",
       "      <td>NA</td>\n",
       "      <td>Provincie</td>\n",
       "      <td>Province</td>\n",
       "      <td>NA</td>\n",
       "      <td>NL.ZE</td>\n",
       "      <td>NL-ZE</td>\n",
       "      <td>MULTIPOLYGON (((3.67419 51.29042, 3.66687 51.2...</td>\n",
       "    </tr>\n",
       "    <tr>\n",
       "      <th>12</th>\n",
       "      <td>NLD.13_1</td>\n",
       "      <td>NLD</td>\n",
       "      <td>Netherlands</td>\n",
       "      <td>Zeeuwse meren</td>\n",
       "      <td>NA</td>\n",
       "      <td>NA</td>\n",
       "      <td>Water body</td>\n",
       "      <td>Water body</td>\n",
       "      <td>NA</td>\n",
       "      <td>NA</td>\n",
       "      <td>NA</td>\n",
       "      <td>MULTIPOLYGON (((3.86646 51.53969, 3.85926 51.5...</td>\n",
       "    </tr>\n",
       "    <tr>\n",
       "      <th>13</th>\n",
       "      <td>NLD.14_1</td>\n",
       "      <td>NLD</td>\n",
       "      <td>Netherlands</td>\n",
       "      <td>NA</td>\n",
       "      <td>NA</td>\n",
       "      <td>NA</td>\n",
       "      <td>NA</td>\n",
       "      <td>NA</td>\n",
       "      <td>NA</td>\n",
       "      <td>NA</td>\n",
       "      <td>NA</td>\n",
       "      <td>POLYGON ((4.36117 51.66149, 4.33181 51.65561, ...</td>\n",
       "    </tr>\n",
       "  </tbody>\n",
       "</table>\n",
       "</div>"
      ],
      "text/plain": [
       "       GID_1 GID_0      COUNTRY         NAME_1  \\\n",
       "0    NLD.1_1   NLD  Netherlands        Drenthe   \n",
       "1    NLD.2_1   NLD  Netherlands      Flevoland   \n",
       "2    NLD.3_1   NLD  Netherlands        Fryslân   \n",
       "3    NLD.4_1   NLD  Netherlands     Gelderland   \n",
       "4    NLD.5_1   NLD  Netherlands      Groningen   \n",
       "5    NLD.6_1   NLD  Netherlands     IJsselmeer   \n",
       "6    NLD.7_1   NLD  Netherlands        Limburg   \n",
       "7    NLD.8_1   NLD  Netherlands  Noord-Brabant   \n",
       "8    NLD.9_1   NLD  Netherlands  Noord-Holland   \n",
       "9   NLD.10_1   NLD  Netherlands     Overijssel   \n",
       "10  NLD.11_1   NLD  Netherlands        Utrecht   \n",
       "11  NLD.12_1   NLD  Netherlands        Zeeland   \n",
       "12  NLD.13_1   NLD  Netherlands  Zeeuwse meren   \n",
       "13  NLD.14_1   NLD  Netherlands             NA   \n",
       "\n",
       "                           VARNAME_1 NL_NAME_1      TYPE_1   ENGTYPE_1 CC_1  \\\n",
       "0                                 NA        NA   Provincie    Province   NA   \n",
       "1                                 NA        NA   Provincie    Province   NA   \n",
       "2                          Friesland        NA   Provincie    Province   NA   \n",
       "3   Geldern|Gheldria|Guelders|Gueldr        NA   Provincie    Province   NA   \n",
       "4                 Groninga|Groningue        NA   Provincie    Province   NA   \n",
       "5                                 NA        NA  Water body  Water body   NA   \n",
       "6                  Limbourg|Limburgo        NA   Provincie    Province   NA   \n",
       "7   Brabante del Norte|Brabante do N        NA   Provincie    Province   NA   \n",
       "8   Holanda do Norte|Hollande-septen        NA   Provincie    Province   NA   \n",
       "9                                 NA        NA   Provincie    Province   NA   \n",
       "10                                NA        NA   Provincie    Province   NA   \n",
       "11          Zelanda|Zélande|Zelândia        NA   Provincie    Province   NA   \n",
       "12                                NA        NA  Water body  Water body   NA   \n",
       "13                                NA        NA          NA          NA   NA   \n",
       "\n",
       "   HASC_1  ISO_1                                           geometry  \n",
       "0   NL.DR  NL-DR  POLYGON ((6.52366 52.64551, 6.52366 52.64535, ...  \n",
       "1   NL.FL  NL-FL  MULTIPOLYGON (((5.30388 52.31247, 5.28622 52.3...  \n",
       "2   NL.FR  NL-FR  MULTIPOLYGON (((6.23919 52.91320, 6.23615 52.9...  \n",
       "3   NL.GE  NL-GE  POLYGON ((5.13576 51.73854, 5.13544 51.73854, ...  \n",
       "4   NL.GR  NL-GR  MULTIPOLYGON (((6.91710 53.01160, 6.91460 53.0...  \n",
       "5      NA     NA  POLYGON ((5.26216 52.43537, 5.23710 52.42545, ...  \n",
       "6   NL.LI  NL-LI  POLYGON ((6.01553 50.74829, 6.01326 50.75231, ...  \n",
       "7   NL.NB  NL-NB  POLYGON ((5.50305 51.29579, 5.49979 51.29670, ...  \n",
       "8   NL.NH  NL-NH  MULTIPOLYGON (((4.83937 52.23358, 4.83403 52.2...  \n",
       "9   NL.OV  NL-OV  POLYGON ((6.87309 52.13272, 6.87284 52.13215, ...  \n",
       "10  NL.UT  NL-UT  POLYGON ((5.15190 51.93248, 5.15337 51.92979, ...  \n",
       "11  NL.ZE  NL-ZE  MULTIPOLYGON (((3.67419 51.29042, 3.66687 51.2...  \n",
       "12     NA     NA  MULTIPOLYGON (((3.86646 51.53969, 3.85926 51.5...  \n",
       "13     NA     NA  POLYGON ((4.36117 51.66149, 4.33181 51.65561, ...  "
      ]
     },
     "execution_count": 15,
     "metadata": {},
     "output_type": "execute_result"
    }
   ],
   "source": [
    "lsoas = gpd.read_file('gadm41_NLD_1.shp')\n",
    "lsoas"
   ]
  },
  {
   "cell_type": "code",
   "execution_count": 33,
   "id": "b7346ebb",
   "metadata": {},
   "outputs": [],
   "source": [
    "df1=lsoas.drop(index=[5,12])"
   ]
  },
  {
   "cell_type": "code",
   "execution_count": 46,
   "id": "d65635a0",
   "metadata": {},
   "outputs": [
    {
     "data": {
      "text/plain": [
       "<AxesSubplot: >"
      ]
     },
     "execution_count": 46,
     "metadata": {},
     "output_type": "execute_result"
    },
    {
     "data": {
      "image/png": "[encoded data removed]",
      "text/plain": [
       "<Figure size 800x800 with 2 Axes>"
      ]
     },
     "metadata": {},
     "output_type": "display_data"
    }
   ],
   "source": [
    "fig,ax=plt.subplots(1,2,figsize=(8,8))\n",
    "lsoas.plot(ax=ax[0])\n",
    "df1.plot(ax=ax[1],color='r',edgecolor='w')#without waterbody areas\n",
    "a=lsoas.iloc[13:14,:]\n",
    "a.plot(color='yellow',ax=ax[0])\n",
    "b=lsoas.loc[[5,12]]\n",
    "b.plot(ax=ax[0],color='green')#this is the water areas"
   ]
  },
  {
   "cell_type": "code",
   "execution_count": 52,
   "id": "be3326d4",
   "metadata": {},
   "outputs": [],
   "source": [
    "df1.loc[13,'NAME_1']='South Holland'\n",
    "df1.loc[2,'NAME_1']='Friesland'\n",
    "df1=df1.reset_index(drop=True)"
   ]
  },
  {
   "cell_type": "code",
   "execution_count": 53,
   "id": "dce9abee",
   "metadata": {},
   "outputs": [
    {
     "data": {
      "text/html": [
       "<div>\n",
       "<style scoped>\n",
       "    .dataframe tbody tr th:only-of-type {\n",
       "        vertical-align: middle;\n",
       "    }\n",
       "\n",
       "    .dataframe tbody tr th {\n",
       "        vertical-align: top;\n",
       "    }\n",
       "\n",
       "    .dataframe thead th {\n",
       "        text-align: right;\n",
       "    }\n",
       "</style>\n",
       "<table border=\"1\" class=\"dataframe\">\n",
       "  <thead>\n",
       "    <tr style=\"text-align: right;\">\n",
       "      <th></th>\n",
       "      <th>GID_1</th>\n",
       "      <th>GID_0</th>\n",
       "      <th>COUNTRY</th>\n",
       "      <th>NAME_1</th>\n",
       "      <th>VARNAME_1</th>\n",
       "      <th>NL_NAME_1</th>\n",
       "      <th>TYPE_1</th>\n",
       "      <th>ENGTYPE_1</th>\n",
       "      <th>CC_1</th>\n",
       "      <th>HASC_1</th>\n",
       "      <th>ISO_1</th>\n",
       "      <th>geometry</th>\n",
       "    </tr>\n",
       "  </thead>\n",
       "  <tbody>\n",
       "    <tr>\n",
       "      <th>0</th>\n",
       "      <td>NLD.1_1</td>\n",
       "      <td>NLD</td>\n",
       "      <td>Netherlands</td>\n",
       "      <td>Drenthe</td>\n",
       "      <td>NA</td>\n",
       "      <td>NA</td>\n",
       "      <td>Provincie</td>\n",
       "      <td>Province</td>\n",
       "      <td>NA</td>\n",
       "      <td>NL.DR</td>\n",
       "      <td>NL-DR</td>\n",
       "      <td>POLYGON ((6.52366 52.64551, 6.52366 52.64535, ...</td>\n",
       "    </tr>\n",
       "    <tr>\n",
       "      <th>1</th>\n",
       "      <td>NLD.2_1</td>\n",
       "      <td>NLD</td>\n",
       "      <td>Netherlands</td>\n",
       "      <td>Flevoland</td>\n",
       "      <td>NA</td>\n",
       "      <td>NA</td>\n",
       "      <td>Provincie</td>\n",
       "      <td>Province</td>\n",
       "      <td>NA</td>\n",
       "      <td>NL.FL</td>\n",
       "      <td>NL-FL</td>\n",
       "      <td>MULTIPOLYGON (((5.30388 52.31247, 5.28622 52.3...</td>\n",
       "    </tr>\n",
       "    <tr>\n",
       "      <th>2</th>\n",
       "      <td>NLD.3_1</td>\n",
       "      <td>NLD</td>\n",
       "      <td>Netherlands</td>\n",
       "      <td>Friesland</td>\n",
       "      <td>Friesland</td>\n",
       "      <td>NA</td>\n",
       "      <td>Provincie</td>\n",
       "      <td>Province</td>\n",
       "      <td>NA</td>\n",
       "      <td>NL.FR</td>\n",
       "      <td>NL-FR</td>\n",
       "      <td>MULTIPOLYGON (((6.23919 52.91320, 6.23615 52.9...</td>\n",
       "    </tr>\n",
       "    <tr>\n",
       "      <th>3</th>\n",
       "      <td>NLD.4_1</td>\n",
       "      <td>NLD</td>\n",
       "      <td>Netherlands</td>\n",
       "      <td>Gelderland</td>\n",
       "      <td>Geldern|Gheldria|Guelders|Gueldr</td>\n",
       "      <td>NA</td>\n",
       "      <td>Provincie</td>\n",
       "      <td>Province</td>\n",
       "      <td>NA</td>\n",
       "      <td>NL.GE</td>\n",
       "      <td>NL-GE</td>\n",
       "      <td>POLYGON ((5.13576 51.73854, 5.13544 51.73854, ...</td>\n",
       "    </tr>\n",
       "    <tr>\n",
       "      <th>4</th>\n",
       "      <td>NLD.5_1</td>\n",
       "      <td>NLD</td>\n",
       "      <td>Netherlands</td>\n",
       "      <td>Groningen</td>\n",
       "      <td>Groninga|Groningue</td>\n",
       "      <td>NA</td>\n",
       "      <td>Provincie</td>\n",
       "      <td>Province</td>\n",
       "      <td>NA</td>\n",
       "      <td>NL.GR</td>\n",
       "      <td>NL-GR</td>\n",
       "      <td>MULTIPOLYGON (((6.91710 53.01160, 6.91460 53.0...</td>\n",
       "    </tr>\n",
       "    <tr>\n",
       "      <th>5</th>\n",
       "      <td>NLD.7_1</td>\n",
       "      <td>NLD</td>\n",
       "      <td>Netherlands</td>\n",
       "      <td>Limburg</td>\n",
       "      <td>Limbourg|Limburgo</td>\n",
       "      <td>NA</td>\n",
       "      <td>Provincie</td>\n",
       "      <td>Province</td>\n",
       "      <td>NA</td>\n",
       "      <td>NL.LI</td>\n",
       "      <td>NL-LI</td>\n",
       "      <td>POLYGON ((6.01553 50.74829, 6.01326 50.75231, ...</td>\n",
       "    </tr>\n",
       "    <tr>\n",
       "      <th>6</th>\n",
       "      <td>NLD.8_1</td>\n",
       "      <td>NLD</td>\n",
       "      <td>Netherlands</td>\n",
       "      <td>Noord-Brabant</td>\n",
       "      <td>Brabante del Norte|Brabante do N</td>\n",
       "      <td>NA</td>\n",
       "      <td>Provincie</td>\n",
       "      <td>Province</td>\n",
       "      <td>NA</td>\n",
       "      <td>NL.NB</td>\n",
       "      <td>NL-NB</td>\n",
       "      <td>POLYGON ((5.50305 51.29579, 5.49979 51.29670, ...</td>\n",
       "    </tr>\n",
       "    <tr>\n",
       "      <th>7</th>\n",
       "      <td>NLD.9_1</td>\n",
       "      <td>NLD</td>\n",
       "      <td>Netherlands</td>\n",
       "      <td>Noord-Holland</td>\n",
       "      <td>Holanda do Norte|Hollande-septen</td>\n",
       "      <td>NA</td>\n",
       "      <td>Provincie</td>\n",
       "      <td>Province</td>\n",
       "      <td>NA</td>\n",
       "      <td>NL.NH</td>\n",
       "      <td>NL-NH</td>\n",
       "      <td>MULTIPOLYGON (((4.83937 52.23358, 4.83403 52.2...</td>\n",
       "    </tr>\n",
       "    <tr>\n",
       "      <th>8</th>\n",
       "      <td>NLD.10_1</td>\n",
       "      <td>NLD</td>\n",
       "      <td>Netherlands</td>\n",
       "      <td>Overijssel</td>\n",
       "      <td>NA</td>\n",
       "      <td>NA</td>\n",
       "      <td>Provincie</td>\n",
       "      <td>Province</td>\n",
       "      <td>NA</td>\n",
       "      <td>NL.OV</td>\n",
       "      <td>NL-OV</td>\n",
       "      <td>POLYGON ((6.87309 52.13272, 6.87284 52.13215, ...</td>\n",
       "    </tr>\n",
       "    <tr>\n",
       "      <th>9</th>\n",
       "      <td>NLD.11_1</td>\n",
       "      <td>NLD</td>\n",
       "      <td>Netherlands</td>\n",
       "      <td>Utrecht</td>\n",
       "      <td>NA</td>\n",
       "      <td>NA</td>\n",
       "      <td>Provincie</td>\n",
       "      <td>Province</td>\n",
       "      <td>NA</td>\n",
       "      <td>NL.UT</td>\n",
       "      <td>NL-UT</td>\n",
       "      <td>POLYGON ((5.15190 51.93248, 5.15337 51.92979, ...</td>\n",
       "    </tr>\n",
       "    <tr>\n",
       "      <th>10</th>\n",
       "      <td>NLD.12_1</td>\n",
       "      <td>NLD</td>\n",
       "      <td>Netherlands</td>\n",
       "      <td>Zeeland</td>\n",
       "      <td>Zelanda|Zélande|Zelândia</td>\n",
       "      <td>NA</td>\n",
       "      <td>Provincie</td>\n",
       "      <td>Province</td>\n",
       "      <td>NA</td>\n",
       "      <td>NL.ZE</td>\n",
       "      <td>NL-ZE</td>\n",
       "      <td>MULTIPOLYGON (((3.67419 51.29042, 3.66687 51.2...</td>\n",
       "    </tr>\n",
       "    <tr>\n",
       "      <th>11</th>\n",
       "      <td>NLD.14_1</td>\n",
       "      <td>NLD</td>\n",
       "      <td>Netherlands</td>\n",
       "      <td>South Holland</td>\n",
       "      <td>NA</td>\n",
       "      <td>NA</td>\n",
       "      <td>NA</td>\n",
       "      <td>NA</td>\n",
       "      <td>NA</td>\n",
       "      <td>NA</td>\n",
       "      <td>NA</td>\n",
       "      <td>POLYGON ((4.36117 51.66149, 4.33181 51.65561, ...</td>\n",
       "    </tr>\n",
       "  </tbody>\n",
       "</table>\n",
       "</div>"
      ],
      "text/plain": [
       "       GID_1 GID_0      COUNTRY         NAME_1  \\\n",
       "0    NLD.1_1   NLD  Netherlands        Drenthe   \n",
       "1    NLD.2_1   NLD  Netherlands      Flevoland   \n",
       "2    NLD.3_1   NLD  Netherlands      Friesland   \n",
       "3    NLD.4_1   NLD  Netherlands     Gelderland   \n",
       "4    NLD.5_1   NLD  Netherlands      Groningen   \n",
       "5    NLD.7_1   NLD  Netherlands        Limburg   \n",
       "6    NLD.8_1   NLD  Netherlands  Noord-Brabant   \n",
       "7    NLD.9_1   NLD  Netherlands  Noord-Holland   \n",
       "8   NLD.10_1   NLD  Netherlands     Overijssel   \n",
       "9   NLD.11_1   NLD  Netherlands        Utrecht   \n",
       "10  NLD.12_1   NLD  Netherlands        Zeeland   \n",
       "11  NLD.14_1   NLD  Netherlands  South Holland   \n",
       "\n",
       "                           VARNAME_1 NL_NAME_1     TYPE_1 ENGTYPE_1 CC_1  \\\n",
       "0                                 NA        NA  Provincie  Province   NA   \n",
       "1                                 NA        NA  Provincie  Province   NA   \n",
       "2                          Friesland        NA  Provincie  Province   NA   \n",
       "3   Geldern|Gheldria|Guelders|Gueldr        NA  Provincie  Province   NA   \n",
       "4                 Groninga|Groningue        NA  Provincie  Province   NA   \n",
       "5                  Limbourg|Limburgo        NA  Provincie  Province   NA   \n",
       "6   Brabante del Norte|Brabante do N        NA  Provincie  Province   NA   \n",
       "7   Holanda do Norte|Hollande-septen        NA  Provincie  Province   NA   \n",
       "8                                 NA        NA  Provincie  Province   NA   \n",
       "9                                 NA        NA  Provincie  Province   NA   \n",
       "10          Zelanda|Zélande|Zelândia        NA  Provincie  Province   NA   \n",
       "11                                NA        NA         NA        NA   NA   \n",
       "\n",
       "   HASC_1  ISO_1                                           geometry  \n",
       "0   NL.DR  NL-DR  POLYGON ((6.52366 52.64551, 6.52366 52.64535, ...  \n",
       "1   NL.FL  NL-FL  MULTIPOLYGON (((5.30388 52.31247, 5.28622 52.3...  \n",
       "2   NL.FR  NL-FR  MULTIPOLYGON (((6.23919 52.91320, 6.23615 52.9...  \n",
       "3   NL.GE  NL-GE  POLYGON ((5.13576 51.73854, 5.13544 51.73854, ...  \n",
       "4   NL.GR  NL-GR  MULTIPOLYGON (((6.91710 53.01160, 6.91460 53.0...  \n",
       "5   NL.LI  NL-LI  POLYGON ((6.01553 50.74829, 6.01326 50.75231, ...  \n",
       "6   NL.NB  NL-NB  POLYGON ((5.50305 51.29579, 5.49979 51.29670, ...  \n",
       "7   NL.NH  NL-NH  MULTIPOLYGON (((4.83937 52.23358, 4.83403 52.2...  \n",
       "8   NL.OV  NL-OV  POLYGON ((6.87309 52.13272, 6.87284 52.13215, ...  \n",
       "9   NL.UT  NL-UT  POLYGON ((5.15190 51.93248, 5.15337 51.92979, ...  \n",
       "10  NL.ZE  NL-ZE  MULTIPOLYGON (((3.67419 51.29042, 3.66687 51.2...  \n",
       "11     NA     NA  POLYGON ((4.36117 51.66149, 4.33181 51.65561, ...  "
      ]
     },
     "execution_count": 53,
     "metadata": {},
     "output_type": "execute_result"
    }
   ],
   "source": [
    "df1"
   ]
  },
  {
   "cell_type": "markdown",
   "id": "ea1ae2b8",
   "metadata": {},
   "source": [
    "## Input the data for average yearly movements of each person"
   ]
  },
  {
   "cell_type": "code",
   "execution_count": 225,
   "id": "be55ac12",
   "metadata": {},
   "outputs": [
    {
     "data": {
      "text/html": [
       "<div>\n",
       "<style scoped>\n",
       "    .dataframe tbody tr th:only-of-type {\n",
       "        vertical-align: middle;\n",
       "    }\n",
       "\n",
       "    .dataframe tbody tr th {\n",
       "        vertical-align: top;\n",
       "    }\n",
       "\n",
       "    .dataframe thead th {\n",
       "        text-align: right;\n",
       "    }\n",
       "</style>\n",
       "<table border=\"1\" class=\"dataframe\">\n",
       "  <thead>\n",
       "    <tr style=\"text-align: right;\">\n",
       "      <th></th>\n",
       "      <th>Unnamed: 0</th>\n",
       "      <th>Regions</th>\n",
       "      <th>The Netherlands</th>\n",
       "      <th>The Netherlands.1</th>\n",
       "      <th>The Netherlands.2</th>\n",
       "      <th>The Netherlands.3</th>\n",
       "      <th>Groningen</th>\n",
       "      <th>Groningen.1</th>\n",
       "      <th>Groningen.2</th>\n",
       "      <th>Groningen.3</th>\n",
       "      <th>...</th>\n",
       "      <th>Zealand.2</th>\n",
       "      <th>Zealand.3</th>\n",
       "      <th>North Brabant</th>\n",
       "      <th>North Brabant.1</th>\n",
       "      <th>North Brabant.2</th>\n",
       "      <th>North Brabant.3</th>\n",
       "      <th>Limburg</th>\n",
       "      <th>Limburg.1</th>\n",
       "      <th>Limburg.2</th>\n",
       "      <th>Limburg.3</th>\n",
       "    </tr>\n",
       "  </thead>\n",
       "  <tbody>\n",
       "    <tr>\n",
       "      <th>0</th>\n",
       "      <td>NaN</td>\n",
       "      <td>Periods</td>\n",
       "      <td>2018</td>\n",
       "      <td>2019</td>\n",
       "      <td>2020</td>\n",
       "      <td>2021</td>\n",
       "      <td>2018</td>\n",
       "      <td>2019</td>\n",
       "      <td>2020</td>\n",
       "      <td>2021</td>\n",
       "      <td>...</td>\n",
       "      <td>2020</td>\n",
       "      <td>2021</td>\n",
       "      <td>2018</td>\n",
       "      <td>2019</td>\n",
       "      <td>2020</td>\n",
       "      <td>2021</td>\n",
       "      <td>2018</td>\n",
       "      <td>2019</td>\n",
       "      <td>2020</td>\n",
       "      <td>2021</td>\n",
       "    </tr>\n",
       "    <tr>\n",
       "      <th>1</th>\n",
       "      <td>Transport modes</td>\n",
       "      <td>Travel motives</td>\n",
       "      <td>number of</td>\n",
       "      <td>number of</td>\n",
       "      <td>number of</td>\n",
       "      <td>number of</td>\n",
       "      <td>number of</td>\n",
       "      <td>number of</td>\n",
       "      <td>number of</td>\n",
       "      <td>number of</td>\n",
       "      <td>...</td>\n",
       "      <td>number of</td>\n",
       "      <td>number of</td>\n",
       "      <td>number of</td>\n",
       "      <td>number of</td>\n",
       "      <td>number of</td>\n",
       "      <td>number of</td>\n",
       "      <td>number of</td>\n",
       "      <td>number of</td>\n",
       "      <td>number of</td>\n",
       "      <td>number of</td>\n",
       "    </tr>\n",
       "    <tr>\n",
       "      <th>2</th>\n",
       "      <td>Total</td>\n",
       "      <td>Total</td>\n",
       "      <td>1015</td>\n",
       "      <td>989</td>\n",
       "      <td>861</td>\n",
       "      <td>915</td>\n",
       "      <td>1024</td>\n",
       "      <td>961</td>\n",
       "      <td>831</td>\n",
       "      <td>880</td>\n",
       "      <td>...</td>\n",
       "      <td>858</td>\n",
       "      <td>950</td>\n",
       "      <td>1022</td>\n",
       "      <td>1005</td>\n",
       "      <td>904</td>\n",
       "      <td>939</td>\n",
       "      <td>1010</td>\n",
       "      <td>991</td>\n",
       "      <td>872</td>\n",
       "      <td>915</td>\n",
       "    </tr>\n",
       "    <tr>\n",
       "      <th>3</th>\n",
       "      <td>Passenger car (driver)</td>\n",
       "      <td>Total</td>\n",
       "      <td>350</td>\n",
       "      <td>346</td>\n",
       "      <td>295</td>\n",
       "      <td>300</td>\n",
       "      <td>319</td>\n",
       "      <td>312</td>\n",
       "      <td>284</td>\n",
       "      <td>306</td>\n",
       "      <td>...</td>\n",
       "      <td>316</td>\n",
       "      <td>341</td>\n",
       "      <td>384</td>\n",
       "      <td>396</td>\n",
       "      <td>343</td>\n",
       "      <td>351</td>\n",
       "      <td>407</td>\n",
       "      <td>420</td>\n",
       "      <td>371</td>\n",
       "      <td>349</td>\n",
       "    </tr>\n",
       "    <tr>\n",
       "      <th>4</th>\n",
       "      <td>Passenger car (passenger)</td>\n",
       "      <td>Total</td>\n",
       "      <td>118</td>\n",
       "      <td>114</td>\n",
       "      <td>88</td>\n",
       "      <td>94</td>\n",
       "      <td>129</td>\n",
       "      <td>99</td>\n",
       "      <td>89</td>\n",
       "      <td>83</td>\n",
       "      <td>...</td>\n",
       "      <td>82</td>\n",
       "      <td>101</td>\n",
       "      <td>127</td>\n",
       "      <td>120</td>\n",
       "      <td>100</td>\n",
       "      <td>98</td>\n",
       "      <td>141</td>\n",
       "      <td>137</td>\n",
       "      <td>96</td>\n",
       "      <td>107</td>\n",
       "    </tr>\n",
       "    <tr>\n",
       "      <th>5</th>\n",
       "      <td>Train</td>\n",
       "      <td>Total</td>\n",
       "      <td>29</td>\n",
       "      <td>30</td>\n",
       "      <td>12</td>\n",
       "      <td>13</td>\n",
       "      <td>25</td>\n",
       "      <td>25</td>\n",
       "      <td>.</td>\n",
       "      <td>14</td>\n",
       "      <td>...</td>\n",
       "      <td>.</td>\n",
       "      <td>.</td>\n",
       "      <td>20</td>\n",
       "      <td>23</td>\n",
       "      <td>9</td>\n",
       "      <td>7</td>\n",
       "      <td>22</td>\n",
       "      <td>21</td>\n",
       "      <td>.</td>\n",
       "      <td>10</td>\n",
       "    </tr>\n",
       "    <tr>\n",
       "      <th>6</th>\n",
       "      <td>Bus/tram/metro</td>\n",
       "      <td>Total</td>\n",
       "      <td>28</td>\n",
       "      <td>26</td>\n",
       "      <td>13</td>\n",
       "      <td>14</td>\n",
       "      <td>20</td>\n",
       "      <td>.</td>\n",
       "      <td>.</td>\n",
       "      <td>.</td>\n",
       "      <td>...</td>\n",
       "      <td>.</td>\n",
       "      <td>.</td>\n",
       "      <td>13</td>\n",
       "      <td>14</td>\n",
       "      <td>5</td>\n",
       "      <td>5</td>\n",
       "      <td>16</td>\n",
       "      <td>12</td>\n",
       "      <td>.</td>\n",
       "      <td>.</td>\n",
       "    </tr>\n",
       "    <tr>\n",
       "      <th>7</th>\n",
       "      <td>Bicycle</td>\n",
       "      <td>Total</td>\n",
       "      <td>289</td>\n",
       "      <td>276</td>\n",
       "      <td>229</td>\n",
       "      <td>232</td>\n",
       "      <td>336</td>\n",
       "      <td>318</td>\n",
       "      <td>237</td>\n",
       "      <td>235</td>\n",
       "      <td>...</td>\n",
       "      <td>245</td>\n",
       "      <td>229</td>\n",
       "      <td>274</td>\n",
       "      <td>257</td>\n",
       "      <td>218</td>\n",
       "      <td>220</td>\n",
       "      <td>211</td>\n",
       "      <td>202</td>\n",
       "      <td>163</td>\n",
       "      <td>161</td>\n",
       "    </tr>\n",
       "    <tr>\n",
       "      <th>8</th>\n",
       "      <td>To walk</td>\n",
       "      <td>Total</td>\n",
       "      <td>162</td>\n",
       "      <td>155</td>\n",
       "      <td>191</td>\n",
       "      <td>224</td>\n",
       "      <td>160</td>\n",
       "      <td>152</td>\n",
       "      <td>170</td>\n",
       "      <td>199</td>\n",
       "      <td>...</td>\n",
       "      <td>163</td>\n",
       "      <td>202</td>\n",
       "      <td>161</td>\n",
       "      <td>160</td>\n",
       "      <td>197</td>\n",
       "      <td>222</td>\n",
       "      <td>178</td>\n",
       "      <td>158</td>\n",
       "      <td>196</td>\n",
       "      <td>242</td>\n",
       "    </tr>\n",
       "    <tr>\n",
       "      <th>9</th>\n",
       "      <td>Other mode of transport</td>\n",
       "      <td>Total</td>\n",
       "      <td>39</td>\n",
       "      <td>41</td>\n",
       "      <td>33</td>\n",
       "      <td>38</td>\n",
       "      <td>36</td>\n",
       "      <td>38</td>\n",
       "      <td>33</td>\n",
       "      <td>34</td>\n",
       "      <td>...</td>\n",
       "      <td>.</td>\n",
       "      <td>63</td>\n",
       "      <td>42</td>\n",
       "      <td>36</td>\n",
       "      <td>32</td>\n",
       "      <td>36</td>\n",
       "      <td>36</td>\n",
       "      <td>41</td>\n",
       "      <td>34</td>\n",
       "      <td>40</td>\n",
       "    </tr>\n",
       "    <tr>\n",
       "      <th>10</th>\n",
       "      <td>Bron: CBS</td>\n",
       "      <td>NaN</td>\n",
       "      <td>NaN</td>\n",
       "      <td>NaN</td>\n",
       "      <td>NaN</td>\n",
       "      <td>NaN</td>\n",
       "      <td>NaN</td>\n",
       "      <td>NaN</td>\n",
       "      <td>NaN</td>\n",
       "      <td>NaN</td>\n",
       "      <td>...</td>\n",
       "      <td>NaN</td>\n",
       "      <td>NaN</td>\n",
       "      <td>NaN</td>\n",
       "      <td>NaN</td>\n",
       "      <td>NaN</td>\n",
       "      <td>NaN</td>\n",
       "      <td>NaN</td>\n",
       "      <td>NaN</td>\n",
       "      <td>NaN</td>\n",
       "      <td>NaN</td>\n",
       "    </tr>\n",
       "  </tbody>\n",
       "</table>\n",
       "<p>11 rows × 54 columns</p>\n",
       "</div>"
      ],
      "text/plain": [
       "                   Unnamed: 0         Regions The Netherlands  \\\n",
       "0                         NaN         Periods            2018   \n",
       "1             Transport modes  Travel motives       number of   \n",
       "2                       Total           Total            1015   \n",
       "3      Passenger car (driver)           Total             350   \n",
       "4   Passenger car (passenger)           Total             118   \n",
       "5                       Train           Total              29   \n",
       "6              Bus/tram/metro           Total              28   \n",
       "7                     Bicycle           Total             289   \n",
       "8                     To walk           Total             162   \n",
       "9     Other mode of transport           Total              39   \n",
       "10                  Bron: CBS             NaN             NaN   \n",
       "\n",
       "   The Netherlands.1 The Netherlands.2 The Netherlands.3  Groningen  \\\n",
       "0               2019              2020              2021       2018   \n",
       "1          number of         number of         number of  number of   \n",
       "2                989               861               915       1024   \n",
       "3                346               295               300        319   \n",
       "4                114                88                94        129   \n",
       "5                 30                12                13         25   \n",
       "6                 26                13                14         20   \n",
       "7                276               229               232        336   \n",
       "8                155               191               224        160   \n",
       "9                 41                33                38         36   \n",
       "10               NaN               NaN               NaN        NaN   \n",
       "\n",
       "   Groningen.1 Groningen.2 Groningen.3  ...  Zealand.2  Zealand.3  \\\n",
       "0         2019        2020        2021  ...       2020       2021   \n",
       "1    number of   number of   number of  ...  number of  number of   \n",
       "2          961         831         880  ...        858        950   \n",
       "3          312         284         306  ...        316        341   \n",
       "4           99          89          83  ...         82        101   \n",
       "5           25           .          14  ...          .          .   \n",
       "6            .           .           .  ...          .          .   \n",
       "7          318         237         235  ...        245        229   \n",
       "8          152         170         199  ...        163        202   \n",
       "9           38          33          34  ...          .         63   \n",
       "10         NaN         NaN         NaN  ...        NaN        NaN   \n",
       "\n",
       "   North Brabant North Brabant.1 North Brabant.2 North Brabant.3    Limburg  \\\n",
       "0           2018            2019            2020            2021       2018   \n",
       "1      number of       number of       number of       number of  number of   \n",
       "2           1022            1005             904             939       1010   \n",
       "3            384             396             343             351        407   \n",
       "4            127             120             100              98        141   \n",
       "5             20              23               9               7         22   \n",
       "6             13              14               5               5         16   \n",
       "7            274             257             218             220        211   \n",
       "8            161             160             197             222        178   \n",
       "9             42              36              32              36         36   \n",
       "10           NaN             NaN             NaN             NaN        NaN   \n",
       "\n",
       "    Limburg.1  Limburg.2  Limburg.3  \n",
       "0        2019       2020       2021  \n",
       "1   number of  number of  number of  \n",
       "2         991        872        915  \n",
       "3         420        371        349  \n",
       "4         137         96        107  \n",
       "5          21          .         10  \n",
       "6          12          .          .  \n",
       "7         202        163        161  \n",
       "8         158        196        242  \n",
       "9          41         34         40  \n",
       "10        NaN        NaN        NaN  \n",
       "\n",
       "[11 rows x 54 columns]"
      ]
     },
     "execution_count": 225,
     "metadata": {},
     "output_type": "execute_result"
    }
   ],
   "source": [
    "data=pd.read_csv('Movements per person per year.csv')\n",
    "data"
   ]
  },
  {
   "cell_type": "code",
   "execution_count": null,
   "id": "5fcb5a8a",
   "metadata": {},
   "outputs": [],
   "source": []
  },
  {
   "cell_type": "markdown",
   "id": "7577dce4",
   "metadata": {},
   "source": [
    "1.Data cleaning"
   ]
  },
  {
   "cell_type": "code",
   "execution_count": 182,
   "id": "ad022dff",
   "metadata": {},
   "outputs": [],
   "source": [
    "a=['year',\n",
    "   'Total',\n",
    " 'Passenger car (driver)',\n",
    " 'Passenger car (passenger)',\n",
    " 'Train',\n",
    " 'Bus/tram/metro',\n",
    " 'Bicycle',\n",
    " 'To walk',\n",
    " 'Other mode of transport']"
   ]
  },
  {
   "cell_type": "code",
   "execution_count": 157,
   "id": "48322a0a",
   "metadata": {},
   "outputs": [
    {
     "data": {
      "text/plain": [
       "[1, 1, 1]"
      ]
     },
     "execution_count": 157,
     "metadata": {},
     "output_type": "execute_result"
    }
   ],
   "source": [
    "b=[1]*3\n",
    "b"
   ]
  },
  {
   "cell_type": "code",
   "execution_count": 226,
   "id": "a78e1c67",
   "metadata": {
    "scrolled": true
   },
   "outputs": [
    {
     "data": {
      "text/html": [
       "<div>\n",
       "<style scoped>\n",
       "    .dataframe tbody tr th:only-of-type {\n",
       "        vertical-align: middle;\n",
       "    }\n",
       "\n",
       "    .dataframe tbody tr th {\n",
       "        vertical-align: top;\n",
       "    }\n",
       "\n",
       "    .dataframe thead th {\n",
       "        text-align: right;\n",
       "    }\n",
       "</style>\n",
       "<table border=\"1\" class=\"dataframe\">\n",
       "  <thead>\n",
       "    <tr style=\"text-align: right;\">\n",
       "      <th></th>\n",
       "      <th>The Netherlands</th>\n",
       "      <th>The Netherlands</th>\n",
       "      <th>The Netherlands</th>\n",
       "      <th>The Netherlands</th>\n",
       "    </tr>\n",
       "  </thead>\n",
       "  <tbody>\n",
       "    <tr>\n",
       "      <th>year</th>\n",
       "      <td>2018</td>\n",
       "      <td>2019</td>\n",
       "      <td>2020</td>\n",
       "      <td>2021</td>\n",
       "    </tr>\n",
       "    <tr>\n",
       "      <th>Total</th>\n",
       "      <td>1015</td>\n",
       "      <td>989</td>\n",
       "      <td>861</td>\n",
       "      <td>915</td>\n",
       "    </tr>\n",
       "    <tr>\n",
       "      <th>Passenger car (driver)</th>\n",
       "      <td>350</td>\n",
       "      <td>346</td>\n",
       "      <td>295</td>\n",
       "      <td>300</td>\n",
       "    </tr>\n",
       "    <tr>\n",
       "      <th>Passenger car (passenger)</th>\n",
       "      <td>118</td>\n",
       "      <td>114</td>\n",
       "      <td>88</td>\n",
       "      <td>94</td>\n",
       "    </tr>\n",
       "    <tr>\n",
       "      <th>Train</th>\n",
       "      <td>29</td>\n",
       "      <td>30</td>\n",
       "      <td>12</td>\n",
       "      <td>13</td>\n",
       "    </tr>\n",
       "    <tr>\n",
       "      <th>Bus/tram/metro</th>\n",
       "      <td>28</td>\n",
       "      <td>26</td>\n",
       "      <td>13</td>\n",
       "      <td>14</td>\n",
       "    </tr>\n",
       "    <tr>\n",
       "      <th>Bicycle</th>\n",
       "      <td>289</td>\n",
       "      <td>276</td>\n",
       "      <td>229</td>\n",
       "      <td>232</td>\n",
       "    </tr>\n",
       "    <tr>\n",
       "      <th>To walk</th>\n",
       "      <td>162</td>\n",
       "      <td>155</td>\n",
       "      <td>191</td>\n",
       "      <td>224</td>\n",
       "    </tr>\n",
       "    <tr>\n",
       "      <th>Other mode of transport</th>\n",
       "      <td>39</td>\n",
       "      <td>41</td>\n",
       "      <td>33</td>\n",
       "      <td>38</td>\n",
       "    </tr>\n",
       "  </tbody>\n",
       "</table>\n",
       "</div>"
      ],
      "text/plain": [
       "                          The Netherlands The Netherlands The Netherlands  \\\n",
       "year                                 2018            2019            2020   \n",
       "Total                                1015             989             861   \n",
       "Passenger car (driver)                350             346             295   \n",
       "Passenger car (passenger)             118             114              88   \n",
       "Train                                  29              30              12   \n",
       "Bus/tram/metro                         28              26              13   \n",
       "Bicycle                               289             276             229   \n",
       "To walk                               162             155             191   \n",
       "Other mode of transport                39              41              33   \n",
       "\n",
       "                          The Netherlands  \n",
       "year                                 2021  \n",
       "Total                                 915  \n",
       "Passenger car (driver)                300  \n",
       "Passenger car (passenger)              94  \n",
       "Train                                  13  \n",
       "Bus/tram/metro                         14  \n",
       "Bicycle                               232  \n",
       "To walk                               224  \n",
       "Other mode of transport                38  "
      ]
     },
     "execution_count": 226,
     "metadata": {},
     "output_type": "execute_result"
    }
   ],
   "source": [
    "#Obtain data for each region\n",
    "def Obtain(b):\n",
    "    y=data.loc[[0,2,3,4,5,6,7,8,9],[i for i in data.columns[b:b+4]]]\n",
    "    y=y.rename(columns={y.columns[1]:y.columns[0], y.columns[2]:y.columns[0], y.columns[3]:y.columns[0]})\n",
    "    y.index=pd.Series(a)\n",
    "#     y=y.reindex(index=a,columns=[y.columns[0]]*4)\n",
    "    return y\n",
    "test=Obtain(2)\n",
    "test"
   ]
  },
  {
   "cell_type": "code",
   "execution_count": 261,
   "id": "5ae542c0",
   "metadata": {},
   "outputs": [
    {
     "data": {
      "text/plain": [
       "'2018'"
      ]
     },
     "execution_count": 261,
     "metadata": {},
     "output_type": "execute_result"
    }
   ],
   "source": [
    "test.iloc[0,0]"
   ]
  },
  {
   "cell_type": "code",
   "execution_count": 227,
   "id": "83a8f224",
   "metadata": {},
   "outputs": [
    {
     "data": {
      "text/html": [
       "<div>\n",
       "<style scoped>\n",
       "    .dataframe tbody tr th:only-of-type {\n",
       "        vertical-align: middle;\n",
       "    }\n",
       "\n",
       "    .dataframe tbody tr th {\n",
       "        vertical-align: top;\n",
       "    }\n",
       "\n",
       "    .dataframe thead th {\n",
       "        text-align: right;\n",
       "    }\n",
       "</style>\n",
       "<table border=\"1\" class=\"dataframe\">\n",
       "  <thead>\n",
       "    <tr style=\"text-align: right;\">\n",
       "      <th></th>\n",
       "      <th>The Netherlands</th>\n",
       "      <th>The Netherlands</th>\n",
       "      <th>The Netherlands</th>\n",
       "      <th>The Netherlands</th>\n",
       "      <th>Groningen</th>\n",
       "      <th>Groningen</th>\n",
       "      <th>Groningen</th>\n",
       "      <th>Groningen</th>\n",
       "      <th>Friesland</th>\n",
       "      <th>Friesland</th>\n",
       "      <th>...</th>\n",
       "      <th>Zealand</th>\n",
       "      <th>Zealand</th>\n",
       "      <th>North Brabant</th>\n",
       "      <th>North Brabant</th>\n",
       "      <th>North Brabant</th>\n",
       "      <th>North Brabant</th>\n",
       "      <th>Limburg</th>\n",
       "      <th>Limburg</th>\n",
       "      <th>Limburg</th>\n",
       "      <th>Limburg</th>\n",
       "    </tr>\n",
       "  </thead>\n",
       "  <tbody>\n",
       "    <tr>\n",
       "      <th>year</th>\n",
       "      <td>2018</td>\n",
       "      <td>2019</td>\n",
       "      <td>2020</td>\n",
       "      <td>2021</td>\n",
       "      <td>2018</td>\n",
       "      <td>2019</td>\n",
       "      <td>2020</td>\n",
       "      <td>2021</td>\n",
       "      <td>2018</td>\n",
       "      <td>2019</td>\n",
       "      <td>...</td>\n",
       "      <td>2020</td>\n",
       "      <td>2021</td>\n",
       "      <td>2018</td>\n",
       "      <td>2019</td>\n",
       "      <td>2020</td>\n",
       "      <td>2021</td>\n",
       "      <td>2018</td>\n",
       "      <td>2019</td>\n",
       "      <td>2020</td>\n",
       "      <td>2021</td>\n",
       "    </tr>\n",
       "    <tr>\n",
       "      <th>Total</th>\n",
       "      <td>1015</td>\n",
       "      <td>989</td>\n",
       "      <td>861</td>\n",
       "      <td>915</td>\n",
       "      <td>1024</td>\n",
       "      <td>961</td>\n",
       "      <td>831</td>\n",
       "      <td>880</td>\n",
       "      <td>986</td>\n",
       "      <td>958</td>\n",
       "      <td>...</td>\n",
       "      <td>858</td>\n",
       "      <td>950</td>\n",
       "      <td>1022</td>\n",
       "      <td>1005</td>\n",
       "      <td>904</td>\n",
       "      <td>939</td>\n",
       "      <td>1010</td>\n",
       "      <td>991</td>\n",
       "      <td>872</td>\n",
       "      <td>915</td>\n",
       "    </tr>\n",
       "    <tr>\n",
       "      <th>Passenger car (driver)</th>\n",
       "      <td>350</td>\n",
       "      <td>346</td>\n",
       "      <td>295</td>\n",
       "      <td>300</td>\n",
       "      <td>319</td>\n",
       "      <td>312</td>\n",
       "      <td>284</td>\n",
       "      <td>306</td>\n",
       "      <td>370</td>\n",
       "      <td>356</td>\n",
       "      <td>...</td>\n",
       "      <td>316</td>\n",
       "      <td>341</td>\n",
       "      <td>384</td>\n",
       "      <td>396</td>\n",
       "      <td>343</td>\n",
       "      <td>351</td>\n",
       "      <td>407</td>\n",
       "      <td>420</td>\n",
       "      <td>371</td>\n",
       "      <td>349</td>\n",
       "    </tr>\n",
       "    <tr>\n",
       "      <th>Passenger car (passenger)</th>\n",
       "      <td>118</td>\n",
       "      <td>114</td>\n",
       "      <td>88</td>\n",
       "      <td>94</td>\n",
       "      <td>129</td>\n",
       "      <td>99</td>\n",
       "      <td>89</td>\n",
       "      <td>83</td>\n",
       "      <td>122</td>\n",
       "      <td>123</td>\n",
       "      <td>...</td>\n",
       "      <td>82</td>\n",
       "      <td>101</td>\n",
       "      <td>127</td>\n",
       "      <td>120</td>\n",
       "      <td>100</td>\n",
       "      <td>98</td>\n",
       "      <td>141</td>\n",
       "      <td>137</td>\n",
       "      <td>96</td>\n",
       "      <td>107</td>\n",
       "    </tr>\n",
       "    <tr>\n",
       "      <th>Train</th>\n",
       "      <td>29</td>\n",
       "      <td>30</td>\n",
       "      <td>12</td>\n",
       "      <td>13</td>\n",
       "      <td>25</td>\n",
       "      <td>25</td>\n",
       "      <td>.</td>\n",
       "      <td>14</td>\n",
       "      <td>17</td>\n",
       "      <td>.</td>\n",
       "      <td>...</td>\n",
       "      <td>.</td>\n",
       "      <td>.</td>\n",
       "      <td>20</td>\n",
       "      <td>23</td>\n",
       "      <td>9</td>\n",
       "      <td>7</td>\n",
       "      <td>22</td>\n",
       "      <td>21</td>\n",
       "      <td>.</td>\n",
       "      <td>10</td>\n",
       "    </tr>\n",
       "    <tr>\n",
       "      <th>Bus/tram/metro</th>\n",
       "      <td>28</td>\n",
       "      <td>26</td>\n",
       "      <td>13</td>\n",
       "      <td>14</td>\n",
       "      <td>20</td>\n",
       "      <td>.</td>\n",
       "      <td>.</td>\n",
       "      <td>.</td>\n",
       "      <td>.</td>\n",
       "      <td>.</td>\n",
       "      <td>...</td>\n",
       "      <td>.</td>\n",
       "      <td>.</td>\n",
       "      <td>13</td>\n",
       "      <td>14</td>\n",
       "      <td>5</td>\n",
       "      <td>5</td>\n",
       "      <td>16</td>\n",
       "      <td>12</td>\n",
       "      <td>.</td>\n",
       "      <td>.</td>\n",
       "    </tr>\n",
       "    <tr>\n",
       "      <th>Bicycle</th>\n",
       "      <td>289</td>\n",
       "      <td>276</td>\n",
       "      <td>229</td>\n",
       "      <td>232</td>\n",
       "      <td>336</td>\n",
       "      <td>318</td>\n",
       "      <td>237</td>\n",
       "      <td>235</td>\n",
       "      <td>289</td>\n",
       "      <td>277</td>\n",
       "      <td>...</td>\n",
       "      <td>245</td>\n",
       "      <td>229</td>\n",
       "      <td>274</td>\n",
       "      <td>257</td>\n",
       "      <td>218</td>\n",
       "      <td>220</td>\n",
       "      <td>211</td>\n",
       "      <td>202</td>\n",
       "      <td>163</td>\n",
       "      <td>161</td>\n",
       "    </tr>\n",
       "    <tr>\n",
       "      <th>To walk</th>\n",
       "      <td>162</td>\n",
       "      <td>155</td>\n",
       "      <td>191</td>\n",
       "      <td>224</td>\n",
       "      <td>160</td>\n",
       "      <td>152</td>\n",
       "      <td>170</td>\n",
       "      <td>199</td>\n",
       "      <td>131</td>\n",
       "      <td>128</td>\n",
       "      <td>...</td>\n",
       "      <td>163</td>\n",
       "      <td>202</td>\n",
       "      <td>161</td>\n",
       "      <td>160</td>\n",
       "      <td>197</td>\n",
       "      <td>222</td>\n",
       "      <td>178</td>\n",
       "      <td>158</td>\n",
       "      <td>196</td>\n",
       "      <td>242</td>\n",
       "    </tr>\n",
       "    <tr>\n",
       "      <th>Other mode of transport</th>\n",
       "      <td>39</td>\n",
       "      <td>41</td>\n",
       "      <td>33</td>\n",
       "      <td>38</td>\n",
       "      <td>36</td>\n",
       "      <td>38</td>\n",
       "      <td>33</td>\n",
       "      <td>34</td>\n",
       "      <td>44</td>\n",
       "      <td>47</td>\n",
       "      <td>...</td>\n",
       "      <td>.</td>\n",
       "      <td>63</td>\n",
       "      <td>42</td>\n",
       "      <td>36</td>\n",
       "      <td>32</td>\n",
       "      <td>36</td>\n",
       "      <td>36</td>\n",
       "      <td>41</td>\n",
       "      <td>34</td>\n",
       "      <td>40</td>\n",
       "    </tr>\n",
       "  </tbody>\n",
       "</table>\n",
       "<p>9 rows × 52 columns</p>\n",
       "</div>"
      ],
      "text/plain": [
       "                          The Netherlands The Netherlands The Netherlands  \\\n",
       "year                                 2018            2019            2020   \n",
       "Total                                1015             989             861   \n",
       "Passenger car (driver)                350             346             295   \n",
       "Passenger car (passenger)             118             114              88   \n",
       "Train                                  29              30              12   \n",
       "Bus/tram/metro                         28              26              13   \n",
       "Bicycle                               289             276             229   \n",
       "To walk                               162             155             191   \n",
       "Other mode of transport                39              41              33   \n",
       "\n",
       "                          The Netherlands Groningen Groningen Groningen  \\\n",
       "year                                 2021      2018      2019      2020   \n",
       "Total                                 915      1024       961       831   \n",
       "Passenger car (driver)                300       319       312       284   \n",
       "Passenger car (passenger)              94       129        99        89   \n",
       "Train                                  13        25        25         .   \n",
       "Bus/tram/metro                         14        20         .         .   \n",
       "Bicycle                               232       336       318       237   \n",
       "To walk                               224       160       152       170   \n",
       "Other mode of transport                38        36        38        33   \n",
       "\n",
       "                          Groningen Friesland Friesland  ... Zealand Zealand  \\\n",
       "year                           2021      2018      2019  ...    2020    2021   \n",
       "Total                           880       986       958  ...     858     950   \n",
       "Passenger car (driver)          306       370       356  ...     316     341   \n",
       "Passenger car (passenger)        83       122       123  ...      82     101   \n",
       "Train                            14        17         .  ...       .       .   \n",
       "Bus/tram/metro                    .         .         .  ...       .       .   \n",
       "Bicycle                         235       289       277  ...     245     229   \n",
       "To walk                         199       131       128  ...     163     202   \n",
       "Other mode of transport          34        44        47  ...       .      63   \n",
       "\n",
       "                          North Brabant North Brabant North Brabant  \\\n",
       "year                               2018          2019          2020   \n",
       "Total                              1022          1005           904   \n",
       "Passenger car (driver)              384           396           343   \n",
       "Passenger car (passenger)           127           120           100   \n",
       "Train                                20            23             9   \n",
       "Bus/tram/metro                       13            14             5   \n",
       "Bicycle                             274           257           218   \n",
       "To walk                             161           160           197   \n",
       "Other mode of transport              42            36            32   \n",
       "\n",
       "                          North Brabant Limburg Limburg Limburg Limburg  \n",
       "year                               2021    2018    2019    2020    2021  \n",
       "Total                               939    1010     991     872     915  \n",
       "Passenger car (driver)              351     407     420     371     349  \n",
       "Passenger car (passenger)            98     141     137      96     107  \n",
       "Train                                 7      22      21       .      10  \n",
       "Bus/tram/metro                        5      16      12       .       .  \n",
       "Bicycle                             220     211     202     163     161  \n",
       "To walk                             222     178     158     196     242  \n",
       "Other mode of transport              36      36      41      34      40  \n",
       "\n",
       "[9 rows x 52 columns]"
      ]
     },
     "execution_count": 227,
     "metadata": {},
     "output_type": "execute_result"
    }
   ],
   "source": [
    "for i in range(6,54,4):\n",
    "    m=Obtain(i)\n",
    "    test=test.join(m)\n",
    "test"
   ]
  },
  {
   "cell_type": "code",
   "execution_count": null,
   "id": "2696aee0",
   "metadata": {},
   "outputs": [],
   "source": [
    "#Otain data can be used by plotly.express\n",
    "# def get(test):\n",
    "#     u=test.iloc[1:,:]\n",
    "#     u.columns=pd.Series([i for i in test.iloc[0,:]])\n",
    "#     return u.stack().reset_index().drop(index=[0,1,2,3])"
   ]
  },
  {
   "cell_type": "code",
   "execution_count": 230,
   "id": "5052466a",
   "metadata": {
    "scrolled": false
   },
   "outputs": [
    {
     "data": {
      "text/html": [
       "<div>\n",
       "<style scoped>\n",
       "    .dataframe tbody tr th:only-of-type {\n",
       "        vertical-align: middle;\n",
       "    }\n",
       "\n",
       "    .dataframe tbody tr th {\n",
       "        vertical-align: top;\n",
       "    }\n",
       "\n",
       "    .dataframe thead th {\n",
       "        text-align: right;\n",
       "    }\n",
       "</style>\n",
       "<table border=\"1\" class=\"dataframe\">\n",
       "  <thead>\n",
       "    <tr style=\"text-align: right;\">\n",
       "      <th></th>\n",
       "      <th>type</th>\n",
       "      <th>year</th>\n",
       "      <th>number of</th>\n",
       "    </tr>\n",
       "  </thead>\n",
       "  <tbody>\n",
       "    <tr>\n",
       "      <th>0</th>\n",
       "      <td>Passenger car (driver)</td>\n",
       "      <td>2018</td>\n",
       "      <td>350</td>\n",
       "    </tr>\n",
       "    <tr>\n",
       "      <th>1</th>\n",
       "      <td>Passenger car (driver)</td>\n",
       "      <td>2019</td>\n",
       "      <td>346</td>\n",
       "    </tr>\n",
       "    <tr>\n",
       "      <th>2</th>\n",
       "      <td>Passenger car (driver)</td>\n",
       "      <td>2020</td>\n",
       "      <td>295</td>\n",
       "    </tr>\n",
       "    <tr>\n",
       "      <th>3</th>\n",
       "      <td>Passenger car (driver)</td>\n",
       "      <td>2021</td>\n",
       "      <td>300</td>\n",
       "    </tr>\n",
       "    <tr>\n",
       "      <th>4</th>\n",
       "      <td>Passenger car (driver)</td>\n",
       "      <td>2018</td>\n",
       "      <td>319</td>\n",
       "    </tr>\n",
       "    <tr>\n",
       "      <th>...</th>\n",
       "      <td>...</td>\n",
       "      <td>...</td>\n",
       "      <td>...</td>\n",
       "    </tr>\n",
       "    <tr>\n",
       "      <th>359</th>\n",
       "      <td>Other mode of transport</td>\n",
       "      <td>2021</td>\n",
       "      <td>36</td>\n",
       "    </tr>\n",
       "    <tr>\n",
       "      <th>360</th>\n",
       "      <td>Other mode of transport</td>\n",
       "      <td>2018</td>\n",
       "      <td>36</td>\n",
       "    </tr>\n",
       "    <tr>\n",
       "      <th>361</th>\n",
       "      <td>Other mode of transport</td>\n",
       "      <td>2019</td>\n",
       "      <td>41</td>\n",
       "    </tr>\n",
       "    <tr>\n",
       "      <th>362</th>\n",
       "      <td>Other mode of transport</td>\n",
       "      <td>2020</td>\n",
       "      <td>34</td>\n",
       "    </tr>\n",
       "    <tr>\n",
       "      <th>363</th>\n",
       "      <td>Other mode of transport</td>\n",
       "      <td>2021</td>\n",
       "      <td>40</td>\n",
       "    </tr>\n",
       "  </tbody>\n",
       "</table>\n",
       "<p>364 rows × 3 columns</p>\n",
       "</div>"
      ],
      "text/plain": [
       "                        type  year number of\n",
       "0     Passenger car (driver)  2018       350\n",
       "1     Passenger car (driver)  2019       346\n",
       "2     Passenger car (driver)  2020       295\n",
       "3     Passenger car (driver)  2021       300\n",
       "4     Passenger car (driver)  2018       319\n",
       "..                       ...   ...       ...\n",
       "359  Other mode of transport  2021        36\n",
       "360  Other mode of transport  2018        36\n",
       "361  Other mode of transport  2019        41\n",
       "362  Other mode of transport  2020        34\n",
       "363  Other mode of transport  2021        40\n",
       "\n",
       "[364 rows x 3 columns]"
      ]
     },
     "execution_count": 230,
     "metadata": {},
     "output_type": "execute_result"
    }
   ],
   "source": [
    "#Obtain data structure that can be used by plotly.express\n",
    "u=test.iloc[2:,:]\n",
    "u.columns=pd.Series([i for i in test.iloc[0,:]])#derive the year as the index\n",
    "u\n",
    "b=u.stack().reset_index()\n",
    "# b.drop(b[b['level_0']=='Total'])\n",
    "\n",
    "b.columns=pd.Series(['type','year','number of'])\n",
    "b"
   ]
  },
  {
   "cell_type": "code",
   "execution_count": 211,
   "id": "eac93976",
   "metadata": {},
   "outputs": [
    {
     "data": {
      "text/plain": [
       "Index(['The Netherlands', 'The Netherlands', 'The Netherlands',\n",
       "       'The Netherlands', 'Groningen', 'Groningen', 'Groningen', 'Groningen',\n",
       "       'Friesland', 'Friesland', 'Friesland', 'Friesland', 'Drenthe',\n",
       "       'Drenthe', 'Drenthe', 'Drenthe', 'Overijssel', 'Overijssel',\n",
       "       'Overijssel', 'Overijssel', 'Flevoland', 'Flevoland', 'Flevoland',\n",
       "       'Flevoland', 'Gelderland', 'Gelderland', 'Gelderland', 'Gelderland',\n",
       "       'Utrecht', 'Utrecht', 'Utrecht', 'Utrecht', 'North Holland',\n",
       "       'North Holland', 'North Holland', 'North Holland', 'South Holland',\n",
       "       'South Holland', 'South Holland', 'South Holland', 'Zealand', 'Zealand',\n",
       "       'Zealand', 'Zealand', 'North Brabant', 'North Brabant', 'North Brabant',\n",
       "       'North Brabant', 'Limburg', 'Limburg', 'Limburg', 'Limburg'],\n",
       "      dtype='object')"
      ]
     },
     "execution_count": 211,
     "metadata": {},
     "output_type": "execute_result"
    }
   ],
   "source": [
    "test.columns"
   ]
  },
  {
   "cell_type": "code",
   "execution_count": 231,
   "id": "75b0c3aa",
   "metadata": {},
   "outputs": [],
   "source": [
    "Province=[]\n",
    "for i in range(7):\n",
    "    for j in test.columns:\n",
    "        Province.append(j)\n",
    "        "
   ]
  },
  {
   "cell_type": "code",
   "execution_count": 232,
   "id": "462cb0ec",
   "metadata": {},
   "outputs": [
    {
     "data": {
      "text/plain": [
       "364"
      ]
     },
     "execution_count": 232,
     "metadata": {},
     "output_type": "execute_result"
    }
   ],
   "source": [
    "len(Province)"
   ]
  },
  {
   "cell_type": "code",
   "execution_count": 249,
   "id": "3a4cedcd",
   "metadata": {},
   "outputs": [
    {
     "data": {
      "text/html": [
       "<div>\n",
       "<style scoped>\n",
       "    .dataframe tbody tr th:only-of-type {\n",
       "        vertical-align: middle;\n",
       "    }\n",
       "\n",
       "    .dataframe tbody tr th {\n",
       "        vertical-align: top;\n",
       "    }\n",
       "\n",
       "    .dataframe thead th {\n",
       "        text-align: right;\n",
       "    }\n",
       "</style>\n",
       "<table border=\"1\" class=\"dataframe\">\n",
       "  <thead>\n",
       "    <tr style=\"text-align: right;\">\n",
       "      <th></th>\n",
       "      <th>type</th>\n",
       "      <th>year</th>\n",
       "      <th>number of</th>\n",
       "      <th>Region</th>\n",
       "    </tr>\n",
       "  </thead>\n",
       "  <tbody>\n",
       "    <tr>\n",
       "      <th>0</th>\n",
       "      <td>Passenger car (driver)</td>\n",
       "      <td>2018</td>\n",
       "      <td>350</td>\n",
       "      <td>The Netherlands</td>\n",
       "    </tr>\n",
       "    <tr>\n",
       "      <th>1</th>\n",
       "      <td>Passenger car (driver)</td>\n",
       "      <td>2019</td>\n",
       "      <td>346</td>\n",
       "      <td>The Netherlands</td>\n",
       "    </tr>\n",
       "    <tr>\n",
       "      <th>2</th>\n",
       "      <td>Passenger car (driver)</td>\n",
       "      <td>2020</td>\n",
       "      <td>295</td>\n",
       "      <td>The Netherlands</td>\n",
       "    </tr>\n",
       "    <tr>\n",
       "      <th>3</th>\n",
       "      <td>Passenger car (driver)</td>\n",
       "      <td>2021</td>\n",
       "      <td>300</td>\n",
       "      <td>The Netherlands</td>\n",
       "    </tr>\n",
       "    <tr>\n",
       "      <th>4</th>\n",
       "      <td>Passenger car (driver)</td>\n",
       "      <td>2018</td>\n",
       "      <td>319</td>\n",
       "      <td>Groningen</td>\n",
       "    </tr>\n",
       "    <tr>\n",
       "      <th>...</th>\n",
       "      <td>...</td>\n",
       "      <td>...</td>\n",
       "      <td>...</td>\n",
       "      <td>...</td>\n",
       "    </tr>\n",
       "    <tr>\n",
       "      <th>359</th>\n",
       "      <td>Other mode of transport</td>\n",
       "      <td>2021</td>\n",
       "      <td>36</td>\n",
       "      <td>North Brabant</td>\n",
       "    </tr>\n",
       "    <tr>\n",
       "      <th>360</th>\n",
       "      <td>Other mode of transport</td>\n",
       "      <td>2018</td>\n",
       "      <td>36</td>\n",
       "      <td>Limburg</td>\n",
       "    </tr>\n",
       "    <tr>\n",
       "      <th>361</th>\n",
       "      <td>Other mode of transport</td>\n",
       "      <td>2019</td>\n",
       "      <td>41</td>\n",
       "      <td>Limburg</td>\n",
       "    </tr>\n",
       "    <tr>\n",
       "      <th>362</th>\n",
       "      <td>Other mode of transport</td>\n",
       "      <td>2020</td>\n",
       "      <td>34</td>\n",
       "      <td>Limburg</td>\n",
       "    </tr>\n",
       "    <tr>\n",
       "      <th>363</th>\n",
       "      <td>Other mode of transport</td>\n",
       "      <td>2021</td>\n",
       "      <td>40</td>\n",
       "      <td>Limburg</td>\n",
       "    </tr>\n",
       "  </tbody>\n",
       "</table>\n",
       "<p>364 rows × 4 columns</p>\n",
       "</div>"
      ],
      "text/plain": [
       "                        type  year number of           Region\n",
       "0     Passenger car (driver)  2018       350  The Netherlands\n",
       "1     Passenger car (driver)  2019       346  The Netherlands\n",
       "2     Passenger car (driver)  2020       295  The Netherlands\n",
       "3     Passenger car (driver)  2021       300  The Netherlands\n",
       "4     Passenger car (driver)  2018       319        Groningen\n",
       "..                       ...   ...       ...              ...\n",
       "359  Other mode of transport  2021        36    North Brabant\n",
       "360  Other mode of transport  2018        36          Limburg\n",
       "361  Other mode of transport  2019        41          Limburg\n",
       "362  Other mode of transport  2020        34          Limburg\n",
       "363  Other mode of transport  2021        40          Limburg\n",
       "\n",
       "[364 rows x 4 columns]"
      ]
     },
     "execution_count": 249,
     "metadata": {},
     "output_type": "execute_result"
    }
   ],
   "source": [
    "\n",
    "\n",
    "b['Region']=Province\n",
    "b"
   ]
  },
  {
   "cell_type": "code",
   "execution_count": 253,
   "id": "5c0181bf",
   "metadata": {},
   "outputs": [
    {
     "data": {
      "text/html": [
       "<div>\n",
       "<style scoped>\n",
       "    .dataframe tbody tr th:only-of-type {\n",
       "        vertical-align: middle;\n",
       "    }\n",
       "\n",
       "    .dataframe tbody tr th {\n",
       "        vertical-align: top;\n",
       "    }\n",
       "\n",
       "    .dataframe thead th {\n",
       "        text-align: right;\n",
       "    }\n",
       "</style>\n",
       "<table border=\"1\" class=\"dataframe\">\n",
       "  <thead>\n",
       "    <tr style=\"text-align: right;\">\n",
       "      <th></th>\n",
       "      <th>type</th>\n",
       "      <th>year</th>\n",
       "      <th>number of</th>\n",
       "      <th>Region</th>\n",
       "    </tr>\n",
       "  </thead>\n",
       "  <tbody>\n",
       "    <tr>\n",
       "      <th>0</th>\n",
       "      <td>Passenger car (driver)</td>\n",
       "      <td>2018</td>\n",
       "      <td>350.0</td>\n",
       "      <td>The Netherlands</td>\n",
       "    </tr>\n",
       "    <tr>\n",
       "      <th>1</th>\n",
       "      <td>Passenger car (driver)</td>\n",
       "      <td>2019</td>\n",
       "      <td>346.0</td>\n",
       "      <td>The Netherlands</td>\n",
       "    </tr>\n",
       "    <tr>\n",
       "      <th>2</th>\n",
       "      <td>Passenger car (driver)</td>\n",
       "      <td>2020</td>\n",
       "      <td>295.0</td>\n",
       "      <td>The Netherlands</td>\n",
       "    </tr>\n",
       "    <tr>\n",
       "      <th>3</th>\n",
       "      <td>Passenger car (driver)</td>\n",
       "      <td>2021</td>\n",
       "      <td>300.0</td>\n",
       "      <td>The Netherlands</td>\n",
       "    </tr>\n",
       "    <tr>\n",
       "      <th>4</th>\n",
       "      <td>Passenger car (driver)</td>\n",
       "      <td>2018</td>\n",
       "      <td>319.0</td>\n",
       "      <td>Groningen</td>\n",
       "    </tr>\n",
       "    <tr>\n",
       "      <th>...</th>\n",
       "      <td>...</td>\n",
       "      <td>...</td>\n",
       "      <td>...</td>\n",
       "      <td>...</td>\n",
       "    </tr>\n",
       "    <tr>\n",
       "      <th>359</th>\n",
       "      <td>Other mode of transport</td>\n",
       "      <td>2021</td>\n",
       "      <td>36.0</td>\n",
       "      <td>North Brabant</td>\n",
       "    </tr>\n",
       "    <tr>\n",
       "      <th>360</th>\n",
       "      <td>Other mode of transport</td>\n",
       "      <td>2018</td>\n",
       "      <td>36.0</td>\n",
       "      <td>Limburg</td>\n",
       "    </tr>\n",
       "    <tr>\n",
       "      <th>361</th>\n",
       "      <td>Other mode of transport</td>\n",
       "      <td>2019</td>\n",
       "      <td>41.0</td>\n",
       "      <td>Limburg</td>\n",
       "    </tr>\n",
       "    <tr>\n",
       "      <th>362</th>\n",
       "      <td>Other mode of transport</td>\n",
       "      <td>2020</td>\n",
       "      <td>34.0</td>\n",
       "      <td>Limburg</td>\n",
       "    </tr>\n",
       "    <tr>\n",
       "      <th>363</th>\n",
       "      <td>Other mode of transport</td>\n",
       "      <td>2021</td>\n",
       "      <td>40.0</td>\n",
       "      <td>Limburg</td>\n",
       "    </tr>\n",
       "  </tbody>\n",
       "</table>\n",
       "<p>364 rows × 4 columns</p>\n",
       "</div>"
      ],
      "text/plain": [
       "                        type  year  number of           Region\n",
       "0     Passenger car (driver)  2018      350.0  The Netherlands\n",
       "1     Passenger car (driver)  2019      346.0  The Netherlands\n",
       "2     Passenger car (driver)  2020      295.0  The Netherlands\n",
       "3     Passenger car (driver)  2021      300.0  The Netherlands\n",
       "4     Passenger car (driver)  2018      319.0        Groningen\n",
       "..                       ...   ...        ...              ...\n",
       "359  Other mode of transport  2021       36.0    North Brabant\n",
       "360  Other mode of transport  2018       36.0          Limburg\n",
       "361  Other mode of transport  2019       41.0          Limburg\n",
       "362  Other mode of transport  2020       34.0          Limburg\n",
       "363  Other mode of transport  2021       40.0          Limburg\n",
       "\n",
       "[364 rows x 4 columns]"
      ]
     },
     "execution_count": 253,
     "metadata": {},
     "output_type": "execute_result"
    }
   ],
   "source": [
    "b['number of']=pd.to_numeric(b['number of'],errors='coerce')\n",
    "b=b.fillna(0)\n",
    "b"
   ]
  },
  {
   "cell_type": "code",
   "execution_count": 256,
   "id": "e27e7bd7",
   "metadata": {},
   "outputs": [
    {
     "data": {
      "application/vnd.plotly.v1+json": {
       "config": {
        "plotlyServerURL": "https://plot.ly"
       },
       "data": [
        {
         "alignmentgroup": "True",
         "hovertemplate": "type=Passenger car (driver)<br>Region=The Netherlands<br>year=%{x}<br>number of=%{y}<extra></extra>",
         "legendgroup": "Passenger car (driver)",
         "marker": {
          "color": "#636efa",
          "pattern": {
           "shape": ""
          }
         },
         "name": "Passenger car (driver)",
         "offsetgroup": "Passenger car (driver)",
         "orientation": "v",
         "showlegend": true,
         "textposition": "auto",
         "type": "bar",
         "x": [
          "2018",
          "2019",
          "2020",
          "2021"
         ],
         "xaxis": "x",
         "y": [
          350,
          346,
          295,
          300
         ],
         "yaxis": "y"
        },
        {
         "alignmentgroup": "True",
         "hovertemplate": "type=Passenger car (passenger)<br>Region=The Netherlands<br>year=%{x}<br>number of=%{y}<extra></extra>",
         "legendgroup": "Passenger car (passenger)",
         "marker": {
          "color": "#EF553B",
          "pattern": {
           "shape": ""
          }
         },
         "name": "Passenger car (passenger)",
         "offsetgroup": "Passenger car (passenger)",
         "orientation": "v",
         "showlegend": true,
         "textposition": "auto",
         "type": "bar",
         "x": [
          "2018",
          "2019",
          "2020",
          "2021"
         ],
         "xaxis": "x",
         "y": [
          118,
          114,
          88,
          94
         ],
         "yaxis": "y"
        },
        {
         "alignmentgroup": "True",
         "hovertemplate": "type=Train<br>Region=The Netherlands<br>year=%{x}<br>number of=%{y}<extra></extra>",
         "legendgroup": "Train",
         "marker": {
          "color": "#00cc96",
          "pattern": {
           "shape": ""
          }
         },
         "name": "Train",
         "offsetgroup": "Train",
         "orientation": "v",
         "showlegend": true,
         "textposition": "auto",
         "type": "bar",
         "x": [
          "2018",
          "2019",
          "2020",
          "2021"
         ],
         "xaxis": "x",
         "y": [
          29,
          30,
          12,
          13
         ],
         "yaxis": "y"
        },
        {
         "alignmentgroup": "True",
         "hovertemplate": "type=Bus/tram/metro<br>Region=The Netherlands<br>year=%{x}<br>number of=%{y}<extra></extra>",
         "legendgroup": "Bus/tram/metro",
         "marker": {
          "color": "#ab63fa",
          "pattern": {
           "shape": ""
          }
         },
         "name": "Bus/tram/metro",
         "offsetgroup": "Bus/tram/metro",
         "orientation": "v",
         "showlegend": true,
         "textposition": "auto",
         "type": "bar",
         "x": [
          "2018",
          "2019",
          "2020",
          "2021"
         ],
         "xaxis": "x",
         "y": [
          28,
          26,
          13,
          14
         ],
         "yaxis": "y"
        },
        {
         "alignmentgroup": "True",
         "hovertemplate": "type=Bicycle<br>Region=The Netherlands<br>year=%{x}<br>number of=%{y}<extra></extra>",
         "legendgroup": "Bicycle",
         "marker": {
          "color": "#FFA15A",
          "pattern": {
           "shape": ""
          }
         },
         "name": "Bicycle",
         "offsetgroup": "Bicycle",
         "orientation": "v",
         "showlegend": true,
         "textposition": "auto",
         "type": "bar",
         "x": [
          "2018",
          "2019",
          "2020",
          "2021"
         ],
         "xaxis": "x",
         "y": [
          289,
          276,
          229,
          232
         ],
         "yaxis": "y"
        },
        {
         "alignmentgroup": "True",
         "hovertemplate": "type=To walk<br>Region=The Netherlands<br>year=%{x}<br>number of=%{y}<extra></extra>",
         "legendgroup": "To walk",
         "marker": {
          "color": "#19d3f3",
          "pattern": {
           "shape": ""
          }
         },
         "name": "To walk",
         "offsetgroup": "To walk",
         "orientation": "v",
         "showlegend": true,
         "textposition": "auto",
         "type": "bar",
         "x": [
          "2018",
          "2019",
          "2020",
          "2021"
         ],
         "xaxis": "x",
         "y": [
          162,
          155,
          191,
          224
         ],
         "yaxis": "y"
        },
        {
         "alignmentgroup": "True",
         "hovertemplate": "type=Other mode of transport<br>Region=The Netherlands<br>year=%{x}<br>number of=%{y}<extra></extra>",
         "legendgroup": "Other mode of transport",
         "marker": {
          "color": "#FF6692",
          "pattern": {
           "shape": ""
          }
         },
         "name": "Other mode of transport",
         "offsetgroup": "Other mode of transport",
         "orientation": "v",
         "showlegend": true,
         "textposition": "auto",
         "type": "bar",
         "x": [
          "2018",
          "2019",
          "2020",
          "2021"
         ],
         "xaxis": "x",
         "y": [
          39,
          41,
          33,
          38
         ],
         "yaxis": "y"
        }
       ],
       "frames": [
        {
         "data": [
          {
           "alignmentgroup": "True",
           "hovertemplate": "type=Passenger car (driver)<br>Region=The Netherlands<br>year=%{x}<br>number of=%{y}<extra></extra>",
           "legendgroup": "Passenger car (driver)",
           "marker": {
            "color": "#636efa",
            "pattern": {
             "shape": ""
            }
           },
           "name": "Passenger car (driver)",
           "offsetgroup": "Passenger car (driver)",
           "orientation": "v",
           "showlegend": true,
           "textposition": "auto",
           "type": "bar",
           "x": [
            "2018",
            "2019",
            "2020",
            "2021"
           ],
           "xaxis": "x",
           "y": [
            350,
            346,
            295,
            300
           ],
           "yaxis": "y"
          },
          {
           "alignmentgroup": "True",
           "hovertemplate": "type=Passenger car (passenger)<br>Region=The Netherlands<br>year=%{x}<br>number of=%{y}<extra></extra>",
           "legendgroup": "Passenger car (passenger)",
           "marker": {
            "color": "#EF553B",
            "pattern": {
             "shape": ""
            }
           },
           "name": "Passenger car (passenger)",
           "offsetgroup": "Passenger car (passenger)",
           "orientation": "v",
           "showlegend": true,
           "textposition": "auto",
           "type": "bar",
           "x": [
            "2018",
            "2019",
            "2020",
            "2021"
           ],
           "xaxis": "x",
           "y": [
            118,
            114,
            88,
            94
           ],
           "yaxis": "y"
          },
          {
           "alignmentgroup": "True",
           "hovertemplate": "type=Train<br>Region=The Netherlands<br>year=%{x}<br>number of=%{y}<extra></extra>",
           "legendgroup": "Train",
           "marker": {
            "color": "#00cc96",
            "pattern": {
             "shape": ""
            }
           },
           "name": "Train",
           "offsetgroup": "Train",
           "orientation": "v",
           "showlegend": true,
           "textposition": "auto",
           "type": "bar",
           "x": [
            "2018",
            "2019",
            "2020",
            "2021"
           ],
           "xaxis": "x",
           "y": [
            29,
            30,
            12,
            13
           ],
           "yaxis": "y"
          },
          {
           "alignmentgroup": "True",
           "hovertemplate": "type=Bus/tram/metro<br>Region=The Netherlands<br>year=%{x}<br>number of=%{y}<extra></extra>",
           "legendgroup": "Bus/tram/metro",
           "marker": {
            "color": "#ab63fa",
            "pattern": {
             "shape": ""
            }
           },
           "name": "Bus/tram/metro",
           "offsetgroup": "Bus/tram/metro",
           "orientation": "v",
           "showlegend": true,
           "textposition": "auto",
           "type": "bar",
           "x": [
            "2018",
            "2019",
            "2020",
            "2021"
           ],
           "xaxis": "x",
           "y": [
            28,
            26,
            13,
            14
           ],
           "yaxis": "y"
          },
          {
           "alignmentgroup": "True",
           "hovertemplate": "type=Bicycle<br>Region=The Netherlands<br>year=%{x}<br>number of=%{y}<extra></extra>",
           "legendgroup": "Bicycle",
           "marker": {
            "color": "#FFA15A",
            "pattern": {
             "shape": ""
            }
           },
           "name": "Bicycle",
           "offsetgroup": "Bicycle",
           "orientation": "v",
           "showlegend": true,
           "textposition": "auto",
           "type": "bar",
           "x": [
            "2018",
            "2019",
            "2020",
            "2021"
           ],
           "xaxis": "x",
           "y": [
            289,
            276,
            229,
            232
           ],
           "yaxis": "y"
          },
          {
           "alignmentgroup": "True",
           "hovertemplate": "type=To walk<br>Region=The Netherlands<br>year=%{x}<br>number of=%{y}<extra></extra>",
           "legendgroup": "To walk",
           "marker": {
            "color": "#19d3f3",
            "pattern": {
             "shape": ""
            }
           },
           "name": "To walk",
           "offsetgroup": "To walk",
           "orientation": "v",
           "showlegend": true,
           "textposition": "auto",
           "type": "bar",
           "x": [
            "2018",
            "2019",
            "2020",
            "2021"
           ],
           "xaxis": "x",
           "y": [
            162,
            155,
            191,
            224
           ],
           "yaxis": "y"
          },
          {
           "alignmentgroup": "True",
           "hovertemplate": "type=Other mode of transport<br>Region=The Netherlands<br>year=%{x}<br>number of=%{y}<extra></extra>",
           "legendgroup": "Other mode of transport",
           "marker": {
            "color": "#FF6692",
            "pattern": {
             "shape": ""
            }
           },
           "name": "Other mode of transport",
           "offsetgroup": "Other mode of transport",
           "orientation": "v",
           "showlegend": true,
           "textposition": "auto",
           "type": "bar",
           "x": [
            "2018",
            "2019",
            "2020",
            "2021"
           ],
           "xaxis": "x",
           "y": [
            39,
            41,
            33,
            38
           ],
           "yaxis": "y"
          }
         ],
         "name": "The Netherlands"
        },
        {
         "data": [
          {
           "alignmentgroup": "True",
           "hovertemplate": "type=Passenger car (driver)<br>Region=Groningen<br>year=%{x}<br>number of=%{y}<extra></extra>",
           "legendgroup": "Passenger car (driver)",
           "marker": {
            "color": "#636efa",
            "pattern": {
             "shape": ""
            }
           },
           "name": "Passenger car (driver)",
           "offsetgroup": "Passenger car (driver)",
           "orientation": "v",
           "showlegend": true,
           "textposition": "auto",
           "type": "bar",
           "x": [
            "2018",
            "2019",
            "2020",
            "2021"
           ],
           "xaxis": "x",
           "y": [
            319,
            312,
            284,
            306
           ],
           "yaxis": "y"
          },
          {
           "alignmentgroup": "True",
           "hovertemplate": "type=Passenger car (passenger)<br>Region=Groningen<br>year=%{x}<br>number of=%{y}<extra></extra>",
           "legendgroup": "Passenger car (passenger)",
           "marker": {
            "color": "#EF553B",
            "pattern": {
             "shape": ""
            }
           },
           "name": "Passenger car (passenger)",
           "offsetgroup": "Passenger car (passenger)",
           "orientation": "v",
           "showlegend": true,
           "textposition": "auto",
           "type": "bar",
           "x": [
            "2018",
            "2019",
            "2020",
            "2021"
           ],
           "xaxis": "x",
           "y": [
            129,
            99,
            89,
            83
           ],
           "yaxis": "y"
          },
          {
           "alignmentgroup": "True",
           "hovertemplate": "type=Train<br>Region=Groningen<br>year=%{x}<br>number of=%{y}<extra></extra>",
           "legendgroup": "Train",
           "marker": {
            "color": "#00cc96",
            "pattern": {
             "shape": ""
            }
           },
           "name": "Train",
           "offsetgroup": "Train",
           "orientation": "v",
           "showlegend": true,
           "textposition": "auto",
           "type": "bar",
           "x": [
            "2018",
            "2019",
            "2020",
            "2021"
           ],
           "xaxis": "x",
           "y": [
            25,
            25,
            0,
            14
           ],
           "yaxis": "y"
          },
          {
           "alignmentgroup": "True",
           "hovertemplate": "type=Bus/tram/metro<br>Region=Groningen<br>year=%{x}<br>number of=%{y}<extra></extra>",
           "legendgroup": "Bus/tram/metro",
           "marker": {
            "color": "#ab63fa",
            "pattern": {
             "shape": ""
            }
           },
           "name": "Bus/tram/metro",
           "offsetgroup": "Bus/tram/metro",
           "orientation": "v",
           "showlegend": true,
           "textposition": "auto",
           "type": "bar",
           "x": [
            "2018",
            "2019",
            "2020",
            "2021"
           ],
           "xaxis": "x",
           "y": [
            20,
            0,
            0,
            0
           ],
           "yaxis": "y"
          },
          {
           "alignmentgroup": "True",
           "hovertemplate": "type=Bicycle<br>Region=Groningen<br>year=%{x}<br>number of=%{y}<extra></extra>",
           "legendgroup": "Bicycle",
           "marker": {
            "color": "#FFA15A",
            "pattern": {
             "shape": ""
            }
           },
           "name": "Bicycle",
           "offsetgroup": "Bicycle",
           "orientation": "v",
           "showlegend": true,
           "textposition": "auto",
           "type": "bar",
           "x": [
            "2018",
            "2019",
            "2020",
            "2021"
           ],
           "xaxis": "x",
           "y": [
            336,
            318,
            237,
            235
           ],
           "yaxis": "y"
          },
          {
           "alignmentgroup": "True",
           "hovertemplate": "type=To walk<br>Region=Groningen<br>year=%{x}<br>number of=%{y}<extra></extra>",
           "legendgroup": "To walk",
           "marker": {
            "color": "#19d3f3",
            "pattern": {
             "shape": ""
            }
           },
           "name": "To walk",
           "offsetgroup": "To walk",
           "orientation": "v",
           "showlegend": true,
           "textposition": "auto",
           "type": "bar",
           "x": [
            "2018",
            "2019",
            "2020",
            "2021"
           ],
           "xaxis": "x",
           "y": [
            160,
            152,
            170,
            199
           ],
           "yaxis": "y"
          },
          {
           "alignmentgroup": "True",
           "hovertemplate": "type=Other mode of transport<br>Region=Groningen<br>year=%{x}<br>number of=%{y}<extra></extra>",
           "legendgroup": "Other mode of transport",
           "marker": {
            "color": "#FF6692",
            "pattern": {
             "shape": ""
            }
           },
           "name": "Other mode of transport",
           "offsetgroup": "Other mode of transport",
           "orientation": "v",
           "showlegend": true,
           "textposition": "auto",
           "type": "bar",
           "x": [
            "2018",
            "2019",
            "2020",
            "2021"
           ],
           "xaxis": "x",
           "y": [
            36,
            38,
            33,
            34
           ],
           "yaxis": "y"
          }
         ],
         "name": "Groningen"
        },
        {
         "data": [
          {
           "alignmentgroup": "True",
           "hovertemplate": "type=Passenger car (driver)<br>Region=Friesland<br>year=%{x}<br>number of=%{y}<extra></extra>",
           "legendgroup": "Passenger car (driver)",
           "marker": {
            "color": "#636efa",
            "pattern": {
             "shape": ""
            }
           },
           "name": "Passenger car (driver)",
           "offsetgroup": "Passenger car (driver)",
           "orientation": "v",
           "showlegend": true,
           "textposition": "auto",
           "type": "bar",
           "x": [
            "2018",
            "2019",
            "2020",
            "2021"
           ],
           "xaxis": "x",
           "y": [
            370,
            356,
            342,
            334
           ],
           "yaxis": "y"
          },
          {
           "alignmentgroup": "True",
           "hovertemplate": "type=Passenger car (passenger)<br>Region=Friesland<br>year=%{x}<br>number of=%{y}<extra></extra>",
           "legendgroup": "Passenger car (passenger)",
           "marker": {
            "color": "#EF553B",
            "pattern": {
             "shape": ""
            }
           },
           "name": "Passenger car (passenger)",
           "offsetgroup": "Passenger car (passenger)",
           "orientation": "v",
           "showlegend": true,
           "textposition": "auto",
           "type": "bar",
           "x": [
            "2018",
            "2019",
            "2020",
            "2021"
           ],
           "xaxis": "x",
           "y": [
            122,
            123,
            106,
            100
           ],
           "yaxis": "y"
          },
          {
           "alignmentgroup": "True",
           "hovertemplate": "type=Train<br>Region=Friesland<br>year=%{x}<br>number of=%{y}<extra></extra>",
           "legendgroup": "Train",
           "marker": {
            "color": "#00cc96",
            "pattern": {
             "shape": ""
            }
           },
           "name": "Train",
           "offsetgroup": "Train",
           "orientation": "v",
           "showlegend": true,
           "textposition": "auto",
           "type": "bar",
           "x": [
            "2018",
            "2019",
            "2020",
            "2021"
           ],
           "xaxis": "x",
           "y": [
            17,
            0,
            0,
            0
           ],
           "yaxis": "y"
          },
          {
           "alignmentgroup": "True",
           "hovertemplate": "type=Bus/tram/metro<br>Region=Friesland<br>year=%{x}<br>number of=%{y}<extra></extra>",
           "legendgroup": "Bus/tram/metro",
           "marker": {
            "color": "#ab63fa",
            "pattern": {
             "shape": ""
            }
           },
           "name": "Bus/tram/metro",
           "offsetgroup": "Bus/tram/metro",
           "orientation": "v",
           "showlegend": true,
           "textposition": "auto",
           "type": "bar",
           "x": [
            "2018",
            "2019",
            "2020",
            "2021"
           ],
           "xaxis": "x",
           "y": [
            0,
            0,
            0,
            0
           ],
           "yaxis": "y"
          },
          {
           "alignmentgroup": "True",
           "hovertemplate": "type=Bicycle<br>Region=Friesland<br>year=%{x}<br>number of=%{y}<extra></extra>",
           "legendgroup": "Bicycle",
           "marker": {
            "color": "#FFA15A",
            "pattern": {
             "shape": ""
            }
           },
           "name": "Bicycle",
           "offsetgroup": "Bicycle",
           "orientation": "v",
           "showlegend": true,
           "textposition": "auto",
           "type": "bar",
           "x": [
            "2018",
            "2019",
            "2020",
            "2021"
           ],
           "xaxis": "x",
           "y": [
            289,
            277,
            245,
            244
           ],
           "yaxis": "y"
          },
          {
           "alignmentgroup": "True",
           "hovertemplate": "type=To walk<br>Region=Friesland<br>year=%{x}<br>number of=%{y}<extra></extra>",
           "legendgroup": "To walk",
           "marker": {
            "color": "#19d3f3",
            "pattern": {
             "shape": ""
            }
           },
           "name": "To walk",
           "offsetgroup": "To walk",
           "orientation": "v",
           "showlegend": true,
           "textposition": "auto",
           "type": "bar",
           "x": [
            "2018",
            "2019",
            "2020",
            "2021"
           ],
           "xaxis": "x",
           "y": [
            131,
            128,
            169,
            176
           ],
           "yaxis": "y"
          },
          {
           "alignmentgroup": "True",
           "hovertemplate": "type=Other mode of transport<br>Region=Friesland<br>year=%{x}<br>number of=%{y}<extra></extra>",
           "legendgroup": "Other mode of transport",
           "marker": {
            "color": "#FF6692",
            "pattern": {
             "shape": ""
            }
           },
           "name": "Other mode of transport",
           "offsetgroup": "Other mode of transport",
           "orientation": "v",
           "showlegend": true,
           "textposition": "auto",
           "type": "bar",
           "x": [
            "2018",
            "2019",
            "2020",
            "2021"
           ],
           "xaxis": "x",
           "y": [
            44,
            47,
            47,
            39
           ],
           "yaxis": "y"
          }
         ],
         "name": "Friesland"
        },
        {
         "data": [
          {
           "alignmentgroup": "True",
           "hovertemplate": "type=Passenger car (driver)<br>Region=Drenthe<br>year=%{x}<br>number of=%{y}<extra></extra>",
           "legendgroup": "Passenger car (driver)",
           "marker": {
            "color": "#636efa",
            "pattern": {
             "shape": ""
            }
           },
           "name": "Passenger car (driver)",
           "offsetgroup": "Passenger car (driver)",
           "orientation": "v",
           "showlegend": true,
           "textposition": "auto",
           "type": "bar",
           "x": [
            "2018",
            "2019",
            "2020",
            "2021"
           ],
           "xaxis": "x",
           "y": [
            427,
            421,
            345,
            351
           ],
           "yaxis": "y"
          },
          {
           "alignmentgroup": "True",
           "hovertemplate": "type=Passenger car (passenger)<br>Region=Drenthe<br>year=%{x}<br>number of=%{y}<extra></extra>",
           "legendgroup": "Passenger car (passenger)",
           "marker": {
            "color": "#EF553B",
            "pattern": {
             "shape": ""
            }
           },
           "name": "Passenger car (passenger)",
           "offsetgroup": "Passenger car (passenger)",
           "orientation": "v",
           "showlegend": true,
           "textposition": "auto",
           "type": "bar",
           "x": [
            "2018",
            "2019",
            "2020",
            "2021"
           ],
           "xaxis": "x",
           "y": [
            134,
            130,
            109,
            117
           ],
           "yaxis": "y"
          },
          {
           "alignmentgroup": "True",
           "hovertemplate": "type=Train<br>Region=Drenthe<br>year=%{x}<br>number of=%{y}<extra></extra>",
           "legendgroup": "Train",
           "marker": {
            "color": "#00cc96",
            "pattern": {
             "shape": ""
            }
           },
           "name": "Train",
           "offsetgroup": "Train",
           "orientation": "v",
           "showlegend": true,
           "textposition": "auto",
           "type": "bar",
           "x": [
            "2018",
            "2019",
            "2020",
            "2021"
           ],
           "xaxis": "x",
           "y": [
            0,
            0,
            0,
            0
           ],
           "yaxis": "y"
          },
          {
           "alignmentgroup": "True",
           "hovertemplate": "type=Bus/tram/metro<br>Region=Drenthe<br>year=%{x}<br>number of=%{y}<extra></extra>",
           "legendgroup": "Bus/tram/metro",
           "marker": {
            "color": "#ab63fa",
            "pattern": {
             "shape": ""
            }
           },
           "name": "Bus/tram/metro",
           "offsetgroup": "Bus/tram/metro",
           "orientation": "v",
           "showlegend": true,
           "textposition": "auto",
           "type": "bar",
           "x": [
            "2018",
            "2019",
            "2020",
            "2021"
           ],
           "xaxis": "x",
           "y": [
            0,
            0,
            0,
            0
           ],
           "yaxis": "y"
          },
          {
           "alignmentgroup": "True",
           "hovertemplate": "type=Bicycle<br>Region=Drenthe<br>year=%{x}<br>number of=%{y}<extra></extra>",
           "legendgroup": "Bicycle",
           "marker": {
            "color": "#FFA15A",
            "pattern": {
             "shape": ""
            }
           },
           "name": "Bicycle",
           "offsetgroup": "Bicycle",
           "orientation": "v",
           "showlegend": true,
           "textposition": "auto",
           "type": "bar",
           "x": [
            "2018",
            "2019",
            "2020",
            "2021"
           ],
           "xaxis": "x",
           "y": [
            275,
            267,
            224,
            244
           ],
           "yaxis": "y"
          },
          {
           "alignmentgroup": "True",
           "hovertemplate": "type=To walk<br>Region=Drenthe<br>year=%{x}<br>number of=%{y}<extra></extra>",
           "legendgroup": "To walk",
           "marker": {
            "color": "#19d3f3",
            "pattern": {
             "shape": ""
            }
           },
           "name": "To walk",
           "offsetgroup": "To walk",
           "orientation": "v",
           "showlegend": true,
           "textposition": "auto",
           "type": "bar",
           "x": [
            "2018",
            "2019",
            "2020",
            "2021"
           ],
           "xaxis": "x",
           "y": [
            126,
            139,
            149,
            179
           ],
           "yaxis": "y"
          },
          {
           "alignmentgroup": "True",
           "hovertemplate": "type=Other mode of transport<br>Region=Drenthe<br>year=%{x}<br>number of=%{y}<extra></extra>",
           "legendgroup": "Other mode of transport",
           "marker": {
            "color": "#FF6692",
            "pattern": {
             "shape": ""
            }
           },
           "name": "Other mode of transport",
           "offsetgroup": "Other mode of transport",
           "orientation": "v",
           "showlegend": true,
           "textposition": "auto",
           "type": "bar",
           "x": [
            "2018",
            "2019",
            "2020",
            "2021"
           ],
           "xaxis": "x",
           "y": [
            41,
            43,
            0,
            47
           ],
           "yaxis": "y"
          }
         ],
         "name": "Drenthe"
        },
        {
         "data": [
          {
           "alignmentgroup": "True",
           "hovertemplate": "type=Passenger car (driver)<br>Region=Overijssel<br>year=%{x}<br>number of=%{y}<extra></extra>",
           "legendgroup": "Passenger car (driver)",
           "marker": {
            "color": "#636efa",
            "pattern": {
             "shape": ""
            }
           },
           "name": "Passenger car (driver)",
           "offsetgroup": "Passenger car (driver)",
           "orientation": "v",
           "showlegend": true,
           "textposition": "auto",
           "type": "bar",
           "x": [
            "2018",
            "2019",
            "2020",
            "2021"
           ],
           "xaxis": "x",
           "y": [
            386,
            355,
            319,
            327
           ],
           "yaxis": "y"
          },
          {
           "alignmentgroup": "True",
           "hovertemplate": "type=Passenger car (passenger)<br>Region=Overijssel<br>year=%{x}<br>number of=%{y}<extra></extra>",
           "legendgroup": "Passenger car (passenger)",
           "marker": {
            "color": "#EF553B",
            "pattern": {
             "shape": ""
            }
           },
           "name": "Passenger car (passenger)",
           "offsetgroup": "Passenger car (passenger)",
           "orientation": "v",
           "showlegend": true,
           "textposition": "auto",
           "type": "bar",
           "x": [
            "2018",
            "2019",
            "2020",
            "2021"
           ],
           "xaxis": "x",
           "y": [
            123,
            116,
            91,
            99
           ],
           "yaxis": "y"
          },
          {
           "alignmentgroup": "True",
           "hovertemplate": "type=Train<br>Region=Overijssel<br>year=%{x}<br>number of=%{y}<extra></extra>",
           "legendgroup": "Train",
           "marker": {
            "color": "#00cc96",
            "pattern": {
             "shape": ""
            }
           },
           "name": "Train",
           "offsetgroup": "Train",
           "orientation": "v",
           "showlegend": true,
           "textposition": "auto",
           "type": "bar",
           "x": [
            "2018",
            "2019",
            "2020",
            "2021"
           ],
           "xaxis": "x",
           "y": [
            21,
            25,
            9,
            8
           ],
           "yaxis": "y"
          },
          {
           "alignmentgroup": "True",
           "hovertemplate": "type=Bus/tram/metro<br>Region=Overijssel<br>year=%{x}<br>number of=%{y}<extra></extra>",
           "legendgroup": "Bus/tram/metro",
           "marker": {
            "color": "#ab63fa",
            "pattern": {
             "shape": ""
            }
           },
           "name": "Bus/tram/metro",
           "offsetgroup": "Bus/tram/metro",
           "orientation": "v",
           "showlegend": true,
           "textposition": "auto",
           "type": "bar",
           "x": [
            "2018",
            "2019",
            "2020",
            "2021"
           ],
           "xaxis": "x",
           "y": [
            0,
            0,
            0,
            0
           ],
           "yaxis": "y"
          },
          {
           "alignmentgroup": "True",
           "hovertemplate": "type=Bicycle<br>Region=Overijssel<br>year=%{x}<br>number of=%{y}<extra></extra>",
           "legendgroup": "Bicycle",
           "marker": {
            "color": "#FFA15A",
            "pattern": {
             "shape": ""
            }
           },
           "name": "Bicycle",
           "offsetgroup": "Bicycle",
           "orientation": "v",
           "showlegend": true,
           "textposition": "auto",
           "type": "bar",
           "x": [
            "2018",
            "2019",
            "2020",
            "2021"
           ],
           "xaxis": "x",
           "y": [
            338,
            336,
            269,
            284
           ],
           "yaxis": "y"
          },
          {
           "alignmentgroup": "True",
           "hovertemplate": "type=To walk<br>Region=Overijssel<br>year=%{x}<br>number of=%{y}<extra></extra>",
           "legendgroup": "To walk",
           "marker": {
            "color": "#19d3f3",
            "pattern": {
             "shape": ""
            }
           },
           "name": "To walk",
           "offsetgroup": "To walk",
           "orientation": "v",
           "showlegend": true,
           "textposition": "auto",
           "type": "bar",
           "x": [
            "2018",
            "2019",
            "2020",
            "2021"
           ],
           "xaxis": "x",
           "y": [
            135,
            133,
            160,
            196
           ],
           "yaxis": "y"
          },
          {
           "alignmentgroup": "True",
           "hovertemplate": "type=Other mode of transport<br>Region=Overijssel<br>year=%{x}<br>number of=%{y}<extra></extra>",
           "legendgroup": "Other mode of transport",
           "marker": {
            "color": "#FF6692",
            "pattern": {
             "shape": ""
            }
           },
           "name": "Other mode of transport",
           "offsetgroup": "Other mode of transport",
           "orientation": "v",
           "showlegend": true,
           "textposition": "auto",
           "type": "bar",
           "x": [
            "2018",
            "2019",
            "2020",
            "2021"
           ],
           "xaxis": "x",
           "y": [
            39,
            51,
            35,
            38
           ],
           "yaxis": "y"
          }
         ],
         "name": "Overijssel"
        },
        {
         "data": [
          {
           "alignmentgroup": "True",
           "hovertemplate": "type=Passenger car (driver)<br>Region=Flevoland<br>year=%{x}<br>number of=%{y}<extra></extra>",
           "legendgroup": "Passenger car (driver)",
           "marker": {
            "color": "#636efa",
            "pattern": {
             "shape": ""
            }
           },
           "name": "Passenger car (driver)",
           "offsetgroup": "Passenger car (driver)",
           "orientation": "v",
           "showlegend": true,
           "textposition": "auto",
           "type": "bar",
           "x": [
            "2018",
            "2019",
            "2020",
            "2021"
           ],
           "xaxis": "x",
           "y": [
            363,
            353,
            315,
            291
           ],
           "yaxis": "y"
          },
          {
           "alignmentgroup": "True",
           "hovertemplate": "type=Passenger car (passenger)<br>Region=Flevoland<br>year=%{x}<br>number of=%{y}<extra></extra>",
           "legendgroup": "Passenger car (passenger)",
           "marker": {
            "color": "#EF553B",
            "pattern": {
             "shape": ""
            }
           },
           "name": "Passenger car (passenger)",
           "offsetgroup": "Passenger car (passenger)",
           "orientation": "v",
           "showlegend": true,
           "textposition": "auto",
           "type": "bar",
           "x": [
            "2018",
            "2019",
            "2020",
            "2021"
           ],
           "xaxis": "x",
           "y": [
            136,
            128,
            105,
            109
           ],
           "yaxis": "y"
          },
          {
           "alignmentgroup": "True",
           "hovertemplate": "type=Train<br>Region=Flevoland<br>year=%{x}<br>number of=%{y}<extra></extra>",
           "legendgroup": "Train",
           "marker": {
            "color": "#00cc96",
            "pattern": {
             "shape": ""
            }
           },
           "name": "Train",
           "offsetgroup": "Train",
           "orientation": "v",
           "showlegend": true,
           "textposition": "auto",
           "type": "bar",
           "x": [
            "2018",
            "2019",
            "2020",
            "2021"
           ],
           "xaxis": "x",
           "y": [
            44,
            45,
            0,
            0
           ],
           "yaxis": "y"
          },
          {
           "alignmentgroup": "True",
           "hovertemplate": "type=Bus/tram/metro<br>Region=Flevoland<br>year=%{x}<br>number of=%{y}<extra></extra>",
           "legendgroup": "Bus/tram/metro",
           "marker": {
            "color": "#ab63fa",
            "pattern": {
             "shape": ""
            }
           },
           "name": "Bus/tram/metro",
           "offsetgroup": "Bus/tram/metro",
           "orientation": "v",
           "showlegend": true,
           "textposition": "auto",
           "type": "bar",
           "x": [
            "2018",
            "2019",
            "2020",
            "2021"
           ],
           "xaxis": "x",
           "y": [
            31,
            0,
            0,
            0
           ],
           "yaxis": "y"
          },
          {
           "alignmentgroup": "True",
           "hovertemplate": "type=Bicycle<br>Region=Flevoland<br>year=%{x}<br>number of=%{y}<extra></extra>",
           "legendgroup": "Bicycle",
           "marker": {
            "color": "#FFA15A",
            "pattern": {
             "shape": ""
            }
           },
           "name": "Bicycle",
           "offsetgroup": "Bicycle",
           "orientation": "v",
           "showlegend": true,
           "textposition": "auto",
           "type": "bar",
           "x": [
            "2018",
            "2019",
            "2020",
            "2021"
           ],
           "xaxis": "x",
           "y": [
            218,
            202,
            168,
            179
           ],
           "yaxis": "y"
          },
          {
           "alignmentgroup": "True",
           "hovertemplate": "type=To walk<br>Region=Flevoland<br>year=%{x}<br>number of=%{y}<extra></extra>",
           "legendgroup": "To walk",
           "marker": {
            "color": "#19d3f3",
            "pattern": {
             "shape": ""
            }
           },
           "name": "To walk",
           "offsetgroup": "To walk",
           "orientation": "v",
           "showlegend": true,
           "textposition": "auto",
           "type": "bar",
           "x": [
            "2018",
            "2019",
            "2020",
            "2021"
           ],
           "xaxis": "x",
           "y": [
            145,
            146,
            167,
            189
           ],
           "yaxis": "y"
          },
          {
           "alignmentgroup": "True",
           "hovertemplate": "type=Other mode of transport<br>Region=Flevoland<br>year=%{x}<br>number of=%{y}<extra></extra>",
           "legendgroup": "Other mode of transport",
           "marker": {
            "color": "#FF6692",
            "pattern": {
             "shape": ""
            }
           },
           "name": "Other mode of transport",
           "offsetgroup": "Other mode of transport",
           "orientation": "v",
           "showlegend": true,
           "textposition": "auto",
           "type": "bar",
           "x": [
            "2018",
            "2019",
            "2020",
            "2021"
           ],
           "xaxis": "x",
           "y": [
            43,
            33,
            31,
            51
           ],
           "yaxis": "y"
          }
         ],
         "name": "Flevoland"
        },
        {
         "data": [
          {
           "alignmentgroup": "True",
           "hovertemplate": "type=Passenger car (driver)<br>Region=Gelderland<br>year=%{x}<br>number of=%{y}<extra></extra>",
           "legendgroup": "Passenger car (driver)",
           "marker": {
            "color": "#636efa",
            "pattern": {
             "shape": ""
            }
           },
           "name": "Passenger car (driver)",
           "offsetgroup": "Passenger car (driver)",
           "orientation": "v",
           "showlegend": true,
           "textposition": "auto",
           "type": "bar",
           "x": [
            "2018",
            "2019",
            "2020",
            "2021"
           ],
           "xaxis": "x",
           "y": [
            380,
            383,
            318,
            328
           ],
           "yaxis": "y"
          },
          {
           "alignmentgroup": "True",
           "hovertemplate": "type=Passenger car (passenger)<br>Region=Gelderland<br>year=%{x}<br>number of=%{y}<extra></extra>",
           "legendgroup": "Passenger car (passenger)",
           "marker": {
            "color": "#EF553B",
            "pattern": {
             "shape": ""
            }
           },
           "name": "Passenger car (passenger)",
           "offsetgroup": "Passenger car (passenger)",
           "orientation": "v",
           "showlegend": true,
           "textposition": "auto",
           "type": "bar",
           "x": [
            "2018",
            "2019",
            "2020",
            "2021"
           ],
           "xaxis": "x",
           "y": [
            122,
            118,
            91,
            95
           ],
           "yaxis": "y"
          },
          {
           "alignmentgroup": "True",
           "hovertemplate": "type=Train<br>Region=Gelderland<br>year=%{x}<br>number of=%{y}<extra></extra>",
           "legendgroup": "Train",
           "marker": {
            "color": "#00cc96",
            "pattern": {
             "shape": ""
            }
           },
           "name": "Train",
           "offsetgroup": "Train",
           "orientation": "v",
           "showlegend": true,
           "textposition": "auto",
           "type": "bar",
           "x": [
            "2018",
            "2019",
            "2020",
            "2021"
           ],
           "xaxis": "x",
           "y": [
            25,
            28,
            13,
            13
           ],
           "yaxis": "y"
          },
          {
           "alignmentgroup": "True",
           "hovertemplate": "type=Bus/tram/metro<br>Region=Gelderland<br>year=%{x}<br>number of=%{y}<extra></extra>",
           "legendgroup": "Bus/tram/metro",
           "marker": {
            "color": "#ab63fa",
            "pattern": {
             "shape": ""
            }
           },
           "name": "Bus/tram/metro",
           "offsetgroup": "Bus/tram/metro",
           "orientation": "v",
           "showlegend": true,
           "textposition": "auto",
           "type": "bar",
           "x": [
            "2018",
            "2019",
            "2020",
            "2021"
           ],
           "xaxis": "x",
           "y": [
            15,
            13,
            7,
            6
           ],
           "yaxis": "y"
          },
          {
           "alignmentgroup": "True",
           "hovertemplate": "type=Bicycle<br>Region=Gelderland<br>year=%{x}<br>number of=%{y}<extra></extra>",
           "legendgroup": "Bicycle",
           "marker": {
            "color": "#FFA15A",
            "pattern": {
             "shape": ""
            }
           },
           "name": "Bicycle",
           "offsetgroup": "Bicycle",
           "orientation": "v",
           "showlegend": true,
           "textposition": "auto",
           "type": "bar",
           "x": [
            "2018",
            "2019",
            "2020",
            "2021"
           ],
           "xaxis": "x",
           "y": [
            318,
            293,
            253,
            248
           ],
           "yaxis": "y"
          },
          {
           "alignmentgroup": "True",
           "hovertemplate": "type=To walk<br>Region=Gelderland<br>year=%{x}<br>number of=%{y}<extra></extra>",
           "legendgroup": "To walk",
           "marker": {
            "color": "#19d3f3",
            "pattern": {
             "shape": ""
            }
           },
           "name": "To walk",
           "offsetgroup": "To walk",
           "orientation": "v",
           "showlegend": true,
           "textposition": "auto",
           "type": "bar",
           "x": [
            "2018",
            "2019",
            "2020",
            "2021"
           ],
           "xaxis": "x",
           "y": [
            148,
            140,
            190,
            218
           ],
           "yaxis": "y"
          },
          {
           "alignmentgroup": "True",
           "hovertemplate": "type=Other mode of transport<br>Region=Gelderland<br>year=%{x}<br>number of=%{y}<extra></extra>",
           "legendgroup": "Other mode of transport",
           "marker": {
            "color": "#FF6692",
            "pattern": {
             "shape": ""
            }
           },
           "name": "Other mode of transport",
           "offsetgroup": "Other mode of transport",
           "orientation": "v",
           "showlegend": true,
           "textposition": "auto",
           "type": "bar",
           "x": [
            "2018",
            "2019",
            "2020",
            "2021"
           ],
           "xaxis": "x",
           "y": [
            36,
            42,
            34,
            39
           ],
           "yaxis": "y"
          }
         ],
         "name": "Gelderland"
        },
        {
         "data": [
          {
           "alignmentgroup": "True",
           "hovertemplate": "type=Passenger car (driver)<br>Region=Utrecht<br>year=%{x}<br>number of=%{y}<extra></extra>",
           "legendgroup": "Passenger car (driver)",
           "marker": {
            "color": "#636efa",
            "pattern": {
             "shape": ""
            }
           },
           "name": "Passenger car (driver)",
           "offsetgroup": "Passenger car (driver)",
           "orientation": "v",
           "showlegend": true,
           "textposition": "auto",
           "type": "bar",
           "x": [
            "2018",
            "2019",
            "2020",
            "2021"
           ],
           "xaxis": "x",
           "y": [
            331,
            324,
            268,
            277
           ],
           "yaxis": "y"
          },
          {
           "alignmentgroup": "True",
           "hovertemplate": "type=Passenger car (passenger)<br>Region=Utrecht<br>year=%{x}<br>number of=%{y}<extra></extra>",
           "legendgroup": "Passenger car (passenger)",
           "marker": {
            "color": "#EF553B",
            "pattern": {
             "shape": ""
            }
           },
           "name": "Passenger car (passenger)",
           "offsetgroup": "Passenger car (passenger)",
           "orientation": "v",
           "showlegend": true,
           "textposition": "auto",
           "type": "bar",
           "x": [
            "2018",
            "2019",
            "2020",
            "2021"
           ],
           "xaxis": "x",
           "y": [
            110,
            116,
            82,
            91
           ],
           "yaxis": "y"
          },
          {
           "alignmentgroup": "True",
           "hovertemplate": "type=Train<br>Region=Utrecht<br>year=%{x}<br>number of=%{y}<extra></extra>",
           "legendgroup": "Train",
           "marker": {
            "color": "#00cc96",
            "pattern": {
             "shape": ""
            }
           },
           "name": "Train",
           "offsetgroup": "Train",
           "orientation": "v",
           "showlegend": true,
           "textposition": "auto",
           "type": "bar",
           "x": [
            "2018",
            "2019",
            "2020",
            "2021"
           ],
           "xaxis": "x",
           "y": [
            42,
            47,
            19,
            19
           ],
           "yaxis": "y"
          },
          {
           "alignmentgroup": "True",
           "hovertemplate": "type=Bus/tram/metro<br>Region=Utrecht<br>year=%{x}<br>number of=%{y}<extra></extra>",
           "legendgroup": "Bus/tram/metro",
           "marker": {
            "color": "#ab63fa",
            "pattern": {
             "shape": ""
            }
           },
           "name": "Bus/tram/metro",
           "offsetgroup": "Bus/tram/metro",
           "orientation": "v",
           "showlegend": true,
           "textposition": "auto",
           "type": "bar",
           "x": [
            "2018",
            "2019",
            "2020",
            "2021"
           ],
           "xaxis": "x",
           "y": [
            25,
            17,
            11,
            12
           ],
           "yaxis": "y"
          },
          {
           "alignmentgroup": "True",
           "hovertemplate": "type=Bicycle<br>Region=Utrecht<br>year=%{x}<br>number of=%{y}<extra></extra>",
           "legendgroup": "Bicycle",
           "marker": {
            "color": "#FFA15A",
            "pattern": {
             "shape": ""
            }
           },
           "name": "Bicycle",
           "offsetgroup": "Bicycle",
           "orientation": "v",
           "showlegend": true,
           "textposition": "auto",
           "type": "bar",
           "x": [
            "2018",
            "2019",
            "2020",
            "2021"
           ],
           "xaxis": "x",
           "y": [
            344,
            334,
            269,
            271
           ],
           "yaxis": "y"
          },
          {
           "alignmentgroup": "True",
           "hovertemplate": "type=To walk<br>Region=Utrecht<br>year=%{x}<br>number of=%{y}<extra></extra>",
           "legendgroup": "To walk",
           "marker": {
            "color": "#19d3f3",
            "pattern": {
             "shape": ""
            }
           },
           "name": "To walk",
           "offsetgroup": "To walk",
           "orientation": "v",
           "showlegend": true,
           "textposition": "auto",
           "type": "bar",
           "x": [
            "2018",
            "2019",
            "2020",
            "2021"
           ],
           "xaxis": "x",
           "y": [
            169,
            155,
            210,
            236
           ],
           "yaxis": "y"
          },
          {
           "alignmentgroup": "True",
           "hovertemplate": "type=Other mode of transport<br>Region=Utrecht<br>year=%{x}<br>number of=%{y}<extra></extra>",
           "legendgroup": "Other mode of transport",
           "marker": {
            "color": "#FF6692",
            "pattern": {
             "shape": ""
            }
           },
           "name": "Other mode of transport",
           "offsetgroup": "Other mode of transport",
           "orientation": "v",
           "showlegend": true,
           "textposition": "auto",
           "type": "bar",
           "x": [
            "2018",
            "2019",
            "2020",
            "2021"
           ],
           "xaxis": "x",
           "y": [
            35,
            34,
            29,
            31
           ],
           "yaxis": "y"
          }
         ],
         "name": "Utrecht"
        },
        {
         "data": [
          {
           "alignmentgroup": "True",
           "hovertemplate": "type=Passenger car (driver)<br>Region=North Holland<br>year=%{x}<br>number of=%{y}<extra></extra>",
           "legendgroup": "Passenger car (driver)",
           "marker": {
            "color": "#636efa",
            "pattern": {
             "shape": ""
            }
           },
           "name": "Passenger car (driver)",
           "offsetgroup": "Passenger car (driver)",
           "orientation": "v",
           "showlegend": true,
           "textposition": "auto",
           "type": "bar",
           "x": [
            "2018",
            "2019",
            "2020",
            "2021"
           ],
           "xaxis": "x",
           "y": [
            290,
            281,
            242,
            244
           ],
           "yaxis": "y"
          },
          {
           "alignmentgroup": "True",
           "hovertemplate": "type=Passenger car (passenger)<br>Region=North Holland<br>year=%{x}<br>number of=%{y}<extra></extra>",
           "legendgroup": "Passenger car (passenger)",
           "marker": {
            "color": "#EF553B",
            "pattern": {
             "shape": ""
            }
           },
           "name": "Passenger car (passenger)",
           "offsetgroup": "Passenger car (passenger)",
           "orientation": "v",
           "showlegend": true,
           "textposition": "auto",
           "type": "bar",
           "x": [
            "2018",
            "2019",
            "2020",
            "2021"
           ],
           "xaxis": "x",
           "y": [
            106,
            96,
            72,
            84
           ],
           "yaxis": "y"
          },
          {
           "alignmentgroup": "True",
           "hovertemplate": "type=Train<br>Region=North Holland<br>year=%{x}<br>number of=%{y}<extra></extra>",
           "legendgroup": "Train",
           "marker": {
            "color": "#00cc96",
            "pattern": {
             "shape": ""
            }
           },
           "name": "Train",
           "offsetgroup": "Train",
           "orientation": "v",
           "showlegend": true,
           "textposition": "auto",
           "type": "bar",
           "x": [
            "2018",
            "2019",
            "2020",
            "2021"
           ],
           "xaxis": "x",
           "y": [
            42,
            41,
            18,
            18
           ],
           "yaxis": "y"
          },
          {
           "alignmentgroup": "True",
           "hovertemplate": "type=Bus/tram/metro<br>Region=North Holland<br>year=%{x}<br>number of=%{y}<extra></extra>",
           "legendgroup": "Bus/tram/metro",
           "marker": {
            "color": "#ab63fa",
            "pattern": {
             "shape": ""
            }
           },
           "name": "Bus/tram/metro",
           "offsetgroup": "Bus/tram/metro",
           "orientation": "v",
           "showlegend": true,
           "textposition": "auto",
           "type": "bar",
           "x": [
            "2018",
            "2019",
            "2020",
            "2021"
           ],
           "xaxis": "x",
           "y": [
            50,
            44,
            24,
            25
           ],
           "yaxis": "y"
          },
          {
           "alignmentgroup": "True",
           "hovertemplate": "type=Bicycle<br>Region=North Holland<br>year=%{x}<br>number of=%{y}<extra></extra>",
           "legendgroup": "Bicycle",
           "marker": {
            "color": "#FFA15A",
            "pattern": {
             "shape": ""
            }
           },
           "name": "Bicycle",
           "offsetgroup": "Bicycle",
           "orientation": "v",
           "showlegend": true,
           "textposition": "auto",
           "type": "bar",
           "x": [
            "2018",
            "2019",
            "2020",
            "2021"
           ],
           "xaxis": "x",
           "y": [
            308,
            293,
            237,
            246
           ],
           "yaxis": "y"
          },
          {
           "alignmentgroup": "True",
           "hovertemplate": "type=To walk<br>Region=North Holland<br>year=%{x}<br>number of=%{y}<extra></extra>",
           "legendgroup": "To walk",
           "marker": {
            "color": "#19d3f3",
            "pattern": {
             "shape": ""
            }
           },
           "name": "To walk",
           "offsetgroup": "To walk",
           "orientation": "v",
           "showlegend": true,
           "textposition": "auto",
           "type": "bar",
           "x": [
            "2018",
            "2019",
            "2020",
            "2021"
           ],
           "xaxis": "x",
           "y": [
            168,
            165,
            197,
            240
           ],
           "yaxis": "y"
          },
          {
           "alignmentgroup": "True",
           "hovertemplate": "type=Other mode of transport<br>Region=North Holland<br>year=%{x}<br>number of=%{y}<extra></extra>",
           "legendgroup": "Other mode of transport",
           "marker": {
            "color": "#FF6692",
            "pattern": {
             "shape": ""
            }
           },
           "name": "Other mode of transport",
           "offsetgroup": "Other mode of transport",
           "orientation": "v",
           "showlegend": true,
           "textposition": "auto",
           "type": "bar",
           "x": [
            "2018",
            "2019",
            "2020",
            "2021"
           ],
           "xaxis": "x",
           "y": [
            40,
            42,
            30,
            34
           ],
           "yaxis": "y"
          }
         ],
         "name": "North Holland"
        },
        {
         "data": [
          {
           "alignmentgroup": "True",
           "hovertemplate": "type=Passenger car (driver)<br>Region=South Holland<br>year=%{x}<br>number of=%{y}<extra></extra>",
           "legendgroup": "Passenger car (driver)",
           "marker": {
            "color": "#636efa",
            "pattern": {
             "shape": ""
            }
           },
           "name": "Passenger car (driver)",
           "offsetgroup": "Passenger car (driver)",
           "orientation": "v",
           "showlegend": true,
           "textposition": "auto",
           "type": "bar",
           "x": [
            "2018",
            "2019",
            "2020",
            "2021"
           ],
           "xaxis": "x",
           "y": [
            320,
            315,
            251,
            262
           ],
           "yaxis": "y"
          },
          {
           "alignmentgroup": "True",
           "hovertemplate": "type=Passenger car (passenger)<br>Region=South Holland<br>year=%{x}<br>number of=%{y}<extra></extra>",
           "legendgroup": "Passenger car (passenger)",
           "marker": {
            "color": "#EF553B",
            "pattern": {
             "shape": ""
            }
           },
           "name": "Passenger car (passenger)",
           "offsetgroup": "Passenger car (passenger)",
           "orientation": "v",
           "showlegend": true,
           "textposition": "auto",
           "type": "bar",
           "x": [
            "2018",
            "2019",
            "2020",
            "2021"
           ],
           "xaxis": "x",
           "y": [
            106,
            109,
            81,
            88
           ],
           "yaxis": "y"
          },
          {
           "alignmentgroup": "True",
           "hovertemplate": "type=Train<br>Region=South Holland<br>year=%{x}<br>number of=%{y}<extra></extra>",
           "legendgroup": "Train",
           "marker": {
            "color": "#00cc96",
            "pattern": {
             "shape": ""
            }
           },
           "name": "Train",
           "offsetgroup": "Train",
           "orientation": "v",
           "showlegend": true,
           "textposition": "auto",
           "type": "bar",
           "x": [
            "2018",
            "2019",
            "2020",
            "2021"
           ],
           "xaxis": "x",
           "y": [
            31,
            32,
            12,
            14
           ],
           "yaxis": "y"
          },
          {
           "alignmentgroup": "True",
           "hovertemplate": "type=Bus/tram/metro<br>Region=South Holland<br>year=%{x}<br>number of=%{y}<extra></extra>",
           "legendgroup": "Bus/tram/metro",
           "marker": {
            "color": "#ab63fa",
            "pattern": {
             "shape": ""
            }
           },
           "name": "Bus/tram/metro",
           "offsetgroup": "Bus/tram/metro",
           "orientation": "v",
           "showlegend": true,
           "textposition": "auto",
           "type": "bar",
           "x": [
            "2018",
            "2019",
            "2020",
            "2021"
           ],
           "xaxis": "x",
           "y": [
            49,
            50,
            23,
            24
           ],
           "yaxis": "y"
          },
          {
           "alignmentgroup": "True",
           "hovertemplate": "type=Bicycle<br>Region=South Holland<br>year=%{x}<br>number of=%{y}<extra></extra>",
           "legendgroup": "Bicycle",
           "marker": {
            "color": "#FFA15A",
            "pattern": {
             "shape": ""
            }
           },
           "name": "Bicycle",
           "offsetgroup": "Bicycle",
           "orientation": "v",
           "showlegend": true,
           "textposition": "auto",
           "type": "bar",
           "x": [
            "2018",
            "2019",
            "2020",
            "2021"
           ],
           "xaxis": "x",
           "y": [
            263,
            253,
            213,
            214
           ],
           "yaxis": "y"
          },
          {
           "alignmentgroup": "True",
           "hovertemplate": "type=To walk<br>Region=South Holland<br>year=%{x}<br>number of=%{y}<extra></extra>",
           "legendgroup": "To walk",
           "marker": {
            "color": "#19d3f3",
            "pattern": {
             "shape": ""
            }
           },
           "name": "To walk",
           "offsetgroup": "To walk",
           "orientation": "v",
           "showlegend": true,
           "textposition": "auto",
           "type": "bar",
           "x": [
            "2018",
            "2019",
            "2020",
            "2021"
           ],
           "xaxis": "x",
           "y": [
            182,
            171,
            205,
            239
           ],
           "yaxis": "y"
          },
          {
           "alignmentgroup": "True",
           "hovertemplate": "type=Other mode of transport<br>Region=South Holland<br>year=%{x}<br>number of=%{y}<extra></extra>",
           "legendgroup": "Other mode of transport",
           "marker": {
            "color": "#FF6692",
            "pattern": {
             "shape": ""
            }
           },
           "name": "Other mode of transport",
           "offsetgroup": "Other mode of transport",
           "orientation": "v",
           "showlegend": true,
           "textposition": "auto",
           "type": "bar",
           "x": [
            "2018",
            "2019",
            "2020",
            "2021"
           ],
           "xaxis": "x",
           "y": [
            38,
            39,
            30,
            38
           ],
           "yaxis": "y"
          }
         ],
         "name": "South Holland"
        },
        {
         "data": [
          {
           "alignmentgroup": "True",
           "hovertemplate": "type=Passenger car (driver)<br>Region=Zealand<br>year=%{x}<br>number of=%{y}<extra></extra>",
           "legendgroup": "Passenger car (driver)",
           "marker": {
            "color": "#636efa",
            "pattern": {
             "shape": ""
            }
           },
           "name": "Passenger car (driver)",
           "offsetgroup": "Passenger car (driver)",
           "orientation": "v",
           "showlegend": true,
           "textposition": "auto",
           "type": "bar",
           "x": [
            "2018",
            "2019",
            "2020",
            "2021"
           ],
           "xaxis": "x",
           "y": [
            361,
            371,
            316,
            341
           ],
           "yaxis": "y"
          },
          {
           "alignmentgroup": "True",
           "hovertemplate": "type=Passenger car (passenger)<br>Region=Zealand<br>year=%{x}<br>number of=%{y}<extra></extra>",
           "legendgroup": "Passenger car (passenger)",
           "marker": {
            "color": "#EF553B",
            "pattern": {
             "shape": ""
            }
           },
           "name": "Passenger car (passenger)",
           "offsetgroup": "Passenger car (passenger)",
           "orientation": "v",
           "showlegend": true,
           "textposition": "auto",
           "type": "bar",
           "x": [
            "2018",
            "2019",
            "2020",
            "2021"
           ],
           "xaxis": "x",
           "y": [
            123,
            128,
            82,
            101
           ],
           "yaxis": "y"
          },
          {
           "alignmentgroup": "True",
           "hovertemplate": "type=Train<br>Region=Zealand<br>year=%{x}<br>number of=%{y}<extra></extra>",
           "legendgroup": "Train",
           "marker": {
            "color": "#00cc96",
            "pattern": {
             "shape": ""
            }
           },
           "name": "Train",
           "offsetgroup": "Train",
           "orientation": "v",
           "showlegend": true,
           "textposition": "auto",
           "type": "bar",
           "x": [
            "2018",
            "2019",
            "2020",
            "2021"
           ],
           "xaxis": "x",
           "y": [
            0,
            0,
            0,
            0
           ],
           "yaxis": "y"
          },
          {
           "alignmentgroup": "True",
           "hovertemplate": "type=Bus/tram/metro<br>Region=Zealand<br>year=%{x}<br>number of=%{y}<extra></extra>",
           "legendgroup": "Bus/tram/metro",
           "marker": {
            "color": "#ab63fa",
            "pattern": {
             "shape": ""
            }
           },
           "name": "Bus/tram/metro",
           "offsetgroup": "Bus/tram/metro",
           "orientation": "v",
           "showlegend": true,
           "textposition": "auto",
           "type": "bar",
           "x": [
            "2018",
            "2019",
            "2020",
            "2021"
           ],
           "xaxis": "x",
           "y": [
            0,
            0,
            0,
            0
           ],
           "yaxis": "y"
          },
          {
           "alignmentgroup": "True",
           "hovertemplate": "type=Bicycle<br>Region=Zealand<br>year=%{x}<br>number of=%{y}<extra></extra>",
           "legendgroup": "Bicycle",
           "marker": {
            "color": "#FFA15A",
            "pattern": {
             "shape": ""
            }
           },
           "name": "Bicycle",
           "offsetgroup": "Bicycle",
           "orientation": "v",
           "showlegend": true,
           "textposition": "auto",
           "type": "bar",
           "x": [
            "2018",
            "2019",
            "2020",
            "2021"
           ],
           "xaxis": "x",
           "y": [
            275,
            274,
            245,
            229
           ],
           "yaxis": "y"
          },
          {
           "alignmentgroup": "True",
           "hovertemplate": "type=To walk<br>Region=Zealand<br>year=%{x}<br>number of=%{y}<extra></extra>",
           "legendgroup": "To walk",
           "marker": {
            "color": "#19d3f3",
            "pattern": {
             "shape": ""
            }
           },
           "name": "To walk",
           "offsetgroup": "To walk",
           "orientation": "v",
           "showlegend": true,
           "textposition": "auto",
           "type": "bar",
           "x": [
            "2018",
            "2019",
            "2020",
            "2021"
           ],
           "xaxis": "x",
           "y": [
            153,
            139,
            163,
            202
           ],
           "yaxis": "y"
          },
          {
           "alignmentgroup": "True",
           "hovertemplate": "type=Other mode of transport<br>Region=Zealand<br>year=%{x}<br>number of=%{y}<extra></extra>",
           "legendgroup": "Other mode of transport",
           "marker": {
            "color": "#FF6692",
            "pattern": {
             "shape": ""
            }
           },
           "name": "Other mode of transport",
           "offsetgroup": "Other mode of transport",
           "orientation": "v",
           "showlegend": true,
           "textposition": "auto",
           "type": "bar",
           "x": [
            "2018",
            "2019",
            "2020",
            "2021"
           ],
           "xaxis": "x",
           "y": [
            50,
            57,
            0,
            63
           ],
           "yaxis": "y"
          }
         ],
         "name": "Zealand"
        },
        {
         "data": [
          {
           "alignmentgroup": "True",
           "hovertemplate": "type=Passenger car (driver)<br>Region=North Brabant<br>year=%{x}<br>number of=%{y}<extra></extra>",
           "legendgroup": "Passenger car (driver)",
           "marker": {
            "color": "#636efa",
            "pattern": {
             "shape": ""
            }
           },
           "name": "Passenger car (driver)",
           "offsetgroup": "Passenger car (driver)",
           "orientation": "v",
           "showlegend": true,
           "textposition": "auto",
           "type": "bar",
           "x": [
            "2018",
            "2019",
            "2020",
            "2021"
           ],
           "xaxis": "x",
           "y": [
            384,
            396,
            343,
            351
           ],
           "yaxis": "y"
          },
          {
           "alignmentgroup": "True",
           "hovertemplate": "type=Passenger car (passenger)<br>Region=North Brabant<br>year=%{x}<br>number of=%{y}<extra></extra>",
           "legendgroup": "Passenger car (passenger)",
           "marker": {
            "color": "#EF553B",
            "pattern": {
             "shape": ""
            }
           },
           "name": "Passenger car (passenger)",
           "offsetgroup": "Passenger car (passenger)",
           "orientation": "v",
           "showlegend": true,
           "textposition": "auto",
           "type": "bar",
           "x": [
            "2018",
            "2019",
            "2020",
            "2021"
           ],
           "xaxis": "x",
           "y": [
            127,
            120,
            100,
            98
           ],
           "yaxis": "y"
          },
          {
           "alignmentgroup": "True",
           "hovertemplate": "type=Train<br>Region=North Brabant<br>year=%{x}<br>number of=%{y}<extra></extra>",
           "legendgroup": "Train",
           "marker": {
            "color": "#00cc96",
            "pattern": {
             "shape": ""
            }
           },
           "name": "Train",
           "offsetgroup": "Train",
           "orientation": "v",
           "showlegend": true,
           "textposition": "auto",
           "type": "bar",
           "x": [
            "2018",
            "2019",
            "2020",
            "2021"
           ],
           "xaxis": "x",
           "y": [
            20,
            23,
            9,
            7
           ],
           "yaxis": "y"
          },
          {
           "alignmentgroup": "True",
           "hovertemplate": "type=Bus/tram/metro<br>Region=North Brabant<br>year=%{x}<br>number of=%{y}<extra></extra>",
           "legendgroup": "Bus/tram/metro",
           "marker": {
            "color": "#ab63fa",
            "pattern": {
             "shape": ""
            }
           },
           "name": "Bus/tram/metro",
           "offsetgroup": "Bus/tram/metro",
           "orientation": "v",
           "showlegend": true,
           "textposition": "auto",
           "type": "bar",
           "x": [
            "2018",
            "2019",
            "2020",
            "2021"
           ],
           "xaxis": "x",
           "y": [
            13,
            14,
            5,
            5
           ],
           "yaxis": "y"
          },
          {
           "alignmentgroup": "True",
           "hovertemplate": "type=Bicycle<br>Region=North Brabant<br>year=%{x}<br>number of=%{y}<extra></extra>",
           "legendgroup": "Bicycle",
           "marker": {
            "color": "#FFA15A",
            "pattern": {
             "shape": ""
            }
           },
           "name": "Bicycle",
           "offsetgroup": "Bicycle",
           "orientation": "v",
           "showlegend": true,
           "textposition": "auto",
           "type": "bar",
           "x": [
            "2018",
            "2019",
            "2020",
            "2021"
           ],
           "xaxis": "x",
           "y": [
            274,
            257,
            218,
            220
           ],
           "yaxis": "y"
          },
          {
           "alignmentgroup": "True",
           "hovertemplate": "type=To walk<br>Region=North Brabant<br>year=%{x}<br>number of=%{y}<extra></extra>",
           "legendgroup": "To walk",
           "marker": {
            "color": "#19d3f3",
            "pattern": {
             "shape": ""
            }
           },
           "name": "To walk",
           "offsetgroup": "To walk",
           "orientation": "v",
           "showlegend": true,
           "textposition": "auto",
           "type": "bar",
           "x": [
            "2018",
            "2019",
            "2020",
            "2021"
           ],
           "xaxis": "x",
           "y": [
            161,
            160,
            197,
            222
           ],
           "yaxis": "y"
          },
          {
           "alignmentgroup": "True",
           "hovertemplate": "type=Other mode of transport<br>Region=North Brabant<br>year=%{x}<br>number of=%{y}<extra></extra>",
           "legendgroup": "Other mode of transport",
           "marker": {
            "color": "#FF6692",
            "pattern": {
             "shape": ""
            }
           },
           "name": "Other mode of transport",
           "offsetgroup": "Other mode of transport",
           "orientation": "v",
           "showlegend": true,
           "textposition": "auto",
           "type": "bar",
           "x": [
            "2018",
            "2019",
            "2020",
            "2021"
           ],
           "xaxis": "x",
           "y": [
            42,
            36,
            32,
            36
           ],
           "yaxis": "y"
          }
         ],
         "name": "North Brabant"
        },
        {
         "data": [
          {
           "alignmentgroup": "True",
           "hovertemplate": "type=Passenger car (driver)<br>Region=Limburg<br>year=%{x}<br>number of=%{y}<extra></extra>",
           "legendgroup": "Passenger car (driver)",
           "marker": {
            "color": "#636efa",
            "pattern": {
             "shape": ""
            }
           },
           "name": "Passenger car (driver)",
           "offsetgroup": "Passenger car (driver)",
           "orientation": "v",
           "showlegend": true,
           "textposition": "auto",
           "type": "bar",
           "x": [
            "2018",
            "2019",
            "2020",
            "2021"
           ],
           "xaxis": "x",
           "y": [
            407,
            420,
            371,
            349
           ],
           "yaxis": "y"
          },
          {
           "alignmentgroup": "True",
           "hovertemplate": "type=Passenger car (passenger)<br>Region=Limburg<br>year=%{x}<br>number of=%{y}<extra></extra>",
           "legendgroup": "Passenger car (passenger)",
           "marker": {
            "color": "#EF553B",
            "pattern": {
             "shape": ""
            }
           },
           "name": "Passenger car (passenger)",
           "offsetgroup": "Passenger car (passenger)",
           "orientation": "v",
           "showlegend": true,
           "textposition": "auto",
           "type": "bar",
           "x": [
            "2018",
            "2019",
            "2020",
            "2021"
           ],
           "xaxis": "x",
           "y": [
            141,
            137,
            96,
            107
           ],
           "yaxis": "y"
          },
          {
           "alignmentgroup": "True",
           "hovertemplate": "type=Train<br>Region=Limburg<br>year=%{x}<br>number of=%{y}<extra></extra>",
           "legendgroup": "Train",
           "marker": {
            "color": "#00cc96",
            "pattern": {
             "shape": ""
            }
           },
           "name": "Train",
           "offsetgroup": "Train",
           "orientation": "v",
           "showlegend": true,
           "textposition": "auto",
           "type": "bar",
           "x": [
            "2018",
            "2019",
            "2020",
            "2021"
           ],
           "xaxis": "x",
           "y": [
            22,
            21,
            0,
            10
           ],
           "yaxis": "y"
          },
          {
           "alignmentgroup": "True",
           "hovertemplate": "type=Bus/tram/metro<br>Region=Limburg<br>year=%{x}<br>number of=%{y}<extra></extra>",
           "legendgroup": "Bus/tram/metro",
           "marker": {
            "color": "#ab63fa",
            "pattern": {
             "shape": ""
            }
           },
           "name": "Bus/tram/metro",
           "offsetgroup": "Bus/tram/metro",
           "orientation": "v",
           "showlegend": true,
           "textposition": "auto",
           "type": "bar",
           "x": [
            "2018",
            "2019",
            "2020",
            "2021"
           ],
           "xaxis": "x",
           "y": [
            16,
            12,
            0,
            0
           ],
           "yaxis": "y"
          },
          {
           "alignmentgroup": "True",
           "hovertemplate": "type=Bicycle<br>Region=Limburg<br>year=%{x}<br>number of=%{y}<extra></extra>",
           "legendgroup": "Bicycle",
           "marker": {
            "color": "#FFA15A",
            "pattern": {
             "shape": ""
            }
           },
           "name": "Bicycle",
           "offsetgroup": "Bicycle",
           "orientation": "v",
           "showlegend": true,
           "textposition": "auto",
           "type": "bar",
           "x": [
            "2018",
            "2019",
            "2020",
            "2021"
           ],
           "xaxis": "x",
           "y": [
            211,
            202,
            163,
            161
           ],
           "yaxis": "y"
          },
          {
           "alignmentgroup": "True",
           "hovertemplate": "type=To walk<br>Region=Limburg<br>year=%{x}<br>number of=%{y}<extra></extra>",
           "legendgroup": "To walk",
           "marker": {
            "color": "#19d3f3",
            "pattern": {
             "shape": ""
            }
           },
           "name": "To walk",
           "offsetgroup": "To walk",
           "orientation": "v",
           "showlegend": true,
           "textposition": "auto",
           "type": "bar",
           "x": [
            "2018",
            "2019",
            "2020",
            "2021"
           ],
           "xaxis": "x",
           "y": [
            178,
            158,
            196,
            242
           ],
           "yaxis": "y"
          },
          {
           "alignmentgroup": "True",
           "hovertemplate": "type=Other mode of transport<br>Region=Limburg<br>year=%{x}<br>number of=%{y}<extra></extra>",
           "legendgroup": "Other mode of transport",
           "marker": {
            "color": "#FF6692",
            "pattern": {
             "shape": ""
            }
           },
           "name": "Other mode of transport",
           "offsetgroup": "Other mode of transport",
           "orientation": "v",
           "showlegend": true,
           "textposition": "auto",
           "type": "bar",
           "x": [
            "2018",
            "2019",
            "2020",
            "2021"
           ],
           "xaxis": "x",
           "y": [
            36,
            41,
            34,
            40
           ],
           "yaxis": "y"
          }
         ],
         "name": "Limburg"
        }
       ],
       "layout": {
        "barmode": "relative",
        "legend": {
         "title": {
          "text": "type"
         },
         "tracegroupgap": 0
        },
        "sliders": [
         {
          "active": 0,
          "currentvalue": {
           "prefix": "Region="
          },
          "len": 0.9,
          "pad": {
           "b": 10,
           "t": 60
          },
          "steps": [
           {
            "args": [
             [
              "The Netherlands"
             ],
             {
              "frame": {
               "duration": 0,
               "redraw": true
              },
              "fromcurrent": true,
              "mode": "immediate",
              "transition": {
               "duration": 0,
               "easing": "linear"
              }
             }
            ],
            "label": "The Netherlands",
            "method": "animate"
           },
           {
            "args": [
             [
              "Groningen"
             ],
             {
              "frame": {
               "duration": 0,
               "redraw": true
              },
              "fromcurrent": true,
              "mode": "immediate",
              "transition": {
               "duration": 0,
               "easing": "linear"
              }
             }
            ],
            "label": "Groningen",
            "method": "animate"
           },
           {
            "args": [
             [
              "Friesland"
             ],
             {
              "frame": {
               "duration": 0,
               "redraw": true
              },
              "fromcurrent": true,
              "mode": "immediate",
              "transition": {
               "duration": 0,
               "easing": "linear"
              }
             }
            ],
            "label": "Friesland",
            "method": "animate"
           },
           {
            "args": [
             [
              "Drenthe"
             ],
             {
              "frame": {
               "duration": 0,
               "redraw": true
              },
              "fromcurrent": true,
              "mode": "immediate",
              "transition": {
               "duration": 0,
               "easing": "linear"
              }
             }
            ],
            "label": "Drenthe",
            "method": "animate"
           },
           {
            "args": [
             [
              "Overijssel"
             ],
             {
              "frame": {
               "duration": 0,
               "redraw": true
              },
              "fromcurrent": true,
              "mode": "immediate",
              "transition": {
               "duration": 0,
               "easing": "linear"
              }
             }
            ],
            "label": "Overijssel",
            "method": "animate"
           },
           {
            "args": [
             [
              "Flevoland"
             ],
             {
              "frame": {
               "duration": 0,
               "redraw": true
              },
              "fromcurrent": true,
              "mode": "immediate",
              "transition": {
               "duration": 0,
               "easing": "linear"
              }
             }
            ],
            "label": "Flevoland",
            "method": "animate"
           },
           {
            "args": [
             [
              "Gelderland"
             ],
             {
              "frame": {
               "duration": 0,
               "redraw": true
              },
              "fromcurrent": true,
              "mode": "immediate",
              "transition": {
               "duration": 0,
               "easing": "linear"
              }
             }
            ],
            "label": "Gelderland",
            "method": "animate"
           },
           {
            "args": [
             [
              "Utrecht"
             ],
             {
              "frame": {
               "duration": 0,
               "redraw": true
              },
              "fromcurrent": true,
              "mode": "immediate",
              "transition": {
               "duration": 0,
               "easing": "linear"
              }
             }
            ],
            "label": "Utrecht",
            "method": "animate"
           },
           {
            "args": [
             [
              "North Holland"
             ],
             {
              "frame": {
               "duration": 0,
               "redraw": true
              },
              "fromcurrent": true,
              "mode": "immediate",
              "transition": {
               "duration": 0,
               "easing": "linear"
              }
             }
            ],
            "label": "North Holland",
            "method": "animate"
           },
           {
            "args": [
             [
              "South Holland"
             ],
             {
              "frame": {
               "duration": 0,
               "redraw": true
              },
              "fromcurrent": true,
              "mode": "immediate",
              "transition": {
               "duration": 0,
               "easing": "linear"
              }
             }
            ],
            "label": "South Holland",
            "method": "animate"
           },
           {
            "args": [
             [
              "Zealand"
             ],
             {
              "frame": {
               "duration": 0,
               "redraw": true
              },
              "fromcurrent": true,
              "mode": "immediate",
              "transition": {
               "duration": 0,
               "easing": "linear"
              }
             }
            ],
            "label": "Zealand",
            "method": "animate"
           },
           {
            "args": [
             [
              "North Brabant"
             ],
             {
              "frame": {
               "duration": 0,
               "redraw": true
              },
              "fromcurrent": true,
              "mode": "immediate",
              "transition": {
               "duration": 0,
               "easing": "linear"
              }
             }
            ],
            "label": "North Brabant",
            "method": "animate"
           },
           {
            "args": [
             [
              "Limburg"
             ],
             {
              "frame": {
               "duration": 0,
               "redraw": true
              },
              "fromcurrent": true,
              "mode": "immediate",
              "transition": {
               "duration": 0,
               "easing": "linear"
              }
             }
            ],
            "label": "Limburg",
            "method": "animate"
           }
          ],
          "x": 0.1,
          "xanchor": "left",
          "y": 0,
          "yanchor": "top"
         }
        ],
        "template": {
         "data": {
          "bar": [
           {
            "error_x": {
             "color": "#2a3f5f"
            },
            "error_y": {
             "color": "#2a3f5f"
            },
            "marker": {
             "line": {
              "color": "#E5ECF6",
              "width": 0.5
             },
             "pattern": {
              "fillmode": "overlay",
              "size": 10,
              "solidity": 0.2
             }
            },
            "type": "bar"
           }
          ],
          "barpolar": [
           {
            "marker": {
             "line": {
              "color": "#E5ECF6",
              "width": 0.5
             },
             "pattern": {
              "fillmode": "overlay",
              "size": 10,
              "solidity": 0.2
             }
            },
            "type": "barpolar"
           }
          ],
          "carpet": [
           {
            "aaxis": {
             "endlinecolor": "#2a3f5f",
             "gridcolor": "white",
             "linecolor": "white",
             "minorgridcolor": "white",
             "startlinecolor": "#2a3f5f"
            },
            "baxis": {
             "endlinecolor": "#2a3f5f",
             "gridcolor": "white",
             "linecolor": "white",
             "minorgridcolor": "white",
             "startlinecolor": "#2a3f5f"
            },
            "type": "carpet"
           }
          ],
          "choropleth": [
           {
            "colorbar": {
             "outlinewidth": 0,
             "ticks": ""
            },
            "type": "choropleth"
           }
          ],
          "contour": [
           {
            "colorbar": {
             "outlinewidth": 0,
             "ticks": ""
            },
            "colorscale": [
             [
              0,
              "#0d0887"
             ],
             [
              0.1111111111111111,
              "#46039f"
             ],
             [
              0.2222222222222222,
              "#7201a8"
             ],
             [
              0.3333333333333333,
              "#9c179e"
             ],
             [
              0.4444444444444444,
              "#bd3786"
             ],
             [
              0.5555555555555556,
              "#d8576b"
             ],
             [
              0.6666666666666666,
              "#ed7953"
             ],
             [
              0.7777777777777778,
              "#fb9f3a"
             ],
             [
              0.8888888888888888,
              "#fdca26"
             ],
             [
              1,
              "#f0f921"
             ]
            ],
            "type": "contour"
           }
          ],
          "contourcarpet": [
           {
            "colorbar": {
             "outlinewidth": 0,
             "ticks": ""
            },
            "type": "contourcarpet"
           }
          ],
          "heatmap": [
           {
            "colorbar": {
             "outlinewidth": 0,
             "ticks": ""
            },
            "colorscale": [
             [
              0,
              "#0d0887"
             ],
             [
              0.1111111111111111,
              "#46039f"
             ],
             [
              0.2222222222222222,
              "#7201a8"
             ],
             [
              0.3333333333333333,
              "#9c179e"
             ],
             [
              0.4444444444444444,
              "#bd3786"
             ],
             [
              0.5555555555555556,
              "#d8576b"
             ],
             [
              0.6666666666666666,
              "#ed7953"
             ],
             [
              0.7777777777777778,
              "#fb9f3a"
             ],
             [
              0.8888888888888888,
              "#fdca26"
             ],
             [
              1,
              "#f0f921"
             ]
            ],
            "type": "heatmap"
           }
          ],
          "heatmapgl": [
           {
            "colorbar": {
             "outlinewidth": 0,
             "ticks": ""
            },
            "colorscale": [
             [
              0,
              "#0d0887"
             ],
             [
              0.1111111111111111,
              "#46039f"
             ],
             [
              0.2222222222222222,
              "#7201a8"
             ],
             [
              0.3333333333333333,
              "#9c179e"
             ],
             [
              0.4444444444444444,
              "#bd3786"
             ],
             [
              0.5555555555555556,
              "#d8576b"
             ],
             [
              0.6666666666666666,
              "#ed7953"
             ],
             [
              0.7777777777777778,
              "#fb9f3a"
             ],
             [
              0.8888888888888888,
              "#fdca26"
             ],
             [
              1,
              "#f0f921"
             ]
            ],
            "type": "heatmapgl"
           }
          ],
          "histogram": [
           {
            "marker": {
             "pattern": {
              "fillmode": "overlay",
              "size": 10,
              "solidity": 0.2
             }
            },
            "type": "histogram"
           }
          ],
          "histogram2d": [
           {
            "colorbar": {
             "outlinewidth": 0,
             "ticks": ""
            },
            "colorscale": [
             [
              0,
              "#0d0887"
             ],
             [
              0.1111111111111111,
              "#46039f"
             ],
             [
              0.2222222222222222,
              "#7201a8"
             ],
             [
              0.3333333333333333,
              "#9c179e"
             ],
             [
              0.4444444444444444,
              "#bd3786"
             ],
             [
              0.5555555555555556,
              "#d8576b"
             ],
             [
              0.6666666666666666,
              "#ed7953"
             ],
             [
              0.7777777777777778,
              "#fb9f3a"
             ],
             [
              0.8888888888888888,
              "#fdca26"
             ],
             [
              1,
              "#f0f921"
             ]
            ],
            "type": "histogram2d"
           }
          ],
          "histogram2dcontour": [
           {
            "colorbar": {
             "outlinewidth": 0,
             "ticks": ""
            },
            "colorscale": [
             [
              0,
              "#0d0887"
             ],
             [
              0.1111111111111111,
              "#46039f"
             ],
             [
              0.2222222222222222,
              "#7201a8"
             ],
             [
              0.3333333333333333,
              "#9c179e"
             ],
             [
              0.4444444444444444,
              "#bd3786"
             ],
             [
              0.5555555555555556,
              "#d8576b"
             ],
             [
              0.6666666666666666,
              "#ed7953"
             ],
             [
              0.7777777777777778,
              "#fb9f3a"
             ],
             [
              0.8888888888888888,
              "#fdca26"
             ],
             [
              1,
              "#f0f921"
             ]
            ],
            "type": "histogram2dcontour"
           }
          ],
          "mesh3d": [
           {
            "colorbar": {
             "outlinewidth": 0,
             "ticks": ""
            },
            "type": "mesh3d"
           }
          ],
          "parcoords": [
           {
            "line": {
             "colorbar": {
              "outlinewidth": 0,
              "ticks": ""
             }
            },
            "type": "parcoords"
           }
          ],
          "pie": [
           {
            "automargin": true,
            "type": "pie"
           }
          ],
          "scatter": [
           {
            "fillpattern": {
             "fillmode": "overlay",
             "size": 10,
             "solidity": 0.2
            },
            "type": "scatter"
           }
          ],
          "scatter3d": [
           {
            "line": {
             "colorbar": {
              "outlinewidth": 0,
              "ticks": ""
             }
            },
            "marker": {
             "colorbar": {
              "outlinewidth": 0,
              "ticks": ""
             }
            },
            "type": "scatter3d"
           }
          ],
          "scattercarpet": [
           {
            "marker": {
             "colorbar": {
              "outlinewidth": 0,
              "ticks": ""
             }
            },
            "type": "scattercarpet"
           }
          ],
          "scattergeo": [
           {
            "marker": {
             "colorbar": {
              "outlinewidth": 0,
              "ticks": ""
             }
            },
            "type": "scattergeo"
           }
          ],
          "scattergl": [
           {
            "marker": {
             "colorbar": {
              "outlinewidth": 0,
              "ticks": ""
             }
            },
            "type": "scattergl"
           }
          ],
          "scattermapbox": [
           {
            "marker": {
             "colorbar": {
              "outlinewidth": 0,
              "ticks": ""
             }
            },
            "type": "scattermapbox"
           }
          ],
          "scatterpolar": [
           {
            "marker": {
             "colorbar": {
              "outlinewidth": 0,
              "ticks": ""
             }
            },
            "type": "scatterpolar"
           }
          ],
          "scatterpolargl": [
           {
            "marker": {
             "colorbar": {
              "outlinewidth": 0,
              "ticks": ""
             }
            },
            "type": "scatterpolargl"
           }
          ],
          "scatterternary": [
           {
            "marker": {
             "colorbar": {
              "outlinewidth": 0,
              "ticks": ""
             }
            },
            "type": "scatterternary"
           }
          ],
          "surface": [
           {
            "colorbar": {
             "outlinewidth": 0,
             "ticks": ""
            },
            "colorscale": [
             [
              0,
              "#0d0887"
             ],
             [
              0.1111111111111111,
              "#46039f"
             ],
             [
              0.2222222222222222,
              "#7201a8"
             ],
             [
              0.3333333333333333,
              "#9c179e"
             ],
             [
              0.4444444444444444,
              "#bd3786"
             ],
             [
              0.5555555555555556,
              "#d8576b"
             ],
             [
              0.6666666666666666,
              "#ed7953"
             ],
             [
              0.7777777777777778,
              "#fb9f3a"
             ],
             [
              0.8888888888888888,
              "#fdca26"
             ],
             [
              1,
              "#f0f921"
             ]
            ],
            "type": "surface"
           }
          ],
          "table": [
           {
            "cells": {
             "fill": {
              "color": "#EBF0F8"
             },
             "line": {
              "color": "white"
             }
            },
            "header": {
             "fill": {
              "color": "#C8D4E3"
             },
             "line": {
              "color": "white"
             }
            },
            "type": "table"
           }
          ]
         },
         "layout": {
          "annotationdefaults": {
           "arrowcolor": "#2a3f5f",
           "arrowhead": 0,
           "arrowwidth": 1
          },
          "autotypenumbers": "strict",
          "coloraxis": {
           "colorbar": {
            "outlinewidth": 0,
            "ticks": ""
           }
          },
          "colorscale": {
           "diverging": [
            [
             0,
             "#8e0152"
            ],
            [
             0.1,
             "#c51b7d"
            ],
            [
             0.2,
             "#de77ae"
            ],
            [
             0.3,
             "#f1b6da"
            ],
            [
             0.4,
             "#fde0ef"
            ],
            [
             0.5,
             "#f7f7f7"
            ],
            [
             0.6,
             "#e6f5d0"
            ],
            [
             0.7,
             "#b8e186"
            ],
            [
             0.8,
             "#7fbc41"
            ],
            [
             0.9,
             "#4d9221"
            ],
            [
             1,
             "#276419"
            ]
           ],
           "sequential": [
            [
             0,
             "#0d0887"
            ],
            [
             0.1111111111111111,
             "#46039f"
            ],
            [
             0.2222222222222222,
             "#7201a8"
            ],
            [
             0.3333333333333333,
             "#9c179e"
            ],
            [
             0.4444444444444444,
             "#bd3786"
            ],
            [
             0.5555555555555556,
             "#d8576b"
            ],
            [
             0.6666666666666666,
             "#ed7953"
            ],
            [
             0.7777777777777778,
             "#fb9f3a"
            ],
            [
             0.8888888888888888,
             "#fdca26"
            ],
            [
             1,
             "#f0f921"
            ]
           ],
           "sequentialminus": [
            [
             0,
             "#0d0887"
            ],
            [
             0.1111111111111111,
             "#46039f"
            ],
            [
             0.2222222222222222,
             "#7201a8"
            ],
            [
             0.3333333333333333,
             "#9c179e"
            ],
            [
             0.4444444444444444,
             "#bd3786"
            ],
            [
             0.5555555555555556,
             "#d8576b"
            ],
            [
             0.6666666666666666,
             "#ed7953"
            ],
            [
             0.7777777777777778,
             "#fb9f3a"
            ],
            [
             0.8888888888888888,
             "#fdca26"
            ],
            [
             1,
             "#f0f921"
            ]
           ]
          },
          "colorway": [
           "#636efa",
           "#EF553B",
           "#00cc96",
           "#ab63fa",
           "#FFA15A",
           "#19d3f3",
           "#FF6692",
           "#B6E880",
           "#FF97FF",
           "#FECB52"
          ],
          "font": {
           "color": "#2a3f5f"
          },
          "geo": {
           "bgcolor": "white",
           "lakecolor": "white",
           "landcolor": "#E5ECF6",
           "showlakes": true,
           "showland": true,
           "subunitcolor": "white"
          },
          "hoverlabel": {
           "align": "left"
          },
          "hovermode": "closest",
          "mapbox": {
           "style": "light"
          },
          "paper_bgcolor": "white",
          "plot_bgcolor": "#E5ECF6",
          "polar": {
           "angularaxis": {
            "gridcolor": "white",
            "linecolor": "white",
            "ticks": ""
           },
           "bgcolor": "#E5ECF6",
           "radialaxis": {
            "gridcolor": "white",
            "linecolor": "white",
            "ticks": ""
           }
          },
          "scene": {
           "xaxis": {
            "backgroundcolor": "#E5ECF6",
            "gridcolor": "white",
            "gridwidth": 2,
            "linecolor": "white",
            "showbackground": true,
            "ticks": "",
            "zerolinecolor": "white"
           },
           "yaxis": {
            "backgroundcolor": "#E5ECF6",
            "gridcolor": "white",
            "gridwidth": 2,
            "linecolor": "white",
            "showbackground": true,
            "ticks": "",
            "zerolinecolor": "white"
           },
           "zaxis": {
            "backgroundcolor": "#E5ECF6",
            "gridcolor": "white",
            "gridwidth": 2,
            "linecolor": "white",
            "showbackground": true,
            "ticks": "",
            "zerolinecolor": "white"
           }
          },
          "shapedefaults": {
           "line": {
            "color": "#2a3f5f"
           }
          },
          "ternary": {
           "aaxis": {
            "gridcolor": "white",
            "linecolor": "white",
            "ticks": ""
           },
           "baxis": {
            "gridcolor": "white",
            "linecolor": "white",
            "ticks": ""
           },
           "bgcolor": "#E5ECF6",
           "caxis": {
            "gridcolor": "white",
            "linecolor": "white",
            "ticks": ""
           }
          },
          "title": {
           "x": 0.05
          },
          "xaxis": {
           "automargin": true,
           "gridcolor": "white",
           "linecolor": "white",
           "ticks": "",
           "title": {
            "standoff": 15
           },
           "zerolinecolor": "white",
           "zerolinewidth": 2
          },
          "yaxis": {
           "automargin": true,
           "gridcolor": "white",
           "linecolor": "white",
           "ticks": "",
           "title": {
            "standoff": 15
           },
           "zerolinecolor": "white",
           "zerolinewidth": 2
          }
         }
        },
        "title": {
         "text": "average trips per person per year"
        },
        "updatemenus": [
         {
          "buttons": [
           {
            "args": [
             null,
             {
              "frame": {
               "duration": 500,
               "redraw": true
              },
              "fromcurrent": true,
              "mode": "immediate",
              "transition": {
               "duration": 500,
               "easing": "linear"
              }
             }
            ],
            "label": "&#9654;",
            "method": "animate"
           },
           {
            "args": [
             [
              null
             ],
             {
              "frame": {
               "duration": 0,
               "redraw": true
              },
              "fromcurrent": true,
              "mode": "immediate",
              "transition": {
               "duration": 0,
               "easing": "linear"
              }
             }
            ],
            "label": "&#9724;",
            "method": "animate"
           }
          ],
          "direction": "left",
          "pad": {
           "r": 10,
           "t": 70
          },
          "showactive": false,
          "type": "buttons",
          "x": 0.1,
          "xanchor": "right",
          "y": 0,
          "yanchor": "top"
         }
        ],
        "xaxis": {
         "anchor": "y",
         "domain": [
          0,
          1
         ],
         "title": {
          "text": "year"
         }
        },
        "yaxis": {
         "anchor": "x",
         "domain": [
          0,
          1
         ],
         "title": {
          "text": "number of"
         }
        }
       }
      },
      "text/html": [
       "<div>                            <div id=\"48938035-520c-4187-bee2-ee572bdf0846\" class=\"plotly-graph-div\" style=\"height:525px; width:100%;\"></div>            <script type=\"text/javascript\">                require([\"plotly\"], function(Plotly) {                    window.PLOTLYENV=window.PLOTLYENV || {};                                    if (document.getElementById(\"48938035-520c-4187-bee2-ee572bdf0846\")) {                    Plotly.newPlot(                        \"48938035-520c-4187-bee2-ee572bdf0846\",                        [{\"alignmentgroup\":\"True\",\"hovertemplate\":\"type=Passenger car (driver)<br>Region=The Netherlands<br>year=%{x}<br>number of=%{y}<extra></extra>\",\"legendgroup\":\"Passenger car (driver)\",\"marker\":{\"color\":\"#636efa\",\"pattern\":{\"shape\":\"\"}},\"name\":\"Passenger car (driver)\",\"offsetgroup\":\"Passenger car (driver)\",\"orientation\":\"v\",\"showlegend\":true,\"textposition\":\"auto\",\"x\":[\"2018\",\"2019\",\"2020\",\"2021\"],\"xaxis\":\"x\",\"y\":[350.0,346.0,295.0,300.0],\"yaxis\":\"y\",\"type\":\"bar\"},{\"alignmentgroup\":\"True\",\"hovertemplate\":\"type=Passenger car (passenger)<br>Region=The Netherlands<br>year=%{x}<br>number of=%{y}<extra></extra>\",\"legendgroup\":\"Passenger car (passenger)\",\"marker\":{\"color\":\"#EF553B\",\"pattern\":{\"shape\":\"\"}},\"name\":\"Passenger car (passenger)\",\"offsetgroup\":\"Passenger car (passenger)\",\"orientation\":\"v\",\"showlegend\":true,\"textposition\":\"auto\",\"x\":[\"2018\",\"2019\",\"2020\",\"2021\"],\"xaxis\":\"x\",\"y\":[118.0,114.0,88.0,94.0],\"yaxis\":\"y\",\"type\":\"bar\"},{\"alignmentgroup\":\"True\",\"hovertemplate\":\"type=Train<br>Region=The Netherlands<br>year=%{x}<br>number of=%{y}<extra></extra>\",\"legendgroup\":\"Train\",\"marker\":{\"color\":\"#00cc96\",\"pattern\":{\"shape\":\"\"}},\"name\":\"Train\",\"offsetgroup\":\"Train\",\"orientation\":\"v\",\"showlegend\":true,\"textposition\":\"auto\",\"x\":[\"2018\",\"2019\",\"2020\",\"2021\"],\"xaxis\":\"x\",\"y\":[29.0,30.0,12.0,13.0],\"yaxis\":\"y\",\"type\":\"bar\"},{\"alignmentgroup\":\"True\",\"hovertemplate\":\"type=Bus/tram/metro<br>Region=The Netherlands<br>year=%{x}<br>number of=%{y}<extra></extra>\",\"legendgroup\":\"Bus/tram/metro\",\"marker\":{\"color\":\"#ab63fa\",\"pattern\":{\"shape\":\"\"}},\"name\":\"Bus/tram/metro\",\"offsetgroup\":\"Bus/tram/metro\",\"orientation\":\"v\",\"showlegend\":true,\"textposition\":\"auto\",\"x\":[\"2018\",\"2019\",\"2020\",\"2021\"],\"xaxis\":\"x\",\"y\":[28.0,26.0,13.0,14.0],\"yaxis\":\"y\",\"type\":\"bar\"},{\"alignmentgroup\":\"True\",\"hovertemplate\":\"type=Bicycle<br>Region=The Netherlands<br>year=%{x}<br>number of=%{y}<extra></extra>\",\"legendgroup\":\"Bicycle\",\"marker\":{\"color\":\"#FFA15A\",\"pattern\":{\"shape\":\"\"}},\"name\":\"Bicycle\",\"offsetgroup\":\"Bicycle\",\"orientation\":\"v\",\"showlegend\":true,\"textposition\":\"auto\",\"x\":[\"2018\",\"2019\",\"2020\",\"2021\"],\"xaxis\":\"x\",\"y\":[289.0,276.0,229.0,232.0],\"yaxis\":\"y\",\"type\":\"bar\"},{\"alignmentgroup\":\"True\",\"hovertemplate\":\"type=To walk<br>Region=The Netherlands<br>year=%{x}<br>number of=%{y}<extra></extra>\",\"legendgroup\":\"To walk\",\"marker\":{\"color\":\"#19d3f3\",\"pattern\":{\"shape\":\"\"}},\"name\":\"To walk\",\"offsetgroup\":\"To walk\",\"orientation\":\"v\",\"showlegend\":true,\"textposition\":\"auto\",\"x\":[\"2018\",\"2019\",\"2020\",\"2021\"],\"xaxis\":\"x\",\"y\":[162.0,155.0,191.0,224.0],\"yaxis\":\"y\",\"type\":\"bar\"},{\"alignmentgroup\":\"True\",\"hovertemplate\":\"type=Other mode of transport<br>Region=The Netherlands<br>year=%{x}<br>number of=%{y}<extra></extra>\",\"legendgroup\":\"Other mode of transport\",\"marker\":{\"color\":\"#FF6692\",\"pattern\":{\"shape\":\"\"}},\"name\":\"Other mode of transport\",\"offsetgroup\":\"Other mode of transport\",\"orientation\":\"v\",\"showlegend\":true,\"textposition\":\"auto\",\"x\":[\"2018\",\"2019\",\"2020\",\"2021\"],\"xaxis\":\"x\",\"y\":[39.0,41.0,33.0,38.0],\"yaxis\":\"y\",\"type\":\"bar\"}],                        {\"template\":{\"data\":{\"histogram2dcontour\":[{\"type\":\"histogram2dcontour\",\"colorbar\":{\"outlinewidth\":0,\"ticks\":\"\"},\"colorscale\":[[0.0,\"#0d0887\"],[0.1111111111111111,\"#46039f\"],[0.2222222222222222,\"#7201a8\"],[0.3333333333333333,\"#9c179e\"],[0.4444444444444444,\"#bd3786\"],[0.5555555555555556,\"#d8576b\"],[0.6666666666666666,\"#ed7953\"],[0.7777777777777778,\"#fb9f3a\"],[0.8888888888888888,\"#fdca26\"],[1.0,\"#f0f921\"]]}],\"choropleth\":[{\"type\":\"choropleth\",\"colorbar\":{\"outlinewidth\":0,\"ticks\":\"\"}}],\"histogram2d\":[{\"type\":\"histogram2d\",\"colorbar\":{\"outlinewidth\":0,\"ticks\":\"\"},\"colorscale\":[[0.0,\"#0d0887\"],[0.1111111111111111,\"#46039f\"],[0.2222222222222222,\"#7201a8\"],[0.3333333333333333,\"#9c179e\"],[0.4444444444444444,\"#bd3786\"],[0.5555555555555556,\"#d8576b\"],[0.6666666666666666,\"#ed7953\"],[0.7777777777777778,\"#fb9f3a\"],[0.8888888888888888,\"#fdca26\"],[1.0,\"#f0f921\"]]}],\"heatmap\":[{\"type\":\"heatmap\",\"colorbar\":{\"outlinewidth\":0,\"ticks\":\"\"},\"colorscale\":[[0.0,\"#0d0887\"],[0.1111111111111111,\"#46039f\"],[0.2222222222222222,\"#7201a8\"],[0.3333333333333333,\"#9c179e\"],[0.4444444444444444,\"#bd3786\"],[0.5555555555555556,\"#d8576b\"],[0.6666666666666666,\"#ed7953\"],[0.7777777777777778,\"#fb9f3a\"],[0.8888888888888888,\"#fdca26\"],[1.0,\"#f0f921\"]]}],\"heatmapgl\":[{\"type\":\"heatmapgl\",\"colorbar\":{\"outlinewidth\":0,\"ticks\":\"\"},\"colorscale\":[[0.0,\"#0d0887\"],[0.1111111111111111,\"#46039f\"],[0.2222222222222222,\"#7201a8\"],[0.3333333333333333,\"#9c179e\"],[0.4444444444444444,\"#bd3786\"],[0.5555555555555556,\"#d8576b\"],[0.6666666666666666,\"#ed7953\"],[0.7777777777777778,\"#fb9f3a\"],[0.8888888888888888,\"#fdca26\"],[1.0,\"#f0f921\"]]}],\"contourcarpet\":[{\"type\":\"contourcarpet\",\"colorbar\":{\"outlinewidth\":0,\"ticks\":\"\"}}],\"contour\":[{\"type\":\"contour\",\"colorbar\":{\"outlinewidth\":0,\"ticks\":\"\"},\"colorscale\":[[0.0,\"#0d0887\"],[0.1111111111111111,\"#46039f\"],[0.2222222222222222,\"#7201a8\"],[0.3333333333333333,\"#9c179e\"],[0.4444444444444444,\"#bd3786\"],[0.5555555555555556,\"#d8576b\"],[0.6666666666666666,\"#ed7953\"],[0.7777777777777778,\"#fb9f3a\"],[0.8888888888888888,\"#fdca26\"],[1.0,\"#f0f921\"]]}],\"surface\":[{\"type\":\"surface\",\"colorbar\":{\"outlinewidth\":0,\"ticks\":\"\"},\"colorscale\":[[0.0,\"#0d0887\"],[0.1111111111111111,\"#46039f\"],[0.2222222222222222,\"#7201a8\"],[0.3333333333333333,\"#9c179e\"],[0.4444444444444444,\"#bd3786\"],[0.5555555555555556,\"#d8576b\"],[0.6666666666666666,\"#ed7953\"],[0.7777777777777778,\"#fb9f3a\"],[0.8888888888888888,\"#fdca26\"],[1.0,\"#f0f921\"]]}],\"mesh3d\":[{\"type\":\"mesh3d\",\"colorbar\":{\"outlinewidth\":0,\"ticks\":\"\"}}],\"scatter\":[{\"fillpattern\":{\"fillmode\":\"overlay\",\"size\":10,\"solidity\":0.2},\"type\":\"scatter\"}],\"parcoords\":[{\"type\":\"parcoords\",\"line\":{\"colorbar\":{\"outlinewidth\":0,\"ticks\":\"\"}}}],\"scatterpolargl\":[{\"type\":\"scatterpolargl\",\"marker\":{\"colorbar\":{\"outlinewidth\":0,\"ticks\":\"\"}}}],\"bar\":[{\"error_x\":{\"color\":\"#2a3f5f\"},\"error_y\":{\"color\":\"#2a3f5f\"},\"marker\":{\"line\":{\"color\":\"#E5ECF6\",\"width\":0.5},\"pattern\":{\"fillmode\":\"overlay\",\"size\":10,\"solidity\":0.2}},\"type\":\"bar\"}],\"scattergeo\":[{\"type\":\"scattergeo\",\"marker\":{\"colorbar\":{\"outlinewidth\":0,\"ticks\":\"\"}}}],\"scatterpolar\":[{\"type\":\"scatterpolar\",\"marker\":{\"colorbar\":{\"outlinewidth\":0,\"ticks\":\"\"}}}],\"histogram\":[{\"marker\":{\"pattern\":{\"fillmode\":\"overlay\",\"size\":10,\"solidity\":0.2}},\"type\":\"histogram\"}],\"scattergl\":[{\"type\":\"scattergl\",\"marker\":{\"colorbar\":{\"outlinewidth\":0,\"ticks\":\"\"}}}],\"scatter3d\":[{\"type\":\"scatter3d\",\"line\":{\"colorbar\":{\"outlinewidth\":0,\"ticks\":\"\"}},\"marker\":{\"colorbar\":{\"outlinewidth\":0,\"ticks\":\"\"}}}],\"scattermapbox\":[{\"type\":\"scattermapbox\",\"marker\":{\"colorbar\":{\"outlinewidth\":0,\"ticks\":\"\"}}}],\"scatterternary\":[{\"type\":\"scatterternary\",\"marker\":{\"colorbar\":{\"outlinewidth\":0,\"ticks\":\"\"}}}],\"scattercarpet\":[{\"type\":\"scattercarpet\",\"marker\":{\"colorbar\":{\"outlinewidth\":0,\"ticks\":\"\"}}}],\"carpet\":[{\"aaxis\":{\"endlinecolor\":\"#2a3f5f\",\"gridcolor\":\"white\",\"linecolor\":\"white\",\"minorgridcolor\":\"white\",\"startlinecolor\":\"#2a3f5f\"},\"baxis\":{\"endlinecolor\":\"#2a3f5f\",\"gridcolor\":\"white\",\"linecolor\":\"white\",\"minorgridcolor\":\"white\",\"startlinecolor\":\"#2a3f5f\"},\"type\":\"carpet\"}],\"table\":[{\"cells\":{\"fill\":{\"color\":\"#EBF0F8\"},\"line\":{\"color\":\"white\"}},\"header\":{\"fill\":{\"color\":\"#C8D4E3\"},\"line\":{\"color\":\"white\"}},\"type\":\"table\"}],\"barpolar\":[{\"marker\":{\"line\":{\"color\":\"#E5ECF6\",\"width\":0.5},\"pattern\":{\"fillmode\":\"overlay\",\"size\":10,\"solidity\":0.2}},\"type\":\"barpolar\"}],\"pie\":[{\"automargin\":true,\"type\":\"pie\"}]},\"layout\":{\"autotypenumbers\":\"strict\",\"colorway\":[\"#636efa\",\"#EF553B\",\"#00cc96\",\"#ab63fa\",\"#FFA15A\",\"#19d3f3\",\"#FF6692\",\"#B6E880\",\"#FF97FF\",\"#FECB52\"],\"font\":{\"color\":\"#2a3f5f\"},\"hovermode\":\"closest\",\"hoverlabel\":{\"align\":\"left\"},\"paper_bgcolor\":\"white\",\"plot_bgcolor\":\"#E5ECF6\",\"polar\":{\"bgcolor\":\"#E5ECF6\",\"angularaxis\":{\"gridcolor\":\"white\",\"linecolor\":\"white\",\"ticks\":\"\"},\"radialaxis\":{\"gridcolor\":\"white\",\"linecolor\":\"white\",\"ticks\":\"\"}},\"ternary\":{\"bgcolor\":\"#E5ECF6\",\"aaxis\":{\"gridcolor\":\"white\",\"linecolor\":\"white\",\"ticks\":\"\"},\"baxis\":{\"gridcolor\":\"white\",\"linecolor\":\"white\",\"ticks\":\"\"},\"caxis\":{\"gridcolor\":\"white\",\"linecolor\":\"white\",\"ticks\":\"\"}},\"coloraxis\":{\"colorbar\":{\"outlinewidth\":0,\"ticks\":\"\"}},\"colorscale\":{\"sequential\":[[0.0,\"#0d0887\"],[0.1111111111111111,\"#46039f\"],[0.2222222222222222,\"#7201a8\"],[0.3333333333333333,\"#9c179e\"],[0.4444444444444444,\"#bd3786\"],[0.5555555555555556,\"#d8576b\"],[0.6666666666666666,\"#ed7953\"],[0.7777777777777778,\"#fb9f3a\"],[0.8888888888888888,\"#fdca26\"],[1.0,\"#f0f921\"]],\"sequentialminus\":[[0.0,\"#0d0887\"],[0.1111111111111111,\"#46039f\"],[0.2222222222222222,\"#7201a8\"],[0.3333333333333333,\"#9c179e\"],[0.4444444444444444,\"#bd3786\"],[0.5555555555555556,\"#d8576b\"],[0.6666666666666666,\"#ed7953\"],[0.7777777777777778,\"#fb9f3a\"],[0.8888888888888888,\"#fdca26\"],[1.0,\"#f0f921\"]],\"diverging\":[[0,\"#8e0152\"],[0.1,\"#c51b7d\"],[0.2,\"#de77ae\"],[0.3,\"#f1b6da\"],[0.4,\"#fde0ef\"],[0.5,\"#f7f7f7\"],[0.6,\"#e6f5d0\"],[0.7,\"#b8e186\"],[0.8,\"#7fbc41\"],[0.9,\"#4d9221\"],[1,\"#276419\"]]},\"xaxis\":{\"gridcolor\":\"white\",\"linecolor\":\"white\",\"ticks\":\"\",\"title\":{\"standoff\":15},\"zerolinecolor\":\"white\",\"automargin\":true,\"zerolinewidth\":2},\"yaxis\":{\"gridcolor\":\"white\",\"linecolor\":\"white\",\"ticks\":\"\",\"title\":{\"standoff\":15},\"zerolinecolor\":\"white\",\"automargin\":true,\"zerolinewidth\":2},\"scene\":{\"xaxis\":{\"backgroundcolor\":\"#E5ECF6\",\"gridcolor\":\"white\",\"linecolor\":\"white\",\"showbackground\":true,\"ticks\":\"\",\"zerolinecolor\":\"white\",\"gridwidth\":2},\"yaxis\":{\"backgroundcolor\":\"#E5ECF6\",\"gridcolor\":\"white\",\"linecolor\":\"white\",\"showbackground\":true,\"ticks\":\"\",\"zerolinecolor\":\"white\",\"gridwidth\":2},\"zaxis\":{\"backgroundcolor\":\"#E5ECF6\",\"gridcolor\":\"white\",\"linecolor\":\"white\",\"showbackground\":true,\"ticks\":\"\",\"zerolinecolor\":\"white\",\"gridwidth\":2}},\"shapedefaults\":{\"line\":{\"color\":\"#2a3f5f\"}},\"annotationdefaults\":{\"arrowcolor\":\"#2a3f5f\",\"arrowhead\":0,\"arrowwidth\":1},\"geo\":{\"bgcolor\":\"white\",\"landcolor\":\"#E5ECF6\",\"subunitcolor\":\"white\",\"showland\":true,\"showlakes\":true,\"lakecolor\":\"white\"},\"title\":{\"x\":0.05},\"mapbox\":{\"style\":\"light\"}}},\"xaxis\":{\"anchor\":\"y\",\"domain\":[0.0,1.0],\"title\":{\"text\":\"year\"}},\"yaxis\":{\"anchor\":\"x\",\"domain\":[0.0,1.0],\"title\":{\"text\":\"number of\"}},\"legend\":{\"title\":{\"text\":\"type\"},\"tracegroupgap\":0},\"title\":{\"text\":\"average trips per person per year\"},\"barmode\":\"relative\",\"updatemenus\":[{\"buttons\":[{\"args\":[null,{\"frame\":{\"duration\":500,\"redraw\":true},\"mode\":\"immediate\",\"fromcurrent\":true,\"transition\":{\"duration\":500,\"easing\":\"linear\"}}],\"label\":\"&#9654;\",\"method\":\"animate\"},{\"args\":[[null],{\"frame\":{\"duration\":0,\"redraw\":true},\"mode\":\"immediate\",\"fromcurrent\":true,\"transition\":{\"duration\":0,\"easing\":\"linear\"}}],\"label\":\"&#9724;\",\"method\":\"animate\"}],\"direction\":\"left\",\"pad\":{\"r\":10,\"t\":70},\"showactive\":false,\"type\":\"buttons\",\"x\":0.1,\"xanchor\":\"right\",\"y\":0,\"yanchor\":\"top\"}],\"sliders\":[{\"active\":0,\"currentvalue\":{\"prefix\":\"Region=\"},\"len\":0.9,\"pad\":{\"b\":10,\"t\":60},\"steps\":[{\"args\":[[\"The Netherlands\"],{\"frame\":{\"duration\":0,\"redraw\":true},\"mode\":\"immediate\",\"fromcurrent\":true,\"transition\":{\"duration\":0,\"easing\":\"linear\"}}],\"label\":\"The Netherlands\",\"method\":\"animate\"},{\"args\":[[\"Groningen\"],{\"frame\":{\"duration\":0,\"redraw\":true},\"mode\":\"immediate\",\"fromcurrent\":true,\"transition\":{\"duration\":0,\"easing\":\"linear\"}}],\"label\":\"Groningen\",\"method\":\"animate\"},{\"args\":[[\"Friesland\"],{\"frame\":{\"duration\":0,\"redraw\":true},\"mode\":\"immediate\",\"fromcurrent\":true,\"transition\":{\"duration\":0,\"easing\":\"linear\"}}],\"label\":\"Friesland\",\"method\":\"animate\"},{\"args\":[[\"Drenthe\"],{\"frame\":{\"duration\":0,\"redraw\":true},\"mode\":\"immediate\",\"fromcurrent\":true,\"transition\":{\"duration\":0,\"easing\":\"linear\"}}],\"label\":\"Drenthe\",\"method\":\"animate\"},{\"args\":[[\"Overijssel\"],{\"frame\":{\"duration\":0,\"redraw\":true},\"mode\":\"immediate\",\"fromcurrent\":true,\"transition\":{\"duration\":0,\"easing\":\"linear\"}}],\"label\":\"Overijssel\",\"method\":\"animate\"},{\"args\":[[\"Flevoland\"],{\"frame\":{\"duration\":0,\"redraw\":true},\"mode\":\"immediate\",\"fromcurrent\":true,\"transition\":{\"duration\":0,\"easing\":\"linear\"}}],\"label\":\"Flevoland\",\"method\":\"animate\"},{\"args\":[[\"Gelderland\"],{\"frame\":{\"duration\":0,\"redraw\":true},\"mode\":\"immediate\",\"fromcurrent\":true,\"transition\":{\"duration\":0,\"easing\":\"linear\"}}],\"label\":\"Gelderland\",\"method\":\"animate\"},{\"args\":[[\"Utrecht\"],{\"frame\":{\"duration\":0,\"redraw\":true},\"mode\":\"immediate\",\"fromcurrent\":true,\"transition\":{\"duration\":0,\"easing\":\"linear\"}}],\"label\":\"Utrecht\",\"method\":\"animate\"},{\"args\":[[\"North Holland\"],{\"frame\":{\"duration\":0,\"redraw\":true},\"mode\":\"immediate\",\"fromcurrent\":true,\"transition\":{\"duration\":0,\"easing\":\"linear\"}}],\"label\":\"North Holland\",\"method\":\"animate\"},{\"args\":[[\"South Holland\"],{\"frame\":{\"duration\":0,\"redraw\":true},\"mode\":\"immediate\",\"fromcurrent\":true,\"transition\":{\"duration\":0,\"easing\":\"linear\"}}],\"label\":\"South Holland\",\"method\":\"animate\"},{\"args\":[[\"Zealand\"],{\"frame\":{\"duration\":0,\"redraw\":true},\"mode\":\"immediate\",\"fromcurrent\":true,\"transition\":{\"duration\":0,\"easing\":\"linear\"}}],\"label\":\"Zealand\",\"method\":\"animate\"},{\"args\":[[\"North Brabant\"],{\"frame\":{\"duration\":0,\"redraw\":true},\"mode\":\"immediate\",\"fromcurrent\":true,\"transition\":{\"duration\":0,\"easing\":\"linear\"}}],\"label\":\"North Brabant\",\"method\":\"animate\"},{\"args\":[[\"Limburg\"],{\"frame\":{\"duration\":0,\"redraw\":true},\"mode\":\"immediate\",\"fromcurrent\":true,\"transition\":{\"duration\":0,\"easing\":\"linear\"}}],\"label\":\"Limburg\",\"method\":\"animate\"}],\"x\":0.1,\"xanchor\":\"left\",\"y\":0,\"yanchor\":\"top\"}]},                        {\"responsive\": true}                    ).then(function(){\n",
       "                            Plotly.addFrames('48938035-520c-4187-bee2-ee572bdf0846', [{\"data\":[{\"alignmentgroup\":\"True\",\"hovertemplate\":\"type=Passenger car (driver)<br>Region=The Netherlands<br>year=%{x}<br>number of=%{y}<extra></extra>\",\"legendgroup\":\"Passenger car (driver)\",\"marker\":{\"color\":\"#636efa\",\"pattern\":{\"shape\":\"\"}},\"name\":\"Passenger car (driver)\",\"offsetgroup\":\"Passenger car (driver)\",\"orientation\":\"v\",\"showlegend\":true,\"textposition\":\"auto\",\"x\":[\"2018\",\"2019\",\"2020\",\"2021\"],\"xaxis\":\"x\",\"y\":[350.0,346.0,295.0,300.0],\"yaxis\":\"y\",\"type\":\"bar\"},{\"alignmentgroup\":\"True\",\"hovertemplate\":\"type=Passenger car (passenger)<br>Region=The Netherlands<br>year=%{x}<br>number of=%{y}<extra></extra>\",\"legendgroup\":\"Passenger car (passenger)\",\"marker\":{\"color\":\"#EF553B\",\"pattern\":{\"shape\":\"\"}},\"name\":\"Passenger car (passenger)\",\"offsetgroup\":\"Passenger car (passenger)\",\"orientation\":\"v\",\"showlegend\":true,\"textposition\":\"auto\",\"x\":[\"2018\",\"2019\",\"2020\",\"2021\"],\"xaxis\":\"x\",\"y\":[118.0,114.0,88.0,94.0],\"yaxis\":\"y\",\"type\":\"bar\"},{\"alignmentgroup\":\"True\",\"hovertemplate\":\"type=Train<br>Region=The Netherlands<br>year=%{x}<br>number of=%{y}<extra></extra>\",\"legendgroup\":\"Train\",\"marker\":{\"color\":\"#00cc96\",\"pattern\":{\"shape\":\"\"}},\"name\":\"Train\",\"offsetgroup\":\"Train\",\"orientation\":\"v\",\"showlegend\":true,\"textposition\":\"auto\",\"x\":[\"2018\",\"2019\",\"2020\",\"2021\"],\"xaxis\":\"x\",\"y\":[29.0,30.0,12.0,13.0],\"yaxis\":\"y\",\"type\":\"bar\"},{\"alignmentgroup\":\"True\",\"hovertemplate\":\"type=Bus/tram/metro<br>Region=The Netherlands<br>year=%{x}<br>number of=%{y}<extra></extra>\",\"legendgroup\":\"Bus/tram/metro\",\"marker\":{\"color\":\"#ab63fa\",\"pattern\":{\"shape\":\"\"}},\"name\":\"Bus/tram/metro\",\"offsetgroup\":\"Bus/tram/metro\",\"orientation\":\"v\",\"showlegend\":true,\"textposition\":\"auto\",\"x\":[\"2018\",\"2019\",\"2020\",\"2021\"],\"xaxis\":\"x\",\"y\":[28.0,26.0,13.0,14.0],\"yaxis\":\"y\",\"type\":\"bar\"},{\"alignmentgroup\":\"True\",\"hovertemplate\":\"type=Bicycle<br>Region=The Netherlands<br>year=%{x}<br>number of=%{y}<extra></extra>\",\"legendgroup\":\"Bicycle\",\"marker\":{\"color\":\"#FFA15A\",\"pattern\":{\"shape\":\"\"}},\"name\":\"Bicycle\",\"offsetgroup\":\"Bicycle\",\"orientation\":\"v\",\"showlegend\":true,\"textposition\":\"auto\",\"x\":[\"2018\",\"2019\",\"2020\",\"2021\"],\"xaxis\":\"x\",\"y\":[289.0,276.0,229.0,232.0],\"yaxis\":\"y\",\"type\":\"bar\"},{\"alignmentgroup\":\"True\",\"hovertemplate\":\"type=To walk<br>Region=The Netherlands<br>year=%{x}<br>number of=%{y}<extra></extra>\",\"legendgroup\":\"To walk\",\"marker\":{\"color\":\"#19d3f3\",\"pattern\":{\"shape\":\"\"}},\"name\":\"To walk\",\"offsetgroup\":\"To walk\",\"orientation\":\"v\",\"showlegend\":true,\"textposition\":\"auto\",\"x\":[\"2018\",\"2019\",\"2020\",\"2021\"],\"xaxis\":\"x\",\"y\":[162.0,155.0,191.0,224.0],\"yaxis\":\"y\",\"type\":\"bar\"},{\"alignmentgroup\":\"True\",\"hovertemplate\":\"type=Other mode of transport<br>Region=The Netherlands<br>year=%{x}<br>number of=%{y}<extra></extra>\",\"legendgroup\":\"Other mode of transport\",\"marker\":{\"color\":\"#FF6692\",\"pattern\":{\"shape\":\"\"}},\"name\":\"Other mode of transport\",\"offsetgroup\":\"Other mode of transport\",\"orientation\":\"v\",\"showlegend\":true,\"textposition\":\"auto\",\"x\":[\"2018\",\"2019\",\"2020\",\"2021\"],\"xaxis\":\"x\",\"y\":[39.0,41.0,33.0,38.0],\"yaxis\":\"y\",\"type\":\"bar\"}],\"name\":\"The Netherlands\"},{\"data\":[{\"alignmentgroup\":\"True\",\"hovertemplate\":\"type=Passenger car (driver)<br>Region=Groningen<br>year=%{x}<br>number of=%{y}<extra></extra>\",\"legendgroup\":\"Passenger car (driver)\",\"marker\":{\"color\":\"#636efa\",\"pattern\":{\"shape\":\"\"}},\"name\":\"Passenger car (driver)\",\"offsetgroup\":\"Passenger car (driver)\",\"orientation\":\"v\",\"showlegend\":true,\"textposition\":\"auto\",\"x\":[\"2018\",\"2019\",\"2020\",\"2021\"],\"xaxis\":\"x\",\"y\":[319.0,312.0,284.0,306.0],\"yaxis\":\"y\",\"type\":\"bar\"},{\"alignmentgroup\":\"True\",\"hovertemplate\":\"type=Passenger car (passenger)<br>Region=Groningen<br>year=%{x}<br>number of=%{y}<extra></extra>\",\"legendgroup\":\"Passenger car (passenger)\",\"marker\":{\"color\":\"#EF553B\",\"pattern\":{\"shape\":\"\"}},\"name\":\"Passenger car (passenger)\",\"offsetgroup\":\"Passenger car (passenger)\",\"orientation\":\"v\",\"showlegend\":true,\"textposition\":\"auto\",\"x\":[\"2018\",\"2019\",\"2020\",\"2021\"],\"xaxis\":\"x\",\"y\":[129.0,99.0,89.0,83.0],\"yaxis\":\"y\",\"type\":\"bar\"},{\"alignmentgroup\":\"True\",\"hovertemplate\":\"type=Train<br>Region=Groningen<br>year=%{x}<br>number of=%{y}<extra></extra>\",\"legendgroup\":\"Train\",\"marker\":{\"color\":\"#00cc96\",\"pattern\":{\"shape\":\"\"}},\"name\":\"Train\",\"offsetgroup\":\"Train\",\"orientation\":\"v\",\"showlegend\":true,\"textposition\":\"auto\",\"x\":[\"2018\",\"2019\",\"2020\",\"2021\"],\"xaxis\":\"x\",\"y\":[25.0,25.0,0.0,14.0],\"yaxis\":\"y\",\"type\":\"bar\"},{\"alignmentgroup\":\"True\",\"hovertemplate\":\"type=Bus/tram/metro<br>Region=Groningen<br>year=%{x}<br>number of=%{y}<extra></extra>\",\"legendgroup\":\"Bus/tram/metro\",\"marker\":{\"color\":\"#ab63fa\",\"pattern\":{\"shape\":\"\"}},\"name\":\"Bus/tram/metro\",\"offsetgroup\":\"Bus/tram/metro\",\"orientation\":\"v\",\"showlegend\":true,\"textposition\":\"auto\",\"x\":[\"2018\",\"2019\",\"2020\",\"2021\"],\"xaxis\":\"x\",\"y\":[20.0,0.0,0.0,0.0],\"yaxis\":\"y\",\"type\":\"bar\"},{\"alignmentgroup\":\"True\",\"hovertemplate\":\"type=Bicycle<br>Region=Groningen<br>year=%{x}<br>number of=%{y}<extra></extra>\",\"legendgroup\":\"Bicycle\",\"marker\":{\"color\":\"#FFA15A\",\"pattern\":{\"shape\":\"\"}},\"name\":\"Bicycle\",\"offsetgroup\":\"Bicycle\",\"orientation\":\"v\",\"showlegend\":true,\"textposition\":\"auto\",\"x\":[\"2018\",\"2019\",\"2020\",\"2021\"],\"xaxis\":\"x\",\"y\":[336.0,318.0,237.0,235.0],\"yaxis\":\"y\",\"type\":\"bar\"},{\"alignmentgroup\":\"True\",\"hovertemplate\":\"type=To walk<br>Region=Groningen<br>year=%{x}<br>number of=%{y}<extra></extra>\",\"legendgroup\":\"To walk\",\"marker\":{\"color\":\"#19d3f3\",\"pattern\":{\"shape\":\"\"}},\"name\":\"To walk\",\"offsetgroup\":\"To walk\",\"orientation\":\"v\",\"showlegend\":true,\"textposition\":\"auto\",\"x\":[\"2018\",\"2019\",\"2020\",\"2021\"],\"xaxis\":\"x\",\"y\":[160.0,152.0,170.0,199.0],\"yaxis\":\"y\",\"type\":\"bar\"},{\"alignmentgroup\":\"True\",\"hovertemplate\":\"type=Other mode of transport<br>Region=Groningen<br>year=%{x}<br>number of=%{y}<extra></extra>\",\"legendgroup\":\"Other mode of transport\",\"marker\":{\"color\":\"#FF6692\",\"pattern\":{\"shape\":\"\"}},\"name\":\"Other mode of transport\",\"offsetgroup\":\"Other mode of transport\",\"orientation\":\"v\",\"showlegend\":true,\"textposition\":\"auto\",\"x\":[\"2018\",\"2019\",\"2020\",\"2021\"],\"xaxis\":\"x\",\"y\":[36.0,38.0,33.0,34.0],\"yaxis\":\"y\",\"type\":\"bar\"}],\"name\":\"Groningen\"},{\"data\":[{\"alignmentgroup\":\"True\",\"hovertemplate\":\"type=Passenger car (driver)<br>Region=Friesland<br>year=%{x}<br>number of=%{y}<extra></extra>\",\"legendgroup\":\"Passenger car (driver)\",\"marker\":{\"color\":\"#636efa\",\"pattern\":{\"shape\":\"\"}},\"name\":\"Passenger car (driver)\",\"offsetgroup\":\"Passenger car (driver)\",\"orientation\":\"v\",\"showlegend\":true,\"textposition\":\"auto\",\"x\":[\"2018\",\"2019\",\"2020\",\"2021\"],\"xaxis\":\"x\",\"y\":[370.0,356.0,342.0,334.0],\"yaxis\":\"y\",\"type\":\"bar\"},{\"alignmentgroup\":\"True\",\"hovertemplate\":\"type=Passenger car (passenger)<br>Region=Friesland<br>year=%{x}<br>number of=%{y}<extra></extra>\",\"legendgroup\":\"Passenger car (passenger)\",\"marker\":{\"color\":\"#EF553B\",\"pattern\":{\"shape\":\"\"}},\"name\":\"Passenger car (passenger)\",\"offsetgroup\":\"Passenger car (passenger)\",\"orientation\":\"v\",\"showlegend\":true,\"textposition\":\"auto\",\"x\":[\"2018\",\"2019\",\"2020\",\"2021\"],\"xaxis\":\"x\",\"y\":[122.0,123.0,106.0,100.0],\"yaxis\":\"y\",\"type\":\"bar\"},{\"alignmentgroup\":\"True\",\"hovertemplate\":\"type=Train<br>Region=Friesland<br>year=%{x}<br>number of=%{y}<extra></extra>\",\"legendgroup\":\"Train\",\"marker\":{\"color\":\"#00cc96\",\"pattern\":{\"shape\":\"\"}},\"name\":\"Train\",\"offsetgroup\":\"Train\",\"orientation\":\"v\",\"showlegend\":true,\"textposition\":\"auto\",\"x\":[\"2018\",\"2019\",\"2020\",\"2021\"],\"xaxis\":\"x\",\"y\":[17.0,0.0,0.0,0.0],\"yaxis\":\"y\",\"type\":\"bar\"},{\"alignmentgroup\":\"True\",\"hovertemplate\":\"type=Bus/tram/metro<br>Region=Friesland<br>year=%{x}<br>number of=%{y}<extra></extra>\",\"legendgroup\":\"Bus/tram/metro\",\"marker\":{\"color\":\"#ab63fa\",\"pattern\":{\"shape\":\"\"}},\"name\":\"Bus/tram/metro\",\"offsetgroup\":\"Bus/tram/metro\",\"orientation\":\"v\",\"showlegend\":true,\"textposition\":\"auto\",\"x\":[\"2018\",\"2019\",\"2020\",\"2021\"],\"xaxis\":\"x\",\"y\":[0.0,0.0,0.0,0.0],\"yaxis\":\"y\",\"type\":\"bar\"},{\"alignmentgroup\":\"True\",\"hovertemplate\":\"type=Bicycle<br>Region=Friesland<br>year=%{x}<br>number of=%{y}<extra></extra>\",\"legendgroup\":\"Bicycle\",\"marker\":{\"color\":\"#FFA15A\",\"pattern\":{\"shape\":\"\"}},\"name\":\"Bicycle\",\"offsetgroup\":\"Bicycle\",\"orientation\":\"v\",\"showlegend\":true,\"textposition\":\"auto\",\"x\":[\"2018\",\"2019\",\"2020\",\"2021\"],\"xaxis\":\"x\",\"y\":[289.0,277.0,245.0,244.0],\"yaxis\":\"y\",\"type\":\"bar\"},{\"alignmentgroup\":\"True\",\"hovertemplate\":\"type=To walk<br>Region=Friesland<br>year=%{x}<br>number of=%{y}<extra></extra>\",\"legendgroup\":\"To walk\",\"marker\":{\"color\":\"#19d3f3\",\"pattern\":{\"shape\":\"\"}},\"name\":\"To walk\",\"offsetgroup\":\"To walk\",\"orientation\":\"v\",\"showlegend\":true,\"textposition\":\"auto\",\"x\":[\"2018\",\"2019\",\"2020\",\"2021\"],\"xaxis\":\"x\",\"y\":[131.0,128.0,169.0,176.0],\"yaxis\":\"y\",\"type\":\"bar\"},{\"alignmentgroup\":\"True\",\"hovertemplate\":\"type=Other mode of transport<br>Region=Friesland<br>year=%{x}<br>number of=%{y}<extra></extra>\",\"legendgroup\":\"Other mode of transport\",\"marker\":{\"color\":\"#FF6692\",\"pattern\":{\"shape\":\"\"}},\"name\":\"Other mode of transport\",\"offsetgroup\":\"Other mode of transport\",\"orientation\":\"v\",\"showlegend\":true,\"textposition\":\"auto\",\"x\":[\"2018\",\"2019\",\"2020\",\"2021\"],\"xaxis\":\"x\",\"y\":[44.0,47.0,47.0,39.0],\"yaxis\":\"y\",\"type\":\"bar\"}],\"name\":\"Friesland\"},{\"data\":[{\"alignmentgroup\":\"True\",\"hovertemplate\":\"type=Passenger car (driver)<br>Region=Drenthe<br>year=%{x}<br>number of=%{y}<extra></extra>\",\"legendgroup\":\"Passenger car (driver)\",\"marker\":{\"color\":\"#636efa\",\"pattern\":{\"shape\":\"\"}},\"name\":\"Passenger car (driver)\",\"offsetgroup\":\"Passenger car (driver)\",\"orientation\":\"v\",\"showlegend\":true,\"textposition\":\"auto\",\"x\":[\"2018\",\"2019\",\"2020\",\"2021\"],\"xaxis\":\"x\",\"y\":[427.0,421.0,345.0,351.0],\"yaxis\":\"y\",\"type\":\"bar\"},{\"alignmentgroup\":\"True\",\"hovertemplate\":\"type=Passenger car (passenger)<br>Region=Drenthe<br>year=%{x}<br>number of=%{y}<extra></extra>\",\"legendgroup\":\"Passenger car (passenger)\",\"marker\":{\"color\":\"#EF553B\",\"pattern\":{\"shape\":\"\"}},\"name\":\"Passenger car (passenger)\",\"offsetgroup\":\"Passenger car (passenger)\",\"orientation\":\"v\",\"showlegend\":true,\"textposition\":\"auto\",\"x\":[\"2018\",\"2019\",\"2020\",\"2021\"],\"xaxis\":\"x\",\"y\":[134.0,130.0,109.0,117.0],\"yaxis\":\"y\",\"type\":\"bar\"},{\"alignmentgroup\":\"True\",\"hovertemplate\":\"type=Train<br>Region=Drenthe<br>year=%{x}<br>number of=%{y}<extra></extra>\",\"legendgroup\":\"Train\",\"marker\":{\"color\":\"#00cc96\",\"pattern\":{\"shape\":\"\"}},\"name\":\"Train\",\"offsetgroup\":\"Train\",\"orientation\":\"v\",\"showlegend\":true,\"textposition\":\"auto\",\"x\":[\"2018\",\"2019\",\"2020\",\"2021\"],\"xaxis\":\"x\",\"y\":[0.0,0.0,0.0,0.0],\"yaxis\":\"y\",\"type\":\"bar\"},{\"alignmentgroup\":\"True\",\"hovertemplate\":\"type=Bus/tram/metro<br>Region=Drenthe<br>year=%{x}<br>number of=%{y}<extra></extra>\",\"legendgroup\":\"Bus/tram/metro\",\"marker\":{\"color\":\"#ab63fa\",\"pattern\":{\"shape\":\"\"}},\"name\":\"Bus/tram/metro\",\"offsetgroup\":\"Bus/tram/metro\",\"orientation\":\"v\",\"showlegend\":true,\"textposition\":\"auto\",\"x\":[\"2018\",\"2019\",\"2020\",\"2021\"],\"xaxis\":\"x\",\"y\":[0.0,0.0,0.0,0.0],\"yaxis\":\"y\",\"type\":\"bar\"},{\"alignmentgroup\":\"True\",\"hovertemplate\":\"type=Bicycle<br>Region=Drenthe<br>year=%{x}<br>number of=%{y}<extra></extra>\",\"legendgroup\":\"Bicycle\",\"marker\":{\"color\":\"#FFA15A\",\"pattern\":{\"shape\":\"\"}},\"name\":\"Bicycle\",\"offsetgroup\":\"Bicycle\",\"orientation\":\"v\",\"showlegend\":true,\"textposition\":\"auto\",\"x\":[\"2018\",\"2019\",\"2020\",\"2021\"],\"xaxis\":\"x\",\"y\":[275.0,267.0,224.0,244.0],\"yaxis\":\"y\",\"type\":\"bar\"},{\"alignmentgroup\":\"True\",\"hovertemplate\":\"type=To walk<br>Region=Drenthe<br>year=%{x}<br>number of=%{y}<extra></extra>\",\"legendgroup\":\"To walk\",\"marker\":{\"color\":\"#19d3f3\",\"pattern\":{\"shape\":\"\"}},\"name\":\"To walk\",\"offsetgroup\":\"To walk\",\"orientation\":\"v\",\"showlegend\":true,\"textposition\":\"auto\",\"x\":[\"2018\",\"2019\",\"2020\",\"2021\"],\"xaxis\":\"x\",\"y\":[126.0,139.0,149.0,179.0],\"yaxis\":\"y\",\"type\":\"bar\"},{\"alignmentgroup\":\"True\",\"hovertemplate\":\"type=Other mode of transport<br>Region=Drenthe<br>year=%{x}<br>number of=%{y}<extra></extra>\",\"legendgroup\":\"Other mode of transport\",\"marker\":{\"color\":\"#FF6692\",\"pattern\":{\"shape\":\"\"}},\"name\":\"Other mode of transport\",\"offsetgroup\":\"Other mode of transport\",\"orientation\":\"v\",\"showlegend\":true,\"textposition\":\"auto\",\"x\":[\"2018\",\"2019\",\"2020\",\"2021\"],\"xaxis\":\"x\",\"y\":[41.0,43.0,0.0,47.0],\"yaxis\":\"y\",\"type\":\"bar\"}],\"name\":\"Drenthe\"},{\"data\":[{\"alignmentgroup\":\"True\",\"hovertemplate\":\"type=Passenger car (driver)<br>Region=Overijssel<br>year=%{x}<br>number of=%{y}<extra></extra>\",\"legendgroup\":\"Passenger car (driver)\",\"marker\":{\"color\":\"#636efa\",\"pattern\":{\"shape\":\"\"}},\"name\":\"Passenger car (driver)\",\"offsetgroup\":\"Passenger car (driver)\",\"orientation\":\"v\",\"showlegend\":true,\"textposition\":\"auto\",\"x\":[\"2018\",\"2019\",\"2020\",\"2021\"],\"xaxis\":\"x\",\"y\":[386.0,355.0,319.0,327.0],\"yaxis\":\"y\",\"type\":\"bar\"},{\"alignmentgroup\":\"True\",\"hovertemplate\":\"type=Passenger car (passenger)<br>Region=Overijssel<br>year=%{x}<br>number of=%{y}<extra></extra>\",\"legendgroup\":\"Passenger car (passenger)\",\"marker\":{\"color\":\"#EF553B\",\"pattern\":{\"shape\":\"\"}},\"name\":\"Passenger car (passenger)\",\"offsetgroup\":\"Passenger car (passenger)\",\"orientation\":\"v\",\"showlegend\":true,\"textposition\":\"auto\",\"x\":[\"2018\",\"2019\",\"2020\",\"2021\"],\"xaxis\":\"x\",\"y\":[123.0,116.0,91.0,99.0],\"yaxis\":\"y\",\"type\":\"bar\"},{\"alignmentgroup\":\"True\",\"hovertemplate\":\"type=Train<br>Region=Overijssel<br>year=%{x}<br>number of=%{y}<extra></extra>\",\"legendgroup\":\"Train\",\"marker\":{\"color\":\"#00cc96\",\"pattern\":{\"shape\":\"\"}},\"name\":\"Train\",\"offsetgroup\":\"Train\",\"orientation\":\"v\",\"showlegend\":true,\"textposition\":\"auto\",\"x\":[\"2018\",\"2019\",\"2020\",\"2021\"],\"xaxis\":\"x\",\"y\":[21.0,25.0,9.0,8.0],\"yaxis\":\"y\",\"type\":\"bar\"},{\"alignmentgroup\":\"True\",\"hovertemplate\":\"type=Bus/tram/metro<br>Region=Overijssel<br>year=%{x}<br>number of=%{y}<extra></extra>\",\"legendgroup\":\"Bus/tram/metro\",\"marker\":{\"color\":\"#ab63fa\",\"pattern\":{\"shape\":\"\"}},\"name\":\"Bus/tram/metro\",\"offsetgroup\":\"Bus/tram/metro\",\"orientation\":\"v\",\"showlegend\":true,\"textposition\":\"auto\",\"x\":[\"2018\",\"2019\",\"2020\",\"2021\"],\"xaxis\":\"x\",\"y\":[0.0,0.0,0.0,0.0],\"yaxis\":\"y\",\"type\":\"bar\"},{\"alignmentgroup\":\"True\",\"hovertemplate\":\"type=Bicycle<br>Region=Overijssel<br>year=%{x}<br>number of=%{y}<extra></extra>\",\"legendgroup\":\"Bicycle\",\"marker\":{\"color\":\"#FFA15A\",\"pattern\":{\"shape\":\"\"}},\"name\":\"Bicycle\",\"offsetgroup\":\"Bicycle\",\"orientation\":\"v\",\"showlegend\":true,\"textposition\":\"auto\",\"x\":[\"2018\",\"2019\",\"2020\",\"2021\"],\"xaxis\":\"x\",\"y\":[338.0,336.0,269.0,284.0],\"yaxis\":\"y\",\"type\":\"bar\"},{\"alignmentgroup\":\"True\",\"hovertemplate\":\"type=To walk<br>Region=Overijssel<br>year=%{x}<br>number of=%{y}<extra></extra>\",\"legendgroup\":\"To walk\",\"marker\":{\"color\":\"#19d3f3\",\"pattern\":{\"shape\":\"\"}},\"name\":\"To walk\",\"offsetgroup\":\"To walk\",\"orientation\":\"v\",\"showlegend\":true,\"textposition\":\"auto\",\"x\":[\"2018\",\"2019\",\"2020\",\"2021\"],\"xaxis\":\"x\",\"y\":[135.0,133.0,160.0,196.0],\"yaxis\":\"y\",\"type\":\"bar\"},{\"alignmentgroup\":\"True\",\"hovertemplate\":\"type=Other mode of transport<br>Region=Overijssel<br>year=%{x}<br>number of=%{y}<extra></extra>\",\"legendgroup\":\"Other mode of transport\",\"marker\":{\"color\":\"#FF6692\",\"pattern\":{\"shape\":\"\"}},\"name\":\"Other mode of transport\",\"offsetgroup\":\"Other mode of transport\",\"orientation\":\"v\",\"showlegend\":true,\"textposition\":\"auto\",\"x\":[\"2018\",\"2019\",\"2020\",\"2021\"],\"xaxis\":\"x\",\"y\":[39.0,51.0,35.0,38.0],\"yaxis\":\"y\",\"type\":\"bar\"}],\"name\":\"Overijssel\"},{\"data\":[{\"alignmentgroup\":\"True\",\"hovertemplate\":\"type=Passenger car (driver)<br>Region=Flevoland<br>year=%{x}<br>number of=%{y}<extra></extra>\",\"legendgroup\":\"Passenger car (driver)\",\"marker\":{\"color\":\"#636efa\",\"pattern\":{\"shape\":\"\"}},\"name\":\"Passenger car (driver)\",\"offsetgroup\":\"Passenger car (driver)\",\"orientation\":\"v\",\"showlegend\":true,\"textposition\":\"auto\",\"x\":[\"2018\",\"2019\",\"2020\",\"2021\"],\"xaxis\":\"x\",\"y\":[363.0,353.0,315.0,291.0],\"yaxis\":\"y\",\"type\":\"bar\"},{\"alignmentgroup\":\"True\",\"hovertemplate\":\"type=Passenger car (passenger)<br>Region=Flevoland<br>year=%{x}<br>number of=%{y}<extra></extra>\",\"legendgroup\":\"Passenger car (passenger)\",\"marker\":{\"color\":\"#EF553B\",\"pattern\":{\"shape\":\"\"}},\"name\":\"Passenger car (passenger)\",\"offsetgroup\":\"Passenger car (passenger)\",\"orientation\":\"v\",\"showlegend\":true,\"textposition\":\"auto\",\"x\":[\"2018\",\"2019\",\"2020\",\"2021\"],\"xaxis\":\"x\",\"y\":[136.0,128.0,105.0,109.0],\"yaxis\":\"y\",\"type\":\"bar\"},{\"alignmentgroup\":\"True\",\"hovertemplate\":\"type=Train<br>Region=Flevoland<br>year=%{x}<br>number of=%{y}<extra></extra>\",\"legendgroup\":\"Train\",\"marker\":{\"color\":\"#00cc96\",\"pattern\":{\"shape\":\"\"}},\"name\":\"Train\",\"offsetgroup\":\"Train\",\"orientation\":\"v\",\"showlegend\":true,\"textposition\":\"auto\",\"x\":[\"2018\",\"2019\",\"2020\",\"2021\"],\"xaxis\":\"x\",\"y\":[44.0,45.0,0.0,0.0],\"yaxis\":\"y\",\"type\":\"bar\"},{\"alignmentgroup\":\"True\",\"hovertemplate\":\"type=Bus/tram/metro<br>Region=Flevoland<br>year=%{x}<br>number of=%{y}<extra></extra>\",\"legendgroup\":\"Bus/tram/metro\",\"marker\":{\"color\":\"#ab63fa\",\"pattern\":{\"shape\":\"\"}},\"name\":\"Bus/tram/metro\",\"offsetgroup\":\"Bus/tram/metro\",\"orientation\":\"v\",\"showlegend\":true,\"textposition\":\"auto\",\"x\":[\"2018\",\"2019\",\"2020\",\"2021\"],\"xaxis\":\"x\",\"y\":[31.0,0.0,0.0,0.0],\"yaxis\":\"y\",\"type\":\"bar\"},{\"alignmentgroup\":\"True\",\"hovertemplate\":\"type=Bicycle<br>Region=Flevoland<br>year=%{x}<br>number of=%{y}<extra></extra>\",\"legendgroup\":\"Bicycle\",\"marker\":{\"color\":\"#FFA15A\",\"pattern\":{\"shape\":\"\"}},\"name\":\"Bicycle\",\"offsetgroup\":\"Bicycle\",\"orientation\":\"v\",\"showlegend\":true,\"textposition\":\"auto\",\"x\":[\"2018\",\"2019\",\"2020\",\"2021\"],\"xaxis\":\"x\",\"y\":[218.0,202.0,168.0,179.0],\"yaxis\":\"y\",\"type\":\"bar\"},{\"alignmentgroup\":\"True\",\"hovertemplate\":\"type=To walk<br>Region=Flevoland<br>year=%{x}<br>number of=%{y}<extra></extra>\",\"legendgroup\":\"To walk\",\"marker\":{\"color\":\"#19d3f3\",\"pattern\":{\"shape\":\"\"}},\"name\":\"To walk\",\"offsetgroup\":\"To walk\",\"orientation\":\"v\",\"showlegend\":true,\"textposition\":\"auto\",\"x\":[\"2018\",\"2019\",\"2020\",\"2021\"],\"xaxis\":\"x\",\"y\":[145.0,146.0,167.0,189.0],\"yaxis\":\"y\",\"type\":\"bar\"},{\"alignmentgroup\":\"True\",\"hovertemplate\":\"type=Other mode of transport<br>Region=Flevoland<br>year=%{x}<br>number of=%{y}<extra></extra>\",\"legendgroup\":\"Other mode of transport\",\"marker\":{\"color\":\"#FF6692\",\"pattern\":{\"shape\":\"\"}},\"name\":\"Other mode of transport\",\"offsetgroup\":\"Other mode of transport\",\"orientation\":\"v\",\"showlegend\":true,\"textposition\":\"auto\",\"x\":[\"2018\",\"2019\",\"2020\",\"2021\"],\"xaxis\":\"x\",\"y\":[43.0,33.0,31.0,51.0],\"yaxis\":\"y\",\"type\":\"bar\"}],\"name\":\"Flevoland\"},{\"data\":[{\"alignmentgroup\":\"True\",\"hovertemplate\":\"type=Passenger car (driver)<br>Region=Gelderland<br>year=%{x}<br>number of=%{y}<extra></extra>\",\"legendgroup\":\"Passenger car (driver)\",\"marker\":{\"color\":\"#636efa\",\"pattern\":{\"shape\":\"\"}},\"name\":\"Passenger car (driver)\",\"offsetgroup\":\"Passenger car (driver)\",\"orientation\":\"v\",\"showlegend\":true,\"textposition\":\"auto\",\"x\":[\"2018\",\"2019\",\"2020\",\"2021\"],\"xaxis\":\"x\",\"y\":[380.0,383.0,318.0,328.0],\"yaxis\":\"y\",\"type\":\"bar\"},{\"alignmentgroup\":\"True\",\"hovertemplate\":\"type=Passenger car (passenger)<br>Region=Gelderland<br>year=%{x}<br>number of=%{y}<extra></extra>\",\"legendgroup\":\"Passenger car (passenger)\",\"marker\":{\"color\":\"#EF553B\",\"pattern\":{\"shape\":\"\"}},\"name\":\"Passenger car (passenger)\",\"offsetgroup\":\"Passenger car (passenger)\",\"orientation\":\"v\",\"showlegend\":true,\"textposition\":\"auto\",\"x\":[\"2018\",\"2019\",\"2020\",\"2021\"],\"xaxis\":\"x\",\"y\":[122.0,118.0,91.0,95.0],\"yaxis\":\"y\",\"type\":\"bar\"},{\"alignmentgroup\":\"True\",\"hovertemplate\":\"type=Train<br>Region=Gelderland<br>year=%{x}<br>number of=%{y}<extra></extra>\",\"legendgroup\":\"Train\",\"marker\":{\"color\":\"#00cc96\",\"pattern\":{\"shape\":\"\"}},\"name\":\"Train\",\"offsetgroup\":\"Train\",\"orientation\":\"v\",\"showlegend\":true,\"textposition\":\"auto\",\"x\":[\"2018\",\"2019\",\"2020\",\"2021\"],\"xaxis\":\"x\",\"y\":[25.0,28.0,13.0,13.0],\"yaxis\":\"y\",\"type\":\"bar\"},{\"alignmentgroup\":\"True\",\"hovertemplate\":\"type=Bus/tram/metro<br>Region=Gelderland<br>year=%{x}<br>number of=%{y}<extra></extra>\",\"legendgroup\":\"Bus/tram/metro\",\"marker\":{\"color\":\"#ab63fa\",\"pattern\":{\"shape\":\"\"}},\"name\":\"Bus/tram/metro\",\"offsetgroup\":\"Bus/tram/metro\",\"orientation\":\"v\",\"showlegend\":true,\"textposition\":\"auto\",\"x\":[\"2018\",\"2019\",\"2020\",\"2021\"],\"xaxis\":\"x\",\"y\":[15.0,13.0,7.0,6.0],\"yaxis\":\"y\",\"type\":\"bar\"},{\"alignmentgroup\":\"True\",\"hovertemplate\":\"type=Bicycle<br>Region=Gelderland<br>year=%{x}<br>number of=%{y}<extra></extra>\",\"legendgroup\":\"Bicycle\",\"marker\":{\"color\":\"#FFA15A\",\"pattern\":{\"shape\":\"\"}},\"name\":\"Bicycle\",\"offsetgroup\":\"Bicycle\",\"orientation\":\"v\",\"showlegend\":true,\"textposition\":\"auto\",\"x\":[\"2018\",\"2019\",\"2020\",\"2021\"],\"xaxis\":\"x\",\"y\":[318.0,293.0,253.0,248.0],\"yaxis\":\"y\",\"type\":\"bar\"},{\"alignmentgroup\":\"True\",\"hovertemplate\":\"type=To walk<br>Region=Gelderland<br>year=%{x}<br>number of=%{y}<extra></extra>\",\"legendgroup\":\"To walk\",\"marker\":{\"color\":\"#19d3f3\",\"pattern\":{\"shape\":\"\"}},\"name\":\"To walk\",\"offsetgroup\":\"To walk\",\"orientation\":\"v\",\"showlegend\":true,\"textposition\":\"auto\",\"x\":[\"2018\",\"2019\",\"2020\",\"2021\"],\"xaxis\":\"x\",\"y\":[148.0,140.0,190.0,218.0],\"yaxis\":\"y\",\"type\":\"bar\"},{\"alignmentgroup\":\"True\",\"hovertemplate\":\"type=Other mode of transport<br>Region=Gelderland<br>year=%{x}<br>number of=%{y}<extra></extra>\",\"legendgroup\":\"Other mode of transport\",\"marker\":{\"color\":\"#FF6692\",\"pattern\":{\"shape\":\"\"}},\"name\":\"Other mode of transport\",\"offsetgroup\":\"Other mode of transport\",\"orientation\":\"v\",\"showlegend\":true,\"textposition\":\"auto\",\"x\":[\"2018\",\"2019\",\"2020\",\"2021\"],\"xaxis\":\"x\",\"y\":[36.0,42.0,34.0,39.0],\"yaxis\":\"y\",\"type\":\"bar\"}],\"name\":\"Gelderland\"},{\"data\":[{\"alignmentgroup\":\"True\",\"hovertemplate\":\"type=Passenger car (driver)<br>Region=Utrecht<br>year=%{x}<br>number of=%{y}<extra></extra>\",\"legendgroup\":\"Passenger car (driver)\",\"marker\":{\"color\":\"#636efa\",\"pattern\":{\"shape\":\"\"}},\"name\":\"Passenger car (driver)\",\"offsetgroup\":\"Passenger car (driver)\",\"orientation\":\"v\",\"showlegend\":true,\"textposition\":\"auto\",\"x\":[\"2018\",\"2019\",\"2020\",\"2021\"],\"xaxis\":\"x\",\"y\":[331.0,324.0,268.0,277.0],\"yaxis\":\"y\",\"type\":\"bar\"},{\"alignmentgroup\":\"True\",\"hovertemplate\":\"type=Passenger car (passenger)<br>Region=Utrecht<br>year=%{x}<br>number of=%{y}<extra></extra>\",\"legendgroup\":\"Passenger car (passenger)\",\"marker\":{\"color\":\"#EF553B\",\"pattern\":{\"shape\":\"\"}},\"name\":\"Passenger car (passenger)\",\"offsetgroup\":\"Passenger car (passenger)\",\"orientation\":\"v\",\"showlegend\":true,\"textposition\":\"auto\",\"x\":[\"2018\",\"2019\",\"2020\",\"2021\"],\"xaxis\":\"x\",\"y\":[110.0,116.0,82.0,91.0],\"yaxis\":\"y\",\"type\":\"bar\"},{\"alignmentgroup\":\"True\",\"hovertemplate\":\"type=Train<br>Region=Utrecht<br>year=%{x}<br>number of=%{y}<extra></extra>\",\"legendgroup\":\"Train\",\"marker\":{\"color\":\"#00cc96\",\"pattern\":{\"shape\":\"\"}},\"name\":\"Train\",\"offsetgroup\":\"Train\",\"orientation\":\"v\",\"showlegend\":true,\"textposition\":\"auto\",\"x\":[\"2018\",\"2019\",\"2020\",\"2021\"],\"xaxis\":\"x\",\"y\":[42.0,47.0,19.0,19.0],\"yaxis\":\"y\",\"type\":\"bar\"},{\"alignmentgroup\":\"True\",\"hovertemplate\":\"type=Bus/tram/metro<br>Region=Utrecht<br>year=%{x}<br>number of=%{y}<extra></extra>\",\"legendgroup\":\"Bus/tram/metro\",\"marker\":{\"color\":\"#ab63fa\",\"pattern\":{\"shape\":\"\"}},\"name\":\"Bus/tram/metro\",\"offsetgroup\":\"Bus/tram/metro\",\"orientation\":\"v\",\"showlegend\":true,\"textposition\":\"auto\",\"x\":[\"2018\",\"2019\",\"2020\",\"2021\"],\"xaxis\":\"x\",\"y\":[25.0,17.0,11.0,12.0],\"yaxis\":\"y\",\"type\":\"bar\"},{\"alignmentgroup\":\"True\",\"hovertemplate\":\"type=Bicycle<br>Region=Utrecht<br>year=%{x}<br>number of=%{y}<extra></extra>\",\"legendgroup\":\"Bicycle\",\"marker\":{\"color\":\"#FFA15A\",\"pattern\":{\"shape\":\"\"}},\"name\":\"Bicycle\",\"offsetgroup\":\"Bicycle\",\"orientation\":\"v\",\"showlegend\":true,\"textposition\":\"auto\",\"x\":[\"2018\",\"2019\",\"2020\",\"2021\"],\"xaxis\":\"x\",\"y\":[344.0,334.0,269.0,271.0],\"yaxis\":\"y\",\"type\":\"bar\"},{\"alignmentgroup\":\"True\",\"hovertemplate\":\"type=To walk<br>Region=Utrecht<br>year=%{x}<br>number of=%{y}<extra></extra>\",\"legendgroup\":\"To walk\",\"marker\":{\"color\":\"#19d3f3\",\"pattern\":{\"shape\":\"\"}},\"name\":\"To walk\",\"offsetgroup\":\"To walk\",\"orientation\":\"v\",\"showlegend\":true,\"textposition\":\"auto\",\"x\":[\"2018\",\"2019\",\"2020\",\"2021\"],\"xaxis\":\"x\",\"y\":[169.0,155.0,210.0,236.0],\"yaxis\":\"y\",\"type\":\"bar\"},{\"alignmentgroup\":\"True\",\"hovertemplate\":\"type=Other mode of transport<br>Region=Utrecht<br>year=%{x}<br>number of=%{y}<extra></extra>\",\"legendgroup\":\"Other mode of transport\",\"marker\":{\"color\":\"#FF6692\",\"pattern\":{\"shape\":\"\"}},\"name\":\"Other mode of transport\",\"offsetgroup\":\"Other mode of transport\",\"orientation\":\"v\",\"showlegend\":true,\"textposition\":\"auto\",\"x\":[\"2018\",\"2019\",\"2020\",\"2021\"],\"xaxis\":\"x\",\"y\":[35.0,34.0,29.0,31.0],\"yaxis\":\"y\",\"type\":\"bar\"}],\"name\":\"Utrecht\"},{\"data\":[{\"alignmentgroup\":\"True\",\"hovertemplate\":\"type=Passenger car (driver)<br>Region=North Holland<br>year=%{x}<br>number of=%{y}<extra></extra>\",\"legendgroup\":\"Passenger car (driver)\",\"marker\":{\"color\":\"#636efa\",\"pattern\":{\"shape\":\"\"}},\"name\":\"Passenger car (driver)\",\"offsetgroup\":\"Passenger car (driver)\",\"orientation\":\"v\",\"showlegend\":true,\"textposition\":\"auto\",\"x\":[\"2018\",\"2019\",\"2020\",\"2021\"],\"xaxis\":\"x\",\"y\":[290.0,281.0,242.0,244.0],\"yaxis\":\"y\",\"type\":\"bar\"},{\"alignmentgroup\":\"True\",\"hovertemplate\":\"type=Passenger car (passenger)<br>Region=North Holland<br>year=%{x}<br>number of=%{y}<extra></extra>\",\"legendgroup\":\"Passenger car (passenger)\",\"marker\":{\"color\":\"#EF553B\",\"pattern\":{\"shape\":\"\"}},\"name\":\"Passenger car (passenger)\",\"offsetgroup\":\"Passenger car (passenger)\",\"orientation\":\"v\",\"showlegend\":true,\"textposition\":\"auto\",\"x\":[\"2018\",\"2019\",\"2020\",\"2021\"],\"xaxis\":\"x\",\"y\":[106.0,96.0,72.0,84.0],\"yaxis\":\"y\",\"type\":\"bar\"},{\"alignmentgroup\":\"True\",\"hovertemplate\":\"type=Train<br>Region=North Holland<br>year=%{x}<br>number of=%{y}<extra></extra>\",\"legendgroup\":\"Train\",\"marker\":{\"color\":\"#00cc96\",\"pattern\":{\"shape\":\"\"}},\"name\":\"Train\",\"offsetgroup\":\"Train\",\"orientation\":\"v\",\"showlegend\":true,\"textposition\":\"auto\",\"x\":[\"2018\",\"2019\",\"2020\",\"2021\"],\"xaxis\":\"x\",\"y\":[42.0,41.0,18.0,18.0],\"yaxis\":\"y\",\"type\":\"bar\"},{\"alignmentgroup\":\"True\",\"hovertemplate\":\"type=Bus/tram/metro<br>Region=North Holland<br>year=%{x}<br>number of=%{y}<extra></extra>\",\"legendgroup\":\"Bus/tram/metro\",\"marker\":{\"color\":\"#ab63fa\",\"pattern\":{\"shape\":\"\"}},\"name\":\"Bus/tram/metro\",\"offsetgroup\":\"Bus/tram/metro\",\"orientation\":\"v\",\"showlegend\":true,\"textposition\":\"auto\",\"x\":[\"2018\",\"2019\",\"2020\",\"2021\"],\"xaxis\":\"x\",\"y\":[50.0,44.0,24.0,25.0],\"yaxis\":\"y\",\"type\":\"bar\"},{\"alignmentgroup\":\"True\",\"hovertemplate\":\"type=Bicycle<br>Region=North Holland<br>year=%{x}<br>number of=%{y}<extra></extra>\",\"legendgroup\":\"Bicycle\",\"marker\":{\"color\":\"#FFA15A\",\"pattern\":{\"shape\":\"\"}},\"name\":\"Bicycle\",\"offsetgroup\":\"Bicycle\",\"orientation\":\"v\",\"showlegend\":true,\"textposition\":\"auto\",\"x\":[\"2018\",\"2019\",\"2020\",\"2021\"],\"xaxis\":\"x\",\"y\":[308.0,293.0,237.0,246.0],\"yaxis\":\"y\",\"type\":\"bar\"},{\"alignmentgroup\":\"True\",\"hovertemplate\":\"type=To walk<br>Region=North Holland<br>year=%{x}<br>number of=%{y}<extra></extra>\",\"legendgroup\":\"To walk\",\"marker\":{\"color\":\"#19d3f3\",\"pattern\":{\"shape\":\"\"}},\"name\":\"To walk\",\"offsetgroup\":\"To walk\",\"orientation\":\"v\",\"showlegend\":true,\"textposition\":\"auto\",\"x\":[\"2018\",\"2019\",\"2020\",\"2021\"],\"xaxis\":\"x\",\"y\":[168.0,165.0,197.0,240.0],\"yaxis\":\"y\",\"type\":\"bar\"},{\"alignmentgroup\":\"True\",\"hovertemplate\":\"type=Other mode of transport<br>Region=North Holland<br>year=%{x}<br>number of=%{y}<extra></extra>\",\"legendgroup\":\"Other mode of transport\",\"marker\":{\"color\":\"#FF6692\",\"pattern\":{\"shape\":\"\"}},\"name\":\"Other mode of transport\",\"offsetgroup\":\"Other mode of transport\",\"orientation\":\"v\",\"showlegend\":true,\"textposition\":\"auto\",\"x\":[\"2018\",\"2019\",\"2020\",\"2021\"],\"xaxis\":\"x\",\"y\":[40.0,42.0,30.0,34.0],\"yaxis\":\"y\",\"type\":\"bar\"}],\"name\":\"North Holland\"},{\"data\":[{\"alignmentgroup\":\"True\",\"hovertemplate\":\"type=Passenger car (driver)<br>Region=South Holland<br>year=%{x}<br>number of=%{y}<extra></extra>\",\"legendgroup\":\"Passenger car (driver)\",\"marker\":{\"color\":\"#636efa\",\"pattern\":{\"shape\":\"\"}},\"name\":\"Passenger car (driver)\",\"offsetgroup\":\"Passenger car (driver)\",\"orientation\":\"v\",\"showlegend\":true,\"textposition\":\"auto\",\"x\":[\"2018\",\"2019\",\"2020\",\"2021\"],\"xaxis\":\"x\",\"y\":[320.0,315.0,251.0,262.0],\"yaxis\":\"y\",\"type\":\"bar\"},{\"alignmentgroup\":\"True\",\"hovertemplate\":\"type=Passenger car (passenger)<br>Region=South Holland<br>year=%{x}<br>number of=%{y}<extra></extra>\",\"legendgroup\":\"Passenger car (passenger)\",\"marker\":{\"color\":\"#EF553B\",\"pattern\":{\"shape\":\"\"}},\"name\":\"Passenger car (passenger)\",\"offsetgroup\":\"Passenger car (passenger)\",\"orientation\":\"v\",\"showlegend\":true,\"textposition\":\"auto\",\"x\":[\"2018\",\"2019\",\"2020\",\"2021\"],\"xaxis\":\"x\",\"y\":[106.0,109.0,81.0,88.0],\"yaxis\":\"y\",\"type\":\"bar\"},{\"alignmentgroup\":\"True\",\"hovertemplate\":\"type=Train<br>Region=South Holland<br>year=%{x}<br>number of=%{y}<extra></extra>\",\"legendgroup\":\"Train\",\"marker\":{\"color\":\"#00cc96\",\"pattern\":{\"shape\":\"\"}},\"name\":\"Train\",\"offsetgroup\":\"Train\",\"orientation\":\"v\",\"showlegend\":true,\"textposition\":\"auto\",\"x\":[\"2018\",\"2019\",\"2020\",\"2021\"],\"xaxis\":\"x\",\"y\":[31.0,32.0,12.0,14.0],\"yaxis\":\"y\",\"type\":\"bar\"},{\"alignmentgroup\":\"True\",\"hovertemplate\":\"type=Bus/tram/metro<br>Region=South Holland<br>year=%{x}<br>number of=%{y}<extra></extra>\",\"legendgroup\":\"Bus/tram/metro\",\"marker\":{\"color\":\"#ab63fa\",\"pattern\":{\"shape\":\"\"}},\"name\":\"Bus/tram/metro\",\"offsetgroup\":\"Bus/tram/metro\",\"orientation\":\"v\",\"showlegend\":true,\"textposition\":\"auto\",\"x\":[\"2018\",\"2019\",\"2020\",\"2021\"],\"xaxis\":\"x\",\"y\":[49.0,50.0,23.0,24.0],\"yaxis\":\"y\",\"type\":\"bar\"},{\"alignmentgroup\":\"True\",\"hovertemplate\":\"type=Bicycle<br>Region=South Holland<br>year=%{x}<br>number of=%{y}<extra></extra>\",\"legendgroup\":\"Bicycle\",\"marker\":{\"color\":\"#FFA15A\",\"pattern\":{\"shape\":\"\"}},\"name\":\"Bicycle\",\"offsetgroup\":\"Bicycle\",\"orientation\":\"v\",\"showlegend\":true,\"textposition\":\"auto\",\"x\":[\"2018\",\"2019\",\"2020\",\"2021\"],\"xaxis\":\"x\",\"y\":[263.0,253.0,213.0,214.0],\"yaxis\":\"y\",\"type\":\"bar\"},{\"alignmentgroup\":\"True\",\"hovertemplate\":\"type=To walk<br>Region=South Holland<br>year=%{x}<br>number of=%{y}<extra></extra>\",\"legendgroup\":\"To walk\",\"marker\":{\"color\":\"#19d3f3\",\"pattern\":{\"shape\":\"\"}},\"name\":\"To walk\",\"offsetgroup\":\"To walk\",\"orientation\":\"v\",\"showlegend\":true,\"textposition\":\"auto\",\"x\":[\"2018\",\"2019\",\"2020\",\"2021\"],\"xaxis\":\"x\",\"y\":[182.0,171.0,205.0,239.0],\"yaxis\":\"y\",\"type\":\"bar\"},{\"alignmentgroup\":\"True\",\"hovertemplate\":\"type=Other mode of transport<br>Region=South Holland<br>year=%{x}<br>number of=%{y}<extra></extra>\",\"legendgroup\":\"Other mode of transport\",\"marker\":{\"color\":\"#FF6692\",\"pattern\":{\"shape\":\"\"}},\"name\":\"Other mode of transport\",\"offsetgroup\":\"Other mode of transport\",\"orientation\":\"v\",\"showlegend\":true,\"textposition\":\"auto\",\"x\":[\"2018\",\"2019\",\"2020\",\"2021\"],\"xaxis\":\"x\",\"y\":[38.0,39.0,30.0,38.0],\"yaxis\":\"y\",\"type\":\"bar\"}],\"name\":\"South Holland\"},{\"data\":[{\"alignmentgroup\":\"True\",\"hovertemplate\":\"type=Passenger car (driver)<br>Region=Zealand<br>year=%{x}<br>number of=%{y}<extra></extra>\",\"legendgroup\":\"Passenger car (driver)\",\"marker\":{\"color\":\"#636efa\",\"pattern\":{\"shape\":\"\"}},\"name\":\"Passenger car (driver)\",\"offsetgroup\":\"Passenger car (driver)\",\"orientation\":\"v\",\"showlegend\":true,\"textposition\":\"auto\",\"x\":[\"2018\",\"2019\",\"2020\",\"2021\"],\"xaxis\":\"x\",\"y\":[361.0,371.0,316.0,341.0],\"yaxis\":\"y\",\"type\":\"bar\"},{\"alignmentgroup\":\"True\",\"hovertemplate\":\"type=Passenger car (passenger)<br>Region=Zealand<br>year=%{x}<br>number of=%{y}<extra></extra>\",\"legendgroup\":\"Passenger car (passenger)\",\"marker\":{\"color\":\"#EF553B\",\"pattern\":{\"shape\":\"\"}},\"name\":\"Passenger car (passenger)\",\"offsetgroup\":\"Passenger car (passenger)\",\"orientation\":\"v\",\"showlegend\":true,\"textposition\":\"auto\",\"x\":[\"2018\",\"2019\",\"2020\",\"2021\"],\"xaxis\":\"x\",\"y\":[123.0,128.0,82.0,101.0],\"yaxis\":\"y\",\"type\":\"bar\"},{\"alignmentgroup\":\"True\",\"hovertemplate\":\"type=Train<br>Region=Zealand<br>year=%{x}<br>number of=%{y}<extra></extra>\",\"legendgroup\":\"Train\",\"marker\":{\"color\":\"#00cc96\",\"pattern\":{\"shape\":\"\"}},\"name\":\"Train\",\"offsetgroup\":\"Train\",\"orientation\":\"v\",\"showlegend\":true,\"textposition\":\"auto\",\"x\":[\"2018\",\"2019\",\"2020\",\"2021\"],\"xaxis\":\"x\",\"y\":[0.0,0.0,0.0,0.0],\"yaxis\":\"y\",\"type\":\"bar\"},{\"alignmentgroup\":\"True\",\"hovertemplate\":\"type=Bus/tram/metro<br>Region=Zealand<br>year=%{x}<br>number of=%{y}<extra></extra>\",\"legendgroup\":\"Bus/tram/metro\",\"marker\":{\"color\":\"#ab63fa\",\"pattern\":{\"shape\":\"\"}},\"name\":\"Bus/tram/metro\",\"offsetgroup\":\"Bus/tram/metro\",\"orientation\":\"v\",\"showlegend\":true,\"textposition\":\"auto\",\"x\":[\"2018\",\"2019\",\"2020\",\"2021\"],\"xaxis\":\"x\",\"y\":[0.0,0.0,0.0,0.0],\"yaxis\":\"y\",\"type\":\"bar\"},{\"alignmentgroup\":\"True\",\"hovertemplate\":\"type=Bicycle<br>Region=Zealand<br>year=%{x}<br>number of=%{y}<extra></extra>\",\"legendgroup\":\"Bicycle\",\"marker\":{\"color\":\"#FFA15A\",\"pattern\":{\"shape\":\"\"}},\"name\":\"Bicycle\",\"offsetgroup\":\"Bicycle\",\"orientation\":\"v\",\"showlegend\":true,\"textposition\":\"auto\",\"x\":[\"2018\",\"2019\",\"2020\",\"2021\"],\"xaxis\":\"x\",\"y\":[275.0,274.0,245.0,229.0],\"yaxis\":\"y\",\"type\":\"bar\"},{\"alignmentgroup\":\"True\",\"hovertemplate\":\"type=To walk<br>Region=Zealand<br>year=%{x}<br>number of=%{y}<extra></extra>\",\"legendgroup\":\"To walk\",\"marker\":{\"color\":\"#19d3f3\",\"pattern\":{\"shape\":\"\"}},\"name\":\"To walk\",\"offsetgroup\":\"To walk\",\"orientation\":\"v\",\"showlegend\":true,\"textposition\":\"auto\",\"x\":[\"2018\",\"2019\",\"2020\",\"2021\"],\"xaxis\":\"x\",\"y\":[153.0,139.0,163.0,202.0],\"yaxis\":\"y\",\"type\":\"bar\"},{\"alignmentgroup\":\"True\",\"hovertemplate\":\"type=Other mode of transport<br>Region=Zealand<br>year=%{x}<br>number of=%{y}<extra></extra>\",\"legendgroup\":\"Other mode of transport\",\"marker\":{\"color\":\"#FF6692\",\"pattern\":{\"shape\":\"\"}},\"name\":\"Other mode of transport\",\"offsetgroup\":\"Other mode of transport\",\"orientation\":\"v\",\"showlegend\":true,\"textposition\":\"auto\",\"x\":[\"2018\",\"2019\",\"2020\",\"2021\"],\"xaxis\":\"x\",\"y\":[50.0,57.0,0.0,63.0],\"yaxis\":\"y\",\"type\":\"bar\"}],\"name\":\"Zealand\"},{\"data\":[{\"alignmentgroup\":\"True\",\"hovertemplate\":\"type=Passenger car (driver)<br>Region=North Brabant<br>year=%{x}<br>number of=%{y}<extra></extra>\",\"legendgroup\":\"Passenger car (driver)\",\"marker\":{\"color\":\"#636efa\",\"pattern\":{\"shape\":\"\"}},\"name\":\"Passenger car (driver)\",\"offsetgroup\":\"Passenger car (driver)\",\"orientation\":\"v\",\"showlegend\":true,\"textposition\":\"auto\",\"x\":[\"2018\",\"2019\",\"2020\",\"2021\"],\"xaxis\":\"x\",\"y\":[384.0,396.0,343.0,351.0],\"yaxis\":\"y\",\"type\":\"bar\"},{\"alignmentgroup\":\"True\",\"hovertemplate\":\"type=Passenger car (passenger)<br>Region=North Brabant<br>year=%{x}<br>number of=%{y}<extra></extra>\",\"legendgroup\":\"Passenger car (passenger)\",\"marker\":{\"color\":\"#EF553B\",\"pattern\":{\"shape\":\"\"}},\"name\":\"Passenger car (passenger)\",\"offsetgroup\":\"Passenger car (passenger)\",\"orientation\":\"v\",\"showlegend\":true,\"textposition\":\"auto\",\"x\":[\"2018\",\"2019\",\"2020\",\"2021\"],\"xaxis\":\"x\",\"y\":[127.0,120.0,100.0,98.0],\"yaxis\":\"y\",\"type\":\"bar\"},{\"alignmentgroup\":\"True\",\"hovertemplate\":\"type=Train<br>Region=North Brabant<br>year=%{x}<br>number of=%{y}<extra></extra>\",\"legendgroup\":\"Train\",\"marker\":{\"color\":\"#00cc96\",\"pattern\":{\"shape\":\"\"}},\"name\":\"Train\",\"offsetgroup\":\"Train\",\"orientation\":\"v\",\"showlegend\":true,\"textposition\":\"auto\",\"x\":[\"2018\",\"2019\",\"2020\",\"2021\"],\"xaxis\":\"x\",\"y\":[20.0,23.0,9.0,7.0],\"yaxis\":\"y\",\"type\":\"bar\"},{\"alignmentgroup\":\"True\",\"hovertemplate\":\"type=Bus/tram/metro<br>Region=North Brabant<br>year=%{x}<br>number of=%{y}<extra></extra>\",\"legendgroup\":\"Bus/tram/metro\",\"marker\":{\"color\":\"#ab63fa\",\"pattern\":{\"shape\":\"\"}},\"name\":\"Bus/tram/metro\",\"offsetgroup\":\"Bus/tram/metro\",\"orientation\":\"v\",\"showlegend\":true,\"textposition\":\"auto\",\"x\":[\"2018\",\"2019\",\"2020\",\"2021\"],\"xaxis\":\"x\",\"y\":[13.0,14.0,5.0,5.0],\"yaxis\":\"y\",\"type\":\"bar\"},{\"alignmentgroup\":\"True\",\"hovertemplate\":\"type=Bicycle<br>Region=North Brabant<br>year=%{x}<br>number of=%{y}<extra></extra>\",\"legendgroup\":\"Bicycle\",\"marker\":{\"color\":\"#FFA15A\",\"pattern\":{\"shape\":\"\"}},\"name\":\"Bicycle\",\"offsetgroup\":\"Bicycle\",\"orientation\":\"v\",\"showlegend\":true,\"textposition\":\"auto\",\"x\":[\"2018\",\"2019\",\"2020\",\"2021\"],\"xaxis\":\"x\",\"y\":[274.0,257.0,218.0,220.0],\"yaxis\":\"y\",\"type\":\"bar\"},{\"alignmentgroup\":\"True\",\"hovertemplate\":\"type=To walk<br>Region=North Brabant<br>year=%{x}<br>number of=%{y}<extra></extra>\",\"legendgroup\":\"To walk\",\"marker\":{\"color\":\"#19d3f3\",\"pattern\":{\"shape\":\"\"}},\"name\":\"To walk\",\"offsetgroup\":\"To walk\",\"orientation\":\"v\",\"showlegend\":true,\"textposition\":\"auto\",\"x\":[\"2018\",\"2019\",\"2020\",\"2021\"],\"xaxis\":\"x\",\"y\":[161.0,160.0,197.0,222.0],\"yaxis\":\"y\",\"type\":\"bar\"},{\"alignmentgroup\":\"True\",\"hovertemplate\":\"type=Other mode of transport<br>Region=North Brabant<br>year=%{x}<br>number of=%{y}<extra></extra>\",\"legendgroup\":\"Other mode of transport\",\"marker\":{\"color\":\"#FF6692\",\"pattern\":{\"shape\":\"\"}},\"name\":\"Other mode of transport\",\"offsetgroup\":\"Other mode of transport\",\"orientation\":\"v\",\"showlegend\":true,\"textposition\":\"auto\",\"x\":[\"2018\",\"2019\",\"2020\",\"2021\"],\"xaxis\":\"x\",\"y\":[42.0,36.0,32.0,36.0],\"yaxis\":\"y\",\"type\":\"bar\"}],\"name\":\"North Brabant\"},{\"data\":[{\"alignmentgroup\":\"True\",\"hovertemplate\":\"type=Passenger car (driver)<br>Region=Limburg<br>year=%{x}<br>number of=%{y}<extra></extra>\",\"legendgroup\":\"Passenger car (driver)\",\"marker\":{\"color\":\"#636efa\",\"pattern\":{\"shape\":\"\"}},\"name\":\"Passenger car (driver)\",\"offsetgroup\":\"Passenger car (driver)\",\"orientation\":\"v\",\"showlegend\":true,\"textposition\":\"auto\",\"x\":[\"2018\",\"2019\",\"2020\",\"2021\"],\"xaxis\":\"x\",\"y\":[407.0,420.0,371.0,349.0],\"yaxis\":\"y\",\"type\":\"bar\"},{\"alignmentgroup\":\"True\",\"hovertemplate\":\"type=Passenger car (passenger)<br>Region=Limburg<br>year=%{x}<br>number of=%{y}<extra></extra>\",\"legendgroup\":\"Passenger car (passenger)\",\"marker\":{\"color\":\"#EF553B\",\"pattern\":{\"shape\":\"\"}},\"name\":\"Passenger car (passenger)\",\"offsetgroup\":\"Passenger car (passenger)\",\"orientation\":\"v\",\"showlegend\":true,\"textposition\":\"auto\",\"x\":[\"2018\",\"2019\",\"2020\",\"2021\"],\"xaxis\":\"x\",\"y\":[141.0,137.0,96.0,107.0],\"yaxis\":\"y\",\"type\":\"bar\"},{\"alignmentgroup\":\"True\",\"hovertemplate\":\"type=Train<br>Region=Limburg<br>year=%{x}<br>number of=%{y}<extra></extra>\",\"legendgroup\":\"Train\",\"marker\":{\"color\":\"#00cc96\",\"pattern\":{\"shape\":\"\"}},\"name\":\"Train\",\"offsetgroup\":\"Train\",\"orientation\":\"v\",\"showlegend\":true,\"textposition\":\"auto\",\"x\":[\"2018\",\"2019\",\"2020\",\"2021\"],\"xaxis\":\"x\",\"y\":[22.0,21.0,0.0,10.0],\"yaxis\":\"y\",\"type\":\"bar\"},{\"alignmentgroup\":\"True\",\"hovertemplate\":\"type=Bus/tram/metro<br>Region=Limburg<br>year=%{x}<br>number of=%{y}<extra></extra>\",\"legendgroup\":\"Bus/tram/metro\",\"marker\":{\"color\":\"#ab63fa\",\"pattern\":{\"shape\":\"\"}},\"name\":\"Bus/tram/metro\",\"offsetgroup\":\"Bus/tram/metro\",\"orientation\":\"v\",\"showlegend\":true,\"textposition\":\"auto\",\"x\":[\"2018\",\"2019\",\"2020\",\"2021\"],\"xaxis\":\"x\",\"y\":[16.0,12.0,0.0,0.0],\"yaxis\":\"y\",\"type\":\"bar\"},{\"alignmentgroup\":\"True\",\"hovertemplate\":\"type=Bicycle<br>Region=Limburg<br>year=%{x}<br>number of=%{y}<extra></extra>\",\"legendgroup\":\"Bicycle\",\"marker\":{\"color\":\"#FFA15A\",\"pattern\":{\"shape\":\"\"}},\"name\":\"Bicycle\",\"offsetgroup\":\"Bicycle\",\"orientation\":\"v\",\"showlegend\":true,\"textposition\":\"auto\",\"x\":[\"2018\",\"2019\",\"2020\",\"2021\"],\"xaxis\":\"x\",\"y\":[211.0,202.0,163.0,161.0],\"yaxis\":\"y\",\"type\":\"bar\"},{\"alignmentgroup\":\"True\",\"hovertemplate\":\"type=To walk<br>Region=Limburg<br>year=%{x}<br>number of=%{y}<extra></extra>\",\"legendgroup\":\"To walk\",\"marker\":{\"color\":\"#19d3f3\",\"pattern\":{\"shape\":\"\"}},\"name\":\"To walk\",\"offsetgroup\":\"To walk\",\"orientation\":\"v\",\"showlegend\":true,\"textposition\":\"auto\",\"x\":[\"2018\",\"2019\",\"2020\",\"2021\"],\"xaxis\":\"x\",\"y\":[178.0,158.0,196.0,242.0],\"yaxis\":\"y\",\"type\":\"bar\"},{\"alignmentgroup\":\"True\",\"hovertemplate\":\"type=Other mode of transport<br>Region=Limburg<br>year=%{x}<br>number of=%{y}<extra></extra>\",\"legendgroup\":\"Other mode of transport\",\"marker\":{\"color\":\"#FF6692\",\"pattern\":{\"shape\":\"\"}},\"name\":\"Other mode of transport\",\"offsetgroup\":\"Other mode of transport\",\"orientation\":\"v\",\"showlegend\":true,\"textposition\":\"auto\",\"x\":[\"2018\",\"2019\",\"2020\",\"2021\"],\"xaxis\":\"x\",\"y\":[36.0,41.0,34.0,40.0],\"yaxis\":\"y\",\"type\":\"bar\"}],\"name\":\"Limburg\"}]);\n",
       "                        }).then(function(){\n",
       "                            \n",
       "var gd = document.getElementById('48938035-520c-4187-bee2-ee572bdf0846');\n",
       "var x = new MutationObserver(function (mutations, observer) {{\n",
       "        var display = window.getComputedStyle(gd).display;\n",
       "        if (!display || display === 'none') {{\n",
       "            console.log([gd, 'removed!']);\n",
       "            Plotly.purge(gd);\n",
       "            observer.disconnect();\n",
       "        }}\n",
       "}});\n",
       "\n",
       "// Listen for the removal of the full notebook cells\n",
       "var notebookContainer = gd.closest('#notebook-container');\n",
       "if (notebookContainer) {{\n",
       "    x.observe(notebookContainer, {childList: true});\n",
       "}}\n",
       "\n",
       "// Listen for the clearing of the current output cell\n",
       "var outputEl = gd.closest('.output');\n",
       "if (outputEl) {{\n",
       "    x.observe(outputEl, {childList: true});\n",
       "}}\n",
       "\n",
       "                        })                };                });            </script>        </div>"
      ]
     },
     "metadata": {},
     "output_type": "display_data"
    }
   ],
   "source": [
    "px.bar(b,x='year',y='number of',animation_frame='Region',color='type',title='average trips per person per year')"
   ]
  },
  {
   "cell_type": "code",
   "execution_count": 287,
   "id": "17e63c3a",
   "metadata": {},
   "outputs": [
    {
     "data": {
      "text/html": [
       "<div>\n",
       "<style scoped>\n",
       "    .dataframe tbody tr th:only-of-type {\n",
       "        vertical-align: middle;\n",
       "    }\n",
       "\n",
       "    .dataframe tbody tr th {\n",
       "        vertical-align: top;\n",
       "    }\n",
       "\n",
       "    .dataframe thead th {\n",
       "        text-align: right;\n",
       "    }\n",
       "</style>\n",
       "<table border=\"1\" class=\"dataframe\">\n",
       "  <thead>\n",
       "    <tr style=\"text-align: right;\">\n",
       "      <th></th>\n",
       "      <th>type</th>\n",
       "      <th>year</th>\n",
       "      <th>number of</th>\n",
       "      <th>Region</th>\n",
       "    </tr>\n",
       "  </thead>\n",
       "  <tbody>\n",
       "    <tr>\n",
       "      <th>0</th>\n",
       "      <td>Total</td>\n",
       "      <td>2018</td>\n",
       "      <td>1015</td>\n",
       "      <td>The Netherlands</td>\n",
       "    </tr>\n",
       "    <tr>\n",
       "      <th>1</th>\n",
       "      <td>Total</td>\n",
       "      <td>2019</td>\n",
       "      <td>989</td>\n",
       "      <td>The Netherlands</td>\n",
       "    </tr>\n",
       "    <tr>\n",
       "      <th>2</th>\n",
       "      <td>Total</td>\n",
       "      <td>2020</td>\n",
       "      <td>861</td>\n",
       "      <td>The Netherlands</td>\n",
       "    </tr>\n",
       "    <tr>\n",
       "      <th>3</th>\n",
       "      <td>Total</td>\n",
       "      <td>2021</td>\n",
       "      <td>915</td>\n",
       "      <td>The Netherlands</td>\n",
       "    </tr>\n",
       "    <tr>\n",
       "      <th>4</th>\n",
       "      <td>Total</td>\n",
       "      <td>2018</td>\n",
       "      <td>1024</td>\n",
       "      <td>Groningen</td>\n",
       "    </tr>\n",
       "    <tr>\n",
       "      <th>...</th>\n",
       "      <td>...</td>\n",
       "      <td>...</td>\n",
       "      <td>...</td>\n",
       "      <td>...</td>\n",
       "    </tr>\n",
       "    <tr>\n",
       "      <th>411</th>\n",
       "      <td>Other mode of transport</td>\n",
       "      <td>2021</td>\n",
       "      <td>36</td>\n",
       "      <td>North Brabant</td>\n",
       "    </tr>\n",
       "    <tr>\n",
       "      <th>412</th>\n",
       "      <td>Other mode of transport</td>\n",
       "      <td>2018</td>\n",
       "      <td>36</td>\n",
       "      <td>Limburg</td>\n",
       "    </tr>\n",
       "    <tr>\n",
       "      <th>413</th>\n",
       "      <td>Other mode of transport</td>\n",
       "      <td>2019</td>\n",
       "      <td>41</td>\n",
       "      <td>Limburg</td>\n",
       "    </tr>\n",
       "    <tr>\n",
       "      <th>414</th>\n",
       "      <td>Other mode of transport</td>\n",
       "      <td>2020</td>\n",
       "      <td>34</td>\n",
       "      <td>Limburg</td>\n",
       "    </tr>\n",
       "    <tr>\n",
       "      <th>415</th>\n",
       "      <td>Other mode of transport</td>\n",
       "      <td>2021</td>\n",
       "      <td>40</td>\n",
       "      <td>Limburg</td>\n",
       "    </tr>\n",
       "  </tbody>\n",
       "</table>\n",
       "<p>416 rows × 4 columns</p>\n",
       "</div>"
      ],
      "text/plain": [
       "                        type  year number of           Region\n",
       "0                      Total  2018      1015  The Netherlands\n",
       "1                      Total  2019       989  The Netherlands\n",
       "2                      Total  2020       861  The Netherlands\n",
       "3                      Total  2021       915  The Netherlands\n",
       "4                      Total  2018      1024        Groningen\n",
       "..                       ...   ...       ...              ...\n",
       "411  Other mode of transport  2021        36    North Brabant\n",
       "412  Other mode of transport  2018        36          Limburg\n",
       "413  Other mode of transport  2019        41          Limburg\n",
       "414  Other mode of transport  2020        34          Limburg\n",
       "415  Other mode of transport  2021        40          Limburg\n",
       "\n",
       "[416 rows x 4 columns]"
      ]
     },
     "execution_count": 287,
     "metadata": {},
     "output_type": "execute_result"
    }
   ],
   "source": [
    "#Now derive the dataframe used for shapefile(2020 only, see the distribution of trips in Netherlands during COVID 19)\n",
    "u=test.iloc[1:,:]\n",
    "u.columns=pd.Series([i for i in test.iloc[0,:]])#derive the year as the index\n",
    "u\n",
    "b=u.stack().reset_index()\n",
    "# b.drop(b[b['level_0']=='Total'])\n",
    "\n",
    "b.columns=pd.Series(['type','year','number of'])\n",
    "b\n",
    "Province=[]\n",
    "for i in range(8):\n",
    "    for j in test.columns:\n",
    "        Province.append(j)\n",
    "b['Region']=Province\n",
    "b"
   ]
  },
  {
   "cell_type": "code",
   "execution_count": 289,
   "id": "a9c3bef9",
   "metadata": {},
   "outputs": [
    {
     "name": "stderr",
     "output_type": "stream",
     "text": [
      "C:\\Users\\ALIENWARE\\AppData\\Local\\Temp\\ipykernel_2876\\3333114819.py:2: SettingWithCopyWarning:\n",
      "\n",
      "\n",
      "A value is trying to be set on a copy of a slice from a DataFrame.\n",
      "Try using .loc[row_indexer,col_indexer] = value instead\n",
      "\n",
      "See the caveats in the documentation: https://pandas.pydata.org/pandas-docs/stable/user_guide/indexing.html#returning-a-view-versus-a-copy\n",
      "\n"
     ]
    }
   ],
   "source": [
    "Geo=b[(b['type']=='Total')&(b['year']=='2020')&(b['Region']!='The Netherlands')]\n",
    "Geo['number of']=Geo['number of'].astype('int')\n",
    "Geo=Geo.set_index('Region')"
   ]
  },
  {
   "cell_type": "code",
   "execution_count": 295,
   "id": "b30478a7",
   "metadata": {},
   "outputs": [],
   "source": [
    "#Change the index of regions into Dutch to match the orginal SHP data\n",
    "Geo=Geo.rename(index={'North Brabant':'Noord-Brabant','North Holland':'Noord-Holland','Zealand':'Zeeland'})"
   ]
  },
  {
   "cell_type": "code",
   "execution_count": 296,
   "id": "c9f5dcc2",
   "metadata": {},
   "outputs": [
    {
     "data": {
      "text/html": [
       "<div>\n",
       "<style scoped>\n",
       "    .dataframe tbody tr th:only-of-type {\n",
       "        vertical-align: middle;\n",
       "    }\n",
       "\n",
       "    .dataframe tbody tr th {\n",
       "        vertical-align: top;\n",
       "    }\n",
       "\n",
       "    .dataframe thead th {\n",
       "        text-align: right;\n",
       "    }\n",
       "</style>\n",
       "<table border=\"1\" class=\"dataframe\">\n",
       "  <thead>\n",
       "    <tr style=\"text-align: right;\">\n",
       "      <th></th>\n",
       "      <th>GID_1</th>\n",
       "      <th>GID_0</th>\n",
       "      <th>COUNTRY</th>\n",
       "      <th>NAME_1</th>\n",
       "      <th>VARNAME_1</th>\n",
       "      <th>NL_NAME_1</th>\n",
       "      <th>TYPE_1</th>\n",
       "      <th>ENGTYPE_1</th>\n",
       "      <th>CC_1</th>\n",
       "      <th>HASC_1</th>\n",
       "      <th>ISO_1</th>\n",
       "      <th>geometry</th>\n",
       "      <th>type</th>\n",
       "      <th>year</th>\n",
       "      <th>number of</th>\n",
       "    </tr>\n",
       "  </thead>\n",
       "  <tbody>\n",
       "    <tr>\n",
       "      <th>0</th>\n",
       "      <td>NLD.1_1</td>\n",
       "      <td>NLD</td>\n",
       "      <td>Netherlands</td>\n",
       "      <td>Drenthe</td>\n",
       "      <td>NA</td>\n",
       "      <td>NA</td>\n",
       "      <td>Provincie</td>\n",
       "      <td>Province</td>\n",
       "      <td>NA</td>\n",
       "      <td>NL.DR</td>\n",
       "      <td>NL-DR</td>\n",
       "      <td>POLYGON ((6.52366 52.64551, 6.52366 52.64535, ...</td>\n",
       "      <td>Total</td>\n",
       "      <td>2020</td>\n",
       "      <td>880</td>\n",
       "    </tr>\n",
       "    <tr>\n",
       "      <th>1</th>\n",
       "      <td>NLD.2_1</td>\n",
       "      <td>NLD</td>\n",
       "      <td>Netherlands</td>\n",
       "      <td>Flevoland</td>\n",
       "      <td>NA</td>\n",
       "      <td>NA</td>\n",
       "      <td>Provincie</td>\n",
       "      <td>Province</td>\n",
       "      <td>NA</td>\n",
       "      <td>NL.FL</td>\n",
       "      <td>NL-FL</td>\n",
       "      <td>MULTIPOLYGON (((5.30388 52.31247, 5.28622 52.3...</td>\n",
       "      <td>Total</td>\n",
       "      <td>2020</td>\n",
       "      <td>820</td>\n",
       "    </tr>\n",
       "    <tr>\n",
       "      <th>2</th>\n",
       "      <td>NLD.3_1</td>\n",
       "      <td>NLD</td>\n",
       "      <td>Netherlands</td>\n",
       "      <td>Friesland</td>\n",
       "      <td>Friesland</td>\n",
       "      <td>NA</td>\n",
       "      <td>Provincie</td>\n",
       "      <td>Province</td>\n",
       "      <td>NA</td>\n",
       "      <td>NL.FR</td>\n",
       "      <td>NL-FR</td>\n",
       "      <td>MULTIPOLYGON (((6.23919 52.91320, 6.23615 52.9...</td>\n",
       "      <td>Total</td>\n",
       "      <td>2020</td>\n",
       "      <td>918</td>\n",
       "    </tr>\n",
       "    <tr>\n",
       "      <th>3</th>\n",
       "      <td>NLD.4_1</td>\n",
       "      <td>NLD</td>\n",
       "      <td>Netherlands</td>\n",
       "      <td>Gelderland</td>\n",
       "      <td>Geldern|Gheldria|Guelders|Gueldr</td>\n",
       "      <td>NA</td>\n",
       "      <td>Provincie</td>\n",
       "      <td>Province</td>\n",
       "      <td>NA</td>\n",
       "      <td>NL.GE</td>\n",
       "      <td>NL-GE</td>\n",
       "      <td>POLYGON ((5.13576 51.73854, 5.13544 51.73854, ...</td>\n",
       "      <td>Total</td>\n",
       "      <td>2020</td>\n",
       "      <td>905</td>\n",
       "    </tr>\n",
       "    <tr>\n",
       "      <th>4</th>\n",
       "      <td>NLD.5_1</td>\n",
       "      <td>NLD</td>\n",
       "      <td>Netherlands</td>\n",
       "      <td>Groningen</td>\n",
       "      <td>Groninga|Groningue</td>\n",
       "      <td>NA</td>\n",
       "      <td>Provincie</td>\n",
       "      <td>Province</td>\n",
       "      <td>NA</td>\n",
       "      <td>NL.GR</td>\n",
       "      <td>NL-GR</td>\n",
       "      <td>MULTIPOLYGON (((6.91710 53.01160, 6.91460 53.0...</td>\n",
       "      <td>Total</td>\n",
       "      <td>2020</td>\n",
       "      <td>831</td>\n",
       "    </tr>\n",
       "    <tr>\n",
       "      <th>5</th>\n",
       "      <td>NLD.7_1</td>\n",
       "      <td>NLD</td>\n",
       "      <td>Netherlands</td>\n",
       "      <td>Limburg</td>\n",
       "      <td>Limbourg|Limburgo</td>\n",
       "      <td>NA</td>\n",
       "      <td>Provincie</td>\n",
       "      <td>Province</td>\n",
       "      <td>NA</td>\n",
       "      <td>NL.LI</td>\n",
       "      <td>NL-LI</td>\n",
       "      <td>POLYGON ((6.01553 50.74829, 6.01326 50.75231, ...</td>\n",
       "      <td>Total</td>\n",
       "      <td>2020</td>\n",
       "      <td>872</td>\n",
       "    </tr>\n",
       "    <tr>\n",
       "      <th>6</th>\n",
       "      <td>NLD.8_1</td>\n",
       "      <td>NLD</td>\n",
       "      <td>Netherlands</td>\n",
       "      <td>Noord-Brabant</td>\n",
       "      <td>Brabante del Norte|Brabante do N</td>\n",
       "      <td>NA</td>\n",
       "      <td>Provincie</td>\n",
       "      <td>Province</td>\n",
       "      <td>NA</td>\n",
       "      <td>NL.NB</td>\n",
       "      <td>NL-NB</td>\n",
       "      <td>POLYGON ((5.50305 51.29579, 5.49979 51.29670, ...</td>\n",
       "      <td>Total</td>\n",
       "      <td>2020</td>\n",
       "      <td>904</td>\n",
       "    </tr>\n",
       "    <tr>\n",
       "      <th>7</th>\n",
       "      <td>NLD.9_1</td>\n",
       "      <td>NLD</td>\n",
       "      <td>Netherlands</td>\n",
       "      <td>Noord-Holland</td>\n",
       "      <td>Holanda do Norte|Hollande-septen</td>\n",
       "      <td>NA</td>\n",
       "      <td>Provincie</td>\n",
       "      <td>Province</td>\n",
       "      <td>NA</td>\n",
       "      <td>NL.NH</td>\n",
       "      <td>NL-NH</td>\n",
       "      <td>MULTIPOLYGON (((4.83937 52.23358, 4.83403 52.2...</td>\n",
       "      <td>Total</td>\n",
       "      <td>2020</td>\n",
       "      <td>820</td>\n",
       "    </tr>\n",
       "    <tr>\n",
       "      <th>8</th>\n",
       "      <td>NLD.10_1</td>\n",
       "      <td>NLD</td>\n",
       "      <td>Netherlands</td>\n",
       "      <td>Overijssel</td>\n",
       "      <td>NA</td>\n",
       "      <td>NA</td>\n",
       "      <td>Provincie</td>\n",
       "      <td>Province</td>\n",
       "      <td>NA</td>\n",
       "      <td>NL.OV</td>\n",
       "      <td>NL-OV</td>\n",
       "      <td>POLYGON ((6.87309 52.13272, 6.87284 52.13215, ...</td>\n",
       "      <td>Total</td>\n",
       "      <td>2020</td>\n",
       "      <td>886</td>\n",
       "    </tr>\n",
       "    <tr>\n",
       "      <th>9</th>\n",
       "      <td>NLD.11_1</td>\n",
       "      <td>NLD</td>\n",
       "      <td>Netherlands</td>\n",
       "      <td>Utrecht</td>\n",
       "      <td>NA</td>\n",
       "      <td>NA</td>\n",
       "      <td>Provincie</td>\n",
       "      <td>Province</td>\n",
       "      <td>NA</td>\n",
       "      <td>NL.UT</td>\n",
       "      <td>NL-UT</td>\n",
       "      <td>POLYGON ((5.15190 51.93248, 5.15337 51.92979, ...</td>\n",
       "      <td>Total</td>\n",
       "      <td>2020</td>\n",
       "      <td>888</td>\n",
       "    </tr>\n",
       "    <tr>\n",
       "      <th>10</th>\n",
       "      <td>NLD.12_1</td>\n",
       "      <td>NLD</td>\n",
       "      <td>Netherlands</td>\n",
       "      <td>Zeeland</td>\n",
       "      <td>Zelanda|Zélande|Zelândia</td>\n",
       "      <td>NA</td>\n",
       "      <td>Provincie</td>\n",
       "      <td>Province</td>\n",
       "      <td>NA</td>\n",
       "      <td>NL.ZE</td>\n",
       "      <td>NL-ZE</td>\n",
       "      <td>MULTIPOLYGON (((3.67419 51.29042, 3.66687 51.2...</td>\n",
       "      <td>Total</td>\n",
       "      <td>2020</td>\n",
       "      <td>858</td>\n",
       "    </tr>\n",
       "    <tr>\n",
       "      <th>11</th>\n",
       "      <td>NLD.14_1</td>\n",
       "      <td>NLD</td>\n",
       "      <td>Netherlands</td>\n",
       "      <td>South Holland</td>\n",
       "      <td>NA</td>\n",
       "      <td>NA</td>\n",
       "      <td>NA</td>\n",
       "      <td>NA</td>\n",
       "      <td>NA</td>\n",
       "      <td>NA</td>\n",
       "      <td>NA</td>\n",
       "      <td>POLYGON ((4.36117 51.66149, 4.33181 51.65561, ...</td>\n",
       "      <td>Total</td>\n",
       "      <td>2020</td>\n",
       "      <td>814</td>\n",
       "    </tr>\n",
       "  </tbody>\n",
       "</table>\n",
       "</div>"
      ],
      "text/plain": [
       "       GID_1 GID_0      COUNTRY         NAME_1  \\\n",
       "0    NLD.1_1   NLD  Netherlands        Drenthe   \n",
       "1    NLD.2_1   NLD  Netherlands      Flevoland   \n",
       "2    NLD.3_1   NLD  Netherlands      Friesland   \n",
       "3    NLD.4_1   NLD  Netherlands     Gelderland   \n",
       "4    NLD.5_1   NLD  Netherlands      Groningen   \n",
       "5    NLD.7_1   NLD  Netherlands        Limburg   \n",
       "6    NLD.8_1   NLD  Netherlands  Noord-Brabant   \n",
       "7    NLD.9_1   NLD  Netherlands  Noord-Holland   \n",
       "8   NLD.10_1   NLD  Netherlands     Overijssel   \n",
       "9   NLD.11_1   NLD  Netherlands        Utrecht   \n",
       "10  NLD.12_1   NLD  Netherlands        Zeeland   \n",
       "11  NLD.14_1   NLD  Netherlands  South Holland   \n",
       "\n",
       "                           VARNAME_1 NL_NAME_1     TYPE_1 ENGTYPE_1 CC_1  \\\n",
       "0                                 NA        NA  Provincie  Province   NA   \n",
       "1                                 NA        NA  Provincie  Province   NA   \n",
       "2                          Friesland        NA  Provincie  Province   NA   \n",
       "3   Geldern|Gheldria|Guelders|Gueldr        NA  Provincie  Province   NA   \n",
       "4                 Groninga|Groningue        NA  Provincie  Province   NA   \n",
       "5                  Limbourg|Limburgo        NA  Provincie  Province   NA   \n",
       "6   Brabante del Norte|Brabante do N        NA  Provincie  Province   NA   \n",
       "7   Holanda do Norte|Hollande-septen        NA  Provincie  Province   NA   \n",
       "8                                 NA        NA  Provincie  Province   NA   \n",
       "9                                 NA        NA  Provincie  Province   NA   \n",
       "10          Zelanda|Zélande|Zelândia        NA  Provincie  Province   NA   \n",
       "11                                NA        NA         NA        NA   NA   \n",
       "\n",
       "   HASC_1  ISO_1                                           geometry   type  \\\n",
       "0   NL.DR  NL-DR  POLYGON ((6.52366 52.64551, 6.52366 52.64535, ...  Total   \n",
       "1   NL.FL  NL-FL  MULTIPOLYGON (((5.30388 52.31247, 5.28622 52.3...  Total   \n",
       "2   NL.FR  NL-FR  MULTIPOLYGON (((6.23919 52.91320, 6.23615 52.9...  Total   \n",
       "3   NL.GE  NL-GE  POLYGON ((5.13576 51.73854, 5.13544 51.73854, ...  Total   \n",
       "4   NL.GR  NL-GR  MULTIPOLYGON (((6.91710 53.01160, 6.91460 53.0...  Total   \n",
       "5   NL.LI  NL-LI  POLYGON ((6.01553 50.74829, 6.01326 50.75231, ...  Total   \n",
       "6   NL.NB  NL-NB  POLYGON ((5.50305 51.29579, 5.49979 51.29670, ...  Total   \n",
       "7   NL.NH  NL-NH  MULTIPOLYGON (((4.83937 52.23358, 4.83403 52.2...  Total   \n",
       "8   NL.OV  NL-OV  POLYGON ((6.87309 52.13272, 6.87284 52.13215, ...  Total   \n",
       "9   NL.UT  NL-UT  POLYGON ((5.15190 51.93248, 5.15337 51.92979, ...  Total   \n",
       "10  NL.ZE  NL-ZE  MULTIPOLYGON (((3.67419 51.29042, 3.66687 51.2...  Total   \n",
       "11     NA     NA  POLYGON ((4.36117 51.66149, 4.33181 51.65561, ...  Total   \n",
       "\n",
       "    year  number of  \n",
       "0   2020        880  \n",
       "1   2020        820  \n",
       "2   2020        918  \n",
       "3   2020        905  \n",
       "4   2020        831  \n",
       "5   2020        872  \n",
       "6   2020        904  \n",
       "7   2020        820  \n",
       "8   2020        886  \n",
       "9   2020        888  \n",
       "10  2020        858  \n",
       "11  2020        814  "
      ]
     },
     "execution_count": 296,
     "metadata": {},
     "output_type": "execute_result"
    }
   ],
   "source": [
    "DATA=df1.join(Geo, on='NAME_1')\n",
    "DATA"
   ]
  },
  {
   "cell_type": "code",
   "execution_count": 301,
   "id": "1f390ea3",
   "metadata": {},
   "outputs": [
    {
     "data": {
      "text/plain": [
       "Text(0.5, 1.0, 'Distribution of average Trips of residence in Netherlands during COVID19(2020)')"
      ]
     },
     "execution_count": 301,
     "metadata": {},
     "output_type": "execute_result"
    },
    {
     "data": {
      "image/png": "[encoded data removed]",
      "text/plain": [
       "<Figure size 1200x800 with 1 Axes>"
      ]
     },
     "metadata": {},
     "output_type": "display_data"
    }
   ],
   "source": [
    "f,ax=plt.subplots(1,figsize=(12,8))\n",
    "DATA.plot(column='number of',scheme='equal_interval', k=6, alpha=1, \n",
    "         edgecolor='w', linewidth=0.1,legend=True,ax=ax)\n",
    "ax.set_title('Distribution of average Trips of residence in Netherlands during COVID19(2020)')"
   ]
  },
  {
   "cell_type": "markdown",
   "id": "d1706750",
   "metadata": {},
   "source": [
    "# 4. Combination with Covid data from Hugo"
   ]
  },
  {
   "cell_type": "code",
   "execution_count": 304,
   "id": "b861ff1c",
   "metadata": {},
   "outputs": [
    {
     "data": {
      "text/html": [
       "<div>\n",
       "<style scoped>\n",
       "    .dataframe tbody tr th:only-of-type {\n",
       "        vertical-align: middle;\n",
       "    }\n",
       "\n",
       "    .dataframe tbody tr th {\n",
       "        vertical-align: top;\n",
       "    }\n",
       "\n",
       "    .dataframe thead th {\n",
       "        text-align: right;\n",
       "    }\n",
       "</style>\n",
       "<table border=\"1\" class=\"dataframe\">\n",
       "  <thead>\n",
       "    <tr style=\"text-align: right;\">\n",
       "      <th></th>\n",
       "      <th>Month</th>\n",
       "      <th>Season</th>\n",
       "      <th>Year</th>\n",
       "      <th>Date</th>\n",
       "      <th>Cases</th>\n",
       "    </tr>\n",
       "  </thead>\n",
       "  <tbody>\n",
       "    <tr>\n",
       "      <th>0</th>\n",
       "      <td>NaN</td>\n",
       "      <td>Winter</td>\n",
       "      <td>2020</td>\n",
       "      <td>28/02/2020</td>\n",
       "      <td>1</td>\n",
       "    </tr>\n",
       "    <tr>\n",
       "      <th>1</th>\n",
       "      <td>NaN</td>\n",
       "      <td>Winter</td>\n",
       "      <td>2020</td>\n",
       "      <td>29/02/2020</td>\n",
       "      <td>1</td>\n",
       "    </tr>\n",
       "    <tr>\n",
       "      <th>2</th>\n",
       "      <td>NaN</td>\n",
       "      <td>Winter</td>\n",
       "      <td>2020</td>\n",
       "      <td>01/03/2020</td>\n",
       "      <td>3</td>\n",
       "    </tr>\n",
       "    <tr>\n",
       "      <th>3</th>\n",
       "      <td>NaN</td>\n",
       "      <td>Winter</td>\n",
       "      <td>2020</td>\n",
       "      <td>02/03/2020</td>\n",
       "      <td>5</td>\n",
       "    </tr>\n",
       "    <tr>\n",
       "      <th>4</th>\n",
       "      <td>NaN</td>\n",
       "      <td>Winter</td>\n",
       "      <td>2020</td>\n",
       "      <td>03/03/2020</td>\n",
       "      <td>4</td>\n",
       "    </tr>\n",
       "    <tr>\n",
       "      <th>...</th>\n",
       "      <td>...</td>\n",
       "      <td>...</td>\n",
       "      <td>...</td>\n",
       "      <td>...</td>\n",
       "      <td>...</td>\n",
       "    </tr>\n",
       "    <tr>\n",
       "      <th>952</th>\n",
       "      <td>NaN</td>\n",
       "      <td>Autumn</td>\n",
       "      <td>2022</td>\n",
       "      <td>07/10/2022</td>\n",
       "      <td>3758</td>\n",
       "    </tr>\n",
       "    <tr>\n",
       "      <th>953</th>\n",
       "      <td>NaN</td>\n",
       "      <td>Autumn</td>\n",
       "      <td>2022</td>\n",
       "      <td>08/10/2022</td>\n",
       "      <td>3579</td>\n",
       "    </tr>\n",
       "    <tr>\n",
       "      <th>954</th>\n",
       "      <td>NaN</td>\n",
       "      <td>Autumn</td>\n",
       "      <td>2022</td>\n",
       "      <td>09/10/2022</td>\n",
       "      <td>2475</td>\n",
       "    </tr>\n",
       "    <tr>\n",
       "      <th>955</th>\n",
       "      <td>NaN</td>\n",
       "      <td>Autumn</td>\n",
       "      <td>2022</td>\n",
       "      <td>10/10/2022</td>\n",
       "      <td>2039</td>\n",
       "    </tr>\n",
       "    <tr>\n",
       "      <th>956</th>\n",
       "      <td>NaN</td>\n",
       "      <td>Autumn</td>\n",
       "      <td>2022</td>\n",
       "      <td>11/10/2022</td>\n",
       "      <td>3982</td>\n",
       "    </tr>\n",
       "  </tbody>\n",
       "</table>\n",
       "<p>957 rows × 5 columns</p>\n",
       "</div>"
      ],
      "text/plain": [
       "     Month  Season  Year        Date  Cases\n",
       "0      NaN  Winter  2020  28/02/2020      1\n",
       "1      NaN  Winter  2020  29/02/2020      1\n",
       "2      NaN  Winter  2020  01/03/2020      3\n",
       "3      NaN  Winter  2020  02/03/2020      5\n",
       "4      NaN  Winter  2020  03/03/2020      4\n",
       "..     ...     ...   ...         ...    ...\n",
       "952    NaN  Autumn  2022  07/10/2022   3758\n",
       "953    NaN  Autumn  2022  08/10/2022   3579\n",
       "954    NaN  Autumn  2022  09/10/2022   2475\n",
       "955    NaN  Autumn  2022  10/10/2022   2039\n",
       "956    NaN  Autumn  2022  11/10/2022   3982\n",
       "\n",
       "[957 rows x 5 columns]"
      ]
     },
     "execution_count": 304,
     "metadata": {},
     "output_type": "execute_result"
    }
   ],
   "source": [
    "df3=pd.read_csv('Covid Cases Per day.csv',delimiter = ';')\n",
    "df3"
   ]
  },
  {
   "cell_type": "code",
   "execution_count": null,
   "id": "bdac148b",
   "metadata": {},
   "outputs": [],
   "source": [
    "#Since the average trips are only available per year, I use the "
   ]
  }
 ],
 "metadata": {
  "kernelspec": {
   "display_name": "Python 3 (ipykernel)",
   "language": "python",
   "name": "python3"
  },
  "language_info": {
   "codemirror_mode": {
    "name": "ipython",
    "version": 3
   },
   "file_extension": ".py",
   "mimetype": "text/x-python",
   "name": "python",
   "nbconvert_exporter": "python",
   "pygments_lexer": "ipython3",
   "version": "3.9.13"
  }
 },
 "nbformat": 4,
 "nbformat_minor": 5
}
